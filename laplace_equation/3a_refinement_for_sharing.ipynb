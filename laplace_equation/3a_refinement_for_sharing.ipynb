{
 "cells": [
  {
   "cell_type": "code",
   "execution_count": 1,
   "metadata": {},
   "outputs": [],
   "source": [
    "from __future__ import absolute_import, division, print_function\n",
    "\n",
    "import functools\n",
    "import numpy as np\n",
    "import scipy as sp\n",
    "from scipy.stats import multivariate_normal\n",
    "import matplotlib.pyplot as plt\n",
    "import tensorflow as tf\n",
    "from pprint import pprint"
   ]
  },
  {
   "cell_type": "code",
   "execution_count": 2,
   "metadata": {},
   "outputs": [
    {
     "name": "stdout",
     "output_type": "stream",
     "text": [
      "Tensorflow version: 2.0.0\n",
      "Executing eagerly: True\n",
      "GPU available: True\n"
     ]
    }
   ],
   "source": [
    "version = tf.__version__\n",
    "executing_eagerly = tf.executing_eagerly()\n",
    "gpu_available = tf.test.is_gpu_available()\n",
    "print('Tensorflow version: {}\\n'\n",
    "      'Executing eagerly: {}\\n'\n",
    "      'GPU available: {}'\n",
    "      .format(version, \n",
    "              executing_eagerly, \n",
    "              gpu_available))"
   ]
  },
  {
   "cell_type": "markdown",
   "metadata": {},
   "source": [
    "## Generating Discrete Harmonic Functions on the Square\n",
    "\n",
    "The Harmonic functions on the square A of size N are those functions that satisfy:\n",
    "$$f(i, j) = \\frac{1}{4}\\bigg(f(i-1, j) + f(i+1, j) + f(i,j-1) + f(i,j+1)\\bigg)$$\n",
    "for all $i,j \\in \\{1, 2, ..., N-1\\}$.  These functions are uniquely determined by their values on the boundary of the square: $i\\in\\{0,N\\}\\text{ or }j\\in\\{0,N\\}$.  \n",
    "\n",
    "What follows is a summary of http://www.math.uchicago.edu/~lawler/reu.pdf, section 1.5.\n",
    "\n",
    "Let $e_k$ refer to the function defined on $\\partial A$ that is equal to 1 at the $k$th position at the bottom of the square and is equal 0 elsewhere.  Then the harmonic function on the interior of the square that is equal to $e_k$ on the boundary is given by:\n",
    "$$H_{(N, e_k)}(x_1, x_2) = \\frac{2}{N-1}\\sum_{j=1}^{N-1}\\frac{1}{\\sinh(\\beta_j)}\\sin\\left(\\frac{j\\pi k}{N}\\right)\\sinh\\left(\\frac{\\beta_jx_1}{N}\\right)\\sin\\left(\\frac{j\\pi x_2}{N}\\right)$$\n",
    "where $\\beta_j\\text{ for }j\\in\\{1, 2, ..., N-1\\}$ solves:\n",
    "$$ \\cosh\\left(\\frac{\\beta_j}{N}\\right) + \\cos\\left(\\frac{j\\pi}{N}\\right) = 2$$\n",
    "These functions, combined with similar functions for the other sides of the square, form a basis for the space of all harmonic functions on the interior of the square.  This is implemented below."
   ]
  },
  {
   "cell_type": "code",
   "execution_count": 3,
   "metadata": {},
   "outputs": [],
   "source": [
    "harmonic_basis_cache={}\n",
    "\n",
    "def generate_beta(n):\n",
    "    return [n*(np.arccosh(2-np.cos(j*np.pi/n))) for j in range(1,n)]\n",
    "  \n",
    "def poisson_kernel_square_raw(n, y, x_1, x_2):\n",
    "    beta = generate_beta(n)\n",
    "    h = [np.sinh(beta[j-1] * x_1 / n) \n",
    "        * np.sin(j * np.pi * x_2 / n) for j in range(1, n)]\n",
    "    c = [1/np.sinh(beta[j-1]) \n",
    "        * np.sin(j * np.pi * y / n) for j in range(1, n)]\n",
    "    return 2/(n) * sum([c[j-1] * h[j-1] for j in range(1, n)])\n",
    "  \n",
    "def poisson_kernel_square(n, y):\n",
    "    return lambda x_1, x_2: poisson_kernel_square_raw(n, y, x_1, x_2)\n",
    "  \n",
    "    \n",
    "def harmonic_basis(n, k):\n",
    "    if (n,k) in harmonic_basis_cache.keys():\n",
    "        return harmonic_basis_cache[n,k]\n",
    "    x = np.zeros(shape=[n+1, n+1])\n",
    "    x[n,k] = 1\n",
    "    H = poisson_kernel_square(n, k)\n",
    "    for i in range(1, n):\n",
    "        for j in range(1, n):\n",
    "            x[i, j] = H(i, j)\n",
    "    harmonic_basis_cache[n,k] = x\n",
    "    return x\n",
    "  \n",
    "# This is O(n^3) at the moment.\n",
    "# This is due to each of n basis functions taking O(n^2) steps to compute.\n",
    "# Can this be improved?  Do we care?\n",
    "def generate_harmonic_one_side(n, y, side='lower'):\n",
    "    lower = np.sum([y[j-1] * harmonic_basis(n,j) for j in range(1, n)], axis=0)\n",
    "    if side == 'upper':\n",
    "        return np.flip(lower, axis=0)\n",
    "    if side == 'left':\n",
    "        return np.rot90(lower, k=3)\n",
    "    if side == 'right':\n",
    "        return np.rot90(np.flip(lower, axis=0), k=3)\n",
    "    if side == 'lower':\n",
    "        return lower\n",
    "\n",
    "def generate_harmonic(n, y):\n",
    "    \"\"\"Here y specifies the entire boundary, going in order of upper, left, right, lower.\"\"\"\n",
    "    upper = generate_harmonic_one_side(n, y[:n-1], side='upper')\n",
    "    left = generate_harmonic_one_side(n, y[n-1:2*n-2], side='left')\n",
    "    right = generate_harmonic_one_side(n, y[2*n-2:3*n-3], side='right')\n",
    "    lower = generate_harmonic_one_side(n, y[3*n-3:], side='lower')\n",
    "    return upper + left + right + lower"
   ]
  },
  {
   "cell_type": "code",
   "execution_count": 4,
   "metadata": {},
   "outputs": [],
   "source": [
    "def is_harmonic_at_point(x, i, j, tol=.000001, verbose=False):\n",
    "    diff = np.abs(x[i, j] - np.mean([x[i-1,j], x[i+1,j], x[i,j-1], x[i,j+1]])) \n",
    "    if verbose:\n",
    "        print(\"|{} - {}| = {}\".format(x[i,j], \n",
    "                                      np.mean([x[i-1,j], x[i+1,j], x[i,j-1], x[i,j+1]]), \n",
    "                                      diff))\n",
    "    return diff <= tol\n",
    "  \n",
    "def is_harmonic(x, n, tol=.000001, verbose=False):\n",
    "    for i in range(1, n):\n",
    "        for j in range(1, n):\n",
    "            if not is_harmonic_at_point(x, i, j, tol=tol, verbose=verbose):\n",
    "                if verbose:\n",
    "                    print((i,j))\n",
    "                return False\n",
    "    return True"
   ]
  },
  {
   "cell_type": "markdown",
   "metadata": {},
   "source": [
    "## Generating Non-Harmonic Functions.\n",
    "\n",
    "The question of what to use as a negative for the model deserves a lot of thought.  At present I have two approaches: \n",
    "\n",
    "In the first approach, I use \\\\((N+1)^2\\\\) independent Gaussian random variables to generate non-harmonic functions.  The likelihood that these will be harmonic is negligible.  \n",
    "\n",
    "In the second approach I generate a harmonic function, and add a gaussian density to the result.  Since the gaussian is not harmonic (it in particular violates the maximum modulus principle), the resulting sum is not harmonic."
   ]
  },
  {
   "cell_type": "code",
   "execution_count": 5,
   "metadata": {},
   "outputs": [],
   "source": [
    "def generate_nonharmonic(n):\n",
    "    x = np.random.randn(n+1,n+1)\n",
    "    x[0,0] = 0.\n",
    "    x[0,n] = 0.\n",
    "    x[n,0] = 0.\n",
    "    x[n,n] = 0.\n",
    "    return x"
   ]
  },
  {
   "cell_type": "code",
   "execution_count": 6,
   "metadata": {},
   "outputs": [],
   "source": [
    "grv_cache={}\n",
    "\n",
    "# This is slow, need to make better use of numpy to \n",
    "# generate these, possibly with memoization as above.\n",
    "def generate_gaussian(n, strength):\n",
    "    mean = np.random.randint(1,n, size=2)\n",
    "    cov = (n/2 - .5) * np.random.random(size=2) + .5\n",
    "    amplitude = strength * np.random.choice([1,-1])\n",
    "    rv = multivariate_normal(mean=mean, cov=cov)\n",
    "    x = rv.pdf(np.array(np.meshgrid(np.arange(n+1), np.arange(n+1))).T)\n",
    "    return amplitude * x\n",
    "\n",
    "def generate_harmonic_plus_noise(n, y, strength=.1):\n",
    "    harmonic = generate_harmonic(n, y)\n",
    "    output = harmonic + generate_gaussian(n, strength=strength)\n",
    "    return output"
   ]
  },
  {
   "cell_type": "code",
   "execution_count": 7,
   "metadata": {},
   "outputs": [],
   "source": [
    "def visualize(examples, n, cmap='cividis'):\n",
    "    num_examples = len(examples)\n",
    "    fig, axes = plt.subplots(1, num_examples, figsize=(n+1,n+1))\n",
    "    if num_examples == 1:\n",
    "        axes.imshow(examples[0], cmap=cmap)\n",
    "        axes.axis('off')\n",
    "        plt.show()\n",
    "        return\n",
    "    axes = axes.flatten()\n",
    "    for x, ax in zip(examples, axes):\n",
    "        ax.imshow(x, cmap=cmap)\n",
    "        ax.axis('off')\n",
    "    plt.tight_layout()\n",
    "    plt.show()"
   ]
  },
  {
   "cell_type": "markdown",
   "metadata": {},
   "source": [
    "## Data Preparation"
   ]
  },
  {
   "cell_type": "code",
   "execution_count": 8,
   "metadata": {},
   "outputs": [],
   "source": [
    "def harmonic_data_generator(n):\n",
    "    while True:\n",
    "        if np.random.rand() < .5:\n",
    "            y = np.random.randn(4*(n-1))\n",
    "            yield np.reshape(generate_harmonic(n,y), (n+1, n+1)).astype(np.float32), 1\n",
    "        else:\n",
    "            yield np.reshape(generate_nonharmonic(n), (n+1, n+1)).astype(np.float32), 0"
   ]
  },
  {
   "cell_type": "code",
   "execution_count": 9,
   "metadata": {},
   "outputs": [],
   "source": [
    "def mixed_harmonic_data_generator(n):\n",
    "    while True:\n",
    "        x = np.random.rand()\n",
    "        if x < .25:\n",
    "            y = np.random.randn(4*(n-1))\n",
    "            yield np.reshape(generate_harmonic(n,y), (n+1, n+1)).astype(np.float32), 1\n",
    "        if x < .5:\n",
    "            y = np.random.choice([-1, 0, 1, 2, 10], p=[.39, .3, .2, .1, .01], size=(4*(n-1),))\n",
    "            yield np.reshape(generate_harmonic(n,y), (n+1, n+1)).astype(np.float32), 1\n",
    "        elif x < .7:\n",
    "            y = np.random.randn(4*(n-1))\n",
    "            strength = np.random.rand()\n",
    "            yield np.reshape(generate_harmonic_plus_noise(n,y,strength=strength), (n+1, n+1)).astype(np.float32), 0\n",
    "        elif x < .9:\n",
    "            y = np.random.choice([-1, 0, 1, 2, 10], p=[.39, .3, .2, .1, .01], size=(4*(n-1),))\n",
    "            strength = np.random.rand()\n",
    "            yield np.reshape(generate_harmonic_plus_noise(n,y,strength=strength), (n+1, n+1)).astype(np.float32), 0\n",
    "        elif x < 1.:\n",
    "            yield np.reshape(generate_nonharmonic(n), (n+1, n+1)).astype(np.float32), 0"
   ]
  },
  {
   "cell_type": "code",
   "execution_count": 10,
   "metadata": {},
   "outputs": [],
   "source": [
    "def visualize_dataset(dataset, n, num_examples=5, cmap='cividis'):\n",
    "    examples = [item for item in dataset.take(num_examples)]\n",
    "    fig, axes = plt.subplots(1, num_examples, figsize=(n+1,n+1))\n",
    "    axes = axes.flatten()\n",
    "    for x, ax in zip(examples, axes):\n",
    "        ax.imshow(x[0], cmap=cmap, vmin=-3, vmax=3)\n",
    "        if x[1]:\n",
    "            ax.set_title(\"Harmonic\")\n",
    "        else:\n",
    "            ax.set_title(\"Nonharmonic\")\n",
    "        ax.axis('off')\n",
    "    plt.tight_layout()\n",
    "    plt.show()"
   ]
  },
  {
   "cell_type": "code",
   "execution_count": 11,
   "metadata": {},
   "outputs": [],
   "source": [
    "n=30\n",
    "dataset = tf.data.Dataset.from_generator(mixed_harmonic_data_generator, \n",
    "                                         args=[n], \n",
    "                                         output_types=(tf.float32, tf.bool), \n",
    "                                         output_shapes = ((n+1,n+1), ()))"
   ]
  },
  {
   "cell_type": "code",
   "execution_count": 12,
   "metadata": {},
   "outputs": [
    {
     "data": {
      "image/png": "[encoded data removed]",
      "text/plain": [
       "<Figure size 2232x2232 with 5 Axes>"
      ]
     },
     "metadata": {
      "needs_background": "light"
     },
     "output_type": "display_data"
    }
   ],
   "source": [
    "visualize_dataset(dataset, n, num_examples=5)"
   ]
  },
  {
   "cell_type": "code",
   "execution_count": 13,
   "metadata": {},
   "outputs": [
    {
     "data": {
      "image/png": "[encoded data removed]",
      "text/plain": [
       "<Figure size 2232x2232 with 5 Axes>"
      ]
     },
     "metadata": {
      "needs_background": "light"
     },
     "output_type": "display_data"
    }
   ],
   "source": [
    "visualize_dataset(dataset, n, num_examples=5)"
   ]
  },
  {
   "cell_type": "code",
   "execution_count": 14,
   "metadata": {},
   "outputs": [
    {
     "data": {
      "image/png": "[encoded data removed]",
      "text/plain": [
       "<Figure size 2232x2232 with 5 Axes>"
      ]
     },
     "metadata": {
      "needs_background": "light"
     },
     "output_type": "display_data"
    }
   ],
   "source": [
    "visualize_dataset(dataset, n, num_examples=5)"
   ]
  },
  {
   "cell_type": "code",
   "execution_count": 15,
   "metadata": {},
   "outputs": [
    {
     "data": {
      "image/png": "[encoded data removed]",
      "text/plain": [
       "<Figure size 2232x2232 with 5 Axes>"
      ]
     },
     "metadata": {
      "needs_background": "light"
     },
     "output_type": "display_data"
    }
   ],
   "source": [
    "visualize_dataset(dataset, n, num_examples=5)"
   ]
  },
  {
   "cell_type": "markdown",
   "metadata": {},
   "source": [
    "## Controllers"
   ]
  },
  {
   "cell_type": "code",
   "execution_count": 16,
   "metadata": {},
   "outputs": [],
   "source": [
    "class DiffEqController(tf.keras.callbacks.Callback):\n",
    "    \n",
    "    def __init__(self, precisions, verbose=False):\n",
    "        super(DiffEqController, self).__init__()\n",
    "        self.precisions = precisions\n",
    "        self.verbose = verbose\n",
    "    \n",
    "    def on_epoch_begin(self, epoch, logs):\n",
    "        precision = precisions[epoch]\n",
    "        if self.verbose:\n",
    "            print(\"Precision={}\".format(precision))\n",
    "        output_weights = np.array([[-2/(precision**2)], [-2/(precision**2)]])\n",
    "        output_biases = np.array([1/(4*(precision)**2)])\n",
    "        self.model.layers[-1].set_weights((output_weights, output_biases))"
   ]
  },
  {
   "cell_type": "code",
   "execution_count": 17,
   "metadata": {},
   "outputs": [],
   "source": [
    "class DiffEqForcer(tf.keras.callbacks.Callback):\n",
    "    \n",
    "    def __init__(self, rate, verbose=False):\n",
    "        super(DiffEqForcer, self).__init__()\n",
    "        self.rate = rate\n",
    "        self.verbose = verbose\n",
    "    \n",
    "    def on_epoch_begin(self, epoch, logs):\n",
    "        if self.verbose:\n",
    "            pass\n",
    "        output_weights, output_biases = self.model.layers[-1].get_weights()\n",
    "        self.model.layers[-1].set_weights((output_weights * self.rate, output_biases * self.rate))"
   ]
  },
  {
   "cell_type": "markdown",
   "metadata": {},
   "source": [
    "## Constraints"
   ]
  },
  {
   "cell_type": "code",
   "execution_count": 18,
   "metadata": {},
   "outputs": [],
   "source": [
    "import tensorflow.keras.backend as K"
   ]
  },
  {
   "cell_type": "code",
   "execution_count": 19,
   "metadata": {},
   "outputs": [],
   "source": [
    "class ProbMeasure(tf.keras.constraints.Constraint):\n",
    "    \"\"\"Constrains the weights incident to each hidden unit to be a probability measure.\n",
    "    \"\"\"\n",
    "\n",
    "    def __init__(self, axis=0):\n",
    "        self.axis = axis\n",
    "\n",
    "    def __call__(self, w):\n",
    "        w = w * K.cast(K.greater_equal(w, 0.), K.floatx())\n",
    "        return w / (K.epsilon() + K.sum(K.abs(w),\n",
    "                                        axis=self.axis,\n",
    "                                        keepdims=True))\n",
    "\n",
    "    def get_config(self):\n",
    "        return {'axis': self.axis}"
   ]
  },
  {
   "cell_type": "code",
   "execution_count": 20,
   "metadata": {},
   "outputs": [],
   "source": [
    "class NonPos(tf.keras.constraints.Constraint):\n",
    "    \"\"\"Constrains the weights incident to each hidden unit to Negative.\n",
    "    \"\"\"\n",
    "\n",
    "    def __init__(self):\n",
    "        pass\n",
    "\n",
    "    def __call__(self, w):\n",
    "        w = w * K.cast(K.less_equal(w, 0.), K.floatx())\n",
    "        return w"
   ]
  },
  {
   "cell_type": "markdown",
   "metadata": {},
   "source": [
    "## Models"
   ]
  },
  {
   "cell_type": "code",
   "execution_count": 21,
   "metadata": {},
   "outputs": [],
   "source": [
    "class DiffeqModel(tf.keras.Model):\n",
    "    \n",
    "    def __init__(self, n, filter_size):\n",
    "        super(DiffeqModel, self).__init__(name='diffeq_model')\n",
    "        self.n = n\n",
    "        self.reshape = tf.keras.layers.Reshape((n+1,n+1,1), input_shape=(n+1,n+1))\n",
    "        self.conv2D = tf.keras.layers.Conv2D(filter_size, \n",
    "                                             kernel_size=3,\n",
    "                                             input_shape=(n+1, n+1, 1),\n",
    "                                             kernel_regularizer=tf.keras.regularizers.l2(.001),)\n",
    "        self.dense = tf.keras.layers.Dense(1, \n",
    "                                           activation='relu', \n",
    "                                           kernel_constraint=ProbMeasure(),\n",
    "                                           kernel_regularizer=tf.keras.regularizers.l1(.01))\n",
    "        self.max_pool = tf.keras.layers.MaxPool2D(pool_size=n-1)\n",
    "        self.flatten = tf.keras.layers.Flatten()\n",
    "        output_kernel_initializer = tf.keras.initializers.Constant([[-1., -1.]])\n",
    "        output_bias_initializer = tf.keras.initializers.Constant([.2])\n",
    "        self.output_layer = tf.keras.layers.Dense(1, \n",
    "                                                  activation='sigmoid', \n",
    "                                                  kernel_initializer = output_kernel_initializer,\n",
    "                                                  bias_initializer = output_bias_initializer,\n",
    "                                                  trainable=False)\n",
    "        \n",
    "    def call(self, input_tensor, training=False):\n",
    "        x = self.reshape(input_tensor)\n",
    "        x = self.conv2D(x)\n",
    "        x1 = tf.nn.relu(x)\n",
    "        x2 = tf.nn.relu(-1*x)\n",
    "        x1 = self.dense(x1)\n",
    "        x2 = self.dense(x2)\n",
    "        x = tf.concat([x1, x2], axis=-1)\n",
    "        x = self.max_pool(x)\n",
    "        x = self.flatten(x)\n",
    "        return self.output_layer(x)"
   ]
  },
  {
   "cell_type": "code",
   "execution_count": 22,
   "metadata": {},
   "outputs": [],
   "source": [
    "def get_model(n, filter_size):\n",
    "\n",
    "    sequential_model = tf.keras.Sequential([\n",
    "        tf.keras.layers.Reshape((n+1,n+1,1), input_shape=(n+1,n+1)),\n",
    "        tf.keras.layers.Conv2D(filter_size, \n",
    "                               kernel_size=3,\n",
    "                               input_shape=(n+1, n+1, 1),\n",
    "                               kernel_regularizer=tf.keras.regularizers.l2(.001),),\n",
    "        tf.keras.layers.Lambda(lambda x: K.abs(x)),\n",
    "        tf.keras.layers.GlobalMaxPool2D(),\n",
    "        tf.keras.layers.Dense(1, \n",
    "                              kernel_constraint=NonPos(),\n",
    "                              activation='sigmoid')\n",
    "    ])\n",
    "    \n",
    "    return sequential_model"
   ]
  },
  {
   "cell_type": "markdown",
   "metadata": {},
   "source": [
    "\n",
    "## Training Convolutional Net on Basic Data"
   ]
  },
  {
   "cell_type": "code",
   "execution_count": 141,
   "metadata": {},
   "outputs": [],
   "source": [
    "n=10\n",
    "epochs=20"
   ]
  },
  {
   "cell_type": "code",
   "execution_count": 142,
   "metadata": {},
   "outputs": [],
   "source": [
    "dataset = tf.data.Dataset.from_generator(harmonic_data_generator,\n",
    "                                         args=[n], \n",
    "                                         output_types=(tf.float32, tf.bool), \n",
    "                                         output_shapes = ((n+1,n+1), ()))\n",
    "mixed_dataset = tf.data.Dataset.from_generator(mixed_harmonic_data_generator, \n",
    "                                               args=[n], \n",
    "                                               output_types=(tf.float32, tf.bool), \n",
    "                                               output_shapes = ((n+1,n+1), ()))"
   ]
  },
  {
   "cell_type": "code",
   "execution_count": 143,
   "metadata": {},
   "outputs": [],
   "source": [
    "model = tf.keras.Sequential([\n",
    "    tf.keras.layers.Reshape((n+1,n+1,1), input_shape=(n+1,n+1)),\n",
    "    tf.keras.layers.Conv2D(32, \n",
    "                           kernel_size=3,\n",
    "                           input_shape=(n+1, n+1, 1),\n",
    "                           activation='relu',\n",
    "                           kernel_regularizer=tf.keras.regularizers.l1(.001)),\n",
    "    tf.keras.layers.Dense(1, activation='relu'),\n",
    "    tf.keras.layers.Flatten(),\n",
    "    tf.keras.layers.Dense(1, activation='sigmoid')\n",
    "], name=\"Conv2D-Easy\")"
   ]
  },
  {
   "cell_type": "code",
   "execution_count": 144,
   "metadata": {},
   "outputs": [
    {
     "name": "stdout",
     "output_type": "stream",
     "text": [
      "Model: \"Conv2D-Easy\"\n",
      "_________________________________________________________________\n",
      "Layer (type)                 Output Shape              Param #   \n",
      "=================================================================\n",
      "reshape_8 (Reshape)          (None, 11, 11, 1)         0         \n",
      "_________________________________________________________________\n",
      "conv2d_8 (Conv2D)            (None, 9, 9, 32)          320       \n",
      "_________________________________________________________________\n",
      "dense_15 (Dense)             (None, 9, 9, 1)           33        \n",
      "_________________________________________________________________\n",
      "flatten_7 (Flatten)          (None, 81)                0         \n",
      "_________________________________________________________________\n",
      "dense_16 (Dense)             (None, 1)                 82        \n",
      "=================================================================\n",
      "Total params: 435\n",
      "Trainable params: 435\n",
      "Non-trainable params: 0\n",
      "_________________________________________________________________\n"
     ]
    }
   ],
   "source": [
    "model.summary()"
   ]
  },
  {
   "cell_type": "code",
   "execution_count": 145,
   "metadata": {},
   "outputs": [],
   "source": [
    "model.compile(optimizer='adam',\n",
    "              loss=tf.keras.losses.binary_crossentropy,\n",
    "              metrics=['accuracy'])"
   ]
  },
  {
   "cell_type": "code",
   "execution_count": 146,
   "metadata": {},
   "outputs": [
    {
     "name": "stdout",
     "output_type": "stream",
     "text": [
      "Train for 100 steps\n",
      "Epoch 1/20\n",
      "100/100 [==============================] - 3s 27ms/step - loss: 0.5544 - accuracy: 0.6852\n",
      "Epoch 2/20\n",
      "100/100 [==============================] - 2s 21ms/step - loss: 0.2035 - accuracy: 0.9952\n",
      "Epoch 3/20\n",
      "100/100 [==============================] - 2s 20ms/step - loss: 0.0542 - accuracy: 1.0000\n",
      "Epoch 4/20\n",
      "100/100 [==============================] - 2s 20ms/step - loss: 0.0341 - accuracy: 1.0000\n",
      "Epoch 5/20\n",
      "100/100 [==============================] - 2s 19ms/step - loss: 0.0290 - accuracy: 1.0000\n",
      "Epoch 6/20\n",
      "100/100 [==============================] - 2s 20ms/step - loss: 0.0263 - accuracy: 0.9998\n",
      "Epoch 7/20\n",
      "100/100 [==============================] - 2s 19ms/step - loss: 0.0240 - accuracy: 1.0000\n",
      "Epoch 8/20\n",
      "100/100 [==============================] - 2s 19ms/step - loss: 0.0225 - accuracy: 1.0000\n",
      "Epoch 9/20\n",
      "100/100 [==============================] - 2s 21ms/step - loss: 0.0208 - accuracy: 1.0000\n",
      "Epoch 10/20\n",
      "100/100 [==============================] - 2s 20ms/step - loss: 0.0193 - accuracy: 1.0000\n",
      "Epoch 11/20\n",
      "100/100 [==============================] - 2s 20ms/step - loss: 0.0181 - accuracy: 1.0000\n",
      "Epoch 12/20\n",
      "100/100 [==============================] - 2s 20ms/step - loss: 0.0172 - accuracy: 0.9998\n",
      "Epoch 13/20\n",
      "100/100 [==============================] - 2s 21ms/step - loss: 0.0163 - accuracy: 1.0000\n",
      "Epoch 14/20\n",
      "100/100 [==============================] - 2s 19ms/step - loss: 0.0153 - accuracy: 1.0000\n",
      "Epoch 15/20\n",
      "100/100 [==============================] - 2s 19ms/step - loss: 0.0142 - accuracy: 1.0000\n",
      "Epoch 16/20\n",
      "100/100 [==============================] - 2s 21ms/step - loss: 0.0136 - accuracy: 1.0000\n",
      "Epoch 17/20\n",
      "100/100 [==============================] - 2s 22ms/step - loss: 0.0129 - accuracy: 1.0000\n",
      "Epoch 18/20\n",
      "100/100 [==============================] - 2s 20ms/step - loss: 0.0122 - accuracy: 1.0000\n",
      "Epoch 19/20\n",
      "100/100 [==============================] - 2s 18ms/step - loss: 0.0113 - accuracy: 1.0000\n",
      "Epoch 20/20\n",
      "100/100 [==============================] - 2s 19ms/step - loss: 0.0107 - accuracy: 1.0000\n"
     ]
    }
   ],
   "source": [
    "h = model.fit(dataset.batch(64), epochs=epochs, steps_per_epoch=100)"
   ]
  },
  {
   "cell_type": "code",
   "execution_count": 147,
   "metadata": {},
   "outputs": [],
   "source": [
    "def test_on_harmonic_perturbations(n, y):\n",
    "    x = generate_harmonic(n, y)\n",
    "    visualize([x], n)\n",
    "    perturbations = [1., .5, .1, .05, .01, .0025, .001]\n",
    "    harmonic_prediction = model.predict(x.reshape(1, n+1, n+1))[0,0]\n",
    "    print('Harmonic: {}'.format(harmonic_prediction))\n",
    "    for perturbation in perturbations:\n",
    "        y = x.copy()\n",
    "        y[2, 2] = y[2,2] - perturbation\n",
    "        prediction = model.predict(y.reshape(1, n+1, n+1))[0,0]\n",
    "        print('Perturbation {}: {}'.format(perturbation, prediction))"
   ]
  },
  {
   "cell_type": "code",
   "execution_count": 150,
   "metadata": {
    "scrolled": false
   },
   "outputs": [
    {
     "data": {
      "image/png": "[encoded data removed]",
      "text/plain": [
       "<Figure size 792x792 with 1 Axes>"
      ]
     },
     "metadata": {
      "needs_background": "light"
     },
     "output_type": "display_data"
    },
    {
     "name": "stdout",
     "output_type": "stream",
     "text": [
      "Harmonic: 0.7468590140342712\n",
      "Perturbation 1.0: 0.7607502937316895\n",
      "Perturbation 0.5: 0.7549980878829956\n",
      "Perturbation 0.1: 0.7475346326828003\n",
      "Perturbation 0.05: 0.747052788734436\n",
      "Perturbation 0.01: 0.7468770146369934\n",
      "Perturbation 0.0025: 0.7468634843826294\n",
      "Perturbation 0.001: 0.7468608617782593\n"
     ]
    }
   ],
   "source": [
    "test_on_harmonic_perturbations(10, np.identity(40)[1])"
   ]
  },
  {
   "cell_type": "markdown",
   "metadata": {},
   "source": [
    "\n",
    "## Training Convolutional Net on Mixed Data"
   ]
  },
  {
   "cell_type": "code",
   "execution_count": 184,
   "metadata": {},
   "outputs": [],
   "source": [
    "n=10\n",
    "epochs=20"
   ]
  },
  {
   "cell_type": "code",
   "execution_count": 185,
   "metadata": {},
   "outputs": [],
   "source": [
    "dataset = tf.data.Dataset.from_generator(harmonic_data_generator,\n",
    "                                         args=[n], \n",
    "                                         output_types=(tf.float32, tf.bool), \n",
    "                                         output_shapes = ((n+1,n+1), ()))\n",
    "mixed_dataset = tf.data.Dataset.from_generator(mixed_harmonic_data_generator, \n",
    "                                               args=[n], \n",
    "                                               output_types=(tf.float32, tf.bool), \n",
    "                                               output_shapes = ((n+1,n+1), ()))"
   ]
  },
  {
   "cell_type": "code",
   "execution_count": 186,
   "metadata": {},
   "outputs": [],
   "source": [
    "model = tf.keras.Sequential([\n",
    "    tf.keras.layers.Reshape((n+1,n+1,1), input_shape=(n+1,n+1)),\n",
    "    tf.keras.layers.Conv2D(32, \n",
    "                           kernel_size=3,\n",
    "                           input_shape=(n+1, n+1, 1),\n",
    "                           activation='relu',\n",
    "                           kernel_regularizer=tf.keras.regularizers.l1(.001)),\n",
    "    tf.keras.layers.Dense(1, activation='relu'),\n",
    "    tf.keras.layers.Flatten(),\n",
    "    tf.keras.layers.Dense(1, activation='sigmoid')\n",
    "], name=\"Conv2D-Easy\")"
   ]
  },
  {
   "cell_type": "code",
   "execution_count": 187,
   "metadata": {},
   "outputs": [
    {
     "name": "stdout",
     "output_type": "stream",
     "text": [
      "Model: \"Conv2D-Easy\"\n",
      "_________________________________________________________________\n",
      "Layer (type)                 Output Shape              Param #   \n",
      "=================================================================\n",
      "reshape_11 (Reshape)         (None, 11, 11, 1)         0         \n",
      "_________________________________________________________________\n",
      "conv2d_11 (Conv2D)           (None, 9, 9, 32)          320       \n",
      "_________________________________________________________________\n",
      "dense_19 (Dense)             (None, 9, 9, 1)           33        \n",
      "_________________________________________________________________\n",
      "flatten_8 (Flatten)          (None, 81)                0         \n",
      "_________________________________________________________________\n",
      "dense_20 (Dense)             (None, 1)                 82        \n",
      "=================================================================\n",
      "Total params: 435\n",
      "Trainable params: 435\n",
      "Non-trainable params: 0\n",
      "_________________________________________________________________\n"
     ]
    }
   ],
   "source": [
    "model.summary()"
   ]
  },
  {
   "cell_type": "code",
   "execution_count": 188,
   "metadata": {},
   "outputs": [],
   "source": [
    "model.compile(optimizer='adam',\n",
    "              loss=tf.keras.losses.binary_crossentropy,\n",
    "              metrics=['accuracy'])"
   ]
  },
  {
   "cell_type": "code",
   "execution_count": 189,
   "metadata": {},
   "outputs": [
    {
     "name": "stdout",
     "output_type": "stream",
     "text": [
      "Train for 100 steps\n",
      "Epoch 1/20\n",
      "100/100 [==============================] - 4s 45ms/step - loss: 0.6978 - accuracy: 0.5869\n",
      "Epoch 2/20\n",
      "100/100 [==============================] - 4s 41ms/step - loss: 0.6320 - accuracy: 0.6650\n",
      "Epoch 3/20\n",
      "100/100 [==============================] - 4s 41ms/step - loss: 0.6221 - accuracy: 0.6631\n",
      "Epoch 4/20\n",
      "100/100 [==============================] - 4s 39ms/step - loss: 0.6169 - accuracy: 0.6717\n",
      "Epoch 5/20\n",
      "100/100 [==============================] - 4s 38ms/step - loss: 0.6070 - accuracy: 0.6764\n",
      "Epoch 6/20\n",
      "100/100 [==============================] - 4s 37ms/step - loss: 0.6040 - accuracy: 0.6844\n",
      "Epoch 7/20\n",
      "100/100 [==============================] - 4s 37ms/step - loss: 0.6038 - accuracy: 0.6836\n",
      "Epoch 8/20\n",
      "100/100 [==============================] - 4s 38ms/step - loss: 0.5991 - accuracy: 0.6812\n",
      "Epoch 9/20\n",
      "100/100 [==============================] - 4s 38ms/step - loss: 0.5987 - accuracy: 0.6820\n",
      "Epoch 10/20\n",
      "100/100 [==============================] - 4s 40ms/step - loss: 0.6013 - accuracy: 0.6806\n",
      "Epoch 11/20\n",
      "100/100 [==============================] - 4s 39ms/step - loss: 0.6032 - accuracy: 0.6786\n",
      "Epoch 12/20\n",
      "100/100 [==============================] - 4s 37ms/step - loss: 0.5985 - accuracy: 0.6858\n",
      "Epoch 13/20\n",
      "100/100 [==============================] - 4s 41ms/step - loss: 0.5986 - accuracy: 0.6783\n",
      "Epoch 14/20\n",
      "100/100 [==============================] - 4s 41ms/step - loss: 0.5960 - accuracy: 0.6858\n",
      "Epoch 15/20\n",
      "100/100 [==============================] - 4s 38ms/step - loss: 0.6069 - accuracy: 0.6720\n",
      "Epoch 16/20\n",
      "100/100 [==============================] - 4s 37ms/step - loss: 0.5985 - accuracy: 0.6814\n",
      "Epoch 17/20\n",
      "100/100 [==============================] - 4s 40ms/step - loss: 0.6043 - accuracy: 0.6731\n",
      "Epoch 18/20\n",
      "100/100 [==============================] - 4s 39ms/step - loss: 0.6064 - accuracy: 0.6712\n",
      "Epoch 19/20\n",
      "100/100 [==============================] - 4s 39ms/step - loss: 0.6021 - accuracy: 0.6750\n",
      "Epoch 20/20\n",
      "100/100 [==============================] - 4s 38ms/step - loss: 0.6005 - accuracy: 0.6766\n"
     ]
    }
   ],
   "source": [
    "h = model.fit(mixed_dataset.batch(64), epochs=epochs, steps_per_epoch=100)"
   ]
  },
  {
   "cell_type": "code",
   "execution_count": 192,
   "metadata": {},
   "outputs": [],
   "source": [
    "def test_on_harmonic_perturbations(n, y):\n",
    "    x = generate_harmonic(n, y)\n",
    "    visualize([x], n)\n",
    "    perturbations = [1., .5, .1, .05, .01, .0025, .001]\n",
    "    harmonic_prediction = model.predict(x.reshape(1, n+1, n+1))[0,0]\n",
    "    print('Harmonic: {}'.format(harmonic_prediction))\n",
    "    for perturbation in perturbations:\n",
    "        y = x.copy()\n",
    "        y[2, 2] = y[2,2] - perturbation\n",
    "        prediction = model.predict(y.reshape(1, n+1, n+1))[0,0]\n",
    "        print('Perturbation {}: {}'.format(perturbation, prediction))"
   ]
  },
  {
   "cell_type": "code",
   "execution_count": 193,
   "metadata": {
    "scrolled": true
   },
   "outputs": [
    {
     "data": {
      "image/png": "[encoded data removed]",
      "text/plain": [
       "<Figure size 792x792 with 1 Axes>"
      ]
     },
     "metadata": {
      "needs_background": "light"
     },
     "output_type": "display_data"
    },
    {
     "name": "stdout",
     "output_type": "stream",
     "text": [
      "Harmonic: 0.5520232915878296\n",
      "Perturbation 1.0: 0.5240264534950256\n",
      "Perturbation 0.5: 0.546442985534668\n",
      "Perturbation 0.1: 0.5520268082618713\n",
      "Perturbation 0.05: 0.5520250797271729\n",
      "Perturbation 0.01: 0.5520236492156982\n",
      "Perturbation 0.0025: 0.5520233511924744\n",
      "Perturbation 0.001: 0.5520233511924744\n"
     ]
    }
   ],
   "source": [
    "test_on_harmonic_perturbations(10, np.identity(40)[1])"
   ]
  },
  {
   "cell_type": "markdown",
   "metadata": {},
   "source": [
    "\n",
    "## A Net with Constraints"
   ]
  },
  {
   "cell_type": "code",
   "execution_count": 263,
   "metadata": {},
   "outputs": [],
   "source": [
    "n=10\n",
    "epochs=20"
   ]
  },
  {
   "cell_type": "code",
   "execution_count": 264,
   "metadata": {},
   "outputs": [],
   "source": [
    "dataset = tf.data.Dataset.from_generator(harmonic_data_generator,\n",
    "                                         args=[n], \n",
    "                                         output_types=(tf.float32, tf.bool), \n",
    "                                         output_shapes = ((n+1,n+1), ()))"
   ]
  },
  {
   "cell_type": "code",
   "execution_count": 265,
   "metadata": {},
   "outputs": [],
   "source": [
    "mixed_dataset = tf.data.Dataset.from_generator(mixed_harmonic_data_generator, \n",
    "                                               args=[n], \n",
    "                                               output_types=(tf.float32, tf.bool), \n",
    "                                               output_shapes = ((n+1,n+1), ()))"
   ]
  },
  {
   "cell_type": "code",
   "execution_count": 266,
   "metadata": {},
   "outputs": [],
   "source": [
    "filter_size = 32\n",
    "model = tf.keras.Sequential([\n",
    "    tf.keras.layers.Reshape((n+1,n+1,1), input_shape=(n+1,n+1)),\n",
    "    tf.keras.layers.Conv2D(filter_size, \n",
    "                           kernel_size=3,\n",
    "                           input_shape=(n+1, n+1, 1),\n",
    "                           kernel_regularizer=tf.keras.regularizers.l2(.001),),\n",
    "    tf.keras.layers.Lambda(lambda x: K.abs(x)),\n",
    "    tf.keras.layers.GlobalMaxPool2D(),\n",
    "    tf.keras.layers.Dense(1, \n",
    "                          kernel_constraint=NonPos(),\n",
    "                          activation='sigmoid')\n",
    "])"
   ]
  },
  {
   "cell_type": "code",
   "execution_count": 267,
   "metadata": {},
   "outputs": [
    {
     "name": "stdout",
     "output_type": "stream",
     "text": [
      "Model: \"sequential_9\"\n",
      "_________________________________________________________________\n",
      "Layer (type)                 Output Shape              Param #   \n",
      "=================================================================\n",
      "reshape_19 (Reshape)         (None, 11, 11, 1)         0         \n",
      "_________________________________________________________________\n",
      "conv2d_18 (Conv2D)           (None, 9, 9, 32)          320       \n",
      "_________________________________________________________________\n",
      "lambda_9 (Lambda)            (None, 9, 9, 32)          0         \n",
      "_________________________________________________________________\n",
      "global_max_pooling2d_9 (Glob (None, 32)                0         \n",
      "_________________________________________________________________\n",
      "dense_27 (Dense)             (None, 1)                 33        \n",
      "=================================================================\n",
      "Total params: 353\n",
      "Trainable params: 353\n",
      "Non-trainable params: 0\n",
      "_________________________________________________________________\n"
     ]
    }
   ],
   "source": [
    "model.summary()"
   ]
  },
  {
   "cell_type": "code",
   "execution_count": 268,
   "metadata": {},
   "outputs": [],
   "source": [
    "model.compile(optimizer='adam',\n",
    "              loss=tf.keras.losses.binary_crossentropy,\n",
    "              metrics=['accuracy'])"
   ]
  },
  {
   "cell_type": "code",
   "execution_count": 269,
   "metadata": {},
   "outputs": [
    {
     "name": "stdout",
     "output_type": "stream",
     "text": [
      "Train for 100 steps\n",
      "Epoch 1/20\n",
      "100/100 [==============================] - 2s 23ms/step - loss: 0.6480 - accuracy: 0.5091\n",
      "Epoch 2/20\n",
      "100/100 [==============================] - 2s 19ms/step - loss: 0.4217 - accuracy: 0.7620\n",
      "Epoch 3/20\n",
      "100/100 [==============================] - 2s 20ms/step - loss: 0.3205 - accuracy: 1.0000\n",
      "Epoch 4/20\n",
      "100/100 [==============================] - 2s 20ms/step - loss: 0.2871 - accuracy: 1.0000\n",
      "Epoch 5/20\n",
      "100/100 [==============================] - 2s 19ms/step - loss: 0.2651 - accuracy: 1.0000\n",
      "Epoch 6/20\n",
      "100/100 [==============================] - 2s 20ms/step - loss: 0.2448 - accuracy: 1.0000\n",
      "Epoch 7/20\n",
      "100/100 [==============================] - 2s 20ms/step - loss: 0.2317 - accuracy: 1.0000\n",
      "Epoch 8/20\n",
      "100/100 [==============================] - 2s 19ms/step - loss: 0.2110 - accuracy: 1.0000\n",
      "Epoch 9/20\n",
      "100/100 [==============================] - 2s 19ms/step - loss: 0.1981 - accuracy: 1.0000\n",
      "Epoch 10/20\n",
      "100/100 [==============================] - 2s 19ms/step - loss: 0.1851 - accuracy: 1.0000\n",
      "Epoch 11/20\n",
      "100/100 [==============================] - 2s 20ms/step - loss: 0.1735 - accuracy: 1.0000\n",
      "Epoch 12/20\n",
      "100/100 [==============================] - 2s 19ms/step - loss: 0.1623 - accuracy: 1.0000\n",
      "Epoch 13/20\n",
      "100/100 [==============================] - 2s 20ms/step - loss: 0.1526 - accuracy: 1.0000\n",
      "Epoch 14/20\n",
      "100/100 [==============================] - 2s 19ms/step - loss: 0.1449 - accuracy: 1.0000\n",
      "Epoch 15/20\n",
      "100/100 [==============================] - 2s 20ms/step - loss: 0.1325 - accuracy: 1.0000\n",
      "Epoch 16/20\n",
      "100/100 [==============================] - 2s 19ms/step - loss: 0.1250 - accuracy: 1.0000\n",
      "Epoch 17/20\n",
      "100/100 [==============================] - 2s 19ms/step - loss: 0.1184 - accuracy: 1.0000\n",
      "Epoch 18/20\n",
      "100/100 [==============================] - 2s 20ms/step - loss: 0.1108 - accuracy: 1.0000\n",
      "Epoch 19/20\n",
      "100/100 [==============================] - 2s 20ms/step - loss: 0.1078 - accuracy: 1.0000\n",
      "Epoch 20/20\n",
      "100/100 [==============================] - 2s 20ms/step - loss: 0.0974 - accuracy: 1.0000\n"
     ]
    }
   ],
   "source": [
    "h = model.fit(dataset.batch(64), epochs=epochs, steps_per_epoch=100)"
   ]
  },
  {
   "cell_type": "code",
   "execution_count": 283,
   "metadata": {},
   "outputs": [
    {
     "data": {
      "text/plain": [
       "[array([[-0.6745315 ],\n",
       "        [ 0.        ],\n",
       "        [-0.5584671 ],\n",
       "        [ 0.        ],\n",
       "        [-0.43295133],\n",
       "        [-0.5764653 ],\n",
       "        [ 0.        ],\n",
       "        [ 0.        ],\n",
       "        [ 0.        ],\n",
       "        [-0.5545966 ],\n",
       "        [-0.8267692 ],\n",
       "        [-0.40676802],\n",
       "        [ 0.        ],\n",
       "        [-0.6742531 ],\n",
       "        [-0.59604836],\n",
       "        [-0.6945672 ],\n",
       "        [ 0.        ],\n",
       "        [ 0.        ],\n",
       "        [ 0.        ],\n",
       "        [ 0.        ],\n",
       "        [-0.20473   ],\n",
       "        [ 0.        ],\n",
       "        [ 0.        ],\n",
       "        [ 0.        ],\n",
       "        [ 0.        ],\n",
       "        [-0.7432787 ],\n",
       "        [ 0.        ],\n",
       "        [ 0.        ],\n",
       "        [ 0.        ],\n",
       "        [-0.47625238],\n",
       "        [ 0.        ],\n",
       "        [-0.48529273]], dtype=float32), array([1.5933983], dtype=float32)]"
      ]
     },
     "execution_count": 283,
     "metadata": {},
     "output_type": "execute_result"
    }
   ],
   "source": [
    "model.layers[-1].get_weights()"
   ]
  },
  {
   "cell_type": "code",
   "execution_count": 284,
   "metadata": {},
   "outputs": [],
   "source": [
    "indices = np.argsort(model.layers[-1].get_weights()[0].flatten())"
   ]
  },
  {
   "cell_type": "code",
   "execution_count": 285,
   "metadata": {},
   "outputs": [],
   "source": [
    "layer = model.layers[1].get_weights()[0][:,:,:,indices[2]].flatten()"
   ]
  },
  {
   "cell_type": "code",
   "execution_count": 286,
   "metadata": {},
   "outputs": [
    {
     "data": {
      "text/plain": [
       "array([-3.4619454e-05, -2.4991931e-01,  9.4669842e-05, -2.4994785e-01,\n",
       "        1.0000000e+00, -2.5004935e-01, -6.6370507e-05, -2.4987631e-01,\n",
       "       -7.9561360e-05], dtype=float32)"
      ]
     },
     "execution_count": 286,
     "metadata": {},
     "output_type": "execute_result"
    }
   ],
   "source": [
    "layer / layer[4]"
   ]
  },
  {
   "cell_type": "code",
   "execution_count": 287,
   "metadata": {},
   "outputs": [
    {
     "data": {
      "image/png": "[encoded data removed]",
      "text/plain": [
       "<Figure size 432x288 with 2 Axes>"
      ]
     },
     "metadata": {
      "needs_background": "light"
     },
     "output_type": "display_data"
    }
   ],
   "source": [
    "plt.bar(range(9), layer / layer[4])\n",
    "axes2 = plt.twiny()\n",
    "x = np.arange(9)\n",
    "y = np.zeros(9)\n",
    "axes2.plot(x,y, linewidth=1, color='black')\n",
    "axes2.set_xticks([])\n",
    "plt.show()"
   ]
  },
  {
   "cell_type": "code",
   "execution_count": 288,
   "metadata": {},
   "outputs": [
    {
     "data": {
      "text/plain": [
       "[array([[-0.6745315 ],\n",
       "        [ 0.        ],\n",
       "        [-0.5584671 ],\n",
       "        [ 0.        ],\n",
       "        [-0.43295133],\n",
       "        [-0.5764653 ],\n",
       "        [ 0.        ],\n",
       "        [ 0.        ],\n",
       "        [ 0.        ],\n",
       "        [-0.5545966 ],\n",
       "        [-0.8267692 ],\n",
       "        [-0.40676802],\n",
       "        [ 0.        ],\n",
       "        [-0.6742531 ],\n",
       "        [-0.59604836],\n",
       "        [-0.6945672 ],\n",
       "        [ 0.        ],\n",
       "        [ 0.        ],\n",
       "        [ 0.        ],\n",
       "        [ 0.        ],\n",
       "        [-0.20473   ],\n",
       "        [ 0.        ],\n",
       "        [ 0.        ],\n",
       "        [ 0.        ],\n",
       "        [ 0.        ],\n",
       "        [-0.7432787 ],\n",
       "        [ 0.        ],\n",
       "        [ 0.        ],\n",
       "        [ 0.        ],\n",
       "        [-0.47625238],\n",
       "        [ 0.        ],\n",
       "        [-0.48529273]], dtype=float32), array([1.5933983], dtype=float32)]"
      ]
     },
     "execution_count": 288,
     "metadata": {},
     "output_type": "execute_result"
    }
   ],
   "source": [
    "model.layers[-1].get_weights()"
   ]
  },
  {
   "cell_type": "code",
   "execution_count": 289,
   "metadata": {},
   "outputs": [],
   "source": [
    "ce = np.zeros((n+1, n+1))\n",
    "for i in range(n+1):\n",
    "    for j in range(n+1):\n",
    "        ce[i,j] = (n)/2 - np.max([np.abs((n)/2 - i), np.abs((n)/2 - j)])"
   ]
  },
  {
   "cell_type": "code",
   "execution_count": 290,
   "metadata": {},
   "outputs": [
    {
     "data": {
      "text/plain": [
       "array([[0., 0., 0., 0., 0., 0., 0., 0., 0., 0., 0.],\n",
       "       [0., 1., 1., 1., 1., 1., 1., 1., 1., 1., 0.],\n",
       "       [0., 1., 2., 2., 2., 2., 2., 2., 2., 1., 0.],\n",
       "       [0., 1., 2., 3., 3., 3., 3., 3., 2., 1., 0.],\n",
       "       [0., 1., 2., 3., 4., 4., 4., 3., 2., 1., 0.],\n",
       "       [0., 1., 2., 3., 4., 5., 4., 3., 2., 1., 0.],\n",
       "       [0., 1., 2., 3., 4., 4., 4., 3., 2., 1., 0.],\n",
       "       [0., 1., 2., 3., 3., 3., 3., 3., 2., 1., 0.],\n",
       "       [0., 1., 2., 2., 2., 2., 2., 2., 2., 1., 0.],\n",
       "       [0., 1., 1., 1., 1., 1., 1., 1., 1., 1., 0.],\n",
       "       [0., 0., 0., 0., 0., 0., 0., 0., 0., 0., 0.]])"
      ]
     },
     "execution_count": 290,
     "metadata": {},
     "output_type": "execute_result"
    }
   ],
   "source": [
    "ce"
   ]
  },
  {
   "cell_type": "code",
   "execution_count": 291,
   "metadata": {},
   "outputs": [
    {
     "data": {
      "text/plain": [
       "array([[0.20703006]], dtype=float32)"
      ]
     },
     "execution_count": 291,
     "metadata": {},
     "output_type": "execute_result"
    }
   ],
   "source": [
    "model.predict(ce.reshape(1,n+1, n+1))"
   ]
  },
  {
   "cell_type": "code",
   "execution_count": 292,
   "metadata": {
    "scrolled": true
   },
   "outputs": [
    {
     "data": {
      "text/plain": [
       "array([[0.20708118]], dtype=float32)"
      ]
     },
     "execution_count": 292,
     "metadata": {},
     "output_type": "execute_result"
    }
   ],
   "source": [
    "model.predict(-1*ce.reshape(1,n+1, n+1))"
   ]
  },
  {
   "cell_type": "code",
   "execution_count": 293,
   "metadata": {},
   "outputs": [],
   "source": [
    "def test_on_harmonic_perturbations(n, y):\n",
    "    x = generate_harmonic(n, y)\n",
    "    visualize([x], n)\n",
    "    perturbations = [1., .5, .1, .05, .01, .0025, .001]\n",
    "    harmonic_prediction = model.predict(x.reshape(1, n+1, n+1))[0,0]\n",
    "    print('Harmonic: {}'.format(harmonic_prediction))\n",
    "    for perturbation in perturbations:\n",
    "        y = x.copy()\n",
    "        y[2, 2] = y[2,2] - perturbation\n",
    "        prediction = model.predict(y.reshape(1, n+1, n+1))[0,0]\n",
    "        print('Perturbation {}: {}'.format(perturbation, prediction))"
   ]
  },
  {
   "cell_type": "code",
   "execution_count": 294,
   "metadata": {},
   "outputs": [
    {
     "data": {
      "image/png": "[encoded data removed]",
      "text/plain": [
       "<Figure size 792x792 with 1 Axes>"
      ]
     },
     "metadata": {
      "needs_background": "light"
     },
     "output_type": "display_data"
    },
    {
     "name": "stdout",
     "output_type": "stream",
     "text": [
      "Harmonic: 0.8309580683708191\n",
      "Perturbation 1.0: 0.20679888129234314\n",
      "Perturbation 0.5: 0.531112015247345\n",
      "Perturbation 0.1: 0.7857946753501892\n",
      "Perturbation 0.05: 0.809482991695404\n",
      "Perturbation 0.01: 0.8269507884979248\n",
      "Perturbation 0.0025: 0.8300812840461731\n",
      "Perturbation 0.001: 0.83069908618927\n"
     ]
    }
   ],
   "source": [
    "test_on_harmonic_perturbations(10, np.identity(40)[1])"
   ]
  },
  {
   "cell_type": "code",
   "execution_count": 295,
   "metadata": {},
   "outputs": [
    {
     "data": {
      "image/png": "[encoded data removed]",
      "text/plain": [
       "<Figure size 792x792 with 1 Axes>"
      ]
     },
     "metadata": {
      "needs_background": "light"
     },
     "output_type": "display_data"
    },
    {
     "name": "stdout",
     "output_type": "stream",
     "text": [
      "Harmonic: 0.8307867050170898\n",
      "Perturbation 1.0: 0.20673975348472595\n",
      "Perturbation 0.5: 0.5310221314430237\n",
      "Perturbation 0.1: 0.7857338786125183\n",
      "Perturbation 0.05: 0.8094273209571838\n",
      "Perturbation 0.01: 0.8268991112709045\n",
      "Perturbation 0.0025: 0.8299936652183533\n",
      "Perturbation 0.001: 0.8305290937423706\n"
     ]
    }
   ],
   "source": [
    "test_on_harmonic_perturbations(10, [1,1,1,1,0,0,0,0,0,1,1,1,1,1,1,1,1,1,0,1,0,0,0,1,0,0,0,1,1,1,1,0,0,0,0,0])"
   ]
  },
  {
   "cell_type": "markdown",
   "metadata": {},
   "source": [
    "\n",
    "## Another Variant on Training"
   ]
  },
  {
   "cell_type": "code",
   "execution_count": 255,
   "metadata": {},
   "outputs": [],
   "source": [
    "n=10\n",
    "epochs=20"
   ]
  },
  {
   "cell_type": "code",
   "execution_count": 256,
   "metadata": {},
   "outputs": [],
   "source": [
    "dataset = tf.data.Dataset.from_generator(harmonic_data_generator,\n",
    "                                         args=[n], \n",
    "                                         output_types=(tf.float32, tf.bool), \n",
    "                                         output_shapes = ((n+1,n+1), ()))"
   ]
  },
  {
   "cell_type": "code",
   "execution_count": 257,
   "metadata": {},
   "outputs": [],
   "source": [
    "mixed_dataset = tf.data.Dataset.from_generator(mixed_harmonic_data_generator, \n",
    "                                               args=[n], \n",
    "                                               output_types=(tf.float32, tf.bool), \n",
    "                                               output_shapes = ((n+1,n+1), ()))"
   ]
  },
  {
   "cell_type": "code",
   "execution_count": 258,
   "metadata": {},
   "outputs": [],
   "source": [
    "model = get_model(n, 32)"
   ]
  },
  {
   "cell_type": "code",
   "execution_count": 259,
   "metadata": {},
   "outputs": [],
   "source": [
    "model.compile(optimizer='adam',\n",
    "              loss=tf.keras.losses.binary_crossentropy,\n",
    "              metrics=['accuracy'])"
   ]
  },
  {
   "cell_type": "code",
   "execution_count": 260,
   "metadata": {},
   "outputs": [
    {
     "name": "stdout",
     "output_type": "stream",
     "text": [
      "Model: \"sequential_8\"\n",
      "_________________________________________________________________\n",
      "Layer (type)                 Output Shape              Param #   \n",
      "=================================================================\n",
      "reshape_18 (Reshape)         (None, 11, 11, 1)         0         \n",
      "_________________________________________________________________\n",
      "conv2d_17 (Conv2D)           (None, 9, 9, 32)          320       \n",
      "_________________________________________________________________\n",
      "lambda_8 (Lambda)            (None, 9, 9, 32)          0         \n",
      "_________________________________________________________________\n",
      "global_max_pooling2d_8 (Glob (None, 32)                0         \n",
      "_________________________________________________________________\n",
      "dense_26 (Dense)             (None, 1)                 33        \n",
      "=================================================================\n",
      "Total params: 353\n",
      "Trainable params: 353\n",
      "Non-trainable params: 0\n",
      "_________________________________________________________________\n"
     ]
    }
   ],
   "source": [
    "model.summary()"
   ]
  },
  {
   "cell_type": "code",
   "execution_count": 261,
   "metadata": {},
   "outputs": [],
   "source": [
    "def geometric_schedule(rate=.9):\n",
    "    return lambda epoch, lr: lr*rate\n",
    "\n",
    "lr_schedule = tf.keras.callbacks.LearningRateScheduler(geometric_schedule())\n",
    "diff_eq_forcer = DiffEqForcer(1.1)"
   ]
  },
  {
   "cell_type": "code",
   "execution_count": 262,
   "metadata": {},
   "outputs": [
    {
     "name": "stdout",
     "output_type": "stream",
     "text": [
      "Train for 100 steps\n",
      "Epoch 1/20\n",
      "100/100 [==============================] - 4s 41ms/step - loss: 1.0403 - accuracy: 0.4086\n",
      "Epoch 2/20\n",
      "100/100 [==============================] - 4s 36ms/step - loss: 0.7180 - accuracy: 0.4561\n",
      "Epoch 3/20\n",
      "100/100 [==============================] - 4s 36ms/step - loss: 0.6502 - accuracy: 0.6781\n",
      "Epoch 4/20\n",
      "100/100 [==============================] - 4s 37ms/step - loss: 0.6359 - accuracy: 0.6753\n",
      "Epoch 5/20\n",
      "100/100 [==============================] - 4s 37ms/step - loss: 0.6220 - accuracy: 0.6755\n",
      "Epoch 6/20\n",
      "100/100 [==============================] - 4s 37ms/step - loss: 0.6140 - accuracy: 0.6744\n",
      "Epoch 7/20\n",
      "100/100 [==============================] - 4s 40ms/step - loss: 0.6079 - accuracy: 0.6714\n",
      "Epoch 8/20\n",
      "100/100 [==============================] - 4s 41ms/step - loss: 0.6047 - accuracy: 0.6745\n",
      "Epoch 9/20\n",
      "100/100 [==============================] - 4s 39ms/step - loss: 0.5914 - accuracy: 0.6947\n",
      "Epoch 10/20\n",
      "100/100 [==============================] - 4s 38ms/step - loss: 0.6060 - accuracy: 0.6695\n",
      "Epoch 11/20\n",
      "100/100 [==============================] - 4s 36ms/step - loss: 0.5906 - accuracy: 0.6895\n",
      "Epoch 12/20\n",
      "100/100 [==============================] - 4s 38ms/step - loss: 0.6030 - accuracy: 0.6667\n",
      "Epoch 13/20\n",
      "100/100 [==============================] - 4s 40ms/step - loss: 0.5904 - accuracy: 0.6861\n",
      "Epoch 14/20\n",
      "100/100 [==============================] - 4s 38ms/step - loss: 0.6010 - accuracy: 0.6739\n",
      "Epoch 15/20\n",
      "100/100 [==============================] - 4s 37ms/step - loss: 0.5966 - accuracy: 0.6773\n",
      "Epoch 16/20\n",
      "100/100 [==============================] - 4s 37ms/step - loss: 0.5983 - accuracy: 0.6759\n",
      "Epoch 17/20\n",
      "100/100 [==============================] - 4s 39ms/step - loss: 0.5970 - accuracy: 0.6750\n",
      "Epoch 18/20\n",
      "100/100 [==============================] - 4s 39ms/step - loss: 0.5826 - accuracy: 0.6966\n",
      "Epoch 19/20\n",
      "100/100 [==============================] - 4s 40ms/step - loss: 0.5932 - accuracy: 0.6820\n",
      "Epoch 20/20\n",
      "100/100 [==============================] - 4s 40ms/step - loss: 0.5948 - accuracy: 0.6797\n"
     ]
    }
   ],
   "source": [
    "h = model.fit(mixed_dataset.batch(64), epochs=epochs, steps_per_epoch=100, callbacks=[diff_eq_forcer])"
   ]
  },
  {
   "cell_type": "markdown",
   "metadata": {},
   "source": [
    "\n",
    "## Another Variant on Training"
   ]
  },
  {
   "cell_type": "code",
   "execution_count": 72,
   "metadata": {},
   "outputs": [],
   "source": [
    "n=30"
   ]
  },
  {
   "cell_type": "code",
   "execution_count": 73,
   "metadata": {},
   "outputs": [],
   "source": [
    "dataset = tf.data.Dataset.from_generator(harmonic_data_generator,\n",
    "                                         args=[n], \n",
    "                                         output_types=(tf.float32, tf.bool), \n",
    "                                         output_shapes = ((n+1,n+1), ()))"
   ]
  },
  {
   "cell_type": "code",
   "execution_count": 74,
   "metadata": {},
   "outputs": [],
   "source": [
    "mixed_dataset = tf.data.Dataset.from_generator(mixed_harmonic_data_generator, \n",
    "                                               args=[n], \n",
    "                                               output_types=(tf.float32, tf.bool), \n",
    "                                               output_shapes = ((n+1,n+1), ()))"
   ]
  },
  {
   "cell_type": "code",
   "execution_count": 75,
   "metadata": {},
   "outputs": [],
   "source": [
    "model = get_model(n, 32)"
   ]
  },
  {
   "cell_type": "code",
   "execution_count": 76,
   "metadata": {},
   "outputs": [],
   "source": [
    "model.compile(optimizer='adam',\n",
    "              loss=tf.keras.losses.binary_crossentropy,\n",
    "              metrics=['accuracy'])"
   ]
  },
  {
   "cell_type": "code",
   "execution_count": 77,
   "metadata": {},
   "outputs": [
    {
     "name": "stdout",
     "output_type": "stream",
     "text": [
      "Model: \"sequential_3\"\n",
      "_________________________________________________________________\n",
      "Layer (type)                 Output Shape              Param #   \n",
      "=================================================================\n",
      "reshape_3 (Reshape)          (None, 31, 31, 1)         0         \n",
      "_________________________________________________________________\n",
      "conv2d_3 (Conv2D)            (None, 29, 29, 32)        320       \n",
      "_________________________________________________________________\n",
      "lambda_3 (Lambda)            (None, 29, 29, 32)        0         \n",
      "_________________________________________________________________\n",
      "global_max_pooling2d_3 (Glob (None, 32)                0         \n",
      "_________________________________________________________________\n",
      "dense_3 (Dense)              (None, 1)                 33        \n",
      "=================================================================\n",
      "Total params: 353\n",
      "Trainable params: 353\n",
      "Non-trainable params: 0\n",
      "_________________________________________________________________\n"
     ]
    }
   ],
   "source": [
    "model.summary()"
   ]
  },
  {
   "cell_type": "code",
   "execution_count": 78,
   "metadata": {},
   "outputs": [],
   "source": [
    "epochs = 60\n",
    "precisions = [1., 1., 1., 1., 1.,\n",
    "              .7, .7, .7, .7, .7,\n",
    "              .5, .5, .5, .5, .5,\n",
    "              .35, .35, .35, .35, .35,\n",
    "              .2, .2, .2, .2, .2,\n",
    "              .1, .1, .1, .1, .1,\n",
    "              .05, .05, .05, .05, .05,\n",
    "              .03, .03, .03, .03, .03,\n",
    "              .01, .01, .01, .01, .01,\n",
    "              .01, .01, .01, .01, .01,\n",
    "              .01, .01, .01, .01, .01,\n",
    "              .01, .01, .01, .01, .01]\n",
    "\n",
    "diffeq_conroller = DiffEqController(precisions)"
   ]
  },
  {
   "cell_type": "code",
   "execution_count": 79,
   "metadata": {},
   "outputs": [],
   "source": [
    "def diff_eq_schedule(epoch, lr, precisions):\n",
    "    if epoch == 0:\n",
    "        return lr\n",
    "    old_precision, new_precision = precisions[epoch-1], precisions[epoch]\n",
    "    if new_precision == old_precision:\n",
    "        return (4/5) * lr\n",
    "    return min(.001, 2*(new_precision ** 2))\n",
    "\n",
    "def get_diff_eq_schedule(precisions):\n",
    "    return lambda epoch, lr: diff_eq_schedule(epoch, lr, precisions)\n",
    "\n",
    "def geometric_schedule(rate=.9):\n",
    "    return lambda epoch, lr: lr*rate\n",
    "\n",
    "lr_schedule = tf.keras.callbacks.LearningRateScheduler(get_diff_eq_schedule(precisions))\n",
    "diff_eq_forcer = DiffEqForcer(1.5)"
   ]
  },
  {
   "cell_type": "code",
   "execution_count": 80,
   "metadata": {},
   "outputs": [
    {
     "name": "stdout",
     "output_type": "stream",
     "text": [
      "Train for 100 steps\n",
      "Epoch 1/60\n",
      "100/100 [==============================] - 5s 46ms/step - loss: 0.8803 - accuracy: 0.4930\n",
      "Epoch 2/60\n",
      "100/100 [==============================] - 4s 42ms/step - loss: 0.4236 - accuracy: 0.7161\n",
      "Epoch 3/60\n",
      "100/100 [==============================] - 4s 42ms/step - loss: 0.2782 - accuracy: 1.0000\n",
      "Epoch 4/60\n",
      "100/100 [==============================] - 4s 41ms/step - loss: 0.2384 - accuracy: 1.0000\n",
      "Epoch 5/60\n",
      "100/100 [==============================] - 4s 41ms/step - loss: 0.1844 - accuracy: 1.0000\n",
      "Epoch 6/60\n",
      "100/100 [==============================] - 4s 42ms/step - loss: 0.1301 - accuracy: 1.0000\n",
      "Epoch 7/60\n",
      "100/100 [==============================] - 4s 42ms/step - loss: 0.0700 - accuracy: 1.0000\n",
      "Epoch 8/60\n",
      "100/100 [==============================] - 4s 42ms/step - loss: 0.0260 - accuracy: 1.0000\n",
      "Epoch 9/60\n",
      "100/100 [==============================] - 4s 42ms/step - loss: 0.0066 - accuracy: 1.0000\n",
      "Epoch 10/60\n",
      "100/100 [==============================] - 4s 42ms/step - loss: 0.0014 - accuracy: 1.0000\n",
      "Epoch 11/60\n",
      "100/100 [==============================] - 4s 41ms/step - loss: 7.2383e-04 - accuracy: 1.0000\n",
      "Epoch 12/60\n",
      "100/100 [==============================] - 4s 42ms/step - loss: 6.5912e-04 - accuracy: 1.0000\n",
      "Epoch 13/60\n",
      "100/100 [==============================] - 4s 42ms/step - loss: 6.2922e-04 - accuracy: 1.0000\n",
      "Epoch 14/60\n",
      "100/100 [==============================] - 4s 42ms/step - loss: 6.0759e-04 - accuracy: 1.0000\n",
      "Epoch 15/60\n",
      "100/100 [==============================] - 4s 42ms/step - loss: 5.9132e-04 - accuracy: 1.0000\n",
      "Epoch 16/60\n",
      "100/100 [==============================] - 4s 42ms/step - loss: 5.6838e-04 - accuracy: 1.0000\n",
      "Epoch 17/60\n",
      "100/100 [==============================] - 4s 42ms/step - loss: 5.4229e-04 - accuracy: 1.0000\n",
      "Epoch 18/60\n",
      "100/100 [==============================] - 4s 42ms/step - loss: 5.2394e-04 - accuracy: 1.0000\n",
      "Epoch 19/60\n",
      "100/100 [==============================] - 4s 41ms/step - loss: 5.1049e-04 - accuracy: 1.0000\n",
      "Epoch 20/60\n",
      "100/100 [==============================] - 4s 42ms/step - loss: 5.0034e-04 - accuracy: 1.0000\n",
      "Epoch 21/60\n",
      "100/100 [==============================] - 4s 42ms/step - loss: 4.8595e-04 - accuracy: 1.0000\n",
      "Epoch 22/60\n",
      "100/100 [==============================] - 4s 42ms/step - loss: 4.6942e-04 - accuracy: 1.0000\n",
      "Epoch 23/60\n",
      "100/100 [==============================] - 4s 42ms/step - loss: 4.5767e-04 - accuracy: 1.0000\n",
      "Epoch 24/60\n",
      "100/100 [==============================] - 4s 42ms/step - loss: 4.4898e-04 - accuracy: 1.0000\n",
      "Epoch 25/60\n",
      "100/100 [==============================] - 4s 41ms/step - loss: 4.4237e-04 - accuracy: 1.0000\n",
      "Epoch 26/60\n",
      "100/100 [==============================] - 4s 42ms/step - loss: 4.3288e-04 - accuracy: 1.0000\n",
      "Epoch 27/60\n",
      "100/100 [==============================] - 4s 42ms/step - loss: 4.2179e-04 - accuracy: 1.0000\n",
      "Epoch 28/60\n",
      "100/100 [==============================] - 4s 41ms/step - loss: 4.1371e-04 - accuracy: 1.0000\n",
      "Epoch 29/60\n",
      "100/100 [==============================] - 4s 42ms/step - loss: 4.0761e-04 - accuracy: 1.0000\n",
      "Epoch 30/60\n",
      "100/100 [==============================] - 4s 42ms/step - loss: 4.0289e-04 - accuracy: 1.0000\n",
      "Epoch 31/60\n",
      "100/100 [==============================] - 4s 42ms/step - loss: 3.9595e-04 - accuracy: 1.0000\n",
      "Epoch 32/60\n",
      "100/100 [==============================] - 4s 41ms/step - loss: 3.8760e-04 - accuracy: 1.0000\n",
      "Epoch 33/60\n",
      "100/100 [==============================] - 4s 41ms/step - loss: 3.8130e-04 - accuracy: 1.0000\n",
      "Epoch 34/60\n",
      "100/100 [==============================] - 4s 41ms/step - loss: 3.7641e-04 - accuracy: 1.0000\n",
      "Epoch 35/60\n",
      "100/100 [==============================] - 5s 45ms/step - loss: 3.7254e-04 - accuracy: 1.0000\n",
      "Epoch 36/60\n",
      "100/100 [==============================] - 4s 45ms/step - loss: 3.6670e-04 - accuracy: 1.0000\n",
      "Epoch 37/60\n",
      "100/100 [==============================] - 4s 43ms/step - loss: 3.5944e-04 - accuracy: 1.0000\n",
      "Epoch 38/60\n",
      "100/100 [==============================] - 4s 42ms/step - loss: 3.5378e-04 - accuracy: 1.0000\n",
      "Epoch 39/60\n",
      "100/100 [==============================] - 4s 43ms/step - loss: 3.4928e-04 - accuracy: 1.0000\n",
      "Epoch 40/60\n",
      "100/100 [==============================] - 4s 42ms/step - loss: 3.4564e-04 - accuracy: 1.0000\n",
      "Epoch 41/60\n",
      "100/100 [==============================] - 4s 42ms/step - loss: 3.4318e-04 - accuracy: 1.0000\n",
      "Epoch 42/60\n",
      "100/100 [==============================] - 4s 42ms/step - loss: 3.4169e-04 - accuracy: 1.0000\n",
      "Epoch 43/60\n",
      "100/100 [==============================] - 4s 42ms/step - loss: 3.4044e-04 - accuracy: 1.0000\n",
      "Epoch 44/60\n",
      "100/100 [==============================] - 4s 42ms/step - loss: 3.3940e-04 - accuracy: 1.0000\n",
      "Epoch 45/60\n",
      "100/100 [==============================] - 5s 45ms/step - loss: 3.3854e-04 - accuracy: 1.0000\n",
      "Epoch 46/60\n",
      "100/100 [==============================] - 4s 44ms/step - loss: 3.3782e-04 - accuracy: 1.0000\n",
      "Epoch 47/60\n",
      "100/100 [==============================] - 4s 43ms/step - loss: 3.3721e-04 - accuracy: 1.0000\n",
      "Epoch 48/60\n",
      "100/100 [==============================] - 4s 42ms/step - loss: 3.3670e-04 - accuracy: 1.0000\n",
      "Epoch 49/60\n",
      "100/100 [==============================] - 4s 44ms/step - loss: 3.3628e-04 - accuracy: 1.0000\n",
      "Epoch 50/60\n",
      "100/100 [==============================] - 4s 42ms/step - loss: 3.3592e-04 - accuracy: 1.0000\n",
      "Epoch 51/60\n",
      "100/100 [==============================] - 4s 42ms/step - loss: 3.3563e-04 - accuracy: 1.0000\n",
      "Epoch 52/60\n",
      "100/100 [==============================] - 4s 42ms/step - loss: 3.3537e-04 - accuracy: 1.0000\n",
      "Epoch 53/60\n",
      "100/100 [==============================] - 4s 42ms/step - loss: 3.3516e-04 - accuracy: 1.0000\n",
      "Epoch 54/60\n",
      "100/100 [==============================] - 4s 42ms/step - loss: 3.3499e-04 - accuracy: 1.0000\n",
      "Epoch 55/60\n",
      "100/100 [==============================] - 4s 42ms/step - loss: 3.3484e-04 - accuracy: 1.0000\n",
      "Epoch 56/60\n",
      "100/100 [==============================] - 4s 42ms/step - loss: 3.3471e-04 - accuracy: 1.0000\n",
      "Epoch 57/60\n",
      "100/100 [==============================] - 4s 42ms/step - loss: 3.3461e-04 - accuracy: 1.0000\n",
      "Epoch 58/60\n",
      "100/100 [==============================] - 4s 41ms/step - loss: 3.3452e-04 - accuracy: 1.0000\n",
      "Epoch 59/60\n",
      "100/100 [==============================] - 4s 42ms/step - loss: 3.3445e-04 - accuracy: 1.0000\n",
      "Epoch 60/60\n",
      "100/100 [==============================] - 4s 41ms/step - loss: 3.3439e-04 - accuracy: 1.0000\n"
     ]
    }
   ],
   "source": [
    "h = model.fit(dataset.batch(64), epochs=epochs, steps_per_epoch=100, callbacks=[diff_eq_forcer, lr_schedule])"
   ]
  },
  {
   "cell_type": "code",
   "execution_count": 81,
   "metadata": {},
   "outputs": [
    {
     "data": {
      "image/png": "[encoded data removed]",
      "text/plain": [
       "<Figure size 2232x2232 with 1 Axes>"
      ]
     },
     "metadata": {
      "needs_background": "light"
     },
     "output_type": "display_data"
    },
    {
     "name": "stdout",
     "output_type": "stream",
     "text": [
      "Harmonic: 1.0\n",
      "Perturbation 1.0: 0.0\n",
      "Perturbation 0.5: 0.0\n",
      "Perturbation 0.1: 1.0\n",
      "Perturbation 0.05: 1.0\n",
      "Perturbation 0.01: 1.0\n",
      "Perturbation 0.0025: 1.0\n",
      "Perturbation 0.001: 1.0\n"
     ]
    }
   ],
   "source": [
    "test_on_harmonic_perturbations(30, [1 for i in range(29)]+[0 for i in range(29)]+[0 for i in range(29)]+[1 for i in range(29)])"
   ]
  },
  {
   "cell_type": "code",
   "execution_count": 82,
   "metadata": {
    "scrolled": true
   },
   "outputs": [
    {
     "data": {
      "image/png": "[encoded data removed]",
      "text/plain": [
       "<Figure size 2232x2232 with 1 Axes>"
      ]
     },
     "metadata": {
      "needs_background": "light"
     },
     "output_type": "display_data"
    },
    {
     "name": "stdout",
     "output_type": "stream",
     "text": [
      "Harmonic: 1.0\n",
      "Perturbation 1.0: 0.0\n",
      "Perturbation 0.5: 0.0\n",
      "Perturbation 0.1: 1.0\n",
      "Perturbation 0.05: 1.0\n",
      "Perturbation 0.01: 1.0\n",
      "Perturbation 0.0025: 1.0\n",
      "Perturbation 0.001: 1.0\n"
     ]
    }
   ],
   "source": [
    "test_on_harmonic_perturbations(30, np.concatenate([[1,1,-1,0] for i in range(29-2)] + [[1,1,1,1,1,1,1,1]]))"
   ]
  },
  {
   "cell_type": "code",
   "execution_count": null,
   "metadata": {},
   "outputs": [],
   "source": [
    "test_on_harmonic_pertubations(10, 10*[1,1,1,1,.5,.2,0,0,0,1,1,1,1,1,1,1,1,1,0,0,0,0,0,0,0,0,0,0,0,0,0,.2,.4,1,1,0])"
   ]
  },
  {
   "cell_type": "code",
   "execution_count": null,
   "metadata": {},
   "outputs": [],
   "source": [
    "test_on_harmonic_pertubations(10, np.identity(81)[0])"
   ]
  },
  {
   "cell_type": "code",
   "execution_count": null,
   "metadata": {},
   "outputs": [],
   "source": [
    "test_on_harmonic_pertubations(10, 20*np.identity(81)[4])"
   ]
  },
  {
   "cell_type": "code",
   "execution_count": null,
   "metadata": {},
   "outputs": [],
   "source": [
    "test_on_harmonic_pertubations(10, np.identity(36)[2]+np.identity(36)[3]+np.identity(36)[4]+np.identity(36)[30]+np.identity(36)[31]+np.identity(36)[32])"
   ]
  },
  {
   "cell_type": "code",
   "execution_count": null,
   "metadata": {
    "scrolled": true
   },
   "outputs": [],
   "source": [
    "model.layers[-1].get_weights()"
   ]
  },
  {
   "cell_type": "code",
   "execution_count": null,
   "metadata": {
    "scrolled": true
   },
   "outputs": [],
   "source": [
    "layer = model.layers[1].get_weights()[0][:,:,:,1].flatten()\n",
    "layer.reshape(1,3,3)/ layer[4]"
   ]
  },
  {
   "cell_type": "code",
   "execution_count": null,
   "metadata": {},
   "outputs": [],
   "source": [
    "plt.bar(range(9), layer / layer[4])\n",
    "axes2 = plt.twiny()\n",
    "x = np.arange(9)\n",
    "y = np.zeros(9)\n",
    "axes2.plot(x,y, linewidth=1, color='black')\n",
    "axes2.set_xticks([])\n",
    "plt.show()"
   ]
  },
  {
   "cell_type": "code",
   "execution_count": null,
   "metadata": {},
   "outputs": [],
   "source": []
  }
 ],
 "metadata": {
  "kernelspec": {
   "display_name": "Python3 (oliver_tf2)",
   "language": "python",
   "name": "oliver_tf"
  },
  "language_info": {
   "codemirror_mode": {
    "name": "ipython",
    "version": 3
   },
   "file_extension": ".py",
   "mimetype": "text/x-python",
   "name": "python",
   "nbconvert_exporter": "python",
   "pygments_lexer": "ipython3",
   "version": "3.6.9"
  },
  "name": "discrete_laplace",
  "notebookId": 1260334
 },
 "nbformat": 4,
 "nbformat_minor": 1
}
