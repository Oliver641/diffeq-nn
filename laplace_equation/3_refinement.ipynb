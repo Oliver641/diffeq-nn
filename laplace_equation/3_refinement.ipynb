{
 "cells": [
  {
   "cell_type": "code",
   "execution_count": 1,
   "metadata": {},
   "outputs": [],
   "source": [
    "from __future__ import absolute_import, division, print_function\n",
    "\n",
    "import functools\n",
    "import numpy as np\n",
    "import scipy as sp\n",
    "from scipy.stats import multivariate_normal\n",
    "import matplotlib.pyplot as plt\n",
    "import tensorflow as tf\n",
    "from pprint import pprint"
   ]
  },
  {
   "cell_type": "code",
   "execution_count": 2,
   "metadata": {},
   "outputs": [
    {
     "name": "stdout",
     "output_type": "stream",
     "text": [
      "Tensorflow version: 2.0.0\n",
      "Executing eagerly: True\n",
      "GPU available: False\n"
     ]
    }
   ],
   "source": [
    "version = tf.__version__\n",
    "executing_eagerly = tf.executing_eagerly()\n",
    "gpu_available = tf.test.is_gpu_available()\n",
    "print('Tensorflow version: {}\\n'\n",
    "      'Executing eagerly: {}\\n'\n",
    "      'GPU available: {}'\n",
    "      .format(version, \n",
    "              executing_eagerly, \n",
    "              gpu_available))"
   ]
  },
  {
   "cell_type": "markdown",
   "metadata": {},
   "source": [
    "## Generating Discrete Harmonic Functions on the Square\n",
    "\n",
    "The Harmonic functions on the square A of size N are those functions that satisfy:\n",
    "$$f(i, j) = \\frac{1}{4}\\bigg(f(i-1, j) + f(i+1, j) + f(i,j-1) + f(i,j+1)\\bigg)$$\n",
    "for all $i,j \\in \\{1, 2, ..., N-1\\}$.  These functions are uniquely determined by their values on the boundary of the square: $i\\in\\{0,N\\}\\text{ or }j\\in\\{0,N\\}$.  \n",
    "\n",
    "What follows is a summary of http://www.math.uchicago.edu/~lawler/reu.pdf, section 1.5.\n",
    "\n",
    "Let $e_k$ refer to the function defined on $\\partial A$ that is equal to 1 at the $k$th position at the bottom of the square and is equal 0 elsewhere.  Then the harmonic function on the interior of the square that is equal to $e_k$ on the boundary is given by:\n",
    "$$H_{(N, e_k)}(x_1, x_2) = \\frac{2}{N-1}\\sum_{j=1}^{N-1}\\frac{1}{\\sinh(\\beta_j)}\\sin\\left(\\frac{j\\pi k}{N}\\right)\\sinh\\left(\\frac{\\beta_jx_1}{N}\\right)\\sin\\left(\\frac{j\\pi x_2}{N}\\right)$$\n",
    "where $\\beta_j\\text{ for }j\\in\\{1, 2, ..., N-1\\}$ solves:\n",
    "$$ \\cosh\\left(\\frac{\\beta_j}{N}\\right) + \\cos\\left(\\frac{j\\pi}{N}\\right) = 2$$\n",
    "These functions, combined with similar functions for the other sides of the square, form a basis for the space of all harmonic functions on the interior of the square.  This is implemented below."
   ]
  },
  {
   "cell_type": "code",
   "execution_count": 3,
   "metadata": {},
   "outputs": [],
   "source": [
    "harmonic_basis_cache={}\n",
    "\n",
    "def generate_beta(n):\n",
    "    return [n*(np.arccosh(2-np.cos(j*np.pi/n))) for j in range(1,n)]\n",
    "  \n",
    "def poisson_kernel_square_raw(n, y, x_1, x_2):\n",
    "    beta = generate_beta(n)\n",
    "    h = [np.sinh(beta[j-1] * x_1 / n) \n",
    "        * np.sin(j * np.pi * x_2 / n) for j in range(1, n)]\n",
    "    c = [1/np.sinh(beta[j-1]) \n",
    "        * np.sin(j * np.pi * y / n) for j in range(1, n)]\n",
    "    return 2/(n) * sum([c[j-1] * h[j-1] for j in range(1, n)])\n",
    "  \n",
    "def poisson_kernel_square(n, y):\n",
    "    return lambda x_1, x_2: poisson_kernel_square_raw(n, y, x_1, x_2)\n",
    "  \n",
    "    \n",
    "def harmonic_basis(n, k):\n",
    "    if (n,k) in harmonic_basis_cache.keys():\n",
    "        return harmonic_basis_cache[n,k]\n",
    "    x = np.zeros(shape=[n+1, n+1])\n",
    "    x[n,k] = 1\n",
    "    H = poisson_kernel_square(n, k)\n",
    "    for i in range(1, n):\n",
    "        for j in range(1, n):\n",
    "            x[i, j] = H(i, j)\n",
    "    harmonic_basis_cache[n,k] = x\n",
    "    return x\n",
    "  \n",
    "# This is O(n^3) at the moment.\n",
    "# This is due to each of n basis functions taking O(n^2) steps to compute.\n",
    "# Can this be improved?  Do we care?\n",
    "def generate_harmonic_one_side(n, y, side='lower'):\n",
    "    lower = np.sum([y[j-1] * harmonic_basis(n,j) for j in range(1, n)], axis=0)\n",
    "    if side == 'upper':\n",
    "        return np.flip(lower, axis=0)\n",
    "    if side == 'left':\n",
    "        return np.rot90(lower, k=3)\n",
    "    if side == 'right':\n",
    "        return np.rot90(np.flip(lower, axis=0), k=3)\n",
    "    if side == 'lower':\n",
    "        return lower\n",
    "\n",
    "def generate_harmonic(n, y):\n",
    "    \"\"\"Here y specifies the entire boundary, going in order of upper, left, right, lower.\"\"\"\n",
    "    upper = generate_harmonic_one_side(n, y[:n-1], side='upper')\n",
    "    left = generate_harmonic_one_side(n, y[n-1:2*n-2], side='left')\n",
    "    right = generate_harmonic_one_side(n, y[2*n-2:3*n-3], side='right')\n",
    "    lower = generate_harmonic_one_side(n, y[3*n-3:], side='lower')\n",
    "    return upper + left + right + lower"
   ]
  },
  {
   "cell_type": "code",
   "execution_count": 4,
   "metadata": {},
   "outputs": [],
   "source": [
    "def is_harmonic_at_point(x, i, j, tol=.000001, verbose=False):\n",
    "    diff = np.abs(x[i, j] - np.mean([x[i-1,j], x[i+1,j], x[i,j-1], x[i,j+1]])) \n",
    "    if verbose:\n",
    "        print(\"|{} - {}| = {}\".format(x[i,j], \n",
    "                                      np.mean([x[i-1,j], x[i+1,j], x[i,j-1], x[i,j+1]]), \n",
    "                                      diff))\n",
    "    return diff <= tol\n",
    "  \n",
    "def is_harmonic(x, n, tol=.000001, verbose=False):\n",
    "    for i in range(1, n):\n",
    "        for j in range(1, n):\n",
    "            if not is_harmonic_at_point(x, i, j, tol=tol, verbose=verbose):\n",
    "                if verbose:\n",
    "                    print((i,j))\n",
    "                return False\n",
    "    return True"
   ]
  },
  {
   "cell_type": "markdown",
   "metadata": {},
   "source": [
    "## Generating Non-Harmonic Functions.\n",
    "\n",
    "The question of what to use as a negative for the model deserves a lot of thought.  At present I have two approaches: \n",
    "\n",
    "In the first approach, I use \\\\((N+1)^2\\\\) independent Gaussian random variables to generate non-harmonic functions.  The likelihood that these will be harmonic is negligible.  \n",
    "\n",
    "In the second approach I generate a harmonic function, and add a gaussian density to the result.  Since the gaussian is not harmonic (it in particular violates the maximum modulus principle), the resulting sum is not harmonic."
   ]
  },
  {
   "cell_type": "code",
   "execution_count": 5,
   "metadata": {},
   "outputs": [],
   "source": [
    "def generate_nonharmonic(n):\n",
    "    x = np.random.randn(n+1,n+1)\n",
    "    x[0,0] = 0.\n",
    "    x[0,n] = 0.\n",
    "    x[n,0] = 0.\n",
    "    x[n,n] = 0.\n",
    "    return x"
   ]
  },
  {
   "cell_type": "code",
   "execution_count": 6,
   "metadata": {},
   "outputs": [],
   "source": [
    "grv_cache={}\n",
    "\n",
    "# This is slow, need to make better use of numpy to \n",
    "# generate these, possibly with memoization as above.\n",
    "def generate_gaussian(n, strength):\n",
    "    mean = np.random.randint(1,n, size=2)\n",
    "    cov = (n/2 - .5) * np.random.random(size=2) + .5\n",
    "    amplitude = strength * np.random.choice([1,-1])\n",
    "    rv = multivariate_normal(mean=mean, cov=cov)\n",
    "    x = rv.pdf(np.array(np.meshgrid(np.arange(n+1), np.arange(n+1))).T)\n",
    "    return amplitude * x\n",
    "\n",
    "def generate_harmonic_plus_noise(n, y, strength=.1):\n",
    "    harmonic = generate_harmonic(n, y)\n",
    "    output = harmonic + generate_gaussian(n, strength=strength)\n",
    "    return output"
   ]
  },
  {
   "cell_type": "code",
   "execution_count": 7,
   "metadata": {},
   "outputs": [],
   "source": [
    "def visualize(examples, n, cmap='cividis'):\n",
    "    num_examples = len(examples)\n",
    "    fig, axes = plt.subplots(1, num_examples, figsize=(n+1,n+1))\n",
    "    if num_examples == 1:\n",
    "        axes.imshow(examples[0], cmap=cmap)\n",
    "        axes.axis('off')\n",
    "        plt.show()\n",
    "        return\n",
    "    axes = axes.flatten()\n",
    "    for x, ax in zip(examples, axes):\n",
    "        ax.imshow(x, cmap=cmap)\n",
    "        ax.axis('off')\n",
    "    plt.tight_layout()\n",
    "    plt.show()"
   ]
  },
  {
   "cell_type": "markdown",
   "metadata": {},
   "source": [
    "## Data Preparation"
   ]
  },
  {
   "cell_type": "code",
   "execution_count": 8,
   "metadata": {},
   "outputs": [],
   "source": [
    "def harmonic_data_generator(n):\n",
    "    while True:\n",
    "        if np.random.rand() < .5:\n",
    "            y = np.random.randn(4*(n-1))\n",
    "            yield np.reshape(generate_harmonic(n,y), (n+1, n+1)).astype(np.float32), 1\n",
    "        else:\n",
    "            yield np.reshape(generate_nonharmonic(n), (n+1, n+1)).astype(np.float32), 0"
   ]
  },
  {
   "cell_type": "code",
   "execution_count": 9,
   "metadata": {},
   "outputs": [],
   "source": [
    "def mixed_harmonic_data_generator(n):\n",
    "    while True:\n",
    "        x = np.random.rand()\n",
    "        if x < .25:\n",
    "            y = np.random.randn(4*(n-1))\n",
    "            yield np.reshape(generate_harmonic(n,y), (n+1, n+1)).astype(np.float32), 1\n",
    "        if x < .5:\n",
    "            y = np.random.choice([-1, 0, 1, 2, 10], p=[.39, .3, .2, .1, .01], size=(4*(n-1),))\n",
    "            yield np.reshape(generate_harmonic(n,y), (n+1, n+1)).astype(np.float32), 1\n",
    "        elif x < .7:\n",
    "            y = np.random.randn(4*(n-1))\n",
    "            strength = np.random.rand()\n",
    "            yield np.reshape(generate_harmonic_plus_noise(n,y,strength=strength), (n+1, n+1)).astype(np.float32), 0\n",
    "        elif x < .9:\n",
    "            y = np.random.choice([-1, 0, 1, 2, 10], p=[.39, .3, .2, .1, .01], size=(4*(n-1),))\n",
    "            strength = np.random.rand()\n",
    "            yield np.reshape(generate_harmonic_plus_noise(n,y,strength=strength), (n+1, n+1)).astype(np.float32), 0\n",
    "        elif x < 1.:\n",
    "            yield np.reshape(generate_nonharmonic(n), (n+1, n+1)).astype(np.float32), 0"
   ]
  },
  {
   "cell_type": "code",
   "execution_count": 10,
   "metadata": {},
   "outputs": [],
   "source": [
    "def visualize_dataset(dataset, n, num_examples=5, cmap='cividis'):\n",
    "    examples = [item for item in dataset.take(num_examples)]\n",
    "    fig, axes = plt.subplots(1, num_examples, figsize=(n+1,n+1))\n",
    "    axes = axes.flatten()\n",
    "    for x, ax in zip(examples, axes):\n",
    "        ax.imshow(x[0], cmap=cmap, vmin=-3, vmax=3)\n",
    "        if x[1]:\n",
    "            ax.set_title(\"Harmonic\")\n",
    "        else:\n",
    "            ax.set_title(\"Nonharmonic\")\n",
    "        ax.axis('off')\n",
    "    plt.tight_layout()\n",
    "    plt.show()"
   ]
  },
  {
   "cell_type": "code",
   "execution_count": 11,
   "metadata": {},
   "outputs": [],
   "source": [
    "n=30\n",
    "dataset = tf.data.Dataset.from_generator(mixed_harmonic_data_generator, \n",
    "                                         args=[n], \n",
    "                                         output_types=(tf.float32, tf.bool), \n",
    "                                         output_shapes = ((n+1,n+1), ()))"
   ]
  },
  {
   "cell_type": "code",
   "execution_count": 12,
   "metadata": {},
   "outputs": [
    {
     "data": {
      "image/png": "[encoded data removed]",
      "text/plain": [
       "<Figure size 2232x2232 with 5 Axes>"
      ]
     },
     "metadata": {
      "needs_background": "light"
     },
     "output_type": "display_data"
    }
   ],
   "source": [
    "visualize_dataset(dataset, n, num_examples=5)"
   ]
  },
  {
   "cell_type": "code",
   "execution_count": 13,
   "metadata": {},
   "outputs": [
    {
     "data": {
      "image/png": "[encoded data removed]",
      "text/plain": [
       "<Figure size 2232x2232 with 5 Axes>"
      ]
     },
     "metadata": {
      "needs_background": "light"
     },
     "output_type": "display_data"
    }
   ],
   "source": [
    "visualize_dataset(dataset, n, num_examples=5)"
   ]
  },
  {
   "cell_type": "code",
   "execution_count": 14,
   "metadata": {},
   "outputs": [
    {
     "data": {
      "image/png": "[encoded data removed]",
      "text/plain": [
       "<Figure size 2232x2232 with 5 Axes>"
      ]
     },
     "metadata": {
      "needs_background": "light"
     },
     "output_type": "display_data"
    }
   ],
   "source": [
    "visualize_dataset(dataset, n, num_examples=5)"
   ]
  },
  {
   "cell_type": "code",
   "execution_count": 15,
   "metadata": {},
   "outputs": [
    {
     "data": {
      "image/png": "[encoded data removed]",
      "text/plain": [
       "<Figure size 2232x2232 with 5 Axes>"
      ]
     },
     "metadata": {
      "needs_background": "light"
     },
     "output_type": "display_data"
    }
   ],
   "source": [
    "visualize_dataset(dataset, n, num_examples=5)"
   ]
  },
  {
   "cell_type": "markdown",
   "metadata": {},
   "source": [
    "## Controllers"
   ]
  },
  {
   "cell_type": "code",
   "execution_count": 16,
   "metadata": {},
   "outputs": [],
   "source": [
    "class DiffEqController(tf.keras.callbacks.Callback):\n",
    "    \n",
    "    def __init__(self, precisions, verbose=False):\n",
    "        super(DiffEqController, self).__init__()\n",
    "        self.precisions = precisions\n",
    "        self.verbose = verbose\n",
    "    \n",
    "    def on_epoch_begin(self, epoch, logs):\n",
    "        precision = precisions[epoch]\n",
    "        if self.verbose:\n",
    "            print(\"Precision={}\".format(precision))\n",
    "        output_weights = np.array([[-2/(precision**2)], [-2/(precision**2)]])\n",
    "        output_biases = np.array([1/(4*(precision)**2)])\n",
    "        self.model.layers[-1].set_weights((output_weights, output_biases))"
   ]
  },
  {
   "cell_type": "code",
   "execution_count": 17,
   "metadata": {},
   "outputs": [],
   "source": [
    "class DiffEqForcer(tf.keras.callbacks.Callback):\n",
    "    \n",
    "    def __init__(self, rate, verbose=False):\n",
    "        super(DiffEqForcer, self).__init__()\n",
    "        self.rate = rate\n",
    "        self.verbose = verbose\n",
    "    \n",
    "    def on_epoch_begin(self, epoch, logs):\n",
    "        if self.verbose:\n",
    "            pass\n",
    "        output_weights, output_biases = self.model.layers[-1].get_weights()\n",
    "        self.model.layers[-1].set_weights((output_weights * self.rate, output_biases * self.rate))"
   ]
  },
  {
   "cell_type": "markdown",
   "metadata": {},
   "source": [
    "## Constraints"
   ]
  },
  {
   "cell_type": "code",
   "execution_count": 18,
   "metadata": {},
   "outputs": [],
   "source": [
    "import tensorflow.keras.backend as K"
   ]
  },
  {
   "cell_type": "code",
   "execution_count": 19,
   "metadata": {},
   "outputs": [],
   "source": [
    "class ProbMeasure(tf.keras.constraints.Constraint):\n",
    "    \"\"\"Constrains the weights incident to each hidden unit to be a probability measure.\n",
    "    \"\"\"\n",
    "\n",
    "    def __init__(self, axis=0):\n",
    "        self.axis = axis\n",
    "\n",
    "    def __call__(self, w):\n",
    "        w = w * K.cast(K.greater_equal(w, 0.), K.floatx())\n",
    "        return w / (K.epsilon() + K.sum(K.abs(w),\n",
    "                                        axis=self.axis,\n",
    "                                        keepdims=True))\n",
    "\n",
    "    def get_config(self):\n",
    "        return {'axis': self.axis}"
   ]
  },
  {
   "cell_type": "code",
   "execution_count": 20,
   "metadata": {},
   "outputs": [],
   "source": [
    "class NonPos(tf.keras.constraints.Constraint):\n",
    "    \"\"\"Constrains the weights incident to each hidden unit to Negative.\n",
    "    \"\"\"\n",
    "\n",
    "    def __init__(self):\n",
    "        pass\n",
    "\n",
    "    def __call__(self, w):\n",
    "        w = w * K.cast(K.less_equal(w, 0.), K.floatx())\n",
    "        return w"
   ]
  },
  {
   "cell_type": "markdown",
   "metadata": {},
   "source": [
    "## Models"
   ]
  },
  {
   "cell_type": "code",
   "execution_count": 21,
   "metadata": {},
   "outputs": [],
   "source": [
    "class DiffeqModel(tf.keras.Model):\n",
    "    \n",
    "    def __init__(self, n, filter_size):\n",
    "        super(DiffeqModel, self).__init__(name='diffeq_model')\n",
    "        self.n = n\n",
    "        self.reshape = tf.keras.layers.Reshape((n+1,n+1,1), input_shape=(n+1,n+1))\n",
    "        self.conv2D = tf.keras.layers.Conv2D(filter_size, \n",
    "                                             kernel_size=3,\n",
    "                                             input_shape=(n+1, n+1, 1),\n",
    "                                             kernel_regularizer=tf.keras.regularizers.l2(.001),)\n",
    "        self.dense = tf.keras.layers.Dense(1, \n",
    "                                           activation='relu', \n",
    "                                           kernel_constraint=ProbMeasure(),\n",
    "                                           kernel_regularizer=tf.keras.regularizers.l1(.01))\n",
    "        self.max_pool = tf.keras.layers.MaxPool2D(pool_size=n-1)\n",
    "        self.flatten = tf.keras.layers.Flatten()\n",
    "        output_kernel_initializer = tf.keras.initializers.Constant([[-1., -1.]])\n",
    "        output_bias_initializer = tf.keras.initializers.Constant([.2])\n",
    "        self.output_layer = tf.keras.layers.Dense(1, \n",
    "                                                  activation='sigmoid', \n",
    "                                                  kernel_initializer = output_kernel_initializer,\n",
    "                                                  bias_initializer = output_bias_initializer,\n",
    "                                                  trainable=False)\n",
    "        \n",
    "    def call(self, input_tensor, training=False):\n",
    "        x = self.reshape(input_tensor)\n",
    "        x = self.conv2D(x)\n",
    "        x1 = tf.nn.relu(x)\n",
    "        x2 = tf.nn.relu(-1*x)\n",
    "        x1 = self.dense(x1)\n",
    "        x2 = self.dense(x2)\n",
    "        x = tf.concat([x1, x2], axis=-1)\n",
    "        x = self.max_pool(x)\n",
    "        x = self.flatten(x)\n",
    "        return self.output_layer(x)"
   ]
  },
  {
   "cell_type": "code",
   "execution_count": 22,
   "metadata": {},
   "outputs": [],
   "source": [
    "def get_model(n, filter_size):\n",
    "\n",
    "    sequential_model = tf.keras.Sequential([\n",
    "        tf.keras.layers.Reshape((n+1,n+1,1), input_shape=(n+1,n+1)),\n",
    "        tf.keras.layers.Conv2D(filter_size, \n",
    "                               kernel_size=3,\n",
    "                               input_shape=(n+1, n+1, 1),\n",
    "                               kernel_regularizer=tf.keras.regularizers.l2(.001),),\n",
    "        tf.keras.layers.Lambda(lambda x: K.abs(x)),\n",
    "        tf.keras.layers.GlobalMaxPool2D(),\n",
    "        tf.keras.layers.Dense(1, \n",
    "                              kernel_constraint=NonPos(),\n",
    "                              activation='sigmoid')\n",
    "    ])\n",
    "    \n",
    "    return sequential_model"
   ]
  },
  {
   "cell_type": "markdown",
   "metadata": {},
   "source": [
    "\n",
    "## Another Variant on Training"
   ]
  },
  {
   "cell_type": "code",
   "execution_count": 23,
   "metadata": {},
   "outputs": [],
   "source": [
    "n=5"
   ]
  },
  {
   "cell_type": "code",
   "execution_count": 24,
   "metadata": {},
   "outputs": [],
   "source": [
    "dataset = tf.data.Dataset.from_generator(harmonic_data_generator,\n",
    "                                         args=[n], \n",
    "                                         output_types=(tf.float32, tf.bool), \n",
    "                                         output_shapes = ((n+1,n+1), ()))"
   ]
  },
  {
   "cell_type": "code",
   "execution_count": 25,
   "metadata": {},
   "outputs": [],
   "source": [
    "mixed_dataset = tf.data.Dataset.from_generator(mixed_harmonic_data_generator, \n",
    "                                               args=[n], \n",
    "                                               output_types=(tf.float32, tf.bool), \n",
    "                                               output_shapes = ((n+1,n+1), ()))"
   ]
  },
  {
   "cell_type": "code",
   "execution_count": 26,
   "metadata": {},
   "outputs": [],
   "source": [
    "#model = DiffeqModel(n, 32)\n",
    "model = get_model(n, 32)"
   ]
  },
  {
   "cell_type": "code",
   "execution_count": 27,
   "metadata": {},
   "outputs": [
    {
     "name": "stdout",
     "output_type": "stream",
     "text": [
      "Model: \"sequential\"\n",
      "_________________________________________________________________\n",
      "Layer (type)                 Output Shape              Param #   \n",
      "=================================================================\n",
      "reshape (Reshape)            (None, 6, 6, 1)           0         \n",
      "_________________________________________________________________\n",
      "conv2d (Conv2D)              (None, 4, 4, 32)          320       \n",
      "_________________________________________________________________\n",
      "lambda (Lambda)              (None, 4, 4, 32)          0         \n",
      "_________________________________________________________________\n",
      "global_max_pooling2d (Global (None, 32)                0         \n",
      "_________________________________________________________________\n",
      "dense (Dense)                (None, 1)                 33        \n",
      "=================================================================\n",
      "Total params: 353\n",
      "Trainable params: 353\n",
      "Non-trainable params: 0\n",
      "_________________________________________________________________\n"
     ]
    }
   ],
   "source": [
    "model.summary()"
   ]
  },
  {
   "cell_type": "code",
   "execution_count": 28,
   "metadata": {},
   "outputs": [],
   "source": [
    "model.compile(optimizer='adam',\n",
    "              loss=tf.keras.losses.binary_crossentropy,\n",
    "              metrics=['accuracy'])"
   ]
  },
  {
   "cell_type": "code",
   "execution_count": 29,
   "metadata": {},
   "outputs": [],
   "source": [
    "epochs = 60\n",
    "precisions = [1., 1., 1., 1., 1.,\n",
    "              .7, .7, .7, .7, .7,\n",
    "              .5, .5, .5, .5, .5,\n",
    "              .35, .35, .35, .35, .35,\n",
    "              .2, .2, .2, .2, .2,\n",
    "              .1, .1, .1, .1, .1,\n",
    "              .05, .05, .05, .05, .05,\n",
    "              .03, .03, .03, .03, .03,\n",
    "              .01, .01, .01, .01, .01,\n",
    "              .01, .01, .01, .01, .01,\n",
    "              .01, .01, .01, .01, .01,\n",
    "              .01, .01, .01, .01, .01]\n",
    "\n",
    "diffeq_controller = DiffEqController(precisions)"
   ]
  },
  {
   "cell_type": "code",
   "execution_count": 30,
   "metadata": {},
   "outputs": [],
   "source": [
    "def diff_eq_schedule(epoch, lr, precisions):\n",
    "    if epoch == 0:\n",
    "        return lr\n",
    "    old_precision, new_precision = precisions[epoch-1], precisions[epoch]\n",
    "    if new_precision == old_precision:\n",
    "        return (4/5) * lr\n",
    "    return min(.001, 2*(new_precision ** 2))\n",
    "\n",
    "def get_diff_eq_schedule(precisions):\n",
    "    return lambda epoch, lr: diff_eq_schedule(epoch, lr, precisions)\n",
    "\n",
    "def geometric_schedule(rate=.9):\n",
    "    return lambda epoch, lr: lr*rate\n",
    "\n",
    "lr_schedule = tf.keras.callbacks.LearningRateScheduler(get_diff_eq_schedule(precisions))\n",
    "diff_eq_forcer =DiffEqForcer(1.1)"
   ]
  },
  {
   "cell_type": "code",
   "execution_count": 31,
   "metadata": {},
   "outputs": [
    {
     "name": "stdout",
     "output_type": "stream",
     "text": [
      "Train for 100 steps\n",
      "Epoch 1/60\n",
      "100/100 [==============================] - 5s 50ms/step - loss: 0.9207 - accuracy: 0.4091\n",
      "Epoch 2/60\n",
      "100/100 [==============================] - 4s 37ms/step - loss: 0.6940 - accuracy: 0.4811\n",
      "Epoch 3/60\n",
      " 79/100 [======================>.......] - ETA: 0s - loss: 0.6558 - accuracy: 0.6663"
     ]
    },
    {
     "ename": "KeyboardInterrupt",
     "evalue": "",
     "output_type": "error",
     "traceback": [
      "\u001b[0;31m---------------------------------------------------------------------------\u001b[0m",
      "\u001b[0;31mKeyboardInterrupt\u001b[0m                         Traceback (most recent call last)",
      "\u001b[0;32m<ipython-input-31-cc4d20b34665>\u001b[0m in \u001b[0;36m<module>\u001b[0;34m\u001b[0m\n\u001b[0;32m----> 1\u001b[0;31m \u001b[0mh\u001b[0m \u001b[0;34m=\u001b[0m \u001b[0mmodel\u001b[0m\u001b[0;34m.\u001b[0m\u001b[0mfit\u001b[0m\u001b[0;34m(\u001b[0m\u001b[0mmixed_dataset\u001b[0m\u001b[0;34m.\u001b[0m\u001b[0mbatch\u001b[0m\u001b[0;34m(\u001b[0m\u001b[0;36m64\u001b[0m\u001b[0;34m)\u001b[0m\u001b[0;34m,\u001b[0m \u001b[0mepochs\u001b[0m\u001b[0;34m=\u001b[0m\u001b[0mepochs\u001b[0m\u001b[0;34m,\u001b[0m \u001b[0msteps_per_epoch\u001b[0m\u001b[0;34m=\u001b[0m\u001b[0;36m100\u001b[0m\u001b[0;34m,\u001b[0m \u001b[0mcallbacks\u001b[0m\u001b[0;34m=\u001b[0m\u001b[0;34m[\u001b[0m\u001b[0mlr_schedule\u001b[0m\u001b[0;34m,\u001b[0m \u001b[0mdiff_eq_forcer\u001b[0m\u001b[0;34m]\u001b[0m\u001b[0;34m)\u001b[0m\u001b[0;34m\u001b[0m\u001b[0;34m\u001b[0m\u001b[0m\n\u001b[0m",
      "\u001b[0;32m/opt/miniconda3/envs/oliver_tf2/lib/python3.7/site-packages/tensorflow_core/python/keras/engine/training.py\u001b[0m in \u001b[0;36mfit\u001b[0;34m(self, x, y, batch_size, epochs, verbose, callbacks, validation_split, validation_data, shuffle, class_weight, sample_weight, initial_epoch, steps_per_epoch, validation_steps, validation_freq, max_queue_size, workers, use_multiprocessing, **kwargs)\u001b[0m\n\u001b[1;32m    726\u001b[0m         \u001b[0mmax_queue_size\u001b[0m\u001b[0;34m=\u001b[0m\u001b[0mmax_queue_size\u001b[0m\u001b[0;34m,\u001b[0m\u001b[0;34m\u001b[0m\u001b[0;34m\u001b[0m\u001b[0m\n\u001b[1;32m    727\u001b[0m         \u001b[0mworkers\u001b[0m\u001b[0;34m=\u001b[0m\u001b[0mworkers\u001b[0m\u001b[0;34m,\u001b[0m\u001b[0;34m\u001b[0m\u001b[0;34m\u001b[0m\u001b[0m\n\u001b[0;32m--> 728\u001b[0;31m         use_multiprocessing=use_multiprocessing)\n\u001b[0m\u001b[1;32m    729\u001b[0m \u001b[0;34m\u001b[0m\u001b[0m\n\u001b[1;32m    730\u001b[0m   def evaluate(self,\n",
      "\u001b[0;32m/opt/miniconda3/envs/oliver_tf2/lib/python3.7/site-packages/tensorflow_core/python/keras/engine/training_v2.py\u001b[0m in \u001b[0;36mfit\u001b[0;34m(self, model, x, y, batch_size, epochs, verbose, callbacks, validation_split, validation_data, shuffle, class_weight, sample_weight, initial_epoch, steps_per_epoch, validation_steps, validation_freq, **kwargs)\u001b[0m\n\u001b[1;32m    322\u001b[0m                 \u001b[0mmode\u001b[0m\u001b[0;34m=\u001b[0m\u001b[0mModeKeys\u001b[0m\u001b[0;34m.\u001b[0m\u001b[0mTRAIN\u001b[0m\u001b[0;34m,\u001b[0m\u001b[0;34m\u001b[0m\u001b[0;34m\u001b[0m\u001b[0m\n\u001b[1;32m    323\u001b[0m                 \u001b[0mtraining_context\u001b[0m\u001b[0;34m=\u001b[0m\u001b[0mtraining_context\u001b[0m\u001b[0;34m,\u001b[0m\u001b[0;34m\u001b[0m\u001b[0;34m\u001b[0m\u001b[0m\n\u001b[0;32m--> 324\u001b[0;31m                 total_epochs=epochs)\n\u001b[0m\u001b[1;32m    325\u001b[0m             \u001b[0mcbks\u001b[0m\u001b[0;34m.\u001b[0m\u001b[0mmake_logs\u001b[0m\u001b[0;34m(\u001b[0m\u001b[0mmodel\u001b[0m\u001b[0;34m,\u001b[0m \u001b[0mepoch_logs\u001b[0m\u001b[0;34m,\u001b[0m \u001b[0mtraining_result\u001b[0m\u001b[0;34m,\u001b[0m \u001b[0mModeKeys\u001b[0m\u001b[0;34m.\u001b[0m\u001b[0mTRAIN\u001b[0m\u001b[0;34m)\u001b[0m\u001b[0;34m\u001b[0m\u001b[0;34m\u001b[0m\u001b[0m\n\u001b[1;32m    326\u001b[0m \u001b[0;34m\u001b[0m\u001b[0m\n",
      "\u001b[0;32m/opt/miniconda3/envs/oliver_tf2/lib/python3.7/site-packages/tensorflow_core/python/keras/engine/training_v2.py\u001b[0m in \u001b[0;36mrun_one_epoch\u001b[0;34m(model, iterator, execution_function, dataset_size, batch_size, strategy, steps_per_epoch, num_samples, mode, training_context, total_epochs)\u001b[0m\n\u001b[1;32m    121\u001b[0m         step=step, mode=mode, size=current_batch_size) as batch_logs:\n\u001b[1;32m    122\u001b[0m       \u001b[0;32mtry\u001b[0m\u001b[0;34m:\u001b[0m\u001b[0;34m\u001b[0m\u001b[0;34m\u001b[0m\u001b[0m\n\u001b[0;32m--> 123\u001b[0;31m         \u001b[0mbatch_outs\u001b[0m \u001b[0;34m=\u001b[0m \u001b[0mexecution_function\u001b[0m\u001b[0;34m(\u001b[0m\u001b[0miterator\u001b[0m\u001b[0;34m)\u001b[0m\u001b[0;34m\u001b[0m\u001b[0;34m\u001b[0m\u001b[0m\n\u001b[0m\u001b[1;32m    124\u001b[0m       \u001b[0;32mexcept\u001b[0m \u001b[0;34m(\u001b[0m\u001b[0mStopIteration\u001b[0m\u001b[0;34m,\u001b[0m \u001b[0merrors\u001b[0m\u001b[0;34m.\u001b[0m\u001b[0mOutOfRangeError\u001b[0m\u001b[0;34m)\u001b[0m\u001b[0;34m:\u001b[0m\u001b[0;34m\u001b[0m\u001b[0;34m\u001b[0m\u001b[0m\n\u001b[1;32m    125\u001b[0m         \u001b[0;31m# TODO(kaftan): File bug about tf function and errors.OutOfRangeError?\u001b[0m\u001b[0;34m\u001b[0m\u001b[0;34m\u001b[0m\u001b[0;34m\u001b[0m\u001b[0m\n",
      "\u001b[0;32m/opt/miniconda3/envs/oliver_tf2/lib/python3.7/site-packages/tensorflow_core/python/keras/engine/training_v2_utils.py\u001b[0m in \u001b[0;36mexecution_function\u001b[0;34m(input_fn)\u001b[0m\n\u001b[1;32m     84\u001b[0m     \u001b[0;31m# `numpy` translates Tensors to values in Eager mode.\u001b[0m\u001b[0;34m\u001b[0m\u001b[0;34m\u001b[0m\u001b[0;34m\u001b[0m\u001b[0m\n\u001b[1;32m     85\u001b[0m     return nest.map_structure(_non_none_constant_value,\n\u001b[0;32m---> 86\u001b[0;31m                               distributed_function(input_fn))\n\u001b[0m\u001b[1;32m     87\u001b[0m \u001b[0;34m\u001b[0m\u001b[0m\n\u001b[1;32m     88\u001b[0m   \u001b[0;32mreturn\u001b[0m \u001b[0mexecution_function\u001b[0m\u001b[0;34m\u001b[0m\u001b[0;34m\u001b[0m\u001b[0m\n",
      "\u001b[0;32m/opt/miniconda3/envs/oliver_tf2/lib/python3.7/site-packages/tensorflow_core/python/eager/def_function.py\u001b[0m in \u001b[0;36m__call__\u001b[0;34m(self, *args, **kwds)\u001b[0m\n\u001b[1;32m    455\u001b[0m \u001b[0;34m\u001b[0m\u001b[0m\n\u001b[1;32m    456\u001b[0m     \u001b[0mtracing_count\u001b[0m \u001b[0;34m=\u001b[0m \u001b[0mself\u001b[0m\u001b[0;34m.\u001b[0m\u001b[0m_get_tracing_count\u001b[0m\u001b[0;34m(\u001b[0m\u001b[0;34m)\u001b[0m\u001b[0;34m\u001b[0m\u001b[0;34m\u001b[0m\u001b[0m\n\u001b[0;32m--> 457\u001b[0;31m     \u001b[0mresult\u001b[0m \u001b[0;34m=\u001b[0m \u001b[0mself\u001b[0m\u001b[0;34m.\u001b[0m\u001b[0m_call\u001b[0m\u001b[0;34m(\u001b[0m\u001b[0;34m*\u001b[0m\u001b[0margs\u001b[0m\u001b[0;34m,\u001b[0m \u001b[0;34m**\u001b[0m\u001b[0mkwds\u001b[0m\u001b[0;34m)\u001b[0m\u001b[0;34m\u001b[0m\u001b[0;34m\u001b[0m\u001b[0m\n\u001b[0m\u001b[1;32m    458\u001b[0m     \u001b[0;32mif\u001b[0m \u001b[0mtracing_count\u001b[0m \u001b[0;34m==\u001b[0m \u001b[0mself\u001b[0m\u001b[0;34m.\u001b[0m\u001b[0m_get_tracing_count\u001b[0m\u001b[0;34m(\u001b[0m\u001b[0;34m)\u001b[0m\u001b[0;34m:\u001b[0m\u001b[0;34m\u001b[0m\u001b[0;34m\u001b[0m\u001b[0m\n\u001b[1;32m    459\u001b[0m       \u001b[0mself\u001b[0m\u001b[0;34m.\u001b[0m\u001b[0m_call_counter\u001b[0m\u001b[0;34m.\u001b[0m\u001b[0mcalled_without_tracing\u001b[0m\u001b[0;34m(\u001b[0m\u001b[0;34m)\u001b[0m\u001b[0;34m\u001b[0m\u001b[0;34m\u001b[0m\u001b[0m\n",
      "\u001b[0;32m/opt/miniconda3/envs/oliver_tf2/lib/python3.7/site-packages/tensorflow_core/python/eager/def_function.py\u001b[0m in \u001b[0;36m_call\u001b[0;34m(self, *args, **kwds)\u001b[0m\n\u001b[1;32m    485\u001b[0m       \u001b[0;31m# In this case we have created variables on the first call, so we run the\u001b[0m\u001b[0;34m\u001b[0m\u001b[0;34m\u001b[0m\u001b[0;34m\u001b[0m\u001b[0m\n\u001b[1;32m    486\u001b[0m       \u001b[0;31m# defunned version which is guaranteed to never create variables.\u001b[0m\u001b[0;34m\u001b[0m\u001b[0;34m\u001b[0m\u001b[0;34m\u001b[0m\u001b[0m\n\u001b[0;32m--> 487\u001b[0;31m       \u001b[0;32mreturn\u001b[0m \u001b[0mself\u001b[0m\u001b[0;34m.\u001b[0m\u001b[0m_stateless_fn\u001b[0m\u001b[0;34m(\u001b[0m\u001b[0;34m*\u001b[0m\u001b[0margs\u001b[0m\u001b[0;34m,\u001b[0m \u001b[0;34m**\u001b[0m\u001b[0mkwds\u001b[0m\u001b[0;34m)\u001b[0m  \u001b[0;31m# pylint: disable=not-callable\u001b[0m\u001b[0;34m\u001b[0m\u001b[0;34m\u001b[0m\u001b[0m\n\u001b[0m\u001b[1;32m    488\u001b[0m     \u001b[0;32melif\u001b[0m \u001b[0mself\u001b[0m\u001b[0;34m.\u001b[0m\u001b[0m_stateful_fn\u001b[0m \u001b[0;32mis\u001b[0m \u001b[0;32mnot\u001b[0m \u001b[0;32mNone\u001b[0m\u001b[0;34m:\u001b[0m\u001b[0;34m\u001b[0m\u001b[0;34m\u001b[0m\u001b[0m\n\u001b[1;32m    489\u001b[0m       \u001b[0;31m# Release the lock early so that multiple threads can perform the call\u001b[0m\u001b[0;34m\u001b[0m\u001b[0;34m\u001b[0m\u001b[0;34m\u001b[0m\u001b[0m\n",
      "\u001b[0;32m/opt/miniconda3/envs/oliver_tf2/lib/python3.7/site-packages/tensorflow_core/python/eager/function.py\u001b[0m in \u001b[0;36m__call__\u001b[0;34m(self, *args, **kwargs)\u001b[0m\n\u001b[1;32m   1821\u001b[0m     \u001b[0;34m\"\"\"Calls a graph function specialized to the inputs.\"\"\"\u001b[0m\u001b[0;34m\u001b[0m\u001b[0;34m\u001b[0m\u001b[0m\n\u001b[1;32m   1822\u001b[0m     \u001b[0mgraph_function\u001b[0m\u001b[0;34m,\u001b[0m \u001b[0margs\u001b[0m\u001b[0;34m,\u001b[0m \u001b[0mkwargs\u001b[0m \u001b[0;34m=\u001b[0m \u001b[0mself\u001b[0m\u001b[0;34m.\u001b[0m\u001b[0m_maybe_define_function\u001b[0m\u001b[0;34m(\u001b[0m\u001b[0margs\u001b[0m\u001b[0;34m,\u001b[0m \u001b[0mkwargs\u001b[0m\u001b[0;34m)\u001b[0m\u001b[0;34m\u001b[0m\u001b[0;34m\u001b[0m\u001b[0m\n\u001b[0;32m-> 1823\u001b[0;31m     \u001b[0;32mreturn\u001b[0m \u001b[0mgraph_function\u001b[0m\u001b[0;34m.\u001b[0m\u001b[0m_filtered_call\u001b[0m\u001b[0;34m(\u001b[0m\u001b[0margs\u001b[0m\u001b[0;34m,\u001b[0m \u001b[0mkwargs\u001b[0m\u001b[0;34m)\u001b[0m  \u001b[0;31m# pylint: disable=protected-access\u001b[0m\u001b[0;34m\u001b[0m\u001b[0;34m\u001b[0m\u001b[0m\n\u001b[0m\u001b[1;32m   1824\u001b[0m \u001b[0;34m\u001b[0m\u001b[0m\n\u001b[1;32m   1825\u001b[0m   \u001b[0;34m@\u001b[0m\u001b[0mproperty\u001b[0m\u001b[0;34m\u001b[0m\u001b[0;34m\u001b[0m\u001b[0m\n",
      "\u001b[0;32m/opt/miniconda3/envs/oliver_tf2/lib/python3.7/site-packages/tensorflow_core/python/eager/function.py\u001b[0m in \u001b[0;36m_filtered_call\u001b[0;34m(self, args, kwargs)\u001b[0m\n\u001b[1;32m   1139\u001b[0m          if isinstance(t, (ops.Tensor,\n\u001b[1;32m   1140\u001b[0m                            resource_variable_ops.BaseResourceVariable))),\n\u001b[0;32m-> 1141\u001b[0;31m         self.captured_inputs)\n\u001b[0m\u001b[1;32m   1142\u001b[0m \u001b[0;34m\u001b[0m\u001b[0m\n\u001b[1;32m   1143\u001b[0m   \u001b[0;32mdef\u001b[0m \u001b[0m_call_flat\u001b[0m\u001b[0;34m(\u001b[0m\u001b[0mself\u001b[0m\u001b[0;34m,\u001b[0m \u001b[0margs\u001b[0m\u001b[0;34m,\u001b[0m \u001b[0mcaptured_inputs\u001b[0m\u001b[0;34m,\u001b[0m \u001b[0mcancellation_manager\u001b[0m\u001b[0;34m=\u001b[0m\u001b[0;32mNone\u001b[0m\u001b[0;34m)\u001b[0m\u001b[0;34m:\u001b[0m\u001b[0;34m\u001b[0m\u001b[0;34m\u001b[0m\u001b[0m\n",
      "\u001b[0;32m/opt/miniconda3/envs/oliver_tf2/lib/python3.7/site-packages/tensorflow_core/python/eager/function.py\u001b[0m in \u001b[0;36m_call_flat\u001b[0;34m(self, args, captured_inputs, cancellation_manager)\u001b[0m\n\u001b[1;32m   1222\u001b[0m     \u001b[0;32mif\u001b[0m \u001b[0mexecuting_eagerly\u001b[0m\u001b[0;34m:\u001b[0m\u001b[0;34m\u001b[0m\u001b[0;34m\u001b[0m\u001b[0m\n\u001b[1;32m   1223\u001b[0m       flat_outputs = forward_function.call(\n\u001b[0;32m-> 1224\u001b[0;31m           ctx, args, cancellation_manager=cancellation_manager)\n\u001b[0m\u001b[1;32m   1225\u001b[0m     \u001b[0;32melse\u001b[0m\u001b[0;34m:\u001b[0m\u001b[0;34m\u001b[0m\u001b[0;34m\u001b[0m\u001b[0m\n\u001b[1;32m   1226\u001b[0m       \u001b[0mgradient_name\u001b[0m \u001b[0;34m=\u001b[0m \u001b[0mself\u001b[0m\u001b[0;34m.\u001b[0m\u001b[0m_delayed_rewrite_functions\u001b[0m\u001b[0;34m.\u001b[0m\u001b[0mregister\u001b[0m\u001b[0;34m(\u001b[0m\u001b[0;34m)\u001b[0m\u001b[0;34m\u001b[0m\u001b[0;34m\u001b[0m\u001b[0m\n",
      "\u001b[0;32m/opt/miniconda3/envs/oliver_tf2/lib/python3.7/site-packages/tensorflow_core/python/eager/function.py\u001b[0m in \u001b[0;36mcall\u001b[0;34m(self, ctx, args, cancellation_manager)\u001b[0m\n\u001b[1;32m    509\u001b[0m               \u001b[0minputs\u001b[0m\u001b[0;34m=\u001b[0m\u001b[0margs\u001b[0m\u001b[0;34m,\u001b[0m\u001b[0;34m\u001b[0m\u001b[0;34m\u001b[0m\u001b[0m\n\u001b[1;32m    510\u001b[0m               \u001b[0mattrs\u001b[0m\u001b[0;34m=\u001b[0m\u001b[0;34m(\u001b[0m\u001b[0;34m\"executor_type\"\u001b[0m\u001b[0;34m,\u001b[0m \u001b[0mexecutor_type\u001b[0m\u001b[0;34m,\u001b[0m \u001b[0;34m\"config_proto\"\u001b[0m\u001b[0;34m,\u001b[0m \u001b[0mconfig\u001b[0m\u001b[0;34m)\u001b[0m\u001b[0;34m,\u001b[0m\u001b[0;34m\u001b[0m\u001b[0;34m\u001b[0m\u001b[0m\n\u001b[0;32m--> 511\u001b[0;31m               ctx=ctx)\n\u001b[0m\u001b[1;32m    512\u001b[0m         \u001b[0;32melse\u001b[0m\u001b[0;34m:\u001b[0m\u001b[0;34m\u001b[0m\u001b[0;34m\u001b[0m\u001b[0m\n\u001b[1;32m    513\u001b[0m           outputs = execute.execute_with_cancellation(\n",
      "\u001b[0;32m/opt/miniconda3/envs/oliver_tf2/lib/python3.7/site-packages/tensorflow_core/python/eager/execute.py\u001b[0m in \u001b[0;36mquick_execute\u001b[0;34m(op_name, num_outputs, inputs, attrs, ctx, name)\u001b[0m\n\u001b[1;32m     59\u001b[0m     tensors = pywrap_tensorflow.TFE_Py_Execute(ctx._handle, device_name,\n\u001b[1;32m     60\u001b[0m                                                \u001b[0mop_name\u001b[0m\u001b[0;34m,\u001b[0m \u001b[0minputs\u001b[0m\u001b[0;34m,\u001b[0m \u001b[0mattrs\u001b[0m\u001b[0;34m,\u001b[0m\u001b[0;34m\u001b[0m\u001b[0;34m\u001b[0m\u001b[0m\n\u001b[0;32m---> 61\u001b[0;31m                                                num_outputs)\n\u001b[0m\u001b[1;32m     62\u001b[0m   \u001b[0;32mexcept\u001b[0m \u001b[0mcore\u001b[0m\u001b[0;34m.\u001b[0m\u001b[0m_NotOkStatusException\u001b[0m \u001b[0;32mas\u001b[0m \u001b[0me\u001b[0m\u001b[0;34m:\u001b[0m\u001b[0;34m\u001b[0m\u001b[0;34m\u001b[0m\u001b[0m\n\u001b[1;32m     63\u001b[0m     \u001b[0;32mif\u001b[0m \u001b[0mname\u001b[0m \u001b[0;32mis\u001b[0m \u001b[0;32mnot\u001b[0m \u001b[0;32mNone\u001b[0m\u001b[0;34m:\u001b[0m\u001b[0;34m\u001b[0m\u001b[0;34m\u001b[0m\u001b[0m\n",
      "\u001b[0;31mKeyboardInterrupt\u001b[0m: "
     ]
    }
   ],
   "source": [
    "h = model.fit(mixed_dataset.batch(64), epochs=epochs, steps_per_epoch=100, callbacks=[lr_schedule, diff_eq_forcer])"
   ]
  },
  {
   "cell_type": "code",
   "execution_count": null,
   "metadata": {},
   "outputs": [],
   "source": []
  },
  {
   "cell_type": "code",
   "execution_count": 32,
   "metadata": {},
   "outputs": [
    {
     "data": {
      "text/plain": [
       "[array([[ 0.        ],\n",
       "        [-0.18135267],\n",
       "        [-0.09037413],\n",
       "        [-0.2818692 ],\n",
       "        [-0.17934301],\n",
       "        [ 0.        ],\n",
       "        [-0.09097547],\n",
       "        [ 0.        ],\n",
       "        [-0.257291  ],\n",
       "        [-0.3143955 ],\n",
       "        [-0.2458068 ],\n",
       "        [-0.45577744],\n",
       "        [ 0.        ],\n",
       "        [ 0.        ],\n",
       "        [ 0.        ],\n",
       "        [ 0.        ],\n",
       "        [ 0.        ],\n",
       "        [-0.30006334],\n",
       "        [ 0.        ],\n",
       "        [-0.2788624 ],\n",
       "        [-0.07799487],\n",
       "        [-0.21127707],\n",
       "        [-0.20238149],\n",
       "        [ 0.        ],\n",
       "        [-0.21304776],\n",
       "        [-0.2751119 ],\n",
       "        [-0.25286564],\n",
       "        [ 0.        ],\n",
       "        [ 0.        ],\n",
       "        [ 0.        ],\n",
       "        [-0.25341523],\n",
       "        [ 0.        ]], dtype=float32), array([0.17012224], dtype=float32)]"
      ]
     },
     "execution_count": 32,
     "metadata": {},
     "output_type": "execute_result"
    }
   ],
   "source": [
    "model.layers[-1].get_weights()"
   ]
  },
  {
   "cell_type": "code",
   "execution_count": null,
   "metadata": {},
   "outputs": [],
   "source": [
    "indices = np.argsort(model.layers[-1].get_weights()[0].flatten())"
   ]
  },
  {
   "cell_type": "code",
   "execution_count": null,
   "metadata": {},
   "outputs": [],
   "source": [
    "layer = model.layers[1].get_weights()[0][:,:,:,indices[2]].flatten()"
   ]
  },
  {
   "cell_type": "code",
   "execution_count": null,
   "metadata": {},
   "outputs": [],
   "source": [
    "layer / layer[4]"
   ]
  },
  {
   "cell_type": "code",
   "execution_count": null,
   "metadata": {},
   "outputs": [],
   "source": [
    "plt.bar(range(9), layer / layer[4])\n",
    "axes2 = plt.twiny()\n",
    "x = np.arange(9)\n",
    "y = np.zeros(9)\n",
    "axes2.plot(x,y, linewidth=1, color='black')\n",
    "axes2.set_xticks([])\n",
    "plt.show()"
   ]
  },
  {
   "cell_type": "code",
   "execution_count": null,
   "metadata": {},
   "outputs": [],
   "source": [
    "model.layers[-1].get_weights()"
   ]
  },
  {
   "cell_type": "code",
   "execution_count": null,
   "metadata": {},
   "outputs": [],
   "source": [
    "ce = np.zeros((6,6))\n",
    "for i in range(6):\n",
    "    for j in range(6):\n",
    "        ce[i,j] = 2.5 - np.max([np.abs(2.5 - i), np.abs(2.5 - j)])"
   ]
  },
  {
   "cell_type": "code",
   "execution_count": null,
   "metadata": {},
   "outputs": [],
   "source": [
    "ce"
   ]
  },
  {
   "cell_type": "code",
   "execution_count": null,
   "metadata": {},
   "outputs": [],
   "source": [
    "model.predict(ce.reshape(1,6,6))"
   ]
  },
  {
   "cell_type": "code",
   "execution_count": null,
   "metadata": {
    "scrolled": true
   },
   "outputs": [],
   "source": [
    "model.predict(-1*ce.reshape(1,6,6))"
   ]
  },
  {
   "cell_type": "code",
   "execution_count": null,
   "metadata": {},
   "outputs": [],
   "source": [
    "def test_on_harmonic_perturbations(n, y):\n",
    "    x = generate_harmonic(n, y)\n",
    "    visualize([x], n)\n",
    "    perturbations = [1., .5, .1, .05, .01, .0025, .001]\n",
    "    harmonic_prediction = model.predict(x.reshape(1, n+1, n+1))[0,0]\n",
    "    print('Harmonic: {}'.format(harmonic_prediction))\n",
    "    for perturbation in perturbations:\n",
    "        y = x.copy()\n",
    "        y[2, 2] = y[2,2] - perturbation\n",
    "        prediction = model.predict(y.reshape(1, n+1, n+1))[0,0]\n",
    "        print('Perturbation {}: {}'.format(perturbation, prediction))"
   ]
  },
  {
   "cell_type": "code",
   "execution_count": null,
   "metadata": {},
   "outputs": [],
   "source": [
    "test_on_harmonic_perturbations(5, np.identity(16)[1])"
   ]
  },
  {
   "cell_type": "code",
   "execution_count": null,
   "metadata": {},
   "outputs": [],
   "source": [
    "test_on_harmonic_perturbations(5, [1,1,0,0,1,1,1,1,0,1,0,0,1,1,0,0])"
   ]
  },
  {
   "cell_type": "markdown",
   "metadata": {},
   "source": [
    "\n",
    "## Another Variant on Training"
   ]
  },
  {
   "cell_type": "code",
   "execution_count": 43,
   "metadata": {},
   "outputs": [],
   "source": [
    "n=30"
   ]
  },
  {
   "cell_type": "code",
   "execution_count": 44,
   "metadata": {},
   "outputs": [],
   "source": [
    "dataset = tf.data.Dataset.from_generator(harmonic_data_generator,\n",
    "                                         args=[n], \n",
    "                                         output_types=(tf.float32, tf.bool), \n",
    "                                         output_shapes = ((n+1,n+1), ()))"
   ]
  },
  {
   "cell_type": "code",
   "execution_count": 45,
   "metadata": {},
   "outputs": [],
   "source": [
    "mixed_dataset = tf.data.Dataset.from_generator(mixed_harmonic_data_generator, \n",
    "                                               args=[n], \n",
    "                                               output_types=(tf.float32, tf.bool), \n",
    "                                               output_shapes = ((n+1,n+1), ()))"
   ]
  },
  {
   "cell_type": "code",
   "execution_count": 46,
   "metadata": {},
   "outputs": [],
   "source": [
    "model = get_model(n, 32)"
   ]
  },
  {
   "cell_type": "code",
   "execution_count": 47,
   "metadata": {},
   "outputs": [],
   "source": [
    "model.compile(optimizer='adam',\n",
    "              loss=tf.keras.losses.binary_crossentropy,\n",
    "              metrics=['accuracy'])"
   ]
  },
  {
   "cell_type": "code",
   "execution_count": 48,
   "metadata": {},
   "outputs": [
    {
     "name": "stdout",
     "output_type": "stream",
     "text": [
      "Model: \"sequential_1\"\n",
      "_________________________________________________________________\n",
      "Layer (type)                 Output Shape              Param #   \n",
      "=================================================================\n",
      "reshape_1 (Reshape)          (None, 31, 31, 1)         0         \n",
      "_________________________________________________________________\n",
      "conv2d_1 (Conv2D)            (None, 29, 29, 32)        320       \n",
      "_________________________________________________________________\n",
      "lambda_1 (Lambda)            (None, 29, 29, 32)        0         \n",
      "_________________________________________________________________\n",
      "global_max_pooling2d_1 (Glob (None, 32)                0         \n",
      "_________________________________________________________________\n",
      "dense_1 (Dense)              (None, 1)                 33        \n",
      "=================================================================\n",
      "Total params: 353\n",
      "Trainable params: 353\n",
      "Non-trainable params: 0\n",
      "_________________________________________________________________\n"
     ]
    }
   ],
   "source": [
    "model.summary()"
   ]
  },
  {
   "cell_type": "code",
   "execution_count": 49,
   "metadata": {},
   "outputs": [],
   "source": [
    "epochs = 60\n",
    "precisions = [1., 1., 1., 1., 1.,\n",
    "              .7, .7, .7, .7, .7,\n",
    "              .5, .5, .5, .5, .5,\n",
    "              .35, .35, .35, .35, .35,\n",
    "              .2, .2, .2, .2, .2,\n",
    "              .1, .1, .1, .1, .1,\n",
    "              .05, .05, .05, .05, .05,\n",
    "              .03, .03, .03, .03, .03,\n",
    "              .01, .01, .01, .01, .01,\n",
    "              .01, .01, .01, .01, .01,\n",
    "              .01, .01, .01, .01, .01,\n",
    "              .01, .01, .01, .01, .01]\n",
    "\n",
    "diffeq_conroller = DiffEqController(precisions)"
   ]
  },
  {
   "cell_type": "code",
   "execution_count": 50,
   "metadata": {},
   "outputs": [],
   "source": [
    "def diff_eq_schedule(epoch, lr, precisions):\n",
    "    if epoch == 0:\n",
    "        return lr\n",
    "    old_precision, new_precision = precisions[epoch-1], precisions[epoch]\n",
    "    if new_precision == old_precision:\n",
    "        return (4/5) * lr\n",
    "    return min(.001, 2*(new_precision ** 2))\n",
    "\n",
    "def get_diff_eq_schedule(precisions):\n",
    "    return lambda epoch, lr: diff_eq_schedule(epoch, lr, precisions)\n",
    "\n",
    "def geometric_schedule(rate=.9):\n",
    "    return lambda epoch, lr: lr*rate\n",
    "\n",
    "lr_schedule = tf.keras.callbacks.LearningRateScheduler(get_diff_eq_schedule(precisions))\n",
    "diff_eq_forcer = DiffEqForcer(1.1)"
   ]
  },
  {
   "cell_type": "code",
   "execution_count": 54,
   "metadata": {},
   "outputs": [
    {
     "name": "stdout",
     "output_type": "stream",
     "text": [
      "Train for 100 steps\n",
      "Epoch 1/60\n",
      "100/100 [==============================] - 7s 74ms/step - loss: 0.5915 - accuracy: 0.6898\n",
      "Epoch 2/60\n",
      "100/100 [==============================] - 7s 71ms/step - loss: 0.5977 - accuracy: 0.6783\n",
      "Epoch 3/60\n",
      "100/100 [==============================] - 7s 72ms/step - loss: 0.5982 - accuracy: 0.6787\n",
      "Epoch 4/60\n",
      "100/100 [==============================] - 7s 71ms/step - loss: 0.5927 - accuracy: 0.6825\n",
      "Epoch 5/60\n",
      "100/100 [==============================] - 7s 71ms/step - loss: 0.5846 - accuracy: 0.6914\n",
      "Epoch 6/60\n",
      "100/100 [==============================] - 7s 72ms/step - loss: 0.5968 - accuracy: 0.6747\n",
      "Epoch 7/60\n",
      "100/100 [==============================] - 7s 72ms/step - loss: 0.6005 - accuracy: 0.6684\n",
      "Epoch 8/60\n",
      "100/100 [==============================] - 7s 72ms/step - loss: 0.5977 - accuracy: 0.6753\n",
      "Epoch 9/60\n",
      "100/100 [==============================] - 7s 72ms/step - loss: 0.5939 - accuracy: 0.6814\n",
      "Epoch 10/60\n",
      "100/100 [==============================] - 7s 72ms/step - loss: 0.5936 - accuracy: 0.6778\n",
      "Epoch 11/60\n",
      "100/100 [==============================] - 7s 72ms/step - loss: 0.6011 - accuracy: 0.6669\n",
      "Epoch 12/60\n",
      "100/100 [==============================] - 7s 72ms/step - loss: 0.5915 - accuracy: 0.6844\n",
      "Epoch 13/60\n",
      "100/100 [==============================] - 7s 72ms/step - loss: 0.5922 - accuracy: 0.6784\n",
      "Epoch 14/60\n",
      "100/100 [==============================] - 7s 72ms/step - loss: 0.5948 - accuracy: 0.6742\n",
      "Epoch 15/60\n",
      "100/100 [==============================] - 7s 72ms/step - loss: 0.5829 - accuracy: 0.6902\n",
      "Epoch 16/60\n",
      "100/100 [==============================] - 7s 72ms/step - loss: 0.5926 - accuracy: 0.6741\n",
      "Epoch 17/60\n",
      "100/100 [==============================] - 7s 72ms/step - loss: 0.5878 - accuracy: 0.6817\n",
      "Epoch 18/60\n",
      "100/100 [==============================] - 7s 72ms/step - loss: 0.5985 - accuracy: 0.6684\n",
      "Epoch 19/60\n",
      "100/100 [==============================] - 7s 73ms/step - loss: 0.6017 - accuracy: 0.6609\n",
      "Epoch 20/60\n",
      "100/100 [==============================] - 7s 71ms/step - loss: 0.5773 - accuracy: 0.6920\n",
      "Epoch 21/60\n",
      "100/100 [==============================] - 7s 71ms/step - loss: 0.5887 - accuracy: 0.6758\n",
      "Epoch 22/60\n",
      "100/100 [==============================] - 7s 72ms/step - loss: 0.5899 - accuracy: 0.6770\n",
      "Epoch 23/60\n",
      "100/100 [==============================] - 8s 76ms/step - loss: 0.5885 - accuracy: 0.6780\n",
      "Epoch 24/60\n",
      "100/100 [==============================] - 7s 74ms/step - loss: 0.5892 - accuracy: 0.6744\n",
      "Epoch 25/60\n",
      "100/100 [==============================] - 7s 72ms/step - loss: 0.5849 - accuracy: 0.6773\n",
      "Epoch 26/60\n",
      "100/100 [==============================] - 7s 72ms/step - loss: 0.5939 - accuracy: 0.6702\n",
      "Epoch 27/60\n",
      "100/100 [==============================] - 7s 72ms/step - loss: 0.5899 - accuracy: 0.6720\n",
      "Epoch 28/60\n",
      "100/100 [==============================] - 7s 73ms/step - loss: 0.6039 - accuracy: 0.6630\n",
      "Epoch 29/60\n",
      "100/100 [==============================] - 7s 73ms/step - loss: 0.6047 - accuracy: 0.6656\n",
      "Epoch 30/60\n",
      "100/100 [==============================] - 7s 72ms/step - loss: 0.5990 - accuracy: 0.6609\n",
      "Epoch 31/60\n",
      "100/100 [==============================] - 8s 76ms/step - loss: 0.6106 - accuracy: 0.6608\n",
      "Epoch 32/60\n",
      "100/100 [==============================] - 7s 73ms/step - loss: 0.6043 - accuracy: 0.6683\n",
      "Epoch 33/60\n",
      "100/100 [==============================] - 7s 73ms/step - loss: 0.5937 - accuracy: 0.6705\n",
      "Epoch 34/60\n",
      "100/100 [==============================] - 7s 73ms/step - loss: 0.6124 - accuracy: 0.6639\n",
      "Epoch 35/60\n",
      "100/100 [==============================] - 7s 73ms/step - loss: 0.6097 - accuracy: 0.6606\n",
      "Epoch 36/60\n",
      "100/100 [==============================] - 7s 73ms/step - loss: 0.6349 - accuracy: 0.6408\n",
      "Epoch 37/60\n",
      "100/100 [==============================] - 7s 72ms/step - loss: 0.6271 - accuracy: 0.6600\n",
      "Epoch 38/60\n",
      "100/100 [==============================] - 7s 72ms/step - loss: 0.6084 - accuracy: 0.6637\n",
      "Epoch 39/60\n",
      "100/100 [==============================] - 7s 74ms/step - loss: 0.6183 - accuracy: 0.6467\n",
      "Epoch 40/60\n",
      "100/100 [==============================] - 7s 73ms/step - loss: 0.6043 - accuracy: 0.6628\n",
      "Epoch 41/60\n",
      "100/100 [==============================] - 7s 73ms/step - loss: 0.6112 - accuracy: 0.6600\n",
      "Epoch 42/60\n",
      "100/100 [==============================] - 7s 74ms/step - loss: 0.5985 - accuracy: 0.6733\n",
      "Epoch 43/60\n",
      "100/100 [==============================] - 7s 71ms/step - loss: 0.5962 - accuracy: 0.6695\n",
      "Epoch 44/60\n",
      "100/100 [==============================] - 7s 72ms/step - loss: 0.5943 - accuracy: 0.6695\n",
      "Epoch 45/60\n",
      "100/100 [==============================] - 7s 73ms/step - loss: 0.6059 - accuracy: 0.6509\n",
      "Epoch 46/60\n",
      "100/100 [==============================] - 8s 80ms/step - loss: 0.5955 - accuracy: 0.6662\n",
      "Epoch 47/60\n",
      "100/100 [==============================] - 7s 73ms/step - loss: 0.5927 - accuracy: 0.6706\n",
      "Epoch 48/60\n",
      "100/100 [==============================] - 7s 74ms/step - loss: 0.5981 - accuracy: 0.6583\n",
      "Epoch 49/60\n",
      "100/100 [==============================] - 7s 72ms/step - loss: 0.5891 - accuracy: 0.6702\n",
      "Epoch 50/60\n",
      "100/100 [==============================] - 7s 72ms/step - loss: 0.5965 - accuracy: 0.6706\n",
      "Epoch 51/60\n",
      "100/100 [==============================] - 7s 73ms/step - loss: 0.5867 - accuracy: 0.6748\n",
      "Epoch 52/60\n",
      "100/100 [==============================] - 7s 73ms/step - loss: 0.5865 - accuracy: 0.6770\n",
      "Epoch 53/60\n",
      "100/100 [==============================] - 7s 71ms/step - loss: 0.5799 - accuracy: 0.6767\n",
      "Epoch 54/60\n",
      "100/100 [==============================] - 7s 71ms/step - loss: 0.5722 - accuracy: 0.6852\n",
      "Epoch 55/60\n",
      "100/100 [==============================] - 7s 70ms/step - loss: 0.5596 - accuracy: 0.6964\n",
      "Epoch 56/60\n",
      "100/100 [==============================] - 7s 71ms/step - loss: 0.5604 - accuracy: 0.6963\n",
      "Epoch 57/60\n",
      "100/100 [==============================] - 7s 70ms/step - loss: 0.5656 - accuracy: 0.6986\n",
      "Epoch 58/60\n",
      "100/100 [==============================] - 7s 71ms/step - loss: 0.5596 - accuracy: 0.6980\n",
      "Epoch 59/60\n",
      "100/100 [==============================] - 7s 70ms/step - loss: 0.5491 - accuracy: 0.7131\n",
      "Epoch 60/60\n",
      "100/100 [==============================] - 7s 72ms/step - loss: 0.5618 - accuracy: 0.6928\n"
     ]
    }
   ],
   "source": [
    "h = model.fit(mixed_dataset.batch(64), epochs=epochs, steps_per_epoch=100, callbacks=[diff_eq_forcer, lr_schedule])"
   ]
  },
  {
   "cell_type": "code",
   "execution_count": 55,
   "metadata": {},
   "outputs": [
    {
     "data": {
      "image/png": "[encoded data removed]",
      "text/plain": [
       "<Figure size 2232x2232 with 1 Axes>"
      ]
     },
     "metadata": {
      "needs_background": "light"
     },
     "output_type": "display_data"
    },
    {
     "name": "stdout",
     "output_type": "stream",
     "text": [
      "Harmonic: 0.9921213388442993\n",
      "Perturbation 1.0: 0.0\n",
      "Perturbation 0.5: 0.0\n",
      "Perturbation 0.1: 8.007138063703678e-08\n",
      "Perturbation 0.05: 0.006823437754064798\n",
      "Perturbation 0.01: 0.9586104154586792\n",
      "Perturbation 0.0025: 0.9881379008293152\n",
      "Perturbation 0.001: 0.9907219409942627\n"
     ]
    }
   ],
   "source": [
    "test_on_harmonic_perturbations(30, [1 for i in range(29)]+[0 for i in range(29)]+[0 for i in range(29)]+[1 for i in range(29)])"
   ]
  },
  {
   "cell_type": "code",
   "execution_count": 62,
   "metadata": {
    "scrolled": false
   },
   "outputs": [
    {
     "data": {
      "image/png": "[encoded data removed]",
      "text/plain": [
       "<Figure size 2232x2232 with 1 Axes>"
      ]
     },
     "metadata": {
      "needs_background": "light"
     },
     "output_type": "display_data"
    },
    {
     "name": "stdout",
     "output_type": "stream",
     "text": [
      "Harmonic: 0.9560659527778625\n",
      "Perturbation 1.0: 0.0\n",
      "Perturbation 0.5: 0.0\n",
      "Perturbation 0.1: 2.7641544164680454e-08\n",
      "Perturbation 0.05: 0.0017789689591154456\n",
      "Perturbation 0.01: 0.7945319414138794\n",
      "Perturbation 0.0025: 0.9340068697929382\n",
      "Perturbation 0.001: 0.9483110904693604\n"
     ]
    }
   ],
   "source": [
    "test_on_harmonic_perturbations(30, np.concatenate([[1,1,-1,0] for i in range(29-2)] + [[1,1,1,1,1,1,1,1]]))"
   ]
  },
  {
   "cell_type": "markdown",
   "metadata": {},
   "source": [
    "\n",
    "## Another Variant on Training"
   ]
  },
  {
   "cell_type": "code",
   "execution_count": 72,
   "metadata": {},
   "outputs": [],
   "source": [
    "n=30"
   ]
  },
  {
   "cell_type": "code",
   "execution_count": 73,
   "metadata": {},
   "outputs": [],
   "source": [
    "dataset = tf.data.Dataset.from_generator(harmonic_data_generator,\n",
    "                                         args=[n], \n",
    "                                         output_types=(tf.float32, tf.bool), \n",
    "                                         output_shapes = ((n+1,n+1), ()))"
   ]
  },
  {
   "cell_type": "code",
   "execution_count": 74,
   "metadata": {},
   "outputs": [],
   "source": [
    "mixed_dataset = tf.data.Dataset.from_generator(mixed_harmonic_data_generator, \n",
    "                                               args=[n], \n",
    "                                               output_types=(tf.float32, tf.bool), \n",
    "                                               output_shapes = ((n+1,n+1), ()))"
   ]
  },
  {
   "cell_type": "code",
   "execution_count": 75,
   "metadata": {},
   "outputs": [],
   "source": [
    "model = get_model(n, 32)"
   ]
  },
  {
   "cell_type": "code",
   "execution_count": 76,
   "metadata": {},
   "outputs": [],
   "source": [
    "model.compile(optimizer='adam',\n",
    "              loss=tf.keras.losses.binary_crossentropy,\n",
    "              metrics=['accuracy'])"
   ]
  },
  {
   "cell_type": "code",
   "execution_count": 77,
   "metadata": {},
   "outputs": [
    {
     "name": "stdout",
     "output_type": "stream",
     "text": [
      "Model: \"sequential_3\"\n",
      "_________________________________________________________________\n",
      "Layer (type)                 Output Shape              Param #   \n",
      "=================================================================\n",
      "reshape_3 (Reshape)          (None, 31, 31, 1)         0         \n",
      "_________________________________________________________________\n",
      "conv2d_3 (Conv2D)            (None, 29, 29, 32)        320       \n",
      "_________________________________________________________________\n",
      "lambda_3 (Lambda)            (None, 29, 29, 32)        0         \n",
      "_________________________________________________________________\n",
      "global_max_pooling2d_3 (Glob (None, 32)                0         \n",
      "_________________________________________________________________\n",
      "dense_3 (Dense)              (None, 1)                 33        \n",
      "=================================================================\n",
      "Total params: 353\n",
      "Trainable params: 353\n",
      "Non-trainable params: 0\n",
      "_________________________________________________________________\n"
     ]
    }
   ],
   "source": [
    "model.summary()"
   ]
  },
  {
   "cell_type": "code",
   "execution_count": 78,
   "metadata": {},
   "outputs": [],
   "source": [
    "epochs = 60\n",
    "precisions = [1., 1., 1., 1., 1.,\n",
    "              .7, .7, .7, .7, .7,\n",
    "              .5, .5, .5, .5, .5,\n",
    "              .35, .35, .35, .35, .35,\n",
    "              .2, .2, .2, .2, .2,\n",
    "              .1, .1, .1, .1, .1,\n",
    "              .05, .05, .05, .05, .05,\n",
    "              .03, .03, .03, .03, .03,\n",
    "              .01, .01, .01, .01, .01,\n",
    "              .01, .01, .01, .01, .01,\n",
    "              .01, .01, .01, .01, .01,\n",
    "              .01, .01, .01, .01, .01]\n",
    "\n",
    "diffeq_conroller = DiffEqController(precisions)"
   ]
  },
  {
   "cell_type": "code",
   "execution_count": 79,
   "metadata": {},
   "outputs": [],
   "source": [
    "def diff_eq_schedule(epoch, lr, precisions):\n",
    "    if epoch == 0:\n",
    "        return lr\n",
    "    old_precision, new_precision = precisions[epoch-1], precisions[epoch]\n",
    "    if new_precision == old_precision:\n",
    "        return (4/5) * lr\n",
    "    return min(.001, 2*(new_precision ** 2))\n",
    "\n",
    "def get_diff_eq_schedule(precisions):\n",
    "    return lambda epoch, lr: diff_eq_schedule(epoch, lr, precisions)\n",
    "\n",
    "def geometric_schedule(rate=.9):\n",
    "    return lambda epoch, lr: lr*rate\n",
    "\n",
    "lr_schedule = tf.keras.callbacks.LearningRateScheduler(get_diff_eq_schedule(precisions))\n",
    "diff_eq_forcer = DiffEqForcer(1.5)"
   ]
  },
  {
   "cell_type": "code",
   "execution_count": 80,
   "metadata": {},
   "outputs": [
    {
     "name": "stdout",
     "output_type": "stream",
     "text": [
      "Train for 100 steps\n",
      "Epoch 1/60\n",
      "100/100 [==============================] - 5s 46ms/step - loss: 0.8803 - accuracy: 0.4930\n",
      "Epoch 2/60\n",
      "100/100 [==============================] - 4s 42ms/step - loss: 0.4236 - accuracy: 0.7161\n",
      "Epoch 3/60\n",
      "100/100 [==============================] - 4s 42ms/step - loss: 0.2782 - accuracy: 1.0000\n",
      "Epoch 4/60\n",
      "100/100 [==============================] - 4s 41ms/step - loss: 0.2384 - accuracy: 1.0000\n",
      "Epoch 5/60\n",
      "100/100 [==============================] - 4s 41ms/step - loss: 0.1844 - accuracy: 1.0000\n",
      "Epoch 6/60\n",
      "100/100 [==============================] - 4s 42ms/step - loss: 0.1301 - accuracy: 1.0000\n",
      "Epoch 7/60\n",
      "100/100 [==============================] - 4s 42ms/step - loss: 0.0700 - accuracy: 1.0000\n",
      "Epoch 8/60\n",
      "100/100 [==============================] - 4s 42ms/step - loss: 0.0260 - accuracy: 1.0000\n",
      "Epoch 9/60\n",
      "100/100 [==============================] - 4s 42ms/step - loss: 0.0066 - accuracy: 1.0000\n",
      "Epoch 10/60\n",
      "100/100 [==============================] - 4s 42ms/step - loss: 0.0014 - accuracy: 1.0000\n",
      "Epoch 11/60\n",
      "100/100 [==============================] - 4s 41ms/step - loss: 7.2383e-04 - accuracy: 1.0000\n",
      "Epoch 12/60\n",
      "100/100 [==============================] - 4s 42ms/step - loss: 6.5912e-04 - accuracy: 1.0000\n",
      "Epoch 13/60\n",
      "100/100 [==============================] - 4s 42ms/step - loss: 6.2922e-04 - accuracy: 1.0000\n",
      "Epoch 14/60\n",
      "100/100 [==============================] - 4s 42ms/step - loss: 6.0759e-04 - accuracy: 1.0000\n",
      "Epoch 15/60\n",
      "100/100 [==============================] - 4s 42ms/step - loss: 5.9132e-04 - accuracy: 1.0000\n",
      "Epoch 16/60\n",
      "100/100 [==============================] - 4s 42ms/step - loss: 5.6838e-04 - accuracy: 1.0000\n",
      "Epoch 17/60\n",
      "100/100 [==============================] - 4s 42ms/step - loss: 5.4229e-04 - accuracy: 1.0000\n",
      "Epoch 18/60\n",
      "100/100 [==============================] - 4s 42ms/step - loss: 5.2394e-04 - accuracy: 1.0000\n",
      "Epoch 19/60\n",
      "100/100 [==============================] - 4s 41ms/step - loss: 5.1049e-04 - accuracy: 1.0000\n",
      "Epoch 20/60\n",
      "100/100 [==============================] - 4s 42ms/step - loss: 5.0034e-04 - accuracy: 1.0000\n",
      "Epoch 21/60\n",
      "100/100 [==============================] - 4s 42ms/step - loss: 4.8595e-04 - accuracy: 1.0000\n",
      "Epoch 22/60\n",
      "100/100 [==============================] - 4s 42ms/step - loss: 4.6942e-04 - accuracy: 1.0000\n",
      "Epoch 23/60\n",
      "100/100 [==============================] - 4s 42ms/step - loss: 4.5767e-04 - accuracy: 1.0000\n",
      "Epoch 24/60\n",
      "100/100 [==============================] - 4s 42ms/step - loss: 4.4898e-04 - accuracy: 1.0000\n",
      "Epoch 25/60\n",
      "100/100 [==============================] - 4s 41ms/step - loss: 4.4237e-04 - accuracy: 1.0000\n",
      "Epoch 26/60\n",
      "100/100 [==============================] - 4s 42ms/step - loss: 4.3288e-04 - accuracy: 1.0000\n",
      "Epoch 27/60\n",
      "100/100 [==============================] - 4s 42ms/step - loss: 4.2179e-04 - accuracy: 1.0000\n",
      "Epoch 28/60\n",
      "100/100 [==============================] - 4s 41ms/step - loss: 4.1371e-04 - accuracy: 1.0000\n",
      "Epoch 29/60\n",
      "100/100 [==============================] - 4s 42ms/step - loss: 4.0761e-04 - accuracy: 1.0000\n",
      "Epoch 30/60\n",
      "100/100 [==============================] - 4s 42ms/step - loss: 4.0289e-04 - accuracy: 1.0000\n",
      "Epoch 31/60\n",
      "100/100 [==============================] - 4s 42ms/step - loss: 3.9595e-04 - accuracy: 1.0000\n",
      "Epoch 32/60\n",
      "100/100 [==============================] - 4s 41ms/step - loss: 3.8760e-04 - accuracy: 1.0000\n",
      "Epoch 33/60\n",
      "100/100 [==============================] - 4s 41ms/step - loss: 3.8130e-04 - accuracy: 1.0000\n",
      "Epoch 34/60\n",
      "100/100 [==============================] - 4s 41ms/step - loss: 3.7641e-04 - accuracy: 1.0000\n",
      "Epoch 35/60\n",
      "100/100 [==============================] - 5s 45ms/step - loss: 3.7254e-04 - accuracy: 1.0000\n",
      "Epoch 36/60\n",
      "100/100 [==============================] - 4s 45ms/step - loss: 3.6670e-04 - accuracy: 1.0000\n",
      "Epoch 37/60\n",
      "100/100 [==============================] - 4s 43ms/step - loss: 3.5944e-04 - accuracy: 1.0000\n",
      "Epoch 38/60\n",
      "100/100 [==============================] - 4s 42ms/step - loss: 3.5378e-04 - accuracy: 1.0000\n",
      "Epoch 39/60\n",
      "100/100 [==============================] - 4s 43ms/step - loss: 3.4928e-04 - accuracy: 1.0000\n",
      "Epoch 40/60\n",
      "100/100 [==============================] - 4s 42ms/step - loss: 3.4564e-04 - accuracy: 1.0000\n",
      "Epoch 41/60\n",
      "100/100 [==============================] - 4s 42ms/step - loss: 3.4318e-04 - accuracy: 1.0000\n",
      "Epoch 42/60\n",
      "100/100 [==============================] - 4s 42ms/step - loss: 3.4169e-04 - accuracy: 1.0000\n",
      "Epoch 43/60\n",
      "100/100 [==============================] - 4s 42ms/step - loss: 3.4044e-04 - accuracy: 1.0000\n",
      "Epoch 44/60\n",
      "100/100 [==============================] - 4s 42ms/step - loss: 3.3940e-04 - accuracy: 1.0000\n",
      "Epoch 45/60\n",
      "100/100 [==============================] - 5s 45ms/step - loss: 3.3854e-04 - accuracy: 1.0000\n",
      "Epoch 46/60\n",
      "100/100 [==============================] - 4s 44ms/step - loss: 3.3782e-04 - accuracy: 1.0000\n",
      "Epoch 47/60\n",
      "100/100 [==============================] - 4s 43ms/step - loss: 3.3721e-04 - accuracy: 1.0000\n",
      "Epoch 48/60\n",
      "100/100 [==============================] - 4s 42ms/step - loss: 3.3670e-04 - accuracy: 1.0000\n",
      "Epoch 49/60\n",
      "100/100 [==============================] - 4s 44ms/step - loss: 3.3628e-04 - accuracy: 1.0000\n",
      "Epoch 50/60\n",
      "100/100 [==============================] - 4s 42ms/step - loss: 3.3592e-04 - accuracy: 1.0000\n",
      "Epoch 51/60\n",
      "100/100 [==============================] - 4s 42ms/step - loss: 3.3563e-04 - accuracy: 1.0000\n",
      "Epoch 52/60\n",
      "100/100 [==============================] - 4s 42ms/step - loss: 3.3537e-04 - accuracy: 1.0000\n",
      "Epoch 53/60\n",
      "100/100 [==============================] - 4s 42ms/step - loss: 3.3516e-04 - accuracy: 1.0000\n",
      "Epoch 54/60\n",
      "100/100 [==============================] - 4s 42ms/step - loss: 3.3499e-04 - accuracy: 1.0000\n",
      "Epoch 55/60\n",
      "100/100 [==============================] - 4s 42ms/step - loss: 3.3484e-04 - accuracy: 1.0000\n",
      "Epoch 56/60\n",
      "100/100 [==============================] - 4s 42ms/step - loss: 3.3471e-04 - accuracy: 1.0000\n",
      "Epoch 57/60\n",
      "100/100 [==============================] - 4s 42ms/step - loss: 3.3461e-04 - accuracy: 1.0000\n",
      "Epoch 58/60\n",
      "100/100 [==============================] - 4s 41ms/step - loss: 3.3452e-04 - accuracy: 1.0000\n",
      "Epoch 59/60\n",
      "100/100 [==============================] - 4s 42ms/step - loss: 3.3445e-04 - accuracy: 1.0000\n",
      "Epoch 60/60\n",
      "100/100 [==============================] - 4s 41ms/step - loss: 3.3439e-04 - accuracy: 1.0000\n"
     ]
    }
   ],
   "source": [
    "h = model.fit(dataset.batch(64), epochs=epochs, steps_per_epoch=100, callbacks=[diff_eq_forcer, lr_schedule])"
   ]
  },
  {
   "cell_type": "code",
   "execution_count": 81,
   "metadata": {},
   "outputs": [
    {
     "data": {
      "image/png": "[encoded data removed]",
      "text/plain": [
       "<Figure size 2232x2232 with 1 Axes>"
      ]
     },
     "metadata": {
      "needs_background": "light"
     },
     "output_type": "display_data"
    },
    {
     "name": "stdout",
     "output_type": "stream",
     "text": [
      "Harmonic: 1.0\n",
      "Perturbation 1.0: 0.0\n",
      "Perturbation 0.5: 0.0\n",
      "Perturbation 0.1: 1.0\n",
      "Perturbation 0.05: 1.0\n",
      "Perturbation 0.01: 1.0\n",
      "Perturbation 0.0025: 1.0\n",
      "Perturbation 0.001: 1.0\n"
     ]
    }
   ],
   "source": [
    "test_on_harmonic_perturbations(30, [1 for i in range(29)]+[0 for i in range(29)]+[0 for i in range(29)]+[1 for i in range(29)])"
   ]
  },
  {
   "cell_type": "code",
   "execution_count": 82,
   "metadata": {
    "scrolled": true
   },
   "outputs": [
    {
     "data": {
      "image/png": "[encoded data removed]",
      "text/plain": [
       "<Figure size 2232x2232 with 1 Axes>"
      ]
     },
     "metadata": {
      "needs_background": "light"
     },
     "output_type": "display_data"
    },
    {
     "name": "stdout",
     "output_type": "stream",
     "text": [
      "Harmonic: 1.0\n",
      "Perturbation 1.0: 0.0\n",
      "Perturbation 0.5: 0.0\n",
      "Perturbation 0.1: 1.0\n",
      "Perturbation 0.05: 1.0\n",
      "Perturbation 0.01: 1.0\n",
      "Perturbation 0.0025: 1.0\n",
      "Perturbation 0.001: 1.0\n"
     ]
    }
   ],
   "source": [
    "test_on_harmonic_perturbations(30, np.concatenate([[1,1,-1,0] for i in range(29-2)] + [[1,1,1,1,1,1,1,1]]))"
   ]
  },
  {
   "cell_type": "code",
   "execution_count": null,
   "metadata": {},
   "outputs": [],
   "source": [
    "test_on_harmonic_pertubations(10, 10*[1,1,1,1,.5,.2,0,0,0,1,1,1,1,1,1,1,1,1,0,0,0,0,0,0,0,0,0,0,0,0,0,.2,.4,1,1,0])"
   ]
  },
  {
   "cell_type": "code",
   "execution_count": null,
   "metadata": {},
   "outputs": [],
   "source": [
    "test_on_harmonic_pertubations(10, np.identity(81)[0])"
   ]
  },
  {
   "cell_type": "code",
   "execution_count": null,
   "metadata": {},
   "outputs": [],
   "source": [
    "test_on_harmonic_pertubations(10, 20*np.identity(81)[4])"
   ]
  },
  {
   "cell_type": "code",
   "execution_count": null,
   "metadata": {},
   "outputs": [],
   "source": [
    "test_on_harmonic_pertubations(10, np.identity(36)[2]+np.identity(36)[3]+np.identity(36)[4]+np.identity(36)[30]+np.identity(36)[31]+np.identity(36)[32])"
   ]
  },
  {
   "cell_type": "code",
   "execution_count": null,
   "metadata": {
    "scrolled": true
   },
   "outputs": [],
   "source": [
    "model.layers[-1].get_weights()"
   ]
  },
  {
   "cell_type": "code",
   "execution_count": null,
   "metadata": {
    "scrolled": true
   },
   "outputs": [],
   "source": [
    "layer = model.layers[1].get_weights()[0][:,:,:,1].flatten()\n",
    "layer.reshape(1,3,3)/ layer[4]"
   ]
  },
  {
   "cell_type": "code",
   "execution_count": null,
   "metadata": {},
   "outputs": [],
   "source": [
    "plt.bar(range(9), layer / layer[4])\n",
    "axes2 = plt.twiny()\n",
    "x = np.arange(9)\n",
    "y = np.zeros(9)\n",
    "axes2.plot(x,y, linewidth=1, color='black')\n",
    "axes2.set_xticks([])\n",
    "plt.show()"
   ]
  },
  {
   "cell_type": "code",
   "execution_count": null,
   "metadata": {},
   "outputs": [],
   "source": []
  }
 ],
 "metadata": {
  "kernelspec": {
   "display_name": "Python3 (oliver_tf2)",
   "language": "python",
   "name": "oliver_tf2"
  },
  "language_info": {
   "codemirror_mode": {
    "name": "ipython",
    "version": 3
   },
   "file_extension": ".py",
   "mimetype": "text/x-python",
   "name": "python",
   "nbconvert_exporter": "python",
   "pygments_lexer": "ipython3",
   "version": "3.7.5"
  },
  "name": "discrete_laplace",
  "notebookId": 1260334
 },
 "nbformat": 4,
 "nbformat_minor": 1
}
