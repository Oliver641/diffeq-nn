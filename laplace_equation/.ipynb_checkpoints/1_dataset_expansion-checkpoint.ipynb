{
 "cells": [
  {
   "cell_type": "code",
   "execution_count": 1,
   "metadata": {},
   "outputs": [],
   "source": [
    "from __future__ import absolute_import, division, print_function\n",
    "\n",
    "import functools\n",
    "import numpy as np\n",
    "import scipy as sp\n",
    "from scipy.stats import multivariate_normal\n",
    "import matplotlib.pyplot as plt\n",
    "import tensorflow as tf\n",
    "from pprint import pprint"
   ]
  },
  {
   "cell_type": "code",
   "execution_count": 2,
   "metadata": {},
   "outputs": [
    {
     "data": {
      "text/plain": [
       "'2.0.0'"
      ]
     },
     "execution_count": 2,
     "metadata": {},
     "output_type": "execute_result"
    }
   ],
   "source": [
    "tf.__version__"
   ]
  },
  {
   "cell_type": "code",
   "execution_count": 3,
   "metadata": {},
   "outputs": [
    {
     "data": {
      "text/plain": [
       "True"
      ]
     },
     "execution_count": 3,
     "metadata": {},
     "output_type": "execute_result"
    }
   ],
   "source": [
    "tf.executing_eagerly()"
   ]
  },
  {
   "cell_type": "code",
   "execution_count": 4,
   "metadata": {},
   "outputs": [
    {
     "data": {
      "text/plain": [
       "False"
      ]
     },
     "execution_count": 4,
     "metadata": {},
     "output_type": "execute_result"
    }
   ],
   "source": [
    "tf.test.is_gpu_available()"
   ]
  },
  {
   "cell_type": "markdown",
   "metadata": {},
   "source": [
    "## Generating Discrete Harmonic Functions on the Square\n",
    "\n",
    "The Harmonic functions on the square A of size N are those functions that satisfy:\n",
    "$$f(i, j) = \\frac{1}{4}\\bigg(f(i-1, j) + f(i+1, j) + f(i,j-1) + f(i,j+1)\\bigg)$$\n",
    "for all $i,j \\in \\{1, 2, ..., N-1\\}$.  These functions are uniquely determined by their values on the boundary of the square: $i\\in\\{0,N\\}\\text{ or }j\\in\\{0,N\\}$.  \n",
    "\n",
    "What follows is a summary of http://www.math.uchicago.edu/~lawler/reu.pdf, section 1.5.\n",
    "\n",
    "Let $e_k$ refer to the function defined on $\\partial A$ that is equal to 1 at the $k$th position at the bottom of the square and is equal 0 elsewhere.  Then the harmonic function on the interior of the square that is equal to $e_k$ on the boundary is given by:\n",
    "$$H_{(N, e_k)}(x_1, x_2) = \\frac{2}{N-1}\\sum_{j=1}^{N-1}\\frac{1}{\\sinh(\\beta_j)}\\sin\\left(\\frac{j\\pi k}{N}\\right)\\sinh\\left(\\frac{\\beta_jx_1}{N}\\right)\\sin\\left(\\frac{j\\pi x_2}{N}\\right)$$\n",
    "where $\\beta_j\\text{ for }j\\in\\{1, 2, ..., N-1\\}$ solves:\n",
    "$$ \\cosh\\left(\\frac{\\beta_j}{N}\\right) + \\cos\\left(\\frac{j\\pi}{N}\\right) = 2$$\n",
    "These functions, combined with similar functions for the other sides of the square, form a basis for the space of all harmonic functions on the interior of the square.  This is implemented below."
   ]
  },
  {
   "cell_type": "code",
   "execution_count": 5,
   "metadata": {},
   "outputs": [],
   "source": [
    "harmonic_basis_cache={}\n",
    "\n",
    "def generate_beta(n):\n",
    "    return [n*(np.arccosh(2-np.cos(j*np.pi/n))) for j in range(1,n)]\n",
    "  \n",
    "def poisson_kernel_square_raw(n, y, x_1, x_2):\n",
    "    beta = generate_beta(n)\n",
    "    h = [np.sinh(beta[j-1] * x_1 / n) \n",
    "        * np.sin(j * np.pi * x_2 / n) for j in range(1, n)]\n",
    "    c = [1/np.sinh(beta[j-1]) \n",
    "        * np.sin(j * np.pi * y / n) for j in range(1, n)]\n",
    "    return 2/(n) * sum([c[j-1] * h[j-1] for j in range(1, n)])\n",
    "  \n",
    "def poisson_kernel_square(n, y):\n",
    "    return lambda x_1, x_2: poisson_kernel_square_raw(n, y, x_1, x_2)\n",
    "  \n",
    "    \n",
    "def harmonic_basis(n, k):\n",
    "    if (n,k) in harmonic_basis_cache.keys():\n",
    "        return harmonic_basis_cache[n,k]\n",
    "    x = np.zeros(shape=[n+1, n+1])\n",
    "    x[n,k] = 1\n",
    "    H = poisson_kernel_square(n, k)\n",
    "    for i in range(1, n):\n",
    "        for j in range(1, n):\n",
    "            x[i, j] = H(i, j)\n",
    "    harmonic_basis_cache[n,k] = x\n",
    "    return x\n",
    "  \n",
    "# This is O(n^3) at the moment.\n",
    "# This is due to each of n basis functions taking O(n^2) steps to compute.\n",
    "# Can this be improved?  Do we care?\n",
    "def generate_harmonic_one_side(n, y, side='lower'):\n",
    "    lower = np.sum([y[j-1] * harmonic_basis(n,j) for j in range(1, n)], axis=0)\n",
    "    if side == 'upper':\n",
    "        return np.flip(lower, axis=0)\n",
    "    if side == 'left':\n",
    "        return np.rot90(lower, k=3)\n",
    "    if side == 'right':\n",
    "        return np.rot90(np.flip(lower, axis=0), k=3)\n",
    "    if side == 'lower':\n",
    "        return lower\n",
    "\n",
    "def generate_harmonic(n, y):\n",
    "    \"\"\"Here y specifies the entire boundary, going in order of upper, left, right, lower.\"\"\"\n",
    "    upper = generate_harmonic_one_side(n, y[:n-1], side='upper')\n",
    "    left = generate_harmonic_one_side(n, y[n-1:2*n-2], side='left')\n",
    "    right = generate_harmonic_one_side(n, y[2*n-2:3*n-3], side='right')\n",
    "    lower = generate_harmonic_one_side(n, y[3*n-3:], side='lower')\n",
    "    return upper + left + right + lower"
   ]
  },
  {
   "cell_type": "code",
   "execution_count": 6,
   "metadata": {},
   "outputs": [],
   "source": [
    "def is_harmonic_at_point(x, i, j, tol=.000001, verbose=False):\n",
    "    diff = np.abs(x[i, j] - np.mean([x[i-1,j], x[i+1,j], x[i,j-1], x[i,j+1]])) \n",
    "    if verbose:\n",
    "        print(\"|{} - {}| = {}\".format(x[i,j], \n",
    "                                      np.mean([x[i-1,j], x[i+1,j], x[i,j-1], x[i,j+1]]), \n",
    "                                      diff))\n",
    "    return diff <= tol\n",
    "  \n",
    "def is_harmonic(x, n, tol=.000001, verbose=False):\n",
    "    for i in range(1, n):\n",
    "        for j in range(1, n):\n",
    "            if not is_harmonic_at_point(x, i, j, tol=tol, verbose=verbose):\n",
    "                if verbose:\n",
    "                    print((i,j))\n",
    "                return False\n",
    "    return True"
   ]
  },
  {
   "cell_type": "markdown",
   "metadata": {},
   "source": [
    "## Generating Non-Harmonic Functions.\n",
    "\n",
    "The question of what to use as a negative for the model deserves a lot of thought.  At present I have two approaches: \n",
    "\n",
    "In the first approach, I use \\\\((N+1)^2\\\\) independent Gaussian random variables to generate non-harmonic functions.  The likelihood that these will be harmonic is negligible.  \n",
    "\n",
    "In the second approach I generate a harmonic function, and add a gaussian density to the result.  Since the gaussian is not harmonic (it in particular violates the maximum modulus principle), the resulting sum is not harmonic."
   ]
  },
  {
   "cell_type": "code",
   "execution_count": 7,
   "metadata": {},
   "outputs": [],
   "source": [
    "def generate_nonharmonic(n):\n",
    "    x = np.random.randn(n+1,n+1)\n",
    "    x[0,0] = 0.\n",
    "    x[0,n] = 0.\n",
    "    x[n,0] = 0.\n",
    "    x[n,n] = 0.\n",
    "    return x"
   ]
  },
  {
   "cell_type": "code",
   "execution_count": 8,
   "metadata": {},
   "outputs": [],
   "source": [
    "def generate_gaussian(n, strength):\n",
    "    mean = np.random.randint(1,n, size=2)\n",
    "    cov = (n/2 - .5) * np.random.random(size=2) + .5\n",
    "    amplitude = strength * np.random.choice([1,-1])\n",
    "    rv = multivariate_normal(mean=mean, cov=cov)\n",
    "    x = rv.pdf(np.array(np.meshgrid(np.arange(n+1), np.arange(n+1))).T)\n",
    "    return amplitude * x\n",
    "\n",
    "def generate_harmonic_plus_noise(n, y, strength=.1):\n",
    "    harmonic = generate_harmonic(n, y)\n",
    "    output = harmonic + generate_gaussian(n, strength=strength)\n",
    "    return output"
   ]
  },
  {
   "cell_type": "code",
   "execution_count": 9,
   "metadata": {},
   "outputs": [],
   "source": [
    "def visualize(examples, n, cmap='cividis'):\n",
    "    num_examples = len(examples)\n",
    "    fig, axes = plt.subplots(1, num_examples, figsize=(n+1,n+1))\n",
    "    if num_examples == 1:\n",
    "        axes.imshow(examples[0], cmap=cmap)\n",
    "        axes.axis('off')\n",
    "        plt.show()\n",
    "        return\n",
    "    axes = axes.flatten()\n",
    "    for x, ax in zip(examples, axes):\n",
    "        ax.imshow(x, cmap=cmap)\n",
    "        ax.axis('off')\n",
    "    plt.tight_layout()\n",
    "    plt.show()"
   ]
  },
  {
   "cell_type": "markdown",
   "metadata": {},
   "source": [
    "## Visualizing the Data\n",
    "\n",
    "Here we can note the triviality, for large $N$, of distinguishing harmonic functions from random functions, and see the motivation for the second approach for generating nonharmonic functions."
   ]
  },
  {
   "cell_type": "code",
   "execution_count": 40,
   "metadata": {},
   "outputs": [
    {
     "data": {
      "image/png": "[encoded data removed]",
      "text/plain": [
       "<Figure size 792x792 with 5 Axes>"
      ]
     },
     "metadata": {
      "needs_background": "light"
     },
     "output_type": "display_data"
    }
   ],
   "source": [
    "visualize([generate_gaussian(10, strength=1) for i in range(5)], 10)"
   ]
  },
  {
   "cell_type": "code",
   "execution_count": 41,
   "metadata": {},
   "outputs": [
    {
     "data": {
      "image/png": "[encoded data removed]",
      "text/plain": [
       "<Figure size 792x792 with 5 Axes>"
      ]
     },
     "metadata": {
      "needs_background": "light"
     },
     "output_type": "display_data"
    }
   ],
   "source": [
    "visualize([generate_harmonic(10, np.random.randn(36)) for i in range(5)], 10)"
   ]
  },
  {
   "cell_type": "code",
   "execution_count": 42,
   "metadata": {},
   "outputs": [
    {
     "data": {
      "image/png": "[encoded data removed]",
      "text/plain": [
       "<Figure size 792x792 with 5 Axes>"
      ]
     },
     "metadata": {
      "needs_background": "light"
     },
     "output_type": "display_data"
    }
   ],
   "source": [
    "visualize([generate_nonharmonic(10) for i in range(5)], 10)"
   ]
  },
  {
   "cell_type": "code",
   "execution_count": 43,
   "metadata": {},
   "outputs": [
    {
     "data": {
      "image/png": "[encoded data removed]",
      "text/plain": [
       "<Figure size 792x792 with 5 Axes>"
      ]
     },
     "metadata": {
      "needs_background": "light"
     },
     "output_type": "display_data"
    }
   ],
   "source": [
    "visualize([generate_harmonic_plus_noise(10, np.random.randn(36), strength=1) for i in range(5)], 10)"
   ]
  },
  {
   "cell_type": "code",
   "execution_count": 44,
   "metadata": {},
   "outputs": [
    {
     "data": {
      "image/png": "[encoded data removed]",
      "text/plain": [
       "<Figure size 792x792 with 5 Axes>"
      ]
     },
     "metadata": {
      "needs_background": "light"
     },
     "output_type": "display_data"
    }
   ],
   "source": [
    "visualize([generate_harmonic_plus_noise(10, np.random.randn(36), strength=.3) for i in range(5)], 10)"
   ]
  },
  {
   "cell_type": "markdown",
   "metadata": {},
   "source": [
    "## Data Preparation"
   ]
  },
  {
   "cell_type": "code",
   "execution_count": 45,
   "metadata": {},
   "outputs": [],
   "source": [
    "def harmonic_data_generator(n):\n",
    "    while True:\n",
    "        if np.random.rand() < .5:\n",
    "            y = np.random.randn(4*(n-1))\n",
    "            yield np.reshape(generate_harmonic(n,y), (n+1, n+1)).astype(np.float32), 1\n",
    "        else:\n",
    "            yield np.reshape(generate_nonharmonic(n), (n+1, n+1)).astype(np.float32), 0"
   ]
  },
  {
   "cell_type": "code",
   "execution_count": 46,
   "metadata": {},
   "outputs": [],
   "source": [
    "def visualize_dataset(dataset, n, num_examples=5, cmap='cividis'):\n",
    "    examples = [item for item in dataset.take(num_examples)]\n",
    "    fig, axes = plt.subplots(1, num_examples, figsize=(n+1,n+1))\n",
    "    axes = axes.flatten()\n",
    "    for x, ax in zip(examples, axes):\n",
    "        ax.imshow(x[0], cmap=cmap, vmin=-3, vmax=3)\n",
    "        if x[1]:\n",
    "            ax.set_title(\"Harmonic\")\n",
    "        else:\n",
    "            ax.set_title(\"Nonharmonic\")\n",
    "        ax.axis('off')\n",
    "    plt.tight_layout()\n",
    "    plt.show()"
   ]
  },
  {
   "cell_type": "code",
   "execution_count": 47,
   "metadata": {},
   "outputs": [],
   "source": [
    "n=20\n",
    "dataset = tf.data.Dataset.from_generator(harmonic_data_generator, \n",
    "                                         args=[n], \n",
    "                                         output_types=(tf.float32, tf.bool), \n",
    "                                         output_shapes = ((n+1,n+1), ()))"
   ]
  },
  {
   "cell_type": "code",
   "execution_count": 48,
   "metadata": {},
   "outputs": [
    {
     "name": "stdout",
     "output_type": "stream",
     "text": [
      "(<tf.Tensor: id=1565, shape=(21, 21), dtype=float32, numpy=\n",
      "array([[ 0.00000000e+00, -7.99197435e-01, -1.24058962e-01,\n",
      "        -6.49394691e-01,  7.29956686e-01, -1.05401492e+00,\n",
      "         8.62384737e-02,  8.64143074e-01,  7.67432749e-01,\n",
      "        -7.48266160e-01,  8.93488944e-01, -6.07912719e-01,\n",
      "        -2.18001246e+00,  9.42160964e-01, -4.45354879e-01,\n",
      "         3.67568314e-01,  1.62131727e+00, -2.92411137e+00,\n",
      "        -1.04561090e+00,  5.08630991e-01,  0.00000000e+00],\n",
      "       [-7.55150020e-01, -1.85634160e+00,  5.11284828e-01,\n",
      "         3.41901422e-01,  2.88505644e-01,  9.36672449e-01,\n",
      "         4.43501860e-01, -1.22233093e+00,  4.54532117e-01,\n",
      "        -1.19238310e-01, -1.56750679e+00,  2.88055956e-01,\n",
      "         5.90160549e-01, -8.26324344e-01, -1.22877753e+00,\n",
      "        -1.36288500e+00,  7.54571080e-01, -1.30801499e-01,\n",
      "         4.21698004e-01,  1.70336044e+00,  5.13692558e-01],\n",
      "       [-4.99374140e-03, -5.13170004e-01, -8.74007285e-01,\n",
      "         6.38769388e-01,  5.61367512e-01, -3.46597075e-01,\n",
      "        -1.39844680e+00,  6.40065968e-01,  5.38403332e-01,\n",
      "        -6.79116547e-01,  2.43547976e-01, -6.92545533e-01,\n",
      "        -5.77463984e-01, -1.36471763e-01,  7.21472323e-01,\n",
      "        -7.56713331e-01, -9.13729548e-01, -5.08339047e-01,\n",
      "        -3.33127439e-01,  7.87826300e-01,  5.53866565e-01],\n",
      "       [-1.05291522e+00, -1.71703577e+00, -4.63574827e-01,\n",
      "        -7.52761602e-01, -5.85397959e-01, -6.60220146e-01,\n",
      "         1.62479830e+00,  1.79105312e-01, -1.35650158e+00,\n",
      "        -7.30195224e-01, -1.00723016e+00,  7.35659957e-01,\n",
      "        -3.58017325e-01, -1.15489078e+00,  7.29903221e-01,\n",
      "         5.08289874e-01,  1.43894434e-01,  4.72717017e-01,\n",
      "         1.53324640e+00,  1.11982679e+00,  2.55428696e+00],\n",
      "       [ 1.28270304e+00, -2.28093520e-01,  2.22262725e-01,\n",
      "         8.29225779e-01, -1.00760520e+00, -8.17509174e-01,\n",
      "         1.18531632e+00, -1.13834284e-01, -2.85296679e-01,\n",
      "         6.28323078e-01, -4.49441075e-01, -5.64425647e-01,\n",
      "        -7.01072216e-01, -1.08369327e+00, -1.09275961e+00,\n",
      "         1.15369606e+00, -1.19914210e+00,  1.25696361e-01,\n",
      "         1.02460694e+00,  5.07976353e-01, -7.21585974e-02],\n",
      "       [ 1.40495205e+00,  1.25990796e+00, -1.27969885e+00,\n",
      "         2.34827209e+00,  3.00736636e-01,  7.59861767e-01,\n",
      "         3.94033968e-01, -2.60035187e-01,  1.05014050e+00,\n",
      "        -2.33569100e-01,  5.15378475e-01,  5.06185830e-01,\n",
      "        -2.24273130e-02,  9.64262843e-01, -1.18712457e-02,\n",
      "        -2.35584557e-01,  1.06075263e+00,  1.45691037e+00,\n",
      "         2.27434826e+00, -1.21121001e+00,  1.71080256e+00],\n",
      "       [-1.17887700e+00,  8.88506323e-02,  5.05502880e-01,\n",
      "         1.03929949e+00, -9.40392092e-02,  2.59825969e+00,\n",
      "         1.92531928e-01,  1.74445361e-01,  2.06730223e+00,\n",
      "         3.15921545e-01, -1.36669505e+00, -4.92676497e-02,\n",
      "         4.48148161e-01,  1.40595949e+00, -8.66798639e-01,\n",
      "        -1.96632072e-01, -1.08450353e+00, -9.15410042e-01,\n",
      "        -5.88233232e-01, -6.38259888e-01,  5.03697693e-01],\n",
      "       [-8.20651114e-01, -1.44966280e+00,  1.38280344e+00,\n",
      "         5.74251711e-01, -3.45699728e-01, -5.02099514e-01,\n",
      "         4.92664039e-01,  1.46686983e+00,  1.13786471e+00,\n",
      "        -4.41332728e-01,  8.86780441e-01,  1.10122406e+00,\n",
      "        -2.47048005e-01,  1.82510898e-01,  8.83941472e-01,\n",
      "         1.43596470e+00,  1.17733252e+00,  1.05829410e-01,\n",
      "        -9.41983700e-01, -1.21414058e-01,  1.56000122e-01],\n",
      "       [ 4.78783369e-01, -2.33132929e-01, -1.88796782e+00,\n",
      "         3.34735960e-02,  7.98050240e-02, -3.41460258e-01,\n",
      "        -8.79332840e-01, -7.93554366e-01, -2.73113191e-01,\n",
      "        -1.01913035e-01, -3.45019221e-01,  6.60381168e-02,\n",
      "         4.79195356e-01,  1.51476562e-01, -4.98885959e-01,\n",
      "         8.89642984e-02, -3.33995372e-01, -1.67717671e+00,\n",
      "         1.41469955e+00,  2.35694334e-01, -4.35033858e-01],\n",
      "       [-6.26786709e-01,  1.82576549e+00, -3.14076006e-01,\n",
      "        -1.14062643e+00, -2.09711361e+00,  6.62276626e-01,\n",
      "        -1.03077090e+00, -1.84555888e+00,  6.57538533e-01,\n",
      "        -4.27361816e-01, -2.92194986e+00, -1.77198493e+00,\n",
      "         6.42831802e-01,  5.91602147e-01, -3.50844562e-01,\n",
      "        -1.30397129e+00, -5.00031352e-01, -7.87972152e-01,\n",
      "        -8.96945715e-01,  2.35681963e+00, -7.64178038e-01],\n",
      "       [-1.66011834e+00,  1.60986674e+00, -8.79085779e-01,\n",
      "        -4.24490392e-01, -1.07127500e+00,  5.68287313e-01,\n",
      "        -8.32743496e-02, -1.42396927e+00,  7.37744987e-01,\n",
      "         1.10703361e+00, -2.15512559e-01,  1.81794882e+00,\n",
      "        -3.88940513e-01, -1.50380597e-01, -1.09589361e-02,\n",
      "        -2.47862458e+00,  2.35170603e+00, -1.49521604e-01,\n",
      "         1.81342497e-01,  2.71469951e-01, -1.24191105e+00],\n",
      "       [ 1.38595867e+00, -1.98277211e+00,  8.58169973e-01,\n",
      "        -2.52616072e+00, -2.09377956e+00, -3.68383825e-01,\n",
      "        -4.29816514e-01, -5.13913989e-01,  1.51419699e+00,\n",
      "         1.05645871e+00,  8.40172827e-01,  1.08824837e+00,\n",
      "         6.64819062e-01,  7.55554378e-01,  3.53020072e-01,\n",
      "         4.74422276e-01, -9.96757209e-01, -1.28596649e-01,\n",
      "         3.40833306e-01,  1.07222125e-01, -6.09539688e-01],\n",
      "       [-1.38018712e-01, -4.14819777e-01,  6.69791639e-01,\n",
      "        -4.34831470e-01,  5.96561730e-02,  6.26497507e-01,\n",
      "         1.05105244e-01, -3.69918257e-01,  9.04855549e-01,\n",
      "         1.25213146e-01, -6.89715266e-01, -2.81211752e-02,\n",
      "         1.30454278e+00,  7.14150131e-01,  8.50044549e-01,\n",
      "         3.37395191e-01,  1.21460855e+00,  1.48662114e+00,\n",
      "        -8.81961882e-01, -3.58568937e-01, -1.52335322e+00],\n",
      "       [ 3.11988831e-01, -1.27527964e+00,  1.46633458e+00,\n",
      "        -1.04945004e+00,  5.19263148e-01, -2.13117933e+00,\n",
      "        -7.57950962e-01,  1.00342250e+00,  1.13899148e+00,\n",
      "         7.01877654e-01, -1.02128613e+00,  6.61990106e-01,\n",
      "         2.87768126e-01, -1.06205487e+00, -1.69742393e+00,\n",
      "        -1.66900754e+00,  8.40910733e-01, -1.40998095e-01,\n",
      "        -1.20712686e+00,  1.75636017e+00, -3.67949575e-01],\n",
      "       [ 2.06309468e-01, -1.88056755e+00,  2.00544286e+00,\n",
      "         8.09450448e-01,  1.15783105e-03, -1.35042623e-01,\n",
      "         1.26942778e+00, -8.68809104e-01, -3.61324519e-01,\n",
      "        -1.14387788e-01,  5.58158159e-01,  2.23899484e+00,\n",
      "         2.99046785e-01, -1.31421030e+00, -1.65249848e+00,\n",
      "        -1.91057265e+00,  5.79626620e-01,  8.73759985e-01,\n",
      "         1.00112307e+00, -1.61576554e-01,  5.11517107e-01],\n",
      "       [ 8.33939731e-01, -1.91171363e-01, -3.66693139e-01,\n",
      "         9.24548209e-01, -6.74258769e-01,  4.45273101e-01,\n",
      "         1.10938632e+00,  7.07803190e-01,  1.92157614e+00,\n",
      "        -5.37418783e-01, -4.33274180e-01,  3.27722095e-02,\n",
      "        -4.18155044e-01,  1.22810319e-01,  3.65700871e-01,\n",
      "        -9.91441667e-01,  1.59027949e-01,  2.84938693e-01,\n",
      "         2.70683861e+00, -9.25901711e-01,  2.42616355e-01],\n",
      "       [ 1.22184873e+00, -7.41978526e-01, -3.54184598e-01,\n",
      "        -3.43018204e-01, -8.84536564e-01, -1.30596054e+00,\n",
      "        -4.42289501e-01,  6.23684168e-01,  4.59165722e-01,\n",
      "        -4.60817993e-01, -8.29118073e-01, -3.68747771e-01,\n",
      "         5.34935057e-01,  1.84195685e+00,  3.22289586e-01,\n",
      "        -8.38695467e-01,  3.08816463e-01, -3.48991245e-01,\n",
      "        -2.26768255e-01, -8.75284314e-01,  9.29596841e-01],\n",
      "       [ 2.28510842e-01,  5.25403440e-01,  2.01036048e+00,\n",
      "         1.54700971e+00, -1.37693858e+00,  1.41926467e+00,\n",
      "        -8.83322775e-01,  1.76113224e+00, -7.46501744e-01,\n",
      "        -1.35834908e+00,  3.93002659e-01, -1.64083943e-01,\n",
      "        -2.81962067e-01, -2.50949800e-01, -7.07896590e-01,\n",
      "         6.82724640e-02, -7.91849136e-01, -1.15067817e-01,\n",
      "        -2.16609073e+00, -2.69875503e+00, -1.63123608e+00],\n",
      "       [ 1.99182773e+00, -6.08871058e-02, -1.51906538e+00,\n",
      "        -1.26075745e-01,  2.25525928e+00, -2.01596689e+00,\n",
      "        -4.84278947e-01,  8.49186182e-01, -6.71229288e-02,\n",
      "         7.32350171e-01,  4.81671393e-01, -3.20269138e-01,\n",
      "        -2.32425079e-01, -4.51724321e-01,  3.66452515e-01,\n",
      "         4.79681820e-01, -1.77331007e+00, -2.99439549e-01,\n",
      "        -1.35259950e+00, -2.80120015e-01, -2.18193799e-01],\n",
      "       [ 4.05378938e-01, -1.10470557e+00, -2.95306832e-01,\n",
      "        -2.78874695e-01, -1.99950337e-01,  1.71449459e+00,\n",
      "         9.11047086e-02,  4.63187516e-01, -2.90497601e-01,\n",
      "        -1.25918078e+00,  1.10856104e+00,  1.09085608e-02,\n",
      "        -2.43674681e-01, -1.34602690e+00, -8.80848169e-01,\n",
      "         4.15727019e-01, -2.49097633e+00,  6.35348499e-01,\n",
      "         5.90284765e-01,  1.14652634e+00,  1.72889662e+00],\n",
      "       [ 0.00000000e+00, -1.07054853e+00,  4.62554663e-01,\n",
      "        -1.38153315e+00,  1.56570792e+00,  3.96132499e-01,\n",
      "         1.29315567e+00, -1.10972774e+00, -8.82696271e-01,\n",
      "         1.19303167e+00,  1.42775512e+00, -6.91914558e-01,\n",
      "        -1.69027641e-01, -4.79256570e-01, -2.67968631e+00,\n",
      "         2.27736282e+00,  1.56622791e+00, -2.20861629e-01,\n",
      "        -1.30106091e-01, -2.69030035e-01,  0.00000000e+00]], dtype=float32)>,\n",
      " <tf.Tensor: id=1566, shape=(), dtype=bool, numpy=False>)\n",
      "(<tf.Tensor: id=1567, shape=(21, 21), dtype=float32, numpy=\n",
      "array([[ 0.00000000e+00, -6.59772813e-01, -1.25156677e+00,\n",
      "         3.25242609e-01,  6.23118699e-01,  2.20361781e+00,\n",
      "         2.34822407e-01, -2.89770693e-01,  3.65026206e-01,\n",
      "         2.16720067e-03, -3.85515124e-01,  1.48017621e+00,\n",
      "        -1.55145967e+00,  2.18367770e-01,  5.78837216e-01,\n",
      "         3.68499011e-01,  6.92305446e-01, -1.28159761e+00,\n",
      "        -1.26450431e+00,  5.78883052e-01,  0.00000000e+00],\n",
      "       [-8.56708407e-01,  8.32363725e-01,  3.81389171e-01,\n",
      "         1.38740194e+00,  1.20583236e+00,  1.15580642e+00,\n",
      "         1.04056764e+00, -2.22827479e-01, -3.46244782e-01,\n",
      "        -6.89398274e-02, -5.53925574e-01,  1.37251580e+00,\n",
      "        -6.65143430e-01,  1.13876653e+00, -1.10038662e+00,\n",
      "        -2.33383179e-01, -1.00098276e+00,  7.44464874e-01,\n",
      "         6.99604630e-01, -5.60132504e-01, -1.40293884e+00],\n",
      "       [ 3.95676196e-01, -1.38058794e+00, -1.06509840e+00,\n",
      "        -1.61720109e+00, -1.90640420e-01, -3.70462537e-01,\n",
      "        -5.89638531e-01, -3.95649252e-03, -1.47234607e+00,\n",
      "        -9.89530206e-01,  1.25779784e+00,  2.87071645e-01,\n",
      "        -3.69866431e-01, -1.97302783e+00, -1.62728801e-02,\n",
      "         2.59651989e-01,  1.67230040e-01, -1.08630896e-01,\n",
      "        -6.05014443e-01, -3.21706772e-01, -7.64579952e-01],\n",
      "       [-2.33206615e-01,  2.75858399e-02,  9.68114972e-01,\n",
      "        -1.75462946e-01,  4.80893403e-01,  4.93364990e-01,\n",
      "         4.12848324e-01, -3.75319630e-01,  1.14887595e+00,\n",
      "         2.65400887e-01, -1.30777586e+00, -7.26868689e-01,\n",
      "        -1.53578743e-01,  7.37706721e-01, -5.85553825e-01,\n",
      "        -1.08320022e+00,  1.06354904e+00, -7.04203248e-01,\n",
      "         6.22082114e-01,  1.87569785e+00,  1.30339110e+00],\n",
      "       [ 8.33676517e-01, -1.60662568e+00, -1.64142263e+00,\n",
      "         2.04741740e+00,  5.87293804e-01,  8.40626895e-01,\n",
      "        -6.43702745e-01,  9.54882085e-01, -8.94610733e-02,\n",
      "         7.57108152e-01,  4.89526033e-01,  6.95898056e-01,\n",
      "        -8.00762892e-01, -1.34776950e-01,  1.22372842e+00,\n",
      "         1.00505614e+00,  2.15991759e+00,  9.41218972e-01,\n",
      "        -2.11162671e-01,  1.17844689e+00, -2.26402235e+00],\n",
      "       [ 6.43999040e-01,  1.02011728e+00, -8.24766397e-01,\n",
      "         3.46667588e-01,  1.20564842e+00, -5.52839577e-01,\n",
      "         7.45071590e-01,  8.46236110e-01, -2.07755968e-01,\n",
      "         6.75587714e-01, -1.91957688e+00,  6.65897489e-01,\n",
      "         2.76278138e-01, -1.55349657e-01,  1.25401750e-01,\n",
      "         1.17256200e+00,  4.87959474e-01,  2.90749460e-01,\n",
      "        -9.70716849e-02,  1.42141211e+00, -4.93152976e-01],\n",
      "       [-4.72918659e-01,  6.99335456e-01, -3.52237225e-01,\n",
      "        -2.31055692e-01,  8.33876789e-01,  1.23507664e-01,\n",
      "         1.11781645e+00,  5.11089981e-01,  2.66342968e-01,\n",
      "        -2.46870238e-02,  1.10797778e-01,  9.87319112e-01,\n",
      "         9.24398899e-01, -8.12600553e-01,  4.52330559e-01,\n",
      "         4.48487401e-01, -8.92259717e-01,  1.29440105e+00,\n",
      "         2.63621241e-01, -7.35334877e-04, -1.54764876e-01],\n",
      "       [ 5.35537302e-01,  3.02605450e-01, -1.34706069e-02,\n",
      "        -4.09715950e-01, -1.06481612e+00,  9.51180696e-01,\n",
      "         7.42682144e-02,  1.25462890e-01, -1.45148599e+00,\n",
      "         4.22136217e-01, -1.14406145e+00, -7.19124019e-01,\n",
      "        -6.71266258e-01, -9.19783209e-03, -1.95177460e+00,\n",
      "        -3.78932685e-01,  2.50901401e-01, -1.41604877e+00,\n",
      "         7.48294532e-01,  5.02322555e-01,  1.66949975e+00],\n",
      "       [ 1.55245674e+00,  2.15188891e-01,  1.35128617e-01,\n",
      "        -1.64502192e+00, -2.48809481e+00,  2.44560823e-01,\n",
      "        -2.52181113e-01, -1.29415143e+00,  9.56661105e-01,\n",
      "        -1.42391145e+00,  1.10859799e+00,  1.91948831e-01,\n",
      "        -9.53821540e-01,  6.46176457e-01, -2.03919649e+00,\n",
      "        -1.41426003e+00,  1.42774534e+00,  9.74274993e-01,\n",
      "         2.67302275e-01,  1.46550342e-01, -1.45087075e+00],\n",
      "       [ 1.64750075e+00,  6.41845584e-01, -9.19977129e-01,\n",
      "        -3.87169749e-01,  2.67896509e+00,  3.30416411e-01,\n",
      "        -1.39380145e+00, -1.99396864e-01,  1.55320793e-01,\n",
      "        -1.34662211e-01, -2.07595706e+00,  2.59860492e+00,\n",
      "        -2.21694398e+00, -6.57312512e-01, -1.27030241e+00,\n",
      "        -9.10987079e-01, -2.14664006e+00, -1.67993093e+00,\n",
      "        -3.53599459e-01, -1.20265603e-01, -6.12168573e-02],\n",
      "       [ 8.42714012e-01,  1.21696949e+00, -1.42894244e+00,\n",
      "         1.23141313e+00,  1.26173460e+00, -1.20602831e-01,\n",
      "         1.58408475e+00, -1.60335886e+00,  2.03638617e-03,\n",
      "        -1.92834198e+00,  1.49524927e+00,  4.00951833e-01,\n",
      "         5.84194481e-01,  1.55997090e-02,  7.17828453e-01,\n",
      "        -1.03137398e+00, -1.06058979e+00,  2.95742124e-01,\n",
      "         3.65858465e-01,  2.59263098e-01, -4.58636343e-01],\n",
      "       [ 1.70724273e+00, -5.14766514e-01, -9.21706498e-01,\n",
      "        -3.22054625e-02,  8.35274577e-01,  2.06007212e-01,\n",
      "         9.15160179e-02, -2.81178892e-01, -1.18853128e+00,\n",
      "        -7.18154609e-01,  3.73078942e-01,  2.36176774e-02,\n",
      "        -9.46184337e-01, -1.21321309e+00, -1.13960230e+00,\n",
      "        -8.63376260e-02,  6.02174699e-01, -6.41508818e-01,\n",
      "        -5.44284999e-01, -1.31363988e+00,  2.24716380e-01],\n",
      "       [-2.80462772e-01,  9.29907918e-01, -5.90905786e-01,\n",
      "         8.25616643e-02, -1.28353953e+00, -1.29849577e+00,\n",
      "        -1.51492906e+00, -1.07076585e-01,  1.14664517e-01,\n",
      "         9.53381777e-01,  1.15049696e+00,  2.82689571e-01,\n",
      "         4.39160794e-01, -4.96887147e-01, -2.63176537e+00,\n",
      "         1.64387390e-01, -4.47903067e-01, -9.13727403e-01,\n",
      "        -9.15945292e-01, -6.60601616e-01, -1.50490209e-01],\n",
      "       [ 1.36016834e+00,  7.49489486e-01,  1.72145629e+00,\n",
      "         1.04395258e+00,  1.13611543e+00,  1.28271937e+00,\n",
      "        -1.59861290e+00, -4.81664509e-01, -2.57044405e-01,\n",
      "        -4.53378588e-01, -1.34958398e+00, -2.07424140e+00,\n",
      "        -9.20085609e-01,  5.82958341e-01,  2.73091756e-02,\n",
      "        -5.32915950e-01, -2.45571688e-01,  3.70448947e-01,\n",
      "        -1.48759758e+00, -6.40085042e-01, -5.65414488e-01],\n",
      "       [ 6.64061785e-01,  4.54795033e-01,  4.33547832e-02,\n",
      "         9.58559662e-03, -1.55108249e+00, -5.25715470e-01,\n",
      "        -1.03241837e+00,  1.11948073e+00, -1.43847537e+00,\n",
      "         1.31942523e+00,  7.48004973e-01, -4.11089025e-02,\n",
      "         7.05460787e-01,  7.65200973e-01,  1.79718947e+00,\n",
      "         1.50613439e+00,  1.21398902e+00, -5.86699963e-01,\n",
      "        -5.18255472e-01,  1.17202926e+00, -4.82108742e-01],\n",
      "       [ 1.65983462e+00, -2.10898072e-01,  3.85802239e-02,\n",
      "        -5.17124057e-01,  4.80839610e-01, -1.53889135e-01,\n",
      "         1.40628040e+00, -6.18791759e-01, -1.05033839e+00,\n",
      "         1.01120496e+00, -4.89939630e-01,  3.05844754e-01,\n",
      "        -5.45453012e-01, -4.51452494e-01, -1.10542226e+00,\n",
      "         1.57111681e+00,  3.56960565e-01, -1.05504513e+00,\n",
      "        -1.36276221e+00, -4.12869900e-01, -4.94844139e-01],\n",
      "       [-4.26758230e-01, -1.38328087e+00,  1.53700066e+00,\n",
      "         7.82648563e-01,  1.28547800e+00, -3.54593039e-01,\n",
      "        -8.02779794e-01, -1.03455055e+00,  4.96027619e-03,\n",
      "         9.39201891e-01,  1.99913931e+00,  2.15029716e+00,\n",
      "         8.43622625e-01, -1.38118041e+00,  5.22082634e-02,\n",
      "         3.07680130e-01,  9.88462448e-01, -6.35011911e-01,\n",
      "         1.24408579e+00, -1.42131066e+00,  2.19000936e+00],\n",
      "       [-6.23754740e-01, -8.71143103e-01,  6.12604558e-01,\n",
      "         6.13646030e-01, -6.48362994e-01,  5.90863109e-01,\n",
      "        -1.49811339e+00, -5.51331639e-01, -2.24336952e-01,\n",
      "        -6.66519880e-01, -3.82578790e-01,  2.47349501e-01,\n",
      "        -9.11851227e-01, -8.71103644e-01,  1.61267444e-01,\n",
      "        -6.33521378e-01, -1.46479368e+00, -1.93998605e-01,\n",
      "         2.30193540e-01, -9.43858981e-01, -2.10925102e+00],\n",
      "       [-1.51604438e+00,  6.21769845e-01,  2.29638648e+00,\n",
      "         6.22980833e-01, -9.38749552e-01,  2.10967168e-01,\n",
      "         1.86932480e+00, -1.98388910e+00,  1.77607968e-01,\n",
      "         1.40168655e+00,  1.58264697e+00,  9.15381610e-01,\n",
      "         1.33897349e-01,  5.25466621e-01, -4.01899964e-01,\n",
      "        -3.53640676e-01,  1.77993143e+00, -2.20562625e+00,\n",
      "         1.42477882e+00,  1.47071064e-01,  4.47170407e-01],\n",
      "       [ 4.63972718e-01,  2.11592340e+00,  1.08653200e+00,\n",
      "        -4.77056861e-01,  3.01051676e-01,  1.99260816e-01,\n",
      "        -6.27690911e-01,  8.16158473e-01, -4.81419861e-01,\n",
      "         8.96668553e-01, -3.40422541e-01,  4.39565480e-01,\n",
      "        -9.21314061e-01,  1.43266097e-01, -3.32050413e-01,\n",
      "         9.36907709e-01, -6.27307534e-01, -8.08298826e-01,\n",
      "         4.72941697e-01,  9.55268621e-01,  9.97253537e-01],\n",
      "       [ 0.00000000e+00, -1.32077754e+00, -1.94904491e-01,\n",
      "         2.80337960e-01,  6.16984487e-01, -1.10765922e+00,\n",
      "        -7.25253522e-02,  7.86183998e-02,  1.53476036e+00,\n",
      "         7.09183156e-01,  3.00092697e-01, -1.15563679e+00,\n",
      "         2.74887943e+00,  4.34348404e-01,  6.54036582e-01,\n",
      "         3.94352257e-01, -3.16937834e-01, -7.22756982e-01,\n",
      "         1.45386219e+00,  1.13950849e+00,  0.00000000e+00]], dtype=float32)>,\n",
      " <tf.Tensor: id=1568, shape=(), dtype=bool, numpy=False>)\n"
     ]
    }
   ],
   "source": [
    "for item in dataset.take(2):\n",
    "    pprint(item)"
   ]
  },
  {
   "cell_type": "code",
   "execution_count": 49,
   "metadata": {},
   "outputs": [
    {
     "data": {
      "image/png": "[encoded data removed]",
      "text/plain": [
       "<Figure size 1512x1512 with 5 Axes>"
      ]
     },
     "metadata": {
      "needs_background": "light"
     },
     "output_type": "display_data"
    }
   ],
   "source": [
    "visualize_dataset(dataset, n, num_examples=5)"
   ]
  },
  {
   "cell_type": "markdown",
   "metadata": {},
   "source": [
    "## Changing the Training Dataset\n",
    "\n",
    "Somtimes doesn't converge.  Dataset may be too difficult to get started sometimes.  Seems to depend on initialization."
   ]
  },
  {
   "cell_type": "code",
   "execution_count": 60,
   "metadata": {},
   "outputs": [],
   "source": [
    "def hard_harmonic_data_generator(n, strength=.3):\n",
    "    while True:\n",
    "        x = np.random.rand()\n",
    "        if x < .5:\n",
    "            y = np.random.randn(4*(n-1))\n",
    "            yield np.reshape(generate_harmonic(n,y), (n+1, n+1)).astype(np.float32), 1\n",
    "        elif x < 1.:\n",
    "            y = np.random.randn(4*(n-1))\n",
    "            yield np.reshape(generate_harmonic_plus_noise(n,y,strength=strength), (n+1, n+1)).astype(np.float32), 0\n",
    "        else:\n",
    "            yield np.reshape(generate_nonharmonic(n), (n+1, n+1)).astype(np.float32), 0"
   ]
  },
  {
   "cell_type": "code",
   "execution_count": 61,
   "metadata": {},
   "outputs": [],
   "source": [
    "n=5\n",
    "noise_strength=1"
   ]
  },
  {
   "cell_type": "code",
   "execution_count": 62,
   "metadata": {},
   "outputs": [],
   "source": [
    "dataset = tf.data.Dataset.from_generator(harmonic_data_generator, \n",
    "                                         args=[n], \n",
    "                                         output_types=(tf.float32, tf.bool), \n",
    "                                         output_shapes = ((n+1,n+1), ()))"
   ]
  },
  {
   "cell_type": "code",
   "execution_count": 63,
   "metadata": {},
   "outputs": [],
   "source": [
    "hard_dataset = tf.data.Dataset.from_generator(hard_harmonic_data_generator, \n",
    "                                              args=[n, noise_strength], \n",
    "                                              output_types=(tf.float32, tf.bool), \n",
    "                                              output_shapes = ((n+1,n+1), ()))"
   ]
  },
  {
   "cell_type": "code",
   "execution_count": 64,
   "metadata": {},
   "outputs": [
    {
     "data": {
      "image/png": "[encoded data removed]",
      "text/plain": [
       "<Figure size 432x432 with 5 Axes>"
      ]
     },
     "metadata": {
      "needs_background": "light"
     },
     "output_type": "display_data"
    }
   ],
   "source": [
    "visualize_dataset(dataset, n, num_examples=5)"
   ]
  },
  {
   "cell_type": "code",
   "execution_count": 65,
   "metadata": {},
   "outputs": [
    {
     "data": {
      "image/png": "[encoded data removed]",
      "text/plain": [
       "<Figure size 432x432 with 5 Axes>"
      ]
     },
     "metadata": {
      "needs_background": "light"
     },
     "output_type": "display_data"
    }
   ],
   "source": [
    "visualize_dataset(hard_dataset, n, num_examples=5)"
   ]
  },
  {
   "cell_type": "code",
   "execution_count": 66,
   "metadata": {},
   "outputs": [],
   "source": [
    "model = tf.keras.Sequential([\n",
    "    tf.keras.layers.Reshape((n+1,n+1,1), input_shape=(n+1,n+1)),\n",
    "    tf.keras.layers.Conv2D(32, \n",
    "                           kernel_size=3,\n",
    "                           input_shape=(n+1, n+1, 1),\n",
    "                           activation='relu',\n",
    "                           kernel_regularizer=tf.keras.regularizers.l1(.001)),\n",
    "    tf.keras.layers.Dropout(.3),\n",
    "    tf.keras.layers.Dense(1, activation='relu'),\n",
    "    tf.keras.layers.Flatten(),\n",
    "    tf.keras.layers.Dense(1, activation='sigmoid')\n",
    "], name=\"Conv2D-Hard\")"
   ]
  },
  {
   "cell_type": "code",
   "execution_count": 67,
   "metadata": {},
   "outputs": [],
   "source": [
    "model.compile(optimizer='adam',\n",
    "              loss=tf.keras.losses.binary_crossentropy,\n",
    "              metrics=['accuracy'])"
   ]
  },
  {
   "cell_type": "code",
   "execution_count": 68,
   "metadata": {},
   "outputs": [
    {
     "name": "stdout",
     "output_type": "stream",
     "text": [
      "Model: \"Conv2D-Hard\"\n",
      "_________________________________________________________________\n",
      "Layer (type)                 Output Shape              Param #   \n",
      "=================================================================\n",
      "reshape_2 (Reshape)          (None, 6, 6, 1)           0         \n",
      "_________________________________________________________________\n",
      "conv2d_2 (Conv2D)            (None, 4, 4, 32)          320       \n",
      "_________________________________________________________________\n",
      "dropout_2 (Dropout)          (None, 4, 4, 32)          0         \n",
      "_________________________________________________________________\n",
      "dense_4 (Dense)              (None, 4, 4, 1)           33        \n",
      "_________________________________________________________________\n",
      "flatten_2 (Flatten)          (None, 16)                0         \n",
      "_________________________________________________________________\n",
      "dense_5 (Dense)              (None, 1)                 17        \n",
      "=================================================================\n",
      "Total params: 370\n",
      "Trainable params: 370\n",
      "Non-trainable params: 0\n",
      "_________________________________________________________________\n",
      "None\n"
     ]
    }
   ],
   "source": [
    "print(model.summary())"
   ]
  },
  {
   "cell_type": "code",
   "execution_count": 69,
   "metadata": {
    "scrolled": false
   },
   "outputs": [
    {
     "name": "stdout",
     "output_type": "stream",
     "text": [
      "Train for 100 steps\n",
      "Epoch 1/20\n",
      "100/100 [==============================] - 4s 39ms/step - loss: 0.7105 - accuracy: 0.5042\n",
      "Epoch 2/20\n",
      "100/100 [==============================] - 3s 34ms/step - loss: 0.7027 - accuracy: 0.4963\n",
      "Epoch 3/20\n",
      "100/100 [==============================] - 4s 35ms/step - loss: 0.6979 - accuracy: 0.4939\n",
      "Epoch 4/20\n",
      "100/100 [==============================] - 3s 35ms/step - loss: 0.6954 - accuracy: 0.4952\n",
      "Epoch 5/20\n",
      "100/100 [==============================] - 4s 42ms/step - loss: 0.6942 - accuracy: 0.5014\n",
      "Epoch 6/20\n",
      "100/100 [==============================] - 3s 35ms/step - loss: 0.6936 - accuracy: 0.4966\n",
      "Epoch 7/20\n",
      "100/100 [==============================] - 3s 34ms/step - loss: 0.6934 - accuracy: 0.4994\n",
      "Epoch 8/20\n",
      "100/100 [==============================] - 3s 35ms/step - loss: 0.6932 - accuracy: 0.5050\n",
      "Epoch 9/20\n",
      "100/100 [==============================] - 3s 35ms/step - loss: 0.6932 - accuracy: 0.4978\n",
      "Epoch 10/20\n",
      "100/100 [==============================] - 4s 35ms/step - loss: 0.6932 - accuracy: 0.4961\n",
      "Epoch 11/20\n",
      "100/100 [==============================] - 3s 35ms/step - loss: 0.6932 - accuracy: 0.4992\n",
      "Epoch 12/20\n",
      "100/100 [==============================] - 4s 36ms/step - loss: 0.6932 - accuracy: 0.4953\n",
      "Epoch 13/20\n",
      "100/100 [==============================] - 4s 37ms/step - loss: 0.6932 - accuracy: 0.5025\n",
      "Epoch 14/20\n",
      "100/100 [==============================] - 3s 35ms/step - loss: 0.6931 - accuracy: 0.5061\n",
      "Epoch 15/20\n",
      "100/100 [==============================] - 4s 35ms/step - loss: 0.6931 - accuracy: 0.5077\n",
      "Epoch 16/20\n",
      "100/100 [==============================] - 3s 35ms/step - loss: 0.6933 - accuracy: 0.4980\n",
      "Epoch 17/20\n",
      "100/100 [==============================] - 3s 35ms/step - loss: 0.6932 - accuracy: 0.4950\n",
      "Epoch 18/20\n",
      "100/100 [==============================] - 3s 35ms/step - loss: 0.6932 - accuracy: 0.4963\n",
      "Epoch 19/20\n",
      "100/100 [==============================] - 4s 35ms/step - loss: 0.6932 - accuracy: 0.5039\n",
      "Epoch 20/20\n",
      "100/100 [==============================] - 4s 35ms/step - loss: 0.6932 - accuracy: 0.5039\n"
     ]
    }
   ],
   "source": [
    "h = model.fit(hard_dataset.batch(64), epochs=20, steps_per_epoch=100)"
   ]
  },
  {
   "cell_type": "markdown",
   "metadata": {},
   "source": [
    "## Mixed Dataset\n",
    "\n",
    "Counterexamples range from hard to easy."
   ]
  },
  {
   "cell_type": "code",
   "execution_count": 93,
   "metadata": {},
   "outputs": [],
   "source": [
    "def mixed_harmonic_data_generator(n):\n",
    "    while True:\n",
    "        x = np.random.rand()\n",
    "        if x < .5:\n",
    "            y = np.random.randn(4*(n-1))\n",
    "            yield np.reshape(generate_harmonic(n,y), (n+1, n+1)).astype(np.float32), 1\n",
    "        elif x < .6:\n",
    "            y = np.random.randn(4*(n-1))\n",
    "            yield np.reshape(generate_harmonic_plus_noise(n,y,strength=.1), (n+1, n+1)).astype(np.float32), 0\n",
    "        elif x < .7:\n",
    "            y = np.random.randn(4*(n-1))\n",
    "            yield np.reshape(generate_harmonic_plus_noise(n,y,strength=.3), (n+1, n+1)).astype(np.float32), 0\n",
    "        elif x < .8:\n",
    "            y = np.random.randn(4*(n-1))\n",
    "            yield np.reshape(generate_harmonic_plus_noise(n,y,strength=.5), (n+1, n+1)).astype(np.float32), 0\n",
    "        elif x < .9:\n",
    "            y = np.random.randn(4*(n-1))\n",
    "            yield np.reshape(generate_harmonic_plus_noise(n,y,strength=1.), (n+1, n+1)).astype(np.float32), 0\n",
    "        elif x < 1.:\n",
    "            yield np.reshape(generate_nonharmonic(n), (n+1, n+1)).astype(np.float32), 0"
   ]
  },
  {
   "cell_type": "code",
   "execution_count": 94,
   "metadata": {},
   "outputs": [],
   "source": [
    "n=5"
   ]
  },
  {
   "cell_type": "code",
   "execution_count": 95,
   "metadata": {},
   "outputs": [],
   "source": [
    "mixed_dataset = tf.data.Dataset.from_generator(mixed_harmonic_data_generator, \n",
    "                                               args=[n], \n",
    "                                               output_types=(tf.float32, tf.bool), \n",
    "                                               output_shapes = ((n+1,n+1), ()))"
   ]
  },
  {
   "cell_type": "code",
   "execution_count": 96,
   "metadata": {},
   "outputs": [
    {
     "data": {
      "image/png": "[encoded data removed]",
      "text/plain": [
       "<Figure size 432x432 with 5 Axes>"
      ]
     },
     "metadata": {
      "needs_background": "light"
     },
     "output_type": "display_data"
    }
   ],
   "source": [
    "visualize_dataset(mixed_dataset, n, num_examples=5)"
   ]
  },
  {
   "cell_type": "code",
   "execution_count": 101,
   "metadata": {},
   "outputs": [],
   "source": [
    "model = tf.keras.Sequential([\n",
    "    tf.keras.layers.Reshape((n+1,n+1,1), input_shape=(n+1,n+1)),\n",
    "    tf.keras.layers.Conv2D(32, \n",
    "                           kernel_size=3,\n",
    "                           input_shape=(n+1, n+1, 1),\n",
    "                           activation='relu',\n",
    "                           kernel_regularizer=tf.keras.regularizers.l1(.001)),\n",
    "    tf.keras.layers.Dropout(.05),\n",
    "    tf.keras.layers.Dense(1, activation='relu'),\n",
    "    tf.keras.layers.Flatten(),\n",
    "    tf.keras.layers.Dense(1, activation='sigmoid')\n",
    "], name=\"Conv2D-Mixed\")"
   ]
  },
  {
   "cell_type": "code",
   "execution_count": 102,
   "metadata": {},
   "outputs": [],
   "source": [
    "model.compile(optimizer='adam',\n",
    "              loss=tf.keras.losses.binary_crossentropy,\n",
    "              metrics=['accuracy'])"
   ]
  },
  {
   "cell_type": "code",
   "execution_count": 103,
   "metadata": {},
   "outputs": [
    {
     "name": "stdout",
     "output_type": "stream",
     "text": [
      "Model: \"Conv2D-Mixed\"\n",
      "_________________________________________________________________\n",
      "Layer (type)                 Output Shape              Param #   \n",
      "=================================================================\n",
      "reshape_7 (Reshape)          (None, 6, 6, 1)           0         \n",
      "_________________________________________________________________\n",
      "conv2d_7 (Conv2D)            (None, 4, 4, 32)          320       \n",
      "_________________________________________________________________\n",
      "dropout_7 (Dropout)          (None, 4, 4, 32)          0         \n",
      "_________________________________________________________________\n",
      "dense_14 (Dense)             (None, 4, 4, 1)           33        \n",
      "_________________________________________________________________\n",
      "flatten_7 (Flatten)          (None, 16)                0         \n",
      "_________________________________________________________________\n",
      "dense_15 (Dense)             (None, 1)                 17        \n",
      "=================================================================\n",
      "Total params: 370\n",
      "Trainable params: 370\n",
      "Non-trainable params: 0\n",
      "_________________________________________________________________\n",
      "None\n"
     ]
    }
   ],
   "source": [
    "print(model.summary())"
   ]
  },
  {
   "cell_type": "code",
   "execution_count": 104,
   "metadata": {
    "scrolled": false
   },
   "outputs": [
    {
     "name": "stdout",
     "output_type": "stream",
     "text": [
      "Train for 100 steps\n",
      "Epoch 1/100\n",
      "100/100 [==============================] - 4s 38ms/step - loss: 0.7050 - accuracy: 0.5083\n",
      "Epoch 2/100\n",
      "100/100 [==============================] - 3s 31ms/step - loss: 0.6859 - accuracy: 0.5480\n",
      "Epoch 3/100\n",
      "100/100 [==============================] - 3s 31ms/step - loss: 0.6733 - accuracy: 0.5539\n",
      "Epoch 4/100\n",
      "100/100 [==============================] - 3s 31ms/step - loss: 0.6627 - accuracy: 0.5653\n",
      "Epoch 5/100\n",
      "100/100 [==============================] - 3s 32ms/step - loss: 0.6448 - accuracy: 0.5628\n",
      "Epoch 6/100\n",
      "100/100 [==============================] - 3s 33ms/step - loss: 0.6416 - accuracy: 0.5800\n",
      "Epoch 7/100\n",
      "100/100 [==============================] - 3s 35ms/step - loss: 0.6357 - accuracy: 0.5950\n",
      "Epoch 8/100\n",
      "100/100 [==============================] - 4s 36ms/step - loss: 0.6398 - accuracy: 0.5723\n",
      "Epoch 9/100\n",
      "100/100 [==============================] - 3s 30ms/step - loss: 0.6272 - accuracy: 0.5986\n",
      "Epoch 10/100\n",
      "100/100 [==============================] - 3s 32ms/step - loss: 0.6371 - accuracy: 0.5788\n",
      "Epoch 11/100\n",
      "100/100 [==============================] - 3s 31ms/step - loss: 0.6343 - accuracy: 0.5859\n",
      "Epoch 12/100\n",
      "100/100 [==============================] - 3s 31ms/step - loss: 0.6369 - accuracy: 0.5928\n",
      "Epoch 13/100\n",
      "100/100 [==============================] - 3s 29ms/step - loss: 0.6279 - accuracy: 0.5970\n",
      "Epoch 14/100\n",
      "100/100 [==============================] - 3s 29ms/step - loss: 0.6295 - accuracy: 0.5883\n",
      "Epoch 15/100\n",
      "100/100 [==============================] - 3s 29ms/step - loss: 0.6315 - accuracy: 0.5902\n",
      "Epoch 16/100\n",
      "100/100 [==============================] - 3s 32ms/step - loss: 0.6319 - accuracy: 0.5967 \n",
      "Epoch 17/100\n",
      "100/100 [==============================] - 3s 30ms/step - loss: 0.6310 - accuracy: 0.5939\n",
      "Epoch 18/100\n",
      "100/100 [==============================] - 3s 30ms/step - loss: 0.6362 - accuracy: 0.5966\n",
      "Epoch 19/100\n",
      "100/100 [==============================] - 3s 31ms/step - loss: 0.6266 - accuracy: 0.5948\n",
      "Epoch 20/100\n",
      "100/100 [==============================] - 3s 32ms/step - loss: 0.6257 - accuracy: 0.5945\n",
      "Epoch 21/100\n",
      "100/100 [==============================] - 3s 29ms/step - loss: 0.6177 - accuracy: 0.6067\n",
      "Epoch 22/100\n",
      "100/100 [==============================] - 3s 31ms/step - loss: 0.6293 - accuracy: 0.5881\n",
      "Epoch 23/100\n",
      "100/100 [==============================] - 3s 30ms/step - loss: 0.6323 - accuracy: 0.5925\n",
      "Epoch 24/100\n",
      "100/100 [==============================] - 3s 30ms/step - loss: 0.6208 - accuracy: 0.6044\n",
      "Epoch 25/100\n",
      "100/100 [==============================] - 3s 29ms/step - loss: 0.6249 - accuracy: 0.6005\n",
      "Epoch 26/100\n",
      "100/100 [==============================] - 3s 30ms/step - loss: 0.6244 - accuracy: 0.6011\n",
      "Epoch 27/100\n",
      "100/100 [==============================] - 3s 29ms/step - loss: 0.6245 - accuracy: 0.6045\n",
      "Epoch 28/100\n",
      "100/100 [==============================] - 3s 29ms/step - loss: 0.6260 - accuracy: 0.5950\n",
      "Epoch 29/100\n",
      "100/100 [==============================] - 3s 30ms/step - loss: 0.6223 - accuracy: 0.6083\n",
      "Epoch 30/100\n",
      "100/100 [==============================] - 3s 29ms/step - loss: 0.6270 - accuracy: 0.5834\n",
      "Epoch 31/100\n",
      "100/100 [==============================] - 3s 30ms/step - loss: 0.6182 - accuracy: 0.6062\n",
      "Epoch 32/100\n",
      "100/100 [==============================] - 3s 34ms/step - loss: 0.6281 - accuracy: 0.5911\n",
      "Epoch 33/100\n",
      "100/100 [==============================] - 3s 29ms/step - loss: 0.6223 - accuracy: 0.5983\n",
      "Epoch 34/100\n",
      "100/100 [==============================] - 3s 29ms/step - loss: 0.6231 - accuracy: 0.5919\n",
      "Epoch 35/100\n",
      "100/100 [==============================] - 3s 32ms/step - loss: 0.6263 - accuracy: 0.5938\n",
      "Epoch 36/100\n",
      "100/100 [==============================] - 3s 30ms/step - loss: 0.6222 - accuracy: 0.5977\n",
      "Epoch 37/100\n",
      "100/100 [==============================] - 3s 33ms/step - loss: 0.6244 - accuracy: 0.5955\n",
      "Epoch 38/100\n",
      "100/100 [==============================] - 3s 34ms/step - loss: 0.6188 - accuracy: 0.6031\n",
      "Epoch 39/100\n",
      "100/100 [==============================] - 3s 34ms/step - loss: 0.6269 - accuracy: 0.5950\n",
      "Epoch 40/100\n",
      "100/100 [==============================] - 3s 33ms/step - loss: 0.6164 - accuracy: 0.6081\n",
      "Epoch 41/100\n",
      "100/100 [==============================] - 3s 34ms/step - loss: 0.6237 - accuracy: 0.6019\n",
      "Epoch 42/100\n",
      "100/100 [==============================] - 3s 34ms/step - loss: 0.6232 - accuracy: 0.6006\n",
      "Epoch 43/100\n",
      "100/100 [==============================] - 3s 34ms/step - loss: 0.6181 - accuracy: 0.6011\n",
      "Epoch 44/100\n",
      "100/100 [==============================] - 3s 34ms/step - loss: 0.6191 - accuracy: 0.5953\n",
      "Epoch 45/100\n",
      "100/100 [==============================] - 3s 31ms/step - loss: 0.6235 - accuracy: 0.5916\n",
      "Epoch 46/100\n",
      "100/100 [==============================] - 3s 29ms/step - loss: 0.6242 - accuracy: 0.5961\n",
      "Epoch 47/100\n",
      "100/100 [==============================] - 3s 29ms/step - loss: 0.6234 - accuracy: 0.5970\n",
      "Epoch 48/100\n",
      "100/100 [==============================] - 3s 34ms/step - loss: 0.6259 - accuracy: 0.5945\n",
      "Epoch 49/100\n",
      "100/100 [==============================] - 3s 28ms/step - loss: 0.6170 - accuracy: 0.6052\n",
      "Epoch 50/100\n",
      "100/100 [==============================] - 3s 29ms/step - loss: 0.6228 - accuracy: 0.5928\n",
      "Epoch 51/100\n",
      "100/100 [==============================] - 3s 29ms/step - loss: 0.6204 - accuracy: 0.5973\n",
      "Epoch 52/100\n",
      "100/100 [==============================] - 3s 29ms/step - loss: 0.6212 - accuracy: 0.6050\n",
      "Epoch 53/100\n",
      "100/100 [==============================] - 3s 28ms/step - loss: 0.6232 - accuracy: 0.6002\n",
      "Epoch 54/100\n",
      "100/100 [==============================] - 3s 29ms/step - loss: 0.6202 - accuracy: 0.6036\n",
      "Epoch 55/100\n",
      "100/100 [==============================] - 3s 29ms/step - loss: 0.6174 - accuracy: 0.5962\n",
      "Epoch 56/100\n",
      "100/100 [==============================] - 3s 29ms/step - loss: 0.6217 - accuracy: 0.5977\n",
      "Epoch 57/100\n",
      "100/100 [==============================] - 3s 29ms/step - loss: 0.6212 - accuracy: 0.6028\n",
      "Epoch 58/100\n",
      "100/100 [==============================] - 3s 28ms/step - loss: 0.6192 - accuracy: 0.6050\n",
      "Epoch 59/100\n",
      "100/100 [==============================] - 3s 28ms/step - loss: 0.6234 - accuracy: 0.6020\n",
      "Epoch 60/100\n",
      "100/100 [==============================] - 3s 29ms/step - loss: 0.6187 - accuracy: 0.5955\n",
      "Epoch 61/100\n",
      "100/100 [==============================] - 3s 29ms/step - loss: 0.6254 - accuracy: 0.5914\n",
      "Epoch 62/100\n",
      "100/100 [==============================] - 3s 29ms/step - loss: 0.6140 - accuracy: 0.6142\n",
      "Epoch 63/100\n",
      "100/100 [==============================] - 3s 29ms/step - loss: 0.6216 - accuracy: 0.5967\n",
      "Epoch 64/100\n",
      "100/100 [==============================] - 3s 29ms/step - loss: 0.6242 - accuracy: 0.5895\n",
      "Epoch 65/100\n",
      "100/100 [==============================] - 3s 29ms/step - loss: 0.6212 - accuracy: 0.5933\n",
      "Epoch 66/100\n",
      "100/100 [==============================] - 3s 29ms/step - loss: 0.6231 - accuracy: 0.5911\n",
      "Epoch 67/100\n",
      "100/100 [==============================] - 3s 28ms/step - loss: 0.6113 - accuracy: 0.6167\n",
      "Epoch 68/100\n",
      "100/100 [==============================] - 3s 29ms/step - loss: 0.6189 - accuracy: 0.5977\n",
      "Epoch 69/100\n",
      "100/100 [==============================] - 3s 28ms/step - loss: 0.6196 - accuracy: 0.6042\n",
      "Epoch 70/100\n",
      "100/100 [==============================] - 3s 29ms/step - loss: 0.6196 - accuracy: 0.5967\n",
      "Epoch 71/100\n",
      "100/100 [==============================] - 3s 29ms/step - loss: 0.6219 - accuracy: 0.5991\n",
      "Epoch 72/100\n",
      "100/100 [==============================] - 3s 29ms/step - loss: 0.6194 - accuracy: 0.6031\n",
      "Epoch 73/100\n",
      "100/100 [==============================] - 3s 28ms/step - loss: 0.6148 - accuracy: 0.6116\n",
      "Epoch 74/100\n",
      "100/100 [==============================] - 3s 28ms/step - loss: 0.6142 - accuracy: 0.6100\n",
      "Epoch 75/100\n",
      "100/100 [==============================] - 3s 29ms/step - loss: 0.6167 - accuracy: 0.6045\n",
      "Epoch 76/100\n",
      "100/100 [==============================] - 3s 29ms/step - loss: 0.6149 - accuracy: 0.6106\n",
      "Epoch 77/100\n",
      "100/100 [==============================] - 3s 29ms/step - loss: 0.6162 - accuracy: 0.5989\n",
      "Epoch 78/100\n",
      "100/100 [==============================] - 3s 29ms/step - loss: 0.6115 - accuracy: 0.6228\n",
      "Epoch 79/100\n",
      "100/100 [==============================] - 3s 29ms/step - loss: 0.6157 - accuracy: 0.6122\n",
      "Epoch 80/100\n",
      "100/100 [==============================] - 3s 29ms/step - loss: 0.6196 - accuracy: 0.6083\n",
      "Epoch 81/100\n",
      "100/100 [==============================] - 3s 29ms/step - loss: 0.6204 - accuracy: 0.6050\n",
      "Epoch 82/100\n",
      "100/100 [==============================] - 3s 28ms/step - loss: 0.6127 - accuracy: 0.6141\n",
      "Epoch 83/100\n",
      "100/100 [==============================] - 3s 29ms/step - loss: 0.6132 - accuracy: 0.6144\n",
      "Epoch 84/100\n",
      "100/100 [==============================] - 3s 29ms/step - loss: 0.6118 - accuracy: 0.6097\n",
      "Epoch 85/100\n",
      "100/100 [==============================] - 3s 29ms/step - loss: 0.6118 - accuracy: 0.6175\n",
      "Epoch 86/100\n",
      "100/100 [==============================] - 3s 29ms/step - loss: 0.6110 - accuracy: 0.6159\n",
      "Epoch 87/100\n",
      "100/100 [==============================] - 3s 30ms/step - loss: 0.6130 - accuracy: 0.6150\n",
      "Epoch 88/100\n",
      "100/100 [==============================] - 3s 31ms/step - loss: 0.6159 - accuracy: 0.6125\n",
      "Epoch 89/100\n",
      "100/100 [==============================] - 3s 29ms/step - loss: 0.6136 - accuracy: 0.6153\n",
      "Epoch 90/100\n",
      "100/100 [==============================] - 3s 29ms/step - loss: 0.6076 - accuracy: 0.6259\n",
      "Epoch 91/100\n",
      "100/100 [==============================] - 3s 30ms/step - loss: 0.6095 - accuracy: 0.6284\n",
      "Epoch 92/100\n",
      "100/100 [==============================] - 3s 31ms/step - loss: 0.6125 - accuracy: 0.6198\n",
      "Epoch 93/100\n",
      "100/100 [==============================] - 3s 29ms/step - loss: 0.6081 - accuracy: 0.6275\n",
      "Epoch 94/100\n",
      "100/100 [==============================] - 3s 30ms/step - loss: 0.6057 - accuracy: 0.6270\n",
      "Epoch 95/100\n",
      "100/100 [==============================] - 3s 31ms/step - loss: 0.6158 - accuracy: 0.6084\n",
      "Epoch 96/100\n",
      "100/100 [==============================] - 3s 30ms/step - loss: 0.6088 - accuracy: 0.6308\n",
      "Epoch 97/100\n",
      "100/100 [==============================] - 3s 29ms/step - loss: 0.6105 - accuracy: 0.6261\n",
      "Epoch 98/100\n",
      "100/100 [==============================] - 3s 30ms/step - loss: 0.6133 - accuracy: 0.6191\n",
      "Epoch 99/100\n",
      "100/100 [==============================] - 3s 30ms/step - loss: 0.6086 - accuracy: 0.6245\n",
      "Epoch 100/100\n",
      "100/100 [==============================] - 3s 29ms/step - loss: 0.6000 - accuracy: 0.6470\n"
     ]
    }
   ],
   "source": [
    "h = model.fit(mixed_dataset.batch(64), epochs=100, steps_per_epoch=100)"
   ]
  },
  {
   "cell_type": "markdown",
   "metadata": {},
   "source": [
    "## Counterexample\n",
    "\n",
    "It actually does become a little less certain however!"
   ]
  },
  {
   "cell_type": "code",
   "execution_count": 105,
   "metadata": {},
   "outputs": [],
   "source": [
    "x = generate_nonharmonic(5)"
   ]
  },
  {
   "cell_type": "code",
   "execution_count": 106,
   "metadata": {},
   "outputs": [
    {
     "data": {
      "text/plain": [
       "array([[0.]], dtype=float32)"
      ]
     },
     "execution_count": 106,
     "metadata": {},
     "output_type": "execute_result"
    }
   ],
   "source": [
    "model.predict(x.reshape(1,6,6))"
   ]
  },
  {
   "cell_type": "code",
   "execution_count": 107,
   "metadata": {},
   "outputs": [],
   "source": [
    "x = generate_harmonic(5, np.random.randn(36))"
   ]
  },
  {
   "cell_type": "code",
   "execution_count": 108,
   "metadata": {},
   "outputs": [
    {
     "data": {
      "text/plain": [
       "array([[0.5779618]], dtype=float32)"
      ]
     },
     "execution_count": 108,
     "metadata": {},
     "output_type": "execute_result"
    }
   ],
   "source": [
    "model.predict(x.reshape(1,6,6))"
   ]
  },
  {
   "cell_type": "code",
   "execution_count": 109,
   "metadata": {},
   "outputs": [
    {
     "data": {
      "text/plain": [
       "False"
      ]
     },
     "execution_count": 109,
     "metadata": {},
     "output_type": "execute_result"
    }
   ],
   "source": [
    "x[1,1] = 0\n",
    "is_harmonic(x, 5)"
   ]
  },
  {
   "cell_type": "code",
   "execution_count": 110,
   "metadata": {
    "scrolled": true
   },
   "outputs": [
    {
     "data": {
      "image/png": "[encoded data removed]",
      "text/plain": [
       "<Figure size 432x432 with 1 Axes>"
      ]
     },
     "metadata": {
      "needs_background": "light"
     },
     "output_type": "display_data"
    }
   ],
   "source": [
    "visualize([x], n)"
   ]
  },
  {
   "cell_type": "code",
   "execution_count": 111,
   "metadata": {},
   "outputs": [
    {
     "data": {
      "text/plain": [
       "array([[0.29910424]], dtype=float32)"
      ]
     },
     "execution_count": 111,
     "metadata": {},
     "output_type": "execute_result"
    }
   ],
   "source": [
    "model.predict(x.reshape(1,6,6))"
   ]
  },
  {
   "cell_type": "markdown",
   "metadata": {},
   "source": [
    "## More Extreme"
   ]
  },
  {
   "cell_type": "code",
   "execution_count": 112,
   "metadata": {},
   "outputs": [],
   "source": [
    "for i in range(1,5):\n",
    "    for j in range(1,5):\n",
    "        x[i,j] = 0\n",
    "is_harmonic(x, 5)\n",
    "x[2,2] = 1"
   ]
  },
  {
   "cell_type": "code",
   "execution_count": 113,
   "metadata": {},
   "outputs": [
    {
     "data": {
      "image/png": "[encoded data removed]",
      "text/plain": [
       "<Figure size 432x432 with 1 Axes>"
      ]
     },
     "metadata": {
      "needs_background": "light"
     },
     "output_type": "display_data"
    }
   ],
   "source": [
    "visualize([x], n)"
   ]
  },
  {
   "cell_type": "code",
   "execution_count": 114,
   "metadata": {
    "scrolled": false
   },
   "outputs": [
    {
     "data": {
      "text/plain": [
       "array([[0.00078555]], dtype=float32)"
      ]
     },
     "execution_count": 114,
     "metadata": {},
     "output_type": "execute_result"
    }
   ],
   "source": [
    "model.predict(x.reshape(1,6,6))"
   ]
  },
  {
   "cell_type": "markdown",
   "metadata": {},
   "source": [
    "## Weights"
   ]
  },
  {
   "cell_type": "code",
   "execution_count": 115,
   "metadata": {
    "scrolled": true
   },
   "outputs": [
    {
     "data": {
      "text/plain": [
       "[array([[-1.00869514e-01],\n",
       "        [ 3.46608490e-01],\n",
       "        [ 3.12121898e-01],\n",
       "        [ 1.74526060e+00],\n",
       "        [ 1.07135236e-01],\n",
       "        [ 8.42997432e-01],\n",
       "        [-3.03859357e-04],\n",
       "        [-1.11339861e-04],\n",
       "        [ 7.21137285e-01],\n",
       "        [ 6.46750391e-01],\n",
       "        [-3.30950737e-01],\n",
       "        [-7.91864023e-02],\n",
       "        [ 1.92490280e-01],\n",
       "        [-5.57680614e-04],\n",
       "        [ 1.08556759e+00],\n",
       "        [-3.46326677e-04],\n",
       "        [-2.83821583e-01],\n",
       "        [ 3.52241024e-02],\n",
       "        [ 4.37700301e-02],\n",
       "        [ 2.67078787e-01],\n",
       "        [-1.24414535e-02],\n",
       "        [-2.67523974e-01],\n",
       "        [-6.53036695e-04],\n",
       "        [-3.08914989e-01],\n",
       "        [-3.33778679e-01],\n",
       "        [ 5.07834833e-03],\n",
       "        [ 4.27363157e-01],\n",
       "        [ 5.43257356e-01],\n",
       "        [ 1.17692370e-02],\n",
       "        [ 6.21982872e-01],\n",
       "        [ 3.02625871e+00],\n",
       "        [ 6.42486453e-01]], dtype=float32), array([-0.0258866], dtype=float32)]"
      ]
     },
     "execution_count": 115,
     "metadata": {},
     "output_type": "execute_result"
    }
   ],
   "source": [
    "model.layers[3].get_weights()"
   ]
  },
  {
   "cell_type": "code",
   "execution_count": 116,
   "metadata": {},
   "outputs": [
    {
     "data": {
      "text/plain": [
       "array([[[ 8.2456658e-04],\n",
       "        [ 1.5961900e-01],\n",
       "        [ 1.5636776e-03]],\n",
       "\n",
       "       [[ 1.5947676e-01],\n",
       "        [-6.3373822e-01],\n",
       "        [ 1.6093151e-01]],\n",
       "\n",
       "       [[ 1.5169872e-03],\n",
       "        [ 1.5939634e-01],\n",
       "        [ 1.0916017e-04]]], dtype=float32)"
      ]
     },
     "execution_count": 116,
     "metadata": {},
     "output_type": "execute_result"
    }
   ],
   "source": [
    "model.layers[1].get_weights()[0][:,:,:,-2]"
   ]
  },
  {
   "cell_type": "code",
   "execution_count": 118,
   "metadata": {},
   "outputs": [
    {
     "data": {
      "text/plain": [
       "[array([[-0.4309804 ],\n",
       "        [-0.46912548],\n",
       "        [-0.49173713],\n",
       "        [-0.445355  ],\n",
       "        [-2.1083534 ],\n",
       "        [-3.0725472 ],\n",
       "        [-3.342407  ],\n",
       "        [-2.2365522 ],\n",
       "        [-2.248164  ],\n",
       "        [-3.547798  ],\n",
       "        [-3.615846  ],\n",
       "        [-2.1221805 ],\n",
       "        [-0.69353926],\n",
       "        [-1.2398882 ],\n",
       "        [-0.8753262 ],\n",
       "        [-0.99603856]], dtype=float32), array([0.32761198], dtype=float32)]"
      ]
     },
     "execution_count": 118,
     "metadata": {},
     "output_type": "execute_result"
    }
   ],
   "source": [
    "model.layers[-1].get_weights()"
   ]
  },
  {
   "cell_type": "markdown",
   "metadata": {},
   "source": [
    "## Insist on the Output Layer\n",
    "Can't get started."
   ]
  },
  {
   "cell_type": "code",
   "execution_count": 127,
   "metadata": {},
   "outputs": [],
   "source": [
    "n=5"
   ]
  },
  {
   "cell_type": "code",
   "execution_count": 128,
   "metadata": {},
   "outputs": [],
   "source": [
    "mixed_dataset = tf.data.Dataset.from_generator(mixed_harmonic_data_generator, \n",
    "                                               args=[n], \n",
    "                                               output_types=(tf.float32, tf.bool), \n",
    "                                               output_shapes = ((n+1,n+1), ()))"
   ]
  },
  {
   "cell_type": "code",
   "execution_count": 129,
   "metadata": {},
   "outputs": [],
   "source": [
    "precision=.01"
   ]
  },
  {
   "cell_type": "code",
   "execution_count": 130,
   "metadata": {},
   "outputs": [],
   "source": [
    "output_initializer = tf.keras.initializers.Constant(np.array([-1/precision for i in range((n-1)**2)]))\n",
    "output_bias_initializer = tf.keras.initializers.Constant(value=np.array([-1*np.log(precision)]))\n",
    "output_layer = tf.keras.layers.Dense(1, \n",
    "                                     activation='sigmoid', \n",
    "                                     kernel_initializer=output_initializer, \n",
    "                                     bias_initializer=output_bias_initializer,\n",
    "                                     trainable=False)"
   ]
  },
  {
   "cell_type": "code",
   "execution_count": 131,
   "metadata": {},
   "outputs": [],
   "source": [
    "model = tf.keras.Sequential([\n",
    "    tf.keras.layers.Reshape((n+1,n+1,1), input_shape=(n+1,n+1)),\n",
    "    tf.keras.layers.Conv2D(32, \n",
    "                           kernel_size=3,\n",
    "                           input_shape=(n+1, n+1, 1),\n",
    "                           activation='relu',\n",
    "                           kernel_regularizer=tf.keras.regularizers.l1(.001)),\n",
    "    tf.keras.layers.Dropout(.3),\n",
    "    tf.keras.layers.Dense(1, activation='relu'),\n",
    "    tf.keras.layers.Flatten(),\n",
    "    output_layer\n",
    "], name=\"Conv2D-1\")"
   ]
  },
  {
   "cell_type": "code",
   "execution_count": 132,
   "metadata": {},
   "outputs": [],
   "source": [
    "model.compile(optimizer='adam',\n",
    "              loss=tf.keras.losses.binary_crossentropy,\n",
    "              metrics=['accuracy'])"
   ]
  },
  {
   "cell_type": "code",
   "execution_count": 133,
   "metadata": {
    "scrolled": true
   },
   "outputs": [
    {
     "name": "stdout",
     "output_type": "stream",
     "text": [
      "Model: \"Conv2D-1\"\n",
      "_________________________________________________________________\n",
      "Layer (type)                 Output Shape              Param #   \n",
      "=================================================================\n",
      "reshape_9 (Reshape)          (None, 6, 6, 1)           0         \n",
      "_________________________________________________________________\n",
      "conv2d_9 (Conv2D)            (None, 4, 4, 32)          320       \n",
      "_________________________________________________________________\n",
      "dropout_9 (Dropout)          (None, 4, 4, 32)          0         \n",
      "_________________________________________________________________\n",
      "dense_19 (Dense)             (None, 4, 4, 1)           33        \n",
      "_________________________________________________________________\n",
      "flatten_9 (Flatten)          (None, 16)                0         \n",
      "_________________________________________________________________\n",
      "dense_18 (Dense)             (None, 1)                 17        \n",
      "=================================================================\n",
      "Total params: 370\n",
      "Trainable params: 353\n",
      "Non-trainable params: 17\n",
      "_________________________________________________________________\n",
      "None\n"
     ]
    }
   ],
   "source": [
    "print(model.summary())"
   ]
  },
  {
   "cell_type": "code",
   "execution_count": 134,
   "metadata": {
    "scrolled": true
   },
   "outputs": [
    {
     "name": "stdout",
     "output_type": "stream",
     "text": [
      "Train for 100 steps\n",
      "Epoch 1/100\n",
      "100/100 [==============================] - 4s 42ms/step - loss: 5.0397 - accuracy: 0.5441\n",
      "Epoch 2/100\n",
      "100/100 [==============================] - 4s 36ms/step - loss: 1.9251 - accuracy: 0.5553\n",
      "Epoch 3/100\n",
      "100/100 [==============================] - 4s 36ms/step - loss: 1.8211 - accuracy: 0.5664\n",
      "Epoch 4/100\n",
      "100/100 [==============================] - 4s 36ms/step - loss: 1.7852 - accuracy: 0.5720\n",
      "Epoch 5/100\n",
      "100/100 [==============================] - 3s 34ms/step - loss: 1.6935 - accuracy: 0.5823\n",
      "Epoch 6/100\n",
      "100/100 [==============================] - 3s 34ms/step - loss: 1.6747 - accuracy: 0.5752\n",
      "Epoch 7/100\n",
      "100/100 [==============================] - 3s 34ms/step - loss: 1.5557 - accuracy: 0.5777\n",
      "Epoch 8/100\n",
      "100/100 [==============================] - 3s 34ms/step - loss: 1.4810 - accuracy: 0.5775 0s - loss: 1.4880 - accu\n",
      "Epoch 9/100\n",
      "100/100 [==============================] - 3s 35ms/step - loss: 1.3319 - accuracy: 0.5717\n",
      "Epoch 10/100\n",
      "100/100 [==============================] - 3s 35ms/step - loss: 1.2286 - accuracy: 0.5697\n",
      "Epoch 11/100\n",
      "100/100 [==============================] - 3s 34ms/step - loss: 1.0959 - accuracy: 0.5844\n",
      "Epoch 12/100\n",
      "100/100 [==============================] - 3s 35ms/step - loss: 1.0499 - accuracy: 0.5633\n",
      "Epoch 13/100\n",
      "100/100 [==============================] - 3s 35ms/step - loss: 0.9727 - accuracy: 0.5734\n",
      "Epoch 14/100\n",
      "100/100 [==============================] - 4s 35ms/step - loss: 0.9111 - accuracy: 0.5723\n",
      "Epoch 15/100\n",
      "100/100 [==============================] - 3s 31ms/step - loss: 0.8543 - accuracy: 0.5717\n",
      "Epoch 16/100\n",
      "100/100 [==============================] - 3s 31ms/step - loss: 0.8059 - accuracy: 0.5706\n",
      "Epoch 17/100\n",
      "100/100 [==============================] - 3s 31ms/step - loss: 0.7728 - accuracy: 0.5595\n",
      "Epoch 18/100\n",
      "100/100 [==============================] - 3s 30ms/step - loss: 0.7516 - accuracy: 0.5642\n",
      "Epoch 19/100\n",
      "100/100 [==============================] - 3s 31ms/step - loss: 0.7119 - accuracy: 0.5802\n",
      "Epoch 20/100\n",
      "100/100 [==============================] - 3s 30ms/step - loss: 0.7026 - accuracy: 0.5633\n",
      "Epoch 21/100\n",
      "100/100 [==============================] - 3s 31ms/step - loss: 0.6909 - accuracy: 0.5580\n",
      "Epoch 22/100\n",
      "100/100 [==============================] - 3s 32ms/step - loss: 0.6978 - accuracy: 0.5544\n",
      "Epoch 23/100\n",
      "100/100 [==============================] - 4s 43ms/step - loss: 0.6869 - accuracy: 0.5578\n",
      "Epoch 24/100\n",
      "100/100 [==============================] - 4s 42ms/step - loss: 0.6741 - accuracy: 0.5655\n",
      "Epoch 25/100\n",
      "100/100 [==============================] - 3s 35ms/step - loss: 0.6637 - accuracy: 0.5738\n",
      "Epoch 26/100\n",
      "100/100 [==============================] - 3s 34ms/step - loss: 0.6620 - accuracy: 0.5619\n",
      "Epoch 27/100\n",
      "100/100 [==============================] - 3s 34ms/step - loss: 0.6636 - accuracy: 0.5797 0s - loss: 0.6\n",
      "Epoch 28/100\n",
      "100/100 [==============================] - 4s 35ms/step - loss: 0.6819 - accuracy: 0.5705\n",
      "Epoch 29/100\n",
      "100/100 [==============================] - 5s 45ms/step - loss: 0.6872 - accuracy: 0.5597\n",
      "Epoch 30/100\n",
      "100/100 [==============================] - 4s 43ms/step - loss: 0.6719 - accuracy: 0.5692\n",
      "Epoch 31/100\n",
      "100/100 [==============================] - 4s 40ms/step - loss: 0.6676 - accuracy: 0.5612\n",
      "Epoch 32/100\n",
      "100/100 [==============================] - 4s 37ms/step - loss: 0.6660 - accuracy: 0.5703\n",
      "Epoch 33/100\n",
      "100/100 [==============================] - 4s 36ms/step - loss: 0.6649 - accuracy: 0.5806\n",
      "Epoch 34/100\n",
      "100/100 [==============================] - 4s 36ms/step - loss: 0.6650 - accuracy: 0.5650\n",
      "Epoch 35/100\n",
      "100/100 [==============================] - 4s 35ms/step - loss: 0.6662 - accuracy: 0.5747\n",
      "Epoch 36/100\n",
      "100/100 [==============================] - 3s 34ms/step - loss: 0.6687 - accuracy: 0.5648\n",
      "Epoch 37/100\n",
      "100/100 [==============================] - 3s 35ms/step - loss: 0.6674 - accuracy: 0.5580\n",
      "Epoch 38/100\n",
      "100/100 [==============================] - 3s 35ms/step - loss: 0.6566 - accuracy: 0.5653\n",
      "Epoch 39/100\n",
      "100/100 [==============================] - 4s 35ms/step - loss: 0.6505 - accuracy: 0.5761\n",
      "Epoch 40/100\n",
      "100/100 [==============================] - 3s 34ms/step - loss: 0.6634 - accuracy: 0.5623\n",
      "Epoch 41/100\n",
      "100/100 [==============================] - 3s 34ms/step - loss: 0.6583 - accuracy: 0.5681\n",
      "Epoch 42/100\n",
      "100/100 [==============================] - 3s 32ms/step - loss: 0.6581 - accuracy: 0.5644\n",
      "Epoch 43/100\n",
      "100/100 [==============================] - 3s 31ms/step - loss: 0.6633 - accuracy: 0.5739\n",
      "Epoch 44/100\n",
      "100/100 [==============================] - 3s 31ms/step - loss: 0.6639 - accuracy: 0.5683\n",
      "Epoch 45/100\n",
      "100/100 [==============================] - 3s 31ms/step - loss: 0.6545 - accuracy: 0.5727\n",
      "Epoch 46/100\n",
      "100/100 [==============================] - 3s 30ms/step - loss: 0.6538 - accuracy: 0.5742\n",
      "Epoch 47/100\n",
      "100/100 [==============================] - 3s 31ms/step - loss: 0.6702 - accuracy: 0.5633\n",
      "Epoch 48/100\n",
      "100/100 [==============================] - 3s 31ms/step - loss: 0.6564 - accuracy: 0.5723\n",
      "Epoch 49/100\n",
      "100/100 [==============================] - 3s 32ms/step - loss: 0.6576 - accuracy: 0.5731\n",
      "Epoch 50/100\n",
      "100/100 [==============================] - 3s 31ms/step - loss: 0.6480 - accuracy: 0.5697\n",
      "Epoch 51/100\n",
      "100/100 [==============================] - 3s 30ms/step - loss: 0.6520 - accuracy: 0.5664\n",
      "Epoch 52/100\n",
      "100/100 [==============================] - 3s 30ms/step - loss: 0.6466 - accuracy: 0.5780\n",
      "Epoch 53/100\n",
      "100/100 [==============================] - 3s 31ms/step - loss: 0.6566 - accuracy: 0.5731\n",
      "Epoch 54/100\n",
      "100/100 [==============================] - 3s 31ms/step - loss: 0.6557 - accuracy: 0.5806\n",
      "Epoch 55/100\n",
      "100/100 [==============================] - 3s 30ms/step - loss: 0.6440 - accuracy: 0.5897\n",
      "Epoch 56/100\n",
      "100/100 [==============================] - 3s 31ms/step - loss: 0.6557 - accuracy: 0.5655\n",
      "Epoch 57/100\n",
      "100/100 [==============================] - 3s 31ms/step - loss: 0.6600 - accuracy: 0.5564\n",
      "Epoch 58/100\n",
      "100/100 [==============================] - 3s 31ms/step - loss: 0.6906 - accuracy: 0.5606\n",
      "Epoch 59/100\n",
      "100/100 [==============================] - 3s 31ms/step - loss: 0.6625 - accuracy: 0.5578\n",
      "Epoch 60/100\n",
      "100/100 [==============================] - 3s 30ms/step - loss: 0.6565 - accuracy: 0.5594\n",
      "Epoch 61/100\n",
      "100/100 [==============================] - 3s 31ms/step - loss: 0.6563 - accuracy: 0.5628\n",
      "Epoch 62/100\n",
      "100/100 [==============================] - 3s 31ms/step - loss: 0.6490 - accuracy: 0.5573\n",
      "Epoch 63/100\n",
      "100/100 [==============================] - 3s 30ms/step - loss: 0.6441 - accuracy: 0.5705\n",
      "Epoch 64/100\n",
      "100/100 [==============================] - 3s 30ms/step - loss: 0.6421 - accuracy: 0.5794\n",
      "Epoch 65/100\n",
      "100/100 [==============================] - 3s 30ms/step - loss: 0.6419 - accuracy: 0.5836\n",
      "Epoch 66/100\n",
      "100/100 [==============================] - 3s 31ms/step - loss: 0.6536 - accuracy: 0.5675\n",
      "Epoch 67/100\n",
      "100/100 [==============================] - 3s 31ms/step - loss: 0.6398 - accuracy: 0.5727\n",
      "Epoch 68/100\n",
      "100/100 [==============================] - 3s 30ms/step - loss: 0.6493 - accuracy: 0.5756\n",
      "Epoch 69/100\n",
      "100/100 [==============================] - 3s 30ms/step - loss: 0.6437 - accuracy: 0.5798\n",
      "Epoch 70/100\n",
      "100/100 [==============================] - 3s 31ms/step - loss: 0.6512 - accuracy: 0.5773\n",
      "Epoch 71/100\n",
      "100/100 [==============================] - 3s 32ms/step - loss: 0.6556 - accuracy: 0.5625\n",
      "Epoch 72/100\n",
      "100/100 [==============================] - 3s 32ms/step - loss: 0.6429 - accuracy: 0.5713\n",
      "Epoch 73/100\n",
      "100/100 [==============================] - 3s 31ms/step - loss: 0.6461 - accuracy: 0.5678\n",
      "Epoch 74/100\n",
      "100/100 [==============================] - 3s 32ms/step - loss: 0.6682 - accuracy: 0.5577\n",
      "Epoch 75/100\n",
      "100/100 [==============================] - 3s 31ms/step - loss: 0.6460 - accuracy: 0.5669\n",
      "Epoch 76/100\n",
      "100/100 [==============================] - 3s 31ms/step - loss: 0.6395 - accuracy: 0.5772\n",
      "Epoch 77/100\n",
      "100/100 [==============================] - 3s 31ms/step - loss: 0.6403 - accuracy: 0.5713\n",
      "Epoch 78/100\n",
      "100/100 [==============================] - 3s 30ms/step - loss: 0.6630 - accuracy: 0.5642\n",
      "Epoch 79/100\n",
      "100/100 [==============================] - 3s 31ms/step - loss: 0.6472 - accuracy: 0.5736\n",
      "Epoch 80/100\n"
     ]
    },
    {
     "name": "stdout",
     "output_type": "stream",
     "text": [
      "100/100 [==============================] - 3s 29ms/step - loss: 0.6318 - accuracy: 0.5919\n",
      "Epoch 81/100\n",
      "100/100 [==============================] - 3s 30ms/step - loss: 0.6309 - accuracy: 0.5761\n",
      "Epoch 82/100\n",
      "100/100 [==============================] - 3s 30ms/step - loss: 0.6381 - accuracy: 0.5692\n",
      "Epoch 83/100\n",
      "100/100 [==============================] - 3s 29ms/step - loss: 0.6481 - accuracy: 0.5702\n",
      "Epoch 84/100\n",
      "100/100 [==============================] - 3s 30ms/step - loss: 0.6337 - accuracy: 0.5714\n",
      "Epoch 85/100\n",
      "100/100 [==============================] - 3s 29ms/step - loss: 0.6437 - accuracy: 0.5750\n",
      "Epoch 86/100\n",
      "100/100 [==============================] - 3s 30ms/step - loss: 0.6403 - accuracy: 0.5730\n",
      "Epoch 87/100\n",
      "100/100 [==============================] - 3s 29ms/step - loss: 0.6427 - accuracy: 0.5739\n",
      "Epoch 88/100\n",
      "100/100 [==============================] - 3s 29ms/step - loss: 0.6426 - accuracy: 0.5689\n",
      "Epoch 89/100\n",
      "100/100 [==============================] - 3s 30ms/step - loss: 0.6418 - accuracy: 0.5677\n",
      "Epoch 90/100\n",
      "100/100 [==============================] - 3s 29ms/step - loss: 0.6383 - accuracy: 0.5672\n",
      "Epoch 91/100\n",
      "100/100 [==============================] - 3s 30ms/step - loss: 0.6400 - accuracy: 0.5606\n",
      "Epoch 92/100\n",
      "100/100 [==============================] - 3s 30ms/step - loss: 0.6388 - accuracy: 0.5686\n",
      "Epoch 93/100\n",
      "100/100 [==============================] - 3s 30ms/step - loss: 0.6373 - accuracy: 0.5552\n",
      "Epoch 94/100\n",
      "100/100 [==============================] - 3s 29ms/step - loss: 0.6315 - accuracy: 0.5833\n",
      "Epoch 95/100\n",
      "100/100 [==============================] - 3s 29ms/step - loss: 0.6418 - accuracy: 0.5720\n",
      "Epoch 96/100\n",
      "100/100 [==============================] - 3s 30ms/step - loss: 0.6367 - accuracy: 0.5772\n",
      "Epoch 97/100\n",
      "100/100 [==============================] - 3s 30ms/step - loss: 0.6436 - accuracy: 0.5725\n",
      "Epoch 98/100\n",
      "100/100 [==============================] - 3s 29ms/step - loss: 0.6304 - accuracy: 0.5806\n",
      "Epoch 99/100\n",
      "100/100 [==============================] - ETA: 0s - loss: 0.6347 - accuracy: 0.58 - 3s 30ms/step - loss: 0.6345 - accuracy: 0.5819\n",
      "Epoch 100/100\n",
      "100/100 [==============================] - 3s 30ms/step - loss: 0.6313 - accuracy: 0.5683\n"
     ]
    }
   ],
   "source": [
    "h = model.fit(mixed_dataset.batch(64), epochs=100, steps_per_epoch=100)"
   ]
  },
  {
   "cell_type": "markdown",
   "metadata": {},
   "source": [
    "## Counterexample\n",
    "\n",
    "It actually does become a little less certain however!"
   ]
  },
  {
   "cell_type": "code",
   "execution_count": 95,
   "metadata": {},
   "outputs": [],
   "source": [
    "x = generate_nonharmonic(5)"
   ]
  },
  {
   "cell_type": "code",
   "execution_count": 96,
   "metadata": {},
   "outputs": [
    {
     "data": {
      "text/plain": [
       "array([[0.]], dtype=float32)"
      ]
     },
     "execution_count": 96,
     "metadata": {},
     "output_type": "execute_result"
    }
   ],
   "source": [
    "model.predict(x.reshape(1,6,6))"
   ]
  },
  {
   "cell_type": "code",
   "execution_count": 105,
   "metadata": {},
   "outputs": [],
   "source": [
    "x = generate_harmonic(5, np.random.randn(36))"
   ]
  },
  {
   "cell_type": "code",
   "execution_count": 106,
   "metadata": {},
   "outputs": [
    {
     "data": {
      "text/plain": [
       "array([[0.85202545]], dtype=float32)"
      ]
     },
     "execution_count": 106,
     "metadata": {},
     "output_type": "execute_result"
    }
   ],
   "source": [
    "model.predict(x.reshape(1,6,6))"
   ]
  },
  {
   "cell_type": "code",
   "execution_count": 107,
   "metadata": {},
   "outputs": [
    {
     "data": {
      "text/plain": [
       "False"
      ]
     },
     "execution_count": 107,
     "metadata": {},
     "output_type": "execute_result"
    }
   ],
   "source": [
    "x[1,1] = 0\n",
    "is_harmonic(x, 5)"
   ]
  },
  {
   "cell_type": "code",
   "execution_count": 108,
   "metadata": {
    "scrolled": true
   },
   "outputs": [
    {
     "data": {
      "image/png": "[encoded data removed]",
      "text/plain": [
       "<Figure size 432x432 with 1 Axes>"
      ]
     },
     "metadata": {
      "needs_background": "light"
     },
     "output_type": "display_data"
    }
   ],
   "source": [
    "visualize([x], n)"
   ]
  },
  {
   "cell_type": "code",
   "execution_count": 109,
   "metadata": {},
   "outputs": [
    {
     "data": {
      "text/plain": [
       "array([[0.8060025]], dtype=float32)"
      ]
     },
     "execution_count": 109,
     "metadata": {},
     "output_type": "execute_result"
    }
   ],
   "source": [
    "model.predict(x.reshape(1,6,6))"
   ]
  },
  {
   "cell_type": "markdown",
   "metadata": {},
   "source": [
    "## More Extreme"
   ]
  },
  {
   "cell_type": "code",
   "execution_count": 110,
   "metadata": {},
   "outputs": [
    {
     "data": {
      "text/plain": [
       "False"
      ]
     },
     "execution_count": 110,
     "metadata": {},
     "output_type": "execute_result"
    }
   ],
   "source": [
    "for i in range(1,5):\n",
    "    for j in range(1,5):\n",
    "        x[i,j] = 0\n",
    "is_harmonic(x, 5)"
   ]
  },
  {
   "cell_type": "code",
   "execution_count": 111,
   "metadata": {},
   "outputs": [
    {
     "data": {
      "image/png": "[encoded data removed]",
      "text/plain": [
       "<Figure size 432x432 with 1 Axes>"
      ]
     },
     "metadata": {
      "needs_background": "light"
     },
     "output_type": "display_data"
    }
   ],
   "source": [
    "visualize([x], n)"
   ]
  },
  {
   "cell_type": "code",
   "execution_count": 112,
   "metadata": {
    "scrolled": false
   },
   "outputs": [
    {
     "data": {
      "text/plain": [
       "array([[0.]], dtype=float32)"
      ]
     },
     "execution_count": 112,
     "metadata": {},
     "output_type": "execute_result"
    }
   ],
   "source": [
    "model.predict(x.reshape(1,6,6))"
   ]
  },
  {
   "cell_type": "code",
   "execution_count": 113,
   "metadata": {},
   "outputs": [],
   "source": [
    "for i in range(1,5):\n",
    "    for j in range(1,5):\n",
    "        x[i,j] = 0\n",
    "is_harmonic(x, 5)\n",
    "x[2,2] = 1"
   ]
  },
  {
   "cell_type": "code",
   "execution_count": 114,
   "metadata": {},
   "outputs": [
    {
     "data": {
      "image/png": "[encoded data removed]",
      "text/plain": [
       "<Figure size 432x432 with 1 Axes>"
      ]
     },
     "metadata": {
      "needs_background": "light"
     },
     "output_type": "display_data"
    }
   ],
   "source": [
    "visualize([x], n)"
   ]
  },
  {
   "cell_type": "code",
   "execution_count": 115,
   "metadata": {
    "scrolled": false
   },
   "outputs": [
    {
     "data": {
      "text/plain": [
       "array([[0.]], dtype=float32)"
      ]
     },
     "execution_count": 115,
     "metadata": {},
     "output_type": "execute_result"
    }
   ],
   "source": [
    "model.predict(x.reshape(1,6,6))"
   ]
  },
  {
   "cell_type": "markdown",
   "metadata": {},
   "source": [
    "## Weights"
   ]
  },
  {
   "cell_type": "code",
   "execution_count": 117,
   "metadata": {
    "scrolled": true
   },
   "outputs": [
    {
     "data": {
      "text/plain": [
       "[array([[ 0.03145678],\n",
       "        [-0.23167935],\n",
       "        [-0.32406452],\n",
       "        [-0.20431373],\n",
       "        [-0.23900543],\n",
       "        [-0.15288098],\n",
       "        [-0.04163361],\n",
       "        [-0.03034305],\n",
       "        [-0.2686658 ],\n",
       "        [ 0.3122662 ],\n",
       "        [-0.37096557],\n",
       "        [-0.12399219],\n",
       "        [ 0.09890345],\n",
       "        [-0.1062707 ],\n",
       "        [-0.07059134],\n",
       "        [-0.3026577 ],\n",
       "        [-0.32387352],\n",
       "        [ 0.28085226],\n",
       "        [ 0.25009036],\n",
       "        [-0.2171029 ],\n",
       "        [ 0.28104714],\n",
       "        [-0.32521904],\n",
       "        [ 0.3407817 ],\n",
       "        [ 0.02082503],\n",
       "        [ 0.3120113 ],\n",
       "        [ 0.52487886],\n",
       "        [-0.3349203 ],\n",
       "        [-0.1563008 ],\n",
       "        [-0.04091232],\n",
       "        [-0.0104278 ],\n",
       "        [ 0.33415893],\n",
       "        [-0.00982645]], dtype=float32), array([0.00206697], dtype=float32)]"
      ]
     },
     "execution_count": 117,
     "metadata": {},
     "output_type": "execute_result"
    }
   ],
   "source": [
    "model.layers[3].get_weights()"
   ]
  },
  {
   "cell_type": "code",
   "execution_count": 119,
   "metadata": {},
   "outputs": [
    {
     "data": {
      "text/plain": [
       "array([[[-0.05265746],\n",
       "        [ 0.00349638],\n",
       "        [-0.1234831 ]],\n",
       "\n",
       "       [[ 0.02291904],\n",
       "        [ 0.07803132],\n",
       "        [ 0.02761264]],\n",
       "\n",
       "       [[ 0.03645624],\n",
       "        [-0.06158297],\n",
       "        [-0.02405288]]], dtype=float32)"
      ]
     },
     "execution_count": 119,
     "metadata": {},
     "output_type": "execute_result"
    }
   ],
   "source": [
    "model.layers[1].get_weights()[0][:,:,:,-6]"
   ]
  },
  {
   "cell_type": "code",
   "execution_count": null,
   "metadata": {},
   "outputs": [],
   "source": []
  }
 ],
 "metadata": {
  "kernelspec": {
   "display_name": "Python3 (oliver_tf2)",
   "language": "python",
   "name": "oliver_tf2"
  },
  "language_info": {
   "codemirror_mode": {
    "name": "ipython",
    "version": 3
   },
   "file_extension": ".py",
   "mimetype": "text/x-python",
   "name": "python",
   "nbconvert_exporter": "python",
   "pygments_lexer": "ipython3",
   "version": "3.7.5"
  },
  "name": "discrete_laplace",
  "notebookId": 1260334
 },
 "nbformat": 4,
 "nbformat_minor": 1
}
