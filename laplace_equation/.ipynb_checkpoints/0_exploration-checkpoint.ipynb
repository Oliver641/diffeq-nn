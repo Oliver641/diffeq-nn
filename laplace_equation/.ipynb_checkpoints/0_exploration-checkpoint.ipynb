{
 "cells": [
  {
   "cell_type": "code",
   "execution_count": 1,
   "metadata": {},
   "outputs": [],
   "source": [
    "from __future__ import absolute_import, division, print_function\n",
    "\n",
    "import functools\n",
    "import numpy as np\n",
    "import scipy as sp\n",
    "from scipy.stats import multivariate_normal\n",
    "import matplotlib.pyplot as plt\n",
    "import tensorflow as tf\n",
    "from pprint import pprint"
   ]
  },
  {
   "cell_type": "code",
   "execution_count": 2,
   "metadata": {},
   "outputs": [
    {
     "data": {
      "text/plain": [
       "'2.0.0'"
      ]
     },
     "execution_count": 2,
     "metadata": {},
     "output_type": "execute_result"
    }
   ],
   "source": [
    "tf.__version__"
   ]
  },
  {
   "cell_type": "code",
   "execution_count": 3,
   "metadata": {},
   "outputs": [
    {
     "data": {
      "text/plain": [
       "True"
      ]
     },
     "execution_count": 3,
     "metadata": {},
     "output_type": "execute_result"
    }
   ],
   "source": [
    "tf.executing_eagerly()"
   ]
  },
  {
   "cell_type": "code",
   "execution_count": 4,
   "metadata": {},
   "outputs": [
    {
     "data": {
      "text/plain": [
       "False"
      ]
     },
     "execution_count": 4,
     "metadata": {},
     "output_type": "execute_result"
    }
   ],
   "source": [
    "tf.test.is_gpu_available()"
   ]
  },
  {
   "cell_type": "markdown",
   "metadata": {},
   "source": [
    "## Generating Discrete Harmonic Functions on the Square\n",
    "\n",
    "The Harmonic functions on the square A of size N are those functions that satisfy:\n",
    "$$f(i, j) = \\frac{1}{4}\\bigg(f(i-1, j) + f(i+1, j) + f(i,j-1) + f(i,j+1)\\bigg)$$\n",
    "for all $i,j \\in \\{1, 2, ..., N-1\\}$.  These functions are uniquely determined by their values on the boundary of the square: $i\\in\\{0,N\\}\\text{ or }j\\in\\{0,N\\}$.  \n",
    "\n",
    "What follows is a summary of http://www.math.uchicago.edu/~lawler/reu.pdf, section 1.5.\n",
    "\n",
    "Let $e_k$ refer to the function defined on $\\partial A$ that is equal to 1 at the $k$th position at the bottom of the square and is equal 0 elsewhere.  Then the harmonic function on the interior of the square that is equal to $e_k$ on the boundary is given by:\n",
    "$$H_{(N, e_k)}(x_1, x_2) = \\frac{2}{N-1}\\sum_{j=1}^{N-1}\\frac{1}{\\sinh(\\beta_j)}\\sin\\left(\\frac{j\\pi k}{N}\\right)\\sinh\\left(\\frac{\\beta_jx_1}{N}\\right)\\sin\\left(\\frac{j\\pi x_2}{N}\\right)$$\n",
    "where $\\beta_j\\text{ for }j\\in\\{1, 2, ..., N-1\\}$ solves:\n",
    "$$ \\cosh\\left(\\frac{\\beta_j}{N}\\right) + \\cos\\left(\\frac{j\\pi}{N}\\right) = 2$$\n",
    "These functions, combined with similar functions for the other sides of the square, form a basis for the space of all harmonic functions on the interior of the square.  This is implemented below."
   ]
  },
  {
   "cell_type": "code",
   "execution_count": 5,
   "metadata": {},
   "outputs": [],
   "source": [
    "harmonic_basis_cache={}\n",
    "\n",
    "def generate_beta(n):\n",
    "    return [n*(np.arccosh(2-np.cos(j*np.pi/n))) for j in range(1,n)]\n",
    "  \n",
    "def poisson_kernel_square_raw(n, y, x_1, x_2):\n",
    "    beta = generate_beta(n)\n",
    "    h = [np.sinh(beta[j-1] * x_1 / n) \n",
    "        * np.sin(j * np.pi * x_2 / n) for j in range(1, n)]\n",
    "    c = [1/np.sinh(beta[j-1]) \n",
    "        * np.sin(j * np.pi * y / n) for j in range(1, n)]\n",
    "    return 2/(n) * sum([c[j-1] * h[j-1] for j in range(1, n)])\n",
    "  \n",
    "def poisson_kernel_square(n, y):\n",
    "    return lambda x_1, x_2: poisson_kernel_square_raw(n, y, x_1, x_2)\n",
    "  \n",
    "    \n",
    "def harmonic_basis(n, k):\n",
    "    if (n,k) in harmonic_basis_cache.keys():\n",
    "        return harmonic_basis_cache[n,k]\n",
    "    x = np.zeros(shape=[n+1, n+1])\n",
    "    x[n,k] = 1\n",
    "    H = poisson_kernel_square(n, k)\n",
    "    for i in range(1, n):\n",
    "        for j in range(1, n):\n",
    "            x[i, j] = H(i, j)\n",
    "    harmonic_basis_cache[n,k] = x\n",
    "    return x\n",
    "  \n",
    "# This is O(n^3) at the moment.\n",
    "# This is due to each of n basis functions taking O(n^2) steps to compute.\n",
    "# Can this be improved?  Do we care?\n",
    "def generate_harmonic_one_side(n, y, side='lower'):\n",
    "    lower = np.sum([y[j-1] * harmonic_basis(n,j) for j in range(1, n)], axis=0)\n",
    "    if side == 'upper':\n",
    "        return np.flip(lower, axis=0)\n",
    "    if side == 'left':\n",
    "        return np.rot90(lower, k=3)\n",
    "    if side == 'right':\n",
    "        return np.rot90(np.flip(lower, axis=0), k=3)\n",
    "    if side == 'lower':\n",
    "        return lower\n",
    "\n",
    "def generate_harmonic(n, y):\n",
    "    \"\"\"Here y specifies the entire boundary, going in order of upper, left, right, lower.\"\"\"\n",
    "    upper = generate_harmonic_one_side(n, y[:n-1], side='upper')\n",
    "    left = generate_harmonic_one_side(n, y[n-1:2*n-2], side='left')\n",
    "    right = generate_harmonic_one_side(n, y[2*n-2:3*n-3], side='right')\n",
    "    lower = generate_harmonic_one_side(n, y[3*n-3:], side='lower')\n",
    "    return upper + left + right + lower"
   ]
  },
  {
   "cell_type": "code",
   "execution_count": 6,
   "metadata": {},
   "outputs": [],
   "source": [
    "def is_harmonic_at_point(x, i, j, tol=.000001, verbose=False):\n",
    "    diff = np.abs(x[i, j] - np.mean([x[i-1,j], x[i+1,j], x[i,j-1], x[i,j+1]])) \n",
    "    if verbose:\n",
    "        print(\"|{} - {}| = {}\".format(x[i,j], \n",
    "                                      np.mean([x[i-1,j], x[i+1,j], x[i,j-1], x[i,j+1]]), \n",
    "                                      diff))\n",
    "    return diff <= tol\n",
    "  \n",
    "def is_harmonic(x, n, tol=.000001, verbose=False):\n",
    "    for i in range(1, n):\n",
    "        for j in range(1, n):\n",
    "            if not is_harmonic_at_point(x, i, j, tol=tol, verbose=verbose):\n",
    "                if verbose:\n",
    "                    print((i,j))\n",
    "                return False\n",
    "    return True"
   ]
  },
  {
   "cell_type": "markdown",
   "metadata": {},
   "source": [
    "## Generating Non-Harmonic Functions.\n",
    "\n",
    "The question of what to use as a negative for the model deserves a lot of thought.  At present I have two approaches: \n",
    "\n",
    "In the first approach, I use \\\\((N+1)^2\\\\) independent Gaussian random variables to generate non-harmonic functions.  The likelihood that these will be harmonic is negligible.  \n",
    "\n",
    "In the second approach I generate a harmonic function, and add a gaussian density to the result.  Since the gaussian is not harmonic (it in particular violates the maximum modulus principle), the resulting sum is not harmonic."
   ]
  },
  {
   "cell_type": "code",
   "execution_count": 7,
   "metadata": {},
   "outputs": [],
   "source": [
    "def generate_nonharmonic(n):\n",
    "    x = np.random.randn(n+1,n+1)\n",
    "    x[0,0] = 0.\n",
    "    x[0,n] = 0.\n",
    "    x[n,0] = 0.\n",
    "    x[n,n] = 0.\n",
    "    return x"
   ]
  },
  {
   "cell_type": "code",
   "execution_count": 8,
   "metadata": {},
   "outputs": [],
   "source": [
    "grv_cache={}\n",
    "\n",
    "# This is slow, need to make better use of numpy to \n",
    "# generate these, possibly with memoization as above.\n",
    "def generate_gaussian(n, strength):\n",
    "    mean = np.random.randint(1,n, size=2)\n",
    "    cov = (n/2 - .5) * np.random.random(size=2) + .5\n",
    "    amplitude = strength * np.random.choice([1,-1])\n",
    "    rv = multivariate_normal(mean=mean, cov=cov)\n",
    "    x = np.zeros((n+1,n+1))\n",
    "    for i in range(1,n):\n",
    "        for j in range(1,n):\n",
    "            x[i,j] = rv.pdf((i,j))/rv.pdf(mean)\n",
    "    return amplitude * x\n",
    "\n",
    "def generate_harmonic_plus_noise(n, y, strength=.1):\n",
    "    harmonic = generate_harmonic(n, y)\n",
    "    output = harmonic + generate_gaussian(n, strength=strength)\n",
    "    return output"
   ]
  },
  {
   "cell_type": "code",
   "execution_count": 9,
   "metadata": {},
   "outputs": [],
   "source": [
    "def visualize(examples, n, cmap='cividis'):\n",
    "    num_examples = len(examples)\n",
    "    fig, axes = plt.subplots(1, num_examples, figsize=(n+1,n+1))\n",
    "    if num_examples == 1:\n",
    "        axes.imshow(examples[0], cmap=cmap)\n",
    "        axes.axis('off')\n",
    "        plt.show()\n",
    "        return\n",
    "    axes = axes.flatten()\n",
    "    for x, ax in zip(examples, axes):\n",
    "        ax.imshow(x, cmap=cmap)\n",
    "        ax.axis('off')\n",
    "    plt.tight_layout()\n",
    "    plt.show()"
   ]
  },
  {
   "cell_type": "markdown",
   "metadata": {},
   "source": [
    "## Visualizing the Data\n",
    "\n",
    "Here we can note the triviality, for large $N$, of distinguishing harmonic functions from random functions, and see the motivation for the second approach for generating nonharmonic functions."
   ]
  },
  {
   "cell_type": "code",
   "execution_count": 10,
   "metadata": {},
   "outputs": [
    {
     "data": {
      "image/png": "[encoded data removed]",
      "text/plain": [
       "<Figure size 792x792 with 5 Axes>"
      ]
     },
     "metadata": {
      "needs_background": "light"
     },
     "output_type": "display_data"
    }
   ],
   "source": [
    "visualize([generate_harmonic(10, np.random.randn(36)) for i in range(5)], 10)"
   ]
  },
  {
   "cell_type": "code",
   "execution_count": 11,
   "metadata": {},
   "outputs": [
    {
     "data": {
      "image/png": "[encoded data removed]",
      "text/plain": [
       "<Figure size 792x792 with 5 Axes>"
      ]
     },
     "metadata": {
      "needs_background": "light"
     },
     "output_type": "display_data"
    }
   ],
   "source": [
    "visualize([generate_nonharmonic(10) for i in range(5)], 10)"
   ]
  },
  {
   "cell_type": "markdown",
   "metadata": {},
   "source": [
    "## Data Preparation"
   ]
  },
  {
   "cell_type": "code",
   "execution_count": 22,
   "metadata": {},
   "outputs": [],
   "source": [
    "def harmonic_data_generator(n):\n",
    "    while True:\n",
    "        if np.random.rand() < .5:\n",
    "            y = np.random.randn(4*(n-1))\n",
    "            yield np.reshape(generate_harmonic(n,y), (n+1, n+1)).astype(np.float32), 1\n",
    "        else:\n",
    "            yield np.reshape(generate_nonharmonic(n), (n+1, n+1)).astype(np.float32), 0"
   ]
  },
  {
   "cell_type": "code",
   "execution_count": 23,
   "metadata": {},
   "outputs": [],
   "source": [
    "def visualize_dataset(dataset, n, num_examples=5, cmap='cividis'):\n",
    "    examples = [item for item in dataset.take(num_examples)]\n",
    "    fig, axes = plt.subplots(1, num_examples, figsize=(n+1,n+1))\n",
    "    axes = axes.flatten()\n",
    "    for x, ax in zip(examples, axes):\n",
    "        ax.imshow(x[0], cmap=cmap, vmin=-3, vmax=3)\n",
    "        if x[1]:\n",
    "            ax.set_title(\"Harmonic\")\n",
    "        else:\n",
    "            ax.set_title(\"Nonharmonic\")\n",
    "        ax.axis('off')\n",
    "    plt.tight_layout()\n",
    "    plt.show()"
   ]
  },
  {
   "cell_type": "code",
   "execution_count": 24,
   "metadata": {},
   "outputs": [],
   "source": [
    "n=20\n",
    "dataset = tf.data.Dataset.from_generator(harmonic_data_generator, \n",
    "                                         args=[n], \n",
    "                                         output_types=(tf.float32, tf.bool), \n",
    "                                         output_shapes = ((n+1,n+1), ()))"
   ]
  },
  {
   "cell_type": "code",
   "execution_count": 25,
   "metadata": {},
   "outputs": [
    {
     "name": "stdout",
     "output_type": "stream",
     "text": [
      "(<tf.Tensor: id=36, shape=(21, 21), dtype=float32, numpy=\n",
      "array([[ 0.00000000e+00,  8.84425998e-01,  8.70866835e-01,\n",
      "        -5.22092320e-02, -2.92410553e-01, -1.04490960e+00,\n",
      "         3.08168471e-01, -4.99473453e-01, -1.31411338e+00,\n",
      "         8.27346265e-01,  2.90960073e-01, -1.20085061e+00,\n",
      "         8.99401784e-01,  1.30015540e+00, -6.99735209e-02,\n",
      "        -4.56229329e-01,  9.48707908e-02,  4.27554756e-01,\n",
      "         1.80385813e-01, -1.62208334e-01,  0.00000000e+00],\n",
      "       [-4.14573282e-01,  2.05978513e-01,  2.95966268e-01,\n",
      "         1.24354577e-02, -1.94389239e-01, -3.90354782e-01,\n",
      "        -1.36747003e-01, -3.12382489e-01, -4.25068974e-01,\n",
      "         1.07611634e-01,  5.14649488e-02, -2.02161536e-01,\n",
      "         3.38936925e-01,  4.94348526e-01,  1.17332123e-01,\n",
      "        -6.46428391e-02,  5.61944619e-02,  1.69670239e-01,\n",
      "         1.64521456e-01,  3.10405046e-01,  1.23867369e+00],\n",
      "       [-4.23933044e-02,  5.80950640e-02,  9.45843160e-02,\n",
      "         3.74024181e-04, -1.07227057e-01, -1.85373321e-01,\n",
      "        -1.52419180e-01, -1.88240588e-01, -1.81391627e-01,\n",
      "        -2.32957099e-02,  9.44961980e-03,  1.80255761e-03,\n",
      "         1.64158896e-01,  2.20969617e-01,  1.09596334e-01,\n",
      "         2.41313912e-02,  2.48796623e-02,  3.04102786e-02,\n",
      "        -2.37528863e-03,  6.33417454e-04,  2.15363503e-01],\n",
      "       [-1.29346559e-02, -2.57892758e-02,  2.39019133e-02,\n",
      "         1.70337840e-03, -4.95196991e-02, -9.14922506e-02,\n",
      "        -9.93158370e-02, -1.06769025e-01, -8.89612511e-02,\n",
      "        -2.88524684e-02,  7.82668218e-03,  3.57632451e-02,\n",
      "         9.49265063e-02,  1.15774728e-01,  7.59522021e-02,\n",
      "         2.66924053e-02, -1.12174843e-02, -7.05334917e-02,\n",
      "        -2.05066308e-01, -5.20859599e-01, -1.40389550e+00],\n",
      "       [-1.20726514e+00, -1.72219425e-01,  2.51092296e-02,\n",
      "         3.20572779e-02, -1.06287026e-03, -3.17601562e-02,\n",
      "        -4.65828776e-02, -5.05584218e-02, -3.88318859e-02,\n",
      "        -1.09795956e-02,  1.49463350e-02,  3.84972245e-02,\n",
      "         6.40091524e-02,  7.12505877e-02,  5.17453514e-02,\n",
      "         1.79035123e-02, -2.59085130e-02, -9.62604582e-02,\n",
      "        -2.26496845e-01, -4.75109935e-01, -9.44625914e-01],\n",
      "       [ 1.57996881e+00,  5.19067526e-01,  2.16697156e-01,\n",
      "         1.02479368e-01,  4.49711010e-02,  1.20973689e-02,\n",
      "        -4.69708955e-03, -1.00499047e-02, -4.82827472e-03,\n",
      "         8.81963782e-03,  2.44410280e-02,  3.92701700e-02,\n",
      "         5.13622984e-02,  5.34731224e-02,  4.18750979e-02,\n",
      "         1.90848019e-02, -1.40596190e-02, -6.21029995e-02,\n",
      "        -1.29550681e-01, -2.08457351e-01, -2.60078847e-01],\n",
      "       [ 9.14187908e-01,  4.51823503e-01,  2.20132500e-01,\n",
      "         1.16191953e-01,  6.63705319e-02,  3.98756228e-02,\n",
      "         2.57470533e-02,  1.98841654e-02,  2.07490530e-02,\n",
      "         2.66453940e-02,  3.47279683e-02,  4.27801348e-02,\n",
      "         4.86967415e-02,  4.94044982e-02,  4.31971215e-02,\n",
      "         3.06202155e-02,  1.26882344e-02, -8.54123384e-03,\n",
      "        -2.11455151e-02,  3.09100244e-02,  3.99589092e-01],\n",
      "       [ 3.72175336e-01,  1.53906167e-01,  9.58173871e-02,\n",
      "         7.57854059e-02,  6.44434467e-02,  5.52875400e-02,\n",
      "         4.79255170e-02,  4.30904627e-02,  4.12949286e-02,\n",
      "         4.22849208e-02,  4.50453125e-02,  4.84256521e-02,\n",
      "         5.12400419e-02,  5.22510074e-02,  5.08886725e-02,\n",
      "         4.75107059e-02,  4.27335761e-02,  3.63953449e-02,\n",
      "         2.25998294e-02, -4.63461131e-02, -4.86731589e-01],\n",
      "       [-9.17691469e-01, -3.04191560e-01, -6.65545240e-02,\n",
      "         2.66888272e-02,  6.03303164e-02,  6.89055696e-02,\n",
      "         6.75770044e-02,  6.32572398e-02,  5.90552837e-02,\n",
      "         5.61540425e-02,  5.47427088e-02,  5.46371192e-02,\n",
      "         5.55867702e-02,  5.74708208e-02,  6.05958477e-02,\n",
      "         6.58003613e-02,  7.43400156e-02,  8.87892097e-02,\n",
      "         1.21495605e-01,  2.47837275e-01,  9.10683036e-01],\n",
      "       [-1.10718751e+00, -3.86426449e-01, -8.45327452e-02,\n",
      "         3.71941179e-02,  8.12834203e-02,  9.24274325e-02,\n",
      "         9.02196988e-02,  8.33061934e-02,  7.55149201e-02,\n",
      "         6.85332566e-02,  6.31343648e-02,  5.97933382e-02,\n",
      "         5.89990951e-02,  6.14496656e-02,  6.82235286e-02,\n",
      "         8.07548910e-02,  1.00036912e-01,  1.22925863e-01,\n",
      "         1.26756087e-01,  5.51657472e-03, -7.03589320e-01],\n",
      "       [-2.80786037e-01, -4.97940071e-02,  7.76558816e-02,\n",
      "         1.25336960e-01,  1.35181814e-01,  1.29301026e-01,\n",
      "         1.17568158e-01,  1.04232930e-01,  9.11649466e-02,\n",
      "         7.93297067e-02,  6.94681555e-02,  6.24027811e-02,\n",
      "         5.91666102e-02,  6.11052066e-02,  7.00937212e-02,\n",
      "         8.89587551e-02,  1.22126870e-01,  1.76121250e-01,\n",
      "         2.57086337e-01,  3.51062268e-01,  3.25457573e-01],\n",
      "       [ 2.15273023e-01,  3.90380591e-01,  3.19613338e-01,\n",
      "         2.51316041e-01,  2.04805821e-01,  1.72026724e-01,\n",
      "         1.46518975e-01,  1.24892406e-01,  1.05582230e-01,\n",
      "         8.81524533e-02,  7.30057731e-02,  6.11830167e-02,\n",
      "         5.41593507e-02,  5.37108369e-02,  6.20873943e-02,\n",
      "         8.28595459e-02,  1.23390555e-01,  2.02345952e-01,\n",
      "         3.74405652e-01,  8.16188633e-01,  2.13707995e+00],\n",
      "       [ 2.59550238e+00,  1.07642996e+00,  5.59100807e-01,\n",
      "         3.55508089e-01,  2.60698706e-01,  2.07481086e-01,\n",
      "         1.71588629e-01,  1.43235490e-01,  1.18119121e-01,\n",
      "         9.46921185e-02,  7.32194483e-02,  5.51641658e-02,\n",
      "         4.25769463e-02,  3.74913923e-02,  4.16854657e-02,\n",
      "         5.70014827e-02,  8.62298533e-02,  1.35466352e-01,\n",
      "         2.22001746e-01,  4.02206600e-01,  8.68691504e-01],\n",
      "       [ 1.43218887e+00,  7.60736167e-01,  4.84851807e-01,\n",
      "         3.50916803e-01,  2.74999827e-01,  2.25610271e-01,\n",
      "         1.89118966e-01,  1.58341795e-01,  1.28966644e-01,\n",
      "         9.92774516e-02,  7.00157508e-02,  4.36772443e-02,\n",
      "         2.34928709e-02,  1.19923223e-02,  1.01615973e-02,\n",
      "         1.72310602e-02,  2.90610120e-02,  3.12878713e-02,\n",
      "        -2.40716059e-02, -2.98055530e-01, -1.31761694e+00],\n",
      "       [-1.00132561e+00,  4.94739115e-02,  2.68653542e-01,\n",
      "         2.88307458e-01,  2.62773484e-01,  2.30841234e-01,\n",
      "         2.00935140e-01,  1.72046080e-01,  1.40128210e-01,\n",
      "         1.03435293e-01,  6.38888553e-02,  2.60361917e-02,\n",
      "        -4.27502766e-03, -2.31765714e-02, -3.02624591e-02,\n",
      "        -2.72998493e-02, -1.85047369e-02, -1.53042832e-02,\n",
      "        -5.15205078e-02, -2.52740264e-01, -1.21835864e+00],\n",
      "       [ 8.28039125e-02,  1.69831589e-01,  2.51980990e-01,\n",
      "         2.70886034e-01,  2.56945431e-01,  2.34046057e-01,\n",
      "         2.11734280e-01,  1.88779190e-01,  1.56064838e-01,\n",
      "         1.10446647e-01,  5.60681783e-02,  8.53698235e-04,\n",
      "        -4.34526019e-02, -7.01611191e-02, -8.07350129e-02,\n",
      "        -7.76632652e-02, -6.04758263e-02, -2.24797595e-02,\n",
      "         8.60341266e-02,  5.56973696e-01,  2.91580057e+00],\n",
      "       [ 3.58974874e-01,  2.95067549e-01,  2.98552752e-01,\n",
      "         2.86310226e-01,  2.60076165e-01,  2.36663267e-01,\n",
      "         2.23176748e-01,  2.15271533e-01,  1.84905320e-01,\n",
      "         1.26218274e-01,  4.90835123e-02, -3.52369733e-02,\n",
      "        -1.00227959e-01, -1.33280292e-01, -1.44853204e-01,\n",
      "        -1.42142355e-01, -1.23255551e-01, -1.00173049e-01,\n",
      "        -1.38836890e-01, -5.21199644e-01, -2.61926866e+00],\n",
      "       [ 2.59201378e-01,  3.52911025e-01,  3.60852242e-01,\n",
      "         3.15725952e-01,  2.60385692e-01,  2.29354128e-01,\n",
      "         2.29037926e-01,  2.64224857e-01,  2.42066622e-01,\n",
      "         1.60437629e-01,  4.92845662e-02, -9.06571448e-02,\n",
      "        -1.88941970e-01, -2.17878863e-01, -2.23255187e-01,\n",
      "        -2.22797409e-01, -1.90230966e-01, -1.16120003e-01,\n",
      "        -2.00090166e-02,  1.16333403e-01,  9.20361519e-01],\n",
      "       [ 9.63243127e-01,  4.96522874e-01,  4.76219267e-01,\n",
      "         3.55355680e-01,  2.36386538e-01,  1.91329598e-01,\n",
      "         1.99395955e-01,  3.70523393e-01,  3.58698666e-01,\n",
      "         2.24181056e-01,  7.82742724e-02, -1.87734202e-01,\n",
      "        -3.47003937e-01, -3.26038033e-01, -3.07491243e-01,\n",
      "        -3.35561126e-01, -2.98750907e-01, -1.54066965e-01,\n",
      "         5.85874319e-02,  8.61807615e-02,  3.91476274e-01],\n",
      "       [ 9.29776609e-01,  1.93718106e-01,  6.92146242e-01,\n",
      "         3.93090963e-01,  1.38475180e-01,  1.00181773e-01,\n",
      "         6.69287099e-03,  6.59774125e-01,  5.98023593e-01,\n",
      "         2.99313664e-01,  2.27365658e-01, -3.91550004e-01,\n",
      "        -6.85301542e-01, -4.31778044e-01, -3.45110655e-01,\n",
      "        -5.13204992e-01, -5.15144527e-01, -2.59984404e-01,\n",
      "         3.22244942e-01, -2.21674040e-01, -1.70526230e+00],\n",
      "       [ 0.00000000e+00, -1.34357321e+00,  1.70555663e+00,\n",
      "         3.86386752e-01, -1.75758541e-01,  6.42294362e-02,\n",
      "        -9.32580352e-01,  1.66385674e+00,  1.07430792e+00,\n",
      "         1.47684321e-01,  9.23424661e-01, -9.20529902e-01,\n",
      "        -1.57087409e+00, -3.70661944e-01, -1.27968371e-01,\n",
      "        -8.57003629e-01, -9.88637805e-01, -6.92971051e-01,\n",
      "         1.71205080e+00,  4.10140395e-01,  0.00000000e+00]], dtype=float32)>,\n",
      " <tf.Tensor: id=37, shape=(), dtype=bool, numpy=True>)\n",
      "(<tf.Tensor: id=38, shape=(21, 21), dtype=float32, numpy=\n",
      "array([[ 0.0000000e+00,  2.4186525e+00, -6.7722106e-01,  3.7182993e-01,\n",
      "        -1.1588099e+00, -1.1592970e+00,  7.2861713e-01, -2.3761792e+00,\n",
      "         7.4839419e-01,  1.4152175e+00, -6.4447004e-01,  1.2812600e+00,\n",
      "        -2.2004062e-01,  1.3471287e+00,  2.4948974e-01, -8.8946825e-01,\n",
      "         8.4978950e-01, -4.1886914e-01, -1.0194649e+00,  5.4811162e-01,\n",
      "         0.0000000e+00],\n",
      "       [ 1.1987675e+00,  1.8773508e+00,  1.1555659e+00, -8.8096911e-01,\n",
      "         3.5664463e-01,  1.1071246e+00,  9.9240673e-01,  6.4554065e-01,\n",
      "        -1.1770229e+00,  1.3907820e+00, -2.5114763e-01, -1.7698761e+00,\n",
      "         5.5259038e-02,  1.2565734e+00,  8.4796560e-01, -2.3877490e-01,\n",
      "        -1.4366212e-01, -8.0478382e-01,  1.6502716e-01,  5.6499732e-01,\n",
      "        -6.5606898e-01],\n",
      "       [ 4.7874570e-01, -4.3488485e-01,  4.9149245e-01,  2.2267124e-01,\n",
      "         8.0450302e-01, -9.1929905e-02,  1.8872889e+00, -7.0942438e-01,\n",
      "        -1.4096678e+00, -4.3571910e-01,  2.5709934e+00,  1.6815032e+00,\n",
      "         7.7089685e-01,  7.5628108e-01,  1.3179266e+00,  1.0266091e+00,\n",
      "         1.4692999e-01,  1.0670186e+00, -4.1054007e-01, -5.2871037e-01,\n",
      "        -7.9337966e-01],\n",
      "       [-6.7158461e-01, -1.8759018e+00, -7.5099058e-02,  2.2905910e+00,\n",
      "        -5.6114310e-01, -1.3028769e+00, -1.3831048e+00, -9.7379990e-02,\n",
      "         1.1997362e+00,  1.0344157e+00, -1.1525347e+00, -1.2326144e+00,\n",
      "        -9.2073715e-01,  5.5436149e-02,  2.3719747e-01, -4.6920460e-01,\n",
      "         1.1590636e+00,  1.1214763e+00,  4.1365790e-01,  2.6171999e+00,\n",
      "         3.5716081e-01],\n",
      "       [-3.2274249e-01, -2.4429977e+00, -2.7574506e-01,  1.7072464e+00,\n",
      "        -3.7092292e-01,  4.2005610e-01,  4.3610698e-01,  1.0827700e+00,\n",
      "         9.2904353e-01,  8.4880918e-02,  4.7740105e-01,  1.1698956e+00,\n",
      "         1.1160784e-01,  5.8494061e-01, -2.4011784e+00,  3.5385919e-01,\n",
      "         1.2427166e+00,  1.2682403e+00, -1.2063823e+00,  1.9114112e+00,\n",
      "         5.2443302e-01],\n",
      "       [-2.0896935e+00,  7.6249564e-01, -5.3376329e-01,  3.0277726e-01,\n",
      "        -1.9567336e+00, -7.5864905e-01, -9.7268695e-01,  1.1776562e+00,\n",
      "         2.1940722e-01, -9.8616540e-01,  9.3234485e-01, -1.3915035e-01,\n",
      "        -8.3392626e-01, -1.7363350e+00,  2.1250400e-01,  1.1045330e+00,\n",
      "         7.0703471e-01,  2.1441688e-01, -3.6991456e-01, -5.4946250e-01,\n",
      "        -1.2687188e+00],\n",
      "       [-5.4674244e-01, -3.2380986e-01, -1.9240648e+00, -1.6204540e+00,\n",
      "         1.6399109e-01,  1.6100361e+00, -1.2059290e+00,  9.5905840e-01,\n",
      "         1.7279687e+00,  7.4748123e-01, -2.6044565e-01,  1.1196731e+00,\n",
      "         1.4311279e+00,  5.0744277e-01, -2.0464702e+00,  4.1646829e-01,\n",
      "         1.8363342e+00, -1.2604487e-01, -8.8650006e-01, -2.9747784e-01,\n",
      "        -1.4405897e+00],\n",
      "       [ 4.3452117e-01, -9.2873973e-01, -6.8114793e-01,  2.2298765e+00,\n",
      "         8.8541359e-01,  6.1492121e-01, -1.6207628e-01,  2.6887530e-01,\n",
      "        -5.2742249e-01,  4.9851957e-01, -3.0522794e-01, -6.8689078e-01,\n",
      "         4.4608437e-02,  2.2624102e+00,  1.3556002e-01, -5.8762777e-01,\n",
      "         2.0547628e+00, -5.1185262e-01, -1.4235599e-01, -4.3839730e-02,\n",
      "        -5.3916597e-01],\n",
      "       [-3.4165013e-01,  1.2271376e+00, -1.2323558e+00, -1.0122023e+00,\n",
      "         1.5845129e+00, -6.6179848e-01, -1.3250542e+00, -8.1520474e-01,\n",
      "         5.4112834e-01,  1.4808181e-01, -9.7125471e-01,  1.4169348e+00,\n",
      "        -1.2477679e+00, -1.7608951e-01,  1.2893318e+00, -8.0701637e-01,\n",
      "        -1.4705547e+00,  2.2550067e-01, -5.2326292e-01,  2.7031872e-02,\n",
      "         7.9993355e-01],\n",
      "       [ 1.3205289e+00, -3.0549577e-01,  1.1231329e+00,  8.5490596e-01,\n",
      "         5.1054329e-01,  5.2194005e-01, -8.1451404e-01, -9.0604380e-02,\n",
      "        -1.5059274e+00, -1.1410465e+00, -3.7942469e-01,  1.6848929e+00,\n",
      "        -4.3171108e-01,  2.3288979e-01, -2.3118138e-01, -1.5745348e+00,\n",
      "        -5.8365798e-01, -1.1041743e-01,  4.3737882e-01,  4.5181248e-01,\n",
      "         1.5475165e+00],\n",
      "       [ 1.1814897e+00, -1.1843467e+00,  1.2560875e+00, -9.6575904e-01,\n",
      "        -8.0493432e-01, -5.6931299e-01, -1.3211831e+00, -5.1491606e-01,\n",
      "        -5.1249611e-01,  9.0559959e-01, -3.2028323e-01, -1.9889915e+00,\n",
      "         5.1436466e-01,  9.7097015e-01, -8.8194185e-01,  9.3905106e-02,\n",
      "         1.0165620e+00,  3.1719774e-01,  1.2972572e+00,  9.3323445e-01,\n",
      "         8.0128181e-01],\n",
      "       [ 1.1622122e-01,  3.1071874e-01,  2.2416868e+00, -1.0911877e-01,\n",
      "        -2.9423690e-01, -7.1387418e-02,  3.9198199e-01, -1.5545972e-01,\n",
      "         9.1904724e-01,  7.1418649e-01,  7.3129499e-01, -1.0296344e+00,\n",
      "        -1.7982049e+00,  9.0568227e-01,  1.3321189e+00, -6.5013570e-01,\n",
      "        -7.3613721e-01,  2.0159369e+00, -3.9885931e-02, -1.8911376e+00,\n",
      "         1.2988724e+00],\n",
      "       [ 9.6582073e-01,  1.2906370e+00, -1.2064296e+00,  1.3057160e-01,\n",
      "        -1.6720519e+00, -3.4606943e-01,  1.9218721e+00, -8.4143394e-01,\n",
      "         5.9855223e-01,  1.3798077e-01,  4.6075234e-01,  3.3781260e-02,\n",
      "         7.4072105e-01,  2.0347791e+00,  3.5007289e-01, -3.7420955e-01,\n",
      "        -6.6202420e-01,  2.0491831e-01, -1.8746231e-01,  6.5441816e-03,\n",
      "        -1.6450238e-01],\n",
      "       [ 1.1486615e+00,  4.7397360e-01,  1.0071777e+00, -2.7056727e-01,\n",
      "         1.2051244e+00,  9.7131677e-02, -7.8172624e-02, -2.2915972e-02,\n",
      "         2.0105655e+00, -1.5445621e+00,  1.1789968e+00, -1.0804011e+00,\n",
      "        -1.3968014e+00,  4.1300106e-01, -7.6963085e-01, -8.4475182e-02,\n",
      "        -1.7456450e+00, -1.1092026e+00,  5.5377030e-01,  1.2537069e+00,\n",
      "         1.0734754e-01],\n",
      "       [ 3.6988149e+00,  1.3921088e+00,  5.3268212e-01,  5.8444828e-01,\n",
      "         7.1034271e-01,  7.7583379e-01, -1.9150288e+00, -1.3471906e-01,\n",
      "        -2.0192088e-01, -9.2330003e-01, -3.3834923e-02, -1.4944224e+00,\n",
      "        -1.8618139e+00,  8.5654950e-01,  3.7206182e-01, -7.1887776e-02,\n",
      "         1.7831402e+00, -2.9494148e-01, -5.6725842e-01,  4.3639576e-01,\n",
      "         6.9719642e-01],\n",
      "       [ 8.5142100e-01, -2.6740095e-01,  6.1403924e-01, -9.5806283e-01,\n",
      "        -1.1740700e+00,  2.9622197e-01, -2.9949725e-01, -7.8344697e-01,\n",
      "        -8.4256358e-02,  5.6522679e-02, -2.2196796e+00, -7.5152421e-01,\n",
      "         3.0740279e-01,  5.1134635e-02,  1.2408489e+00,  1.6111460e+00,\n",
      "         1.9474170e+00,  4.8747429e-01, -4.6397832e-01, -2.9304928e-01,\n",
      "         9.5297664e-02],\n",
      "       [ 4.6513513e-01,  1.1397197e+00, -3.1814206e-01, -4.2721379e-01,\n",
      "        -2.0187698e-01, -7.4045151e-01, -8.5397661e-01, -6.1907130e-01,\n",
      "         2.3177825e-01,  4.8986223e-01,  1.2541645e+00,  1.4083835e+00,\n",
      "        -2.3267393e-01, -5.5815291e-01,  2.5527754e-01, -1.4020839e-01,\n",
      "         4.1327941e-01,  5.7317096e-01, -4.2125735e-01, -1.1935602e+00,\n",
      "        -9.8882550e-01],\n",
      "       [ 1.0568806e+00,  3.2092229e-01,  5.5140901e-02,  6.5540195e-01,\n",
      "         1.4769384e-01,  4.4135323e-01,  4.5742515e-01,  1.1599417e+00,\n",
      "        -1.8380884e+00,  6.3889366e-01,  2.9287186e-01,  1.2424657e+00,\n",
      "        -5.3909141e-01,  6.7760600e-03,  1.3416629e+00,  7.3557264e-01,\n",
      "         8.7295961e-01,  1.3628318e+00,  1.0518639e+00, -3.0668902e-01,\n",
      "        -6.2171078e-01],\n",
      "       [-2.6365836e+00,  1.5250994e+00,  6.3379145e-01,  4.4698054e-01,\n",
      "         2.1399428e-01, -4.2487574e-01, -3.4454414e-01, -4.9980623e-01,\n",
      "         2.6964283e-01, -1.1414946e-01, -8.5768878e-01, -7.9583621e-01,\n",
      "        -1.6487467e-01, -3.9373395e-01,  2.0319727e-01,  1.6748145e+00,\n",
      "         1.7490510e-02, -9.2134267e-02, -3.6205351e-01,  9.2711926e-01,\n",
      "         3.1429693e-01],\n",
      "       [ 2.1991944e+00,  1.2626873e-01,  7.1485424e-01, -1.7517041e+00,\n",
      "         3.7367046e-01,  1.1218338e+00,  9.7908157e-01, -2.4033959e-01,\n",
      "         1.5195191e+00,  1.6064814e+00, -7.8453910e-01, -5.7321197e-01,\n",
      "        -2.9929781e-02,  1.2845794e+00,  1.7177595e-03, -4.2912979e-02,\n",
      "         7.0416823e-02, -3.9810434e-02,  3.5453579e-01, -7.8017533e-02,\n",
      "         1.8797334e-01],\n",
      "       [ 0.0000000e+00,  1.1835213e+00, -1.3567958e+00, -1.5704690e-01,\n",
      "         2.7093655e-01, -6.1879069e-01,  1.0825312e+00,  5.5091166e-01,\n",
      "         1.8621722e+00,  1.1614513e+00, -4.2677537e-01,  1.3639078e+00,\n",
      "         5.8363336e-01, -1.2327061e+00, -7.0273995e-01,  1.4517958e+00,\n",
      "         2.3788199e+00, -6.2843263e-01, -1.2106227e+00,  2.4175248e-01,\n",
      "         0.0000000e+00]], dtype=float32)>,\n",
      " <tf.Tensor: id=39, shape=(), dtype=bool, numpy=False>)\n"
     ]
    }
   ],
   "source": [
    "for item in dataset.take(2):\n",
    "    pprint(item)"
   ]
  },
  {
   "cell_type": "code",
   "execution_count": 26,
   "metadata": {},
   "outputs": [
    {
     "data": {
      "image/png": "[encoded data removed]",
      "text/plain": [
       "<Figure size 1512x1512 with 5 Axes>"
      ]
     },
     "metadata": {
      "needs_background": "light"
     },
     "output_type": "display_data"
    }
   ],
   "source": [
    "visualize_dataset(dataset, n, num_examples=5)"
   ]
  },
  {
   "cell_type": "markdown",
   "metadata": {},
   "source": [
    "## Classifying Harmonic Functions. Expert Makes the Trained Net. $n=2$\n",
    "\n",
    "Cheating: Giving the net the answer.  We need two nodes in the hidden layer with relu activations so that we can enforce that the value at the middle points is the average of the values at the surrounding points.  Each node penalizes the middle point for being either above or below the average."
   ]
  },
  {
   "cell_type": "code",
   "execution_count": 106,
   "metadata": {},
   "outputs": [],
   "source": [
    "n=2\n",
    "dataset = tf.data.Dataset.from_generator(harmonic_data_generator, \n",
    "                                         args=[n], \n",
    "                                         output_types=(tf.float32, tf.bool), \n",
    "                                         output_shapes = ((n+1,n+1), ()))\n",
    "\n",
    "dense_weights = np.array([[0., 0.],\n",
    "                          [.25, -.25],\n",
    "                          [0., 0.],\n",
    "                          [.25, -.25],\n",
    "                          [-1.,  1.],\n",
    "                          [.25, -.25],\n",
    "                          [0., 0.],\n",
    "                          [.25, -.25],\n",
    "                          [0., 0.]])\n",
    "dense_bias = np.array([0., 0.])\n",
    "                         \n",
    "output_weights = np.array([-1000, -1000])\n",
    "output_bias = np.array([10.])"
   ]
  },
  {
   "cell_type": "code",
   "execution_count": 28,
   "metadata": {},
   "outputs": [],
   "source": [
    "dense_initializer = tf.keras.initializers.Constant(value=dense_weights)\n",
    "dense_bias_initializer = tf.keras.initializers.Constant(value=dense_bias)\n",
    "dense_layer = tf.keras.layers.Dense(2, \n",
    "                                    input_shape=(9,), \n",
    "                                    kernel_initializer=dense_initializer, \n",
    "                                    bias_initializer=dense_bias_initializer, \n",
    "                                    activation='relu')"
   ]
  },
  {
   "cell_type": "code",
   "execution_count": 29,
   "metadata": {},
   "outputs": [],
   "source": [
    "output_initializer = tf.keras.initializers.Constant(value=output_weights)\n",
    "output_bias_initializer = tf.keras.initializers.Constant(value=output_bias)\n",
    "output_layer = tf.keras.layers.Dense(1, \n",
    "                                     kernel_initializer=output_initializer, \n",
    "                                     bias_initializer=output_bias_initializer,\n",
    "                                     activation='sigmoid')"
   ]
  },
  {
   "cell_type": "code",
   "execution_count": 30,
   "metadata": {},
   "outputs": [],
   "source": [
    "model = tf.keras.Sequential([tf.keras.layers.Flatten(input_shape=(n+1,n+1)),\n",
    "                             dense_layer, output_layer],\n",
    "                            name=\"expert\")"
   ]
  },
  {
   "cell_type": "code",
   "execution_count": 31,
   "metadata": {},
   "outputs": [],
   "source": [
    "model.compile(optimizer='adam',\n",
    "              loss='binary_crossentropy',\n",
    "              metrics=['accuracy'])"
   ]
  },
  {
   "cell_type": "code",
   "execution_count": 32,
   "metadata": {},
   "outputs": [
    {
     "name": "stdout",
     "output_type": "stream",
     "text": [
      "Model: \"expert\"\n",
      "_________________________________________________________________\n",
      "Layer (type)                 Output Shape              Param #   \n",
      "=================================================================\n",
      "flatten (Flatten)            (None, 9)                 0         \n",
      "_________________________________________________________________\n",
      "dense (Dense)                (None, 2)                 20        \n",
      "_________________________________________________________________\n",
      "dense_1 (Dense)              (None, 1)                 3         \n",
      "=================================================================\n",
      "Total params: 23\n",
      "Trainable params: 23\n",
      "Non-trainable params: 0\n",
      "_________________________________________________________________\n"
     ]
    }
   ],
   "source": [
    "model.summary()"
   ]
  },
  {
   "cell_type": "code",
   "execution_count": 33,
   "metadata": {},
   "outputs": [
    {
     "name": "stdout",
     "output_type": "stream",
     "text": [
      "Train for 10 steps\n",
      "Epoch 1/2\n",
      "10/10 [==============================] - 1s 68ms/step - loss: 0.0629 - accuracy: 0.9891\n",
      "Epoch 2/2\n",
      "10/10 [==============================] - 0s 15ms/step - loss: 0.0635 - accuracy: 0.9875\n"
     ]
    }
   ],
   "source": [
    "h = model.fit(dataset.batch(64), epochs=2, steps_per_epoch=10)"
   ]
  },
  {
   "cell_type": "markdown",
   "metadata": {},
   "source": [
    "As we can see, the net performs well immediately and has been unchanged by the training"
   ]
  },
  {
   "cell_type": "code",
   "execution_count": 34,
   "metadata": {},
   "outputs": [
    {
     "data": {
      "text/plain": [
       "[<tf.Variable 'dense/kernel:0' shape=(9, 2) dtype=float32, numpy=\n",
       " array([[ 0.        ,  0.        ],\n",
       "        [ 0.2482706 , -0.25002673],\n",
       "        [ 0.        ,  0.        ],\n",
       "        [ 0.25034   , -0.24957444],\n",
       "        [-1.0006437 ,  1.0002809 ],\n",
       "        [ 0.25108224, -0.24949399],\n",
       "        [ 0.        ,  0.        ],\n",
       "        [ 0.2494172 , -0.25028685],\n",
       "        [ 0.        ,  0.        ]], dtype=float32)>,\n",
       " <tf.Variable 'dense/bias:0' shape=(2,) dtype=float32, numpy=array([-0.00355929,  0.00305841], dtype=float32)>]"
      ]
     },
     "execution_count": 34,
     "metadata": {},
     "output_type": "execute_result"
    }
   ],
   "source": [
    "model.layers[1].weights"
   ]
  },
  {
   "cell_type": "code",
   "execution_count": 35,
   "metadata": {},
   "outputs": [
    {
     "data": {
      "text/plain": [
       "[<tf.Variable 'dense_1/kernel:0' shape=(2, 1) dtype=float32, numpy=\n",
       " array([[-1000.0006],\n",
       "        [ -999.9977]], dtype=float32)>,\n",
       " <tf.Variable 'dense_1/bias:0' shape=(1,) dtype=float32, numpy=array([9.993296], dtype=float32)>]"
      ]
     },
     "execution_count": 35,
     "metadata": {},
     "output_type": "execute_result"
    }
   ],
   "source": [
    "model.layers[2].weights"
   ]
  },
  {
   "cell_type": "markdown",
   "metadata": {},
   "source": [
    "## Classifying Harmonic Functions. Net has Minimal Nodes, $n=2$\n",
    "\n",
    "Here we use the same structure of net as above, but with random initialization.  If run for enough time, it eventually solves the problem. If one of the hidden nodes figures out half of the mean value property, it results in a big, sudden jump in performance of the net. \n",
    "\n",
    "In this particular run, the jumps in performance are around Epochs 8 and 26.  After both jumps are made, I believe the improvement is the net gaining confidence in these nodes (the output weights increasing in magnitude)."
   ]
  },
  {
   "cell_type": "code",
   "execution_count": 36,
   "metadata": {},
   "outputs": [],
   "source": [
    "n=2"
   ]
  },
  {
   "cell_type": "code",
   "execution_count": 37,
   "metadata": {},
   "outputs": [],
   "source": [
    "dataset = tf.data.Dataset.from_generator(harmonic_data_generator, \n",
    "                                         args=[n], \n",
    "                                         output_types=(tf.float32, tf.bool), \n",
    "                                         output_shapes = ((n+1, n+1), ()))"
   ]
  },
  {
   "cell_type": "code",
   "execution_count": 38,
   "metadata": {},
   "outputs": [],
   "source": [
    "dense_layer = tf.keras.layers.Dense(2, \n",
    "                                    input_shape=((n+1)**2,),\n",
    "                                    activation='relu')"
   ]
  },
  {
   "cell_type": "code",
   "execution_count": 39,
   "metadata": {},
   "outputs": [],
   "source": [
    "output_layer = tf.keras.layers.Dense(1,\n",
    "                                     activation='sigmoid')"
   ]
  },
  {
   "cell_type": "code",
   "execution_count": 40,
   "metadata": {
    "scrolled": true
   },
   "outputs": [],
   "source": [
    "model = tf.keras.Sequential([tf.keras.layers.Flatten(input_shape=(n+1,n+1)),\n",
    "                             dense_layer, output_layer],\n",
    "                            name=\"minimal\")"
   ]
  },
  {
   "cell_type": "code",
   "execution_count": 41,
   "metadata": {},
   "outputs": [],
   "source": [
    "model.compile(optimizer='adam',\n",
    "              loss='binary_crossentropy',\n",
    "              metrics=['accuracy'])"
   ]
  },
  {
   "cell_type": "code",
   "execution_count": 42,
   "metadata": {},
   "outputs": [
    {
     "name": "stdout",
     "output_type": "stream",
     "text": [
      "Model: \"minimal\"\n",
      "_________________________________________________________________\n",
      "Layer (type)                 Output Shape              Param #   \n",
      "=================================================================\n",
      "flatten_1 (Flatten)          (None, 9)                 0         \n",
      "_________________________________________________________________\n",
      "dense_2 (Dense)              (None, 2)                 20        \n",
      "_________________________________________________________________\n",
      "dense_3 (Dense)              (None, 1)                 3         \n",
      "=================================================================\n",
      "Total params: 23\n",
      "Trainable params: 23\n",
      "Non-trainable params: 0\n",
      "_________________________________________________________________\n"
     ]
    }
   ],
   "source": [
    "model.summary()"
   ]
  },
  {
   "cell_type": "code",
   "execution_count": 43,
   "metadata": {},
   "outputs": [
    {
     "name": "stdout",
     "output_type": "stream",
     "text": [
      "Train for 100 steps\n",
      "Epoch 1/50\n",
      "100/100 [==============================] - 2s 17ms/step - loss: 0.7710 - accuracy: 0.4697\n",
      "Epoch 2/50\n",
      "100/100 [==============================] - 1s 13ms/step - loss: 0.7330 - accuracy: 0.4700\n",
      "Epoch 3/50\n",
      "100/100 [==============================] - 1s 13ms/step - loss: 0.7126 - accuracy: 0.4783\n",
      "Epoch 4/50\n",
      "100/100 [==============================] - 1s 14ms/step - loss: 0.7060 - accuracy: 0.4766\n",
      "Epoch 5/50\n",
      "100/100 [==============================] - 1s 14ms/step - loss: 0.7029 - accuracy: 0.4845\n",
      "Epoch 6/50\n",
      "100/100 [==============================] - 2s 16ms/step - loss: 0.6982 - accuracy: 0.4989\n",
      "Epoch 7/50\n",
      "100/100 [==============================] - 1s 14ms/step - loss: 0.6987 - accuracy: 0.4914\n",
      "Epoch 8/50\n",
      "100/100 [==============================] - 1s 13ms/step - loss: 0.6962 - accuracy: 0.5034\n",
      "Epoch 9/50\n",
      "100/100 [==============================] - 1s 14ms/step - loss: 0.6959 - accuracy: 0.4956\n",
      "Epoch 10/50\n",
      "100/100 [==============================] - 1s 14ms/step - loss: 0.6939 - accuracy: 0.5045\n",
      "Epoch 11/50\n",
      "100/100 [==============================] - 1s 14ms/step - loss: 0.6949 - accuracy: 0.4952\n",
      "Epoch 12/50\n",
      "100/100 [==============================] - 1s 15ms/step - loss: 0.6950 - accuracy: 0.4981\n",
      "Epoch 13/50\n",
      "100/100 [==============================] - 2s 15ms/step - loss: 0.6944 - accuracy: 0.4939\n",
      "Epoch 14/50\n",
      "100/100 [==============================] - 1s 14ms/step - loss: 0.6939 - accuracy: 0.4970\n",
      "Epoch 15/50\n",
      "100/100 [==============================] - 1s 14ms/step - loss: 0.6935 - accuracy: 0.4992\n",
      "Epoch 16/50\n",
      "100/100 [==============================] - 1s 14ms/step - loss: 0.6939 - accuracy: 0.4938\n",
      "Epoch 17/50\n",
      "100/100 [==============================] - 1s 14ms/step - loss: 0.6935 - accuracy: 0.5016\n",
      "Epoch 18/50\n",
      "100/100 [==============================] - 1s 14ms/step - loss: 0.6936 - accuracy: 0.5011\n",
      "Epoch 19/50\n",
      "100/100 [==============================] - 1s 14ms/step - loss: 0.6935 - accuracy: 0.5030\n",
      "Epoch 20/50\n",
      "100/100 [==============================] - 1s 15ms/step - loss: 0.6935 - accuracy: 0.5003\n",
      "Epoch 21/50\n",
      "100/100 [==============================] - 1s 15ms/step - loss: 0.6931 - accuracy: 0.5045\n",
      "Epoch 22/50\n",
      "100/100 [==============================] - 1s 15ms/step - loss: 0.6932 - accuracy: 0.4994\n",
      "Epoch 23/50\n",
      "100/100 [==============================] - 2s 15ms/step - loss: 0.6924 - accuracy: 0.5195\n",
      "Epoch 24/50\n",
      "100/100 [==============================] - 1s 14ms/step - loss: 0.6928 - accuracy: 0.5103\n",
      "Epoch 25/50\n",
      "100/100 [==============================] - 1s 14ms/step - loss: 0.6929 - accuracy: 0.5123\n",
      "Epoch 26/50\n",
      "100/100 [==============================] - 2s 15ms/step - loss: 0.6926 - accuracy: 0.5097\n",
      "Epoch 27/50\n",
      "100/100 [==============================] - 2s 16ms/step - loss: 0.6932 - accuracy: 0.5016\n",
      "Epoch 28/50\n",
      "100/100 [==============================] - 1s 15ms/step - loss: 0.6929 - accuracy: 0.5150\n",
      "Epoch 29/50\n",
      "100/100 [==============================] - 1s 14ms/step - loss: 0.6925 - accuracy: 0.5144\n",
      "Epoch 30/50\n",
      "100/100 [==============================] - 1s 14ms/step - loss: 0.6927 - accuracy: 0.5172\n",
      "Epoch 31/50\n",
      "100/100 [==============================] - 1s 14ms/step - loss: 0.6924 - accuracy: 0.5125\n",
      "Epoch 32/50\n",
      "100/100 [==============================] - 1s 14ms/step - loss: 0.6914 - accuracy: 0.5205\n",
      "Epoch 33/50\n",
      "100/100 [==============================] - 1s 15ms/step - loss: 0.6910 - accuracy: 0.5084\n",
      "Epoch 34/50\n",
      "100/100 [==============================] - 1s 14ms/step - loss: 0.6917 - accuracy: 0.5102\n",
      "Epoch 35/50\n",
      "100/100 [==============================] - 1s 15ms/step - loss: 0.6924 - accuracy: 0.5147\n",
      "Epoch 36/50\n",
      "100/100 [==============================] - 2s 15ms/step - loss: 0.6917 - accuracy: 0.5111\n",
      "Epoch 37/50\n",
      "100/100 [==============================] - 1s 14ms/step - loss: 0.6925 - accuracy: 0.5123\n",
      "Epoch 38/50\n",
      "100/100 [==============================] - 2s 15ms/step - loss: 0.6923 - accuracy: 0.5081\n",
      "Epoch 39/50\n",
      "100/100 [==============================] - 1s 14ms/step - loss: 0.6929 - accuracy: 0.5020\n",
      "Epoch 40/50\n",
      "100/100 [==============================] - 1s 14ms/step - loss: 0.6919 - accuracy: 0.5050\n",
      "Epoch 41/50\n",
      "100/100 [==============================] - 1s 14ms/step - loss: 0.6923 - accuracy: 0.5166\n",
      "Epoch 42/50\n",
      "100/100 [==============================] - 1s 14ms/step - loss: 0.6924 - accuracy: 0.5067\n",
      "Epoch 43/50\n",
      "100/100 [==============================] - 2s 17ms/step - loss: 0.6926 - accuracy: 0.5122\n",
      "Epoch 44/50\n",
      "100/100 [==============================] - 2s 16ms/step - loss: 0.6919 - accuracy: 0.5025\n",
      "Epoch 45/50\n",
      "100/100 [==============================] - 2s 18ms/step - loss: 0.6928 - accuracy: 0.5042\n",
      "Epoch 46/50\n",
      "100/100 [==============================] - 1s 14ms/step - loss: 0.6924 - accuracy: 0.5061\n",
      "Epoch 47/50\n",
      "100/100 [==============================] - 1s 14ms/step - loss: 0.6923 - accuracy: 0.5256\n",
      "Epoch 48/50\n",
      "100/100 [==============================] - 2s 15ms/step - loss: 0.6917 - accuracy: 0.5144\n",
      "Epoch 49/50\n",
      "100/100 [==============================] - 1s 14ms/step - loss: 0.6929 - accuracy: 0.5113\n",
      "Epoch 50/50\n",
      "100/100 [==============================] - 1s 14ms/step - loss: 0.6917 - accuracy: 0.5133\n"
     ]
    }
   ],
   "source": [
    "h = model.fit(dataset.batch(64), epochs=50, steps_per_epoch=100)"
   ]
  },
  {
   "cell_type": "markdown",
   "metadata": {},
   "source": [
    "## Analysis of Net Weights\n",
    "\n",
    "Assuming convergence happens (I have seen it fail to converge in 100 epochs at least once), we can see that both sides of the mean value property have been learned.  See the weights of the hidden layer and output layer.\n",
    "\n",
    "Indices 1,3,5,7 of the hidden layer are equal and add up to the negative of the 4th index.  The two nodes are either pointing in opposite directions or are given opposite weights in the output layer."
   ]
  },
  {
   "cell_type": "code",
   "execution_count": 37,
   "metadata": {},
   "outputs": [
    {
     "data": {
      "text/plain": [
       "[<tf.Variable 'dense_2/kernel:0' shape=(9, 2) dtype=float32, numpy=\n",
       " array([[ 0.55257684,  0.3960927 ],\n",
       "        [ 0.30936512, -0.36719894],\n",
       "        [-0.23686051, -0.06419855],\n",
       "        [ 0.35562265, -0.41436982],\n",
       "        [ 0.31573135, -0.39573443],\n",
       "        [ 0.29748517, -0.38462123],\n",
       "        [ 0.4962538 , -0.02311784],\n",
       "        [ 0.33771533, -0.37288913],\n",
       "        [-0.2561049 ,  0.23368573]], dtype=float32)>,\n",
       " <tf.Variable 'dense_2/bias:0' shape=(2,) dtype=float32, numpy=array([-0.33920106, -0.40642738], dtype=float32)>]"
      ]
     },
     "execution_count": 37,
     "metadata": {},
     "output_type": "execute_result"
    }
   ],
   "source": [
    "model.layers[1].weights"
   ]
  },
  {
   "cell_type": "code",
   "execution_count": 38,
   "metadata": {
    "scrolled": true
   },
   "outputs": [
    {
     "data": {
      "text/plain": [
       "[<tf.Variable 'dense_3/kernel:0' shape=(2, 1) dtype=float32, numpy=\n",
       " array([[0.40998623],\n",
       "        [0.29992172]], dtype=float32)>,\n",
       " <tf.Variable 'dense_3/bias:0' shape=(1,) dtype=float32, numpy=array([-0.14075245], dtype=float32)>]"
      ]
     },
     "execution_count": 38,
     "metadata": {},
     "output_type": "execute_result"
    }
   ],
   "source": [
    "model.layers[2].weights"
   ]
  },
  {
   "cell_type": "markdown",
   "metadata": {},
   "source": [
    "## Classifying Harmonic Functions. Net has Many Nodes, $n=2$\n",
    "\n",
    "This net has been given a substantially larger hidden layer.  This results in many more chances for the net to stumble across the mean value property leading to much faster convergence.  Here confidence in the property can be established by having many more nodes encode the same information, whereas above it could only be expressed with larger values in the output layer."
   ]
  },
  {
   "cell_type": "code",
   "execution_count": 44,
   "metadata": {},
   "outputs": [],
   "source": [
    "n=2"
   ]
  },
  {
   "cell_type": "code",
   "execution_count": 45,
   "metadata": {},
   "outputs": [],
   "source": [
    "dataset = tf.data.Dataset.from_generator(harmonic_data_generator, \n",
    "                                         args=[n], \n",
    "                                         output_types=(tf.float32, tf.bool), \n",
    "                                         output_shapes = ((n+1,n+1), ()))"
   ]
  },
  {
   "cell_type": "code",
   "execution_count": 46,
   "metadata": {},
   "outputs": [],
   "source": [
    "dense_layer = tf.keras.layers.Dense(32, \n",
    "                                    input_shape=(((n+1)**2,)),\n",
    "                                    activation='relu',\n",
    "                                    kernel_regularizer=tf.keras.regularizers.l1(.001))"
   ]
  },
  {
   "cell_type": "code",
   "execution_count": 47,
   "metadata": {},
   "outputs": [],
   "source": [
    "output_layer = tf.keras.layers.Dense(1,\n",
    "                                     activation='sigmoid')"
   ]
  },
  {
   "cell_type": "code",
   "execution_count": 48,
   "metadata": {
    "scrolled": true
   },
   "outputs": [],
   "source": [
    "model = tf.keras.Sequential([tf.keras.layers.Flatten(input_shape=(n+1,n+1)), \n",
    "                             dense_layer, output_layer],\n",
    "                            name='dense_n2')"
   ]
  },
  {
   "cell_type": "code",
   "execution_count": 49,
   "metadata": {
    "scrolled": false
   },
   "outputs": [],
   "source": [
    "model.compile(optimizer='adam',\n",
    "              loss=tf.keras.losses.binary_crossentropy,\n",
    "              metrics=['accuracy'])"
   ]
  },
  {
   "cell_type": "code",
   "execution_count": 50,
   "metadata": {},
   "outputs": [
    {
     "name": "stdout",
     "output_type": "stream",
     "text": [
      "Model: \"dense_n2\"\n",
      "_________________________________________________________________\n",
      "Layer (type)                 Output Shape              Param #   \n",
      "=================================================================\n",
      "flatten_2 (Flatten)          (None, 9)                 0         \n",
      "_________________________________________________________________\n",
      "dense_4 (Dense)              (None, 32)                320       \n",
      "_________________________________________________________________\n",
      "dense_5 (Dense)              (None, 1)                 33        \n",
      "=================================================================\n",
      "Total params: 353\n",
      "Trainable params: 353\n",
      "Non-trainable params: 0\n",
      "_________________________________________________________________\n",
      "None\n"
     ]
    }
   ],
   "source": [
    "print(model.summary())"
   ]
  },
  {
   "cell_type": "code",
   "execution_count": 51,
   "metadata": {
    "scrolled": true
   },
   "outputs": [
    {
     "name": "stdout",
     "output_type": "stream",
     "text": [
      "Train for 100 steps\n",
      "Epoch 1/20\n",
      "100/100 [==============================] - 2s 21ms/step - loss: 0.7475 - accuracy: 0.4791\n",
      "Epoch 2/20\n",
      "100/100 [==============================] - 1s 14ms/step - loss: 0.6773 - accuracy: 0.6766\n",
      "Epoch 3/20\n",
      "100/100 [==============================] - 1s 13ms/step - loss: 0.6007 - accuracy: 0.8169\n",
      "Epoch 4/20\n",
      "100/100 [==============================] - 1s 13ms/step - loss: 0.5252 - accuracy: 0.8572\n",
      "Epoch 5/20\n",
      "100/100 [==============================] - 1s 14ms/step - loss: 0.4578 - accuracy: 0.8720\n",
      "Epoch 6/20\n",
      "100/100 [==============================] - 1s 14ms/step - loss: 0.4076 - accuracy: 0.8891\n",
      "Epoch 7/20\n",
      "100/100 [==============================] - 1s 14ms/step - loss: 0.3695 - accuracy: 0.8959\n",
      "Epoch 8/20\n",
      "100/100 [==============================] - 1s 14ms/step - loss: 0.3391 - accuracy: 0.9058\n",
      "Epoch 9/20\n",
      "100/100 [==============================] - 1s 14ms/step - loss: 0.3149 - accuracy: 0.9047\n",
      "Epoch 10/20\n",
      "100/100 [==============================] - 1s 14ms/step - loss: 0.2977 - accuracy: 0.9098\n",
      "Epoch 11/20\n",
      "100/100 [==============================] - 1s 14ms/step - loss: 0.2781 - accuracy: 0.9166\n",
      "Epoch 12/20\n",
      "100/100 [==============================] - 2s 16ms/step - loss: 0.2654 - accuracy: 0.9233\n",
      "Epoch 13/20\n",
      "100/100 [==============================] - 1s 14ms/step - loss: 0.2566 - accuracy: 0.9256\n",
      "Epoch 14/20\n",
      "100/100 [==============================] - 1s 14ms/step - loss: 0.2415 - accuracy: 0.9308\n",
      "Epoch 15/20\n",
      "100/100 [==============================] - 1s 14ms/step - loss: 0.2362 - accuracy: 0.9298\n",
      "Epoch 16/20\n",
      "100/100 [==============================] - 2s 16ms/step - loss: 0.2310 - accuracy: 0.9320\n",
      "Epoch 17/20\n",
      "100/100 [==============================] - 1s 14ms/step - loss: 0.2225 - accuracy: 0.9369\n",
      "Epoch 18/20\n",
      "100/100 [==============================] - 1s 14ms/step - loss: 0.2241 - accuracy: 0.9337\n",
      "Epoch 19/20\n",
      "100/100 [==============================] - 1s 15ms/step - loss: 0.2075 - accuracy: 0.9441\n",
      "Epoch 20/20\n",
      "100/100 [==============================] - 1s 14ms/step - loss: 0.2042 - accuracy: 0.9444\n"
     ]
    }
   ],
   "source": [
    "h = model.fit(dataset.batch(64), epochs=20, steps_per_epoch=100)"
   ]
  },
  {
   "cell_type": "markdown",
   "metadata": {},
   "source": [
    "## Analysis of Net Weights"
   ]
  },
  {
   "cell_type": "markdown",
   "metadata": {},
   "source": [
    "Examining the output layer, it is clear that some nodes in the hidden layer are treated as important (weights around -5) some are not (weights around 0).  \n",
    "\n",
    "Question: Why are all of the important weights here negative, whereas this didn't happen above?"
   ]
  },
  {
   "cell_type": "code",
   "execution_count": 53,
   "metadata": {},
   "outputs": [
    {
     "data": {
      "text/plain": [
       "[array([[-1.4218769 ],\n",
       "        [-1.6266557 ],\n",
       "        [-0.85903996],\n",
       "        [-1.3231968 ],\n",
       "        [-0.7945338 ],\n",
       "        [-1.5467552 ],\n",
       "        [ 0.3009152 ],\n",
       "        [-1.1890553 ],\n",
       "        [-1.294207  ],\n",
       "        [ 0.42138642],\n",
       "        [-1.4967294 ],\n",
       "        [ 0.5650327 ],\n",
       "        [-0.18634169],\n",
       "        [-1.3237422 ],\n",
       "        [-1.6477545 ],\n",
       "        [-0.9555213 ],\n",
       "        [ 0.34223348],\n",
       "        [ 0.380509  ],\n",
       "        [-0.03589603],\n",
       "        [-0.04480372],\n",
       "        [ 0.2946687 ],\n",
       "        [-1.4356757 ],\n",
       "        [-1.5212297 ],\n",
       "        [ 0.51780057],\n",
       "        [-1.3477013 ],\n",
       "        [ 0.5660915 ],\n",
       "        [ 0.2694632 ],\n",
       "        [ 0.3424591 ],\n",
       "        [ 0.24303533],\n",
       "        [-0.9816827 ],\n",
       "        [ 0.32274064],\n",
       "        [-1.3325472 ]], dtype=float32), array([0.3264231], dtype=float32)]"
      ]
     },
     "execution_count": 53,
     "metadata": {},
     "output_type": "execute_result"
    }
   ],
   "source": [
    "model.layers[2].get_weights()"
   ]
  },
  {
   "cell_type": "markdown",
   "metadata": {},
   "source": [
    "If we pick an important node in the first layer, it will encode one side of the mean-value condition, as above.  Thanks the l1 regularization, we have 0's (approximately) in the degenerate indices 0, 2, 6, and 8."
   ]
  },
  {
   "cell_type": "code",
   "execution_count": 54,
   "metadata": {},
   "outputs": [
    {
     "data": {
      "text/plain": [
       "array([-8.4085834e-05,  2.9709250e-01,  2.0215395e-04,  2.9847521e-01,\n",
       "       -1.1911645e+00,  2.9811358e-01, -2.6674295e-04,  2.9680681e-01,\n",
       "       -5.2395611e-05], dtype=float32)"
      ]
     },
     "execution_count": 54,
     "metadata": {},
     "output_type": "execute_result"
    }
   ],
   "source": [
    "model.layers[1].kernel.numpy()[:,0]"
   ]
  },
  {
   "cell_type": "markdown",
   "metadata": {},
   "source": [
    "## Classifying Harmonic Functions, $n>2$\n",
    "\n",
    "Naive.  The net can very quickly separate the harmonic functions from the random negatives with fantastic accuracy, however, constructed counterexamples that are nearly harmonic will still fool it."
   ]
  },
  {
   "cell_type": "code",
   "execution_count": 55,
   "metadata": {},
   "outputs": [],
   "source": [
    "n=5"
   ]
  },
  {
   "cell_type": "code",
   "execution_count": 56,
   "metadata": {},
   "outputs": [],
   "source": [
    "dataset = tf.data.Dataset.from_generator(harmonic_data_generator, \n",
    "                                         args=[n], \n",
    "                                         output_types=(tf.float32, tf.bool), \n",
    "                                         output_shapes = ((n+1,n+1), ()))"
   ]
  },
  {
   "cell_type": "code",
   "execution_count": 57,
   "metadata": {},
   "outputs": [],
   "source": [
    "dense_layer = tf.keras.layers.Dense(12 * (n-1)**2, \n",
    "                                    input_shape=((n+1)**2,),\n",
    "                                    activation='relu')"
   ]
  },
  {
   "cell_type": "code",
   "execution_count": 58,
   "metadata": {},
   "outputs": [],
   "source": [
    "output_layer = tf.keras.layers.Dense(1,\n",
    "                                     activation='sigmoid')"
   ]
  },
  {
   "cell_type": "code",
   "execution_count": 59,
   "metadata": {
    "scrolled": true
   },
   "outputs": [],
   "source": [
    "model = tf.keras.Sequential([tf.keras.layers.Flatten(input_shape=(n+1,n+1)), \n",
    "                             dense_layer, output_layer],\n",
    "                            name='dense_nlarge')"
   ]
  },
  {
   "cell_type": "code",
   "execution_count": 60,
   "metadata": {},
   "outputs": [],
   "source": [
    "model.compile(optimizer='adam',\n",
    "              loss='hinge',\n",
    "              metrics=['accuracy'])"
   ]
  },
  {
   "cell_type": "code",
   "execution_count": 61,
   "metadata": {},
   "outputs": [
    {
     "name": "stdout",
     "output_type": "stream",
     "text": [
      "Model: \"dense_nlarge\"\n",
      "_________________________________________________________________\n",
      "Layer (type)                 Output Shape              Param #   \n",
      "=================================================================\n",
      "flatten_3 (Flatten)          (None, 36)                0         \n",
      "_________________________________________________________________\n",
      "dense_6 (Dense)              (None, 192)               7104      \n",
      "_________________________________________________________________\n",
      "dense_7 (Dense)              (None, 1)                 193       \n",
      "=================================================================\n",
      "Total params: 7,297\n",
      "Trainable params: 7,297\n",
      "Non-trainable params: 0\n",
      "_________________________________________________________________\n",
      "None\n"
     ]
    }
   ],
   "source": [
    "print(model.summary())"
   ]
  },
  {
   "cell_type": "code",
   "execution_count": 62,
   "metadata": {
    "scrolled": false
   },
   "outputs": [
    {
     "name": "stdout",
     "output_type": "stream",
     "text": [
      "Train for 100 steps\n",
      "Epoch 1/10\n",
      "100/100 [==============================] - 2s 20ms/step - loss: 0.9076 - accuracy: 0.7248\n",
      "Epoch 2/10\n",
      "100/100 [==============================] - 1s 15ms/step - loss: 0.6600 - accuracy: 0.9956\n",
      "Epoch 3/10\n",
      "100/100 [==============================] - 2s 15ms/step - loss: 0.5464 - accuracy: 0.9995\n",
      "Epoch 4/10\n",
      "100/100 [==============================] - 1s 15ms/step - loss: 0.5166 - accuracy: 0.9997\n",
      "Epoch 5/10\n",
      "100/100 [==============================] - 1s 15ms/step - loss: 0.5231 - accuracy: 0.9995\n",
      "Epoch 6/10\n",
      "100/100 [==============================] - 1s 15ms/step - loss: 0.5089 - accuracy: 0.9998\n",
      "Epoch 7/10\n",
      "100/100 [==============================] - 2s 20ms/step - loss: 0.5103 - accuracy: 0.9998\n",
      "Epoch 8/10\n",
      "100/100 [==============================] - 2s 17ms/step - loss: 0.5005 - accuracy: 0.9998\n",
      "Epoch 9/10\n",
      "100/100 [==============================] - 1s 15ms/step - loss: 0.5074 - accuracy: 0.9998\n",
      "Epoch 10/10\n",
      "100/100 [==============================] - 1s 15ms/step - loss: 0.5066 - accuracy: 1.0000\n"
     ]
    }
   ],
   "source": [
    "h = model.fit(dataset.batch(64), epochs=10, steps_per_epoch=100)"
   ]
  },
  {
   "cell_type": "markdown",
   "metadata": {},
   "source": [
    "## Counterexample\n",
    "\n",
    "It actually does become a little less certain however!"
   ]
  },
  {
   "cell_type": "code",
   "execution_count": 63,
   "metadata": {},
   "outputs": [],
   "source": [
    "x = generate_nonharmonic(5)"
   ]
  },
  {
   "cell_type": "code",
   "execution_count": 64,
   "metadata": {},
   "outputs": [
    {
     "data": {
      "text/plain": [
       "array([[0.00035066]], dtype=float32)"
      ]
     },
     "execution_count": 64,
     "metadata": {},
     "output_type": "execute_result"
    }
   ],
   "source": [
    "model.predict(x.reshape(1,6,6))"
   ]
  },
  {
   "cell_type": "code",
   "execution_count": 65,
   "metadata": {},
   "outputs": [],
   "source": [
    "x = generate_harmonic(5, np.random.randn(36))"
   ]
  },
  {
   "cell_type": "code",
   "execution_count": 66,
   "metadata": {},
   "outputs": [
    {
     "data": {
      "text/plain": [
       "array([[0.99802506]], dtype=float32)"
      ]
     },
     "execution_count": 66,
     "metadata": {},
     "output_type": "execute_result"
    }
   ],
   "source": [
    "model.predict(x.reshape(1,6,6))"
   ]
  },
  {
   "cell_type": "code",
   "execution_count": 67,
   "metadata": {},
   "outputs": [
    {
     "data": {
      "text/plain": [
       "False"
      ]
     },
     "execution_count": 67,
     "metadata": {},
     "output_type": "execute_result"
    }
   ],
   "source": [
    "x[1,1] = 0\n",
    "is_harmonic(x, 5)"
   ]
  },
  {
   "cell_type": "code",
   "execution_count": 68,
   "metadata": {
    "scrolled": true
   },
   "outputs": [
    {
     "data": {
      "image/png": "[encoded data removed]",
      "text/plain": [
       "<Figure size 432x432 with 1 Axes>"
      ]
     },
     "metadata": {
      "needs_background": "light"
     },
     "output_type": "display_data"
    }
   ],
   "source": [
    "visualize([x], n)"
   ]
  },
  {
   "cell_type": "code",
   "execution_count": 69,
   "metadata": {},
   "outputs": [
    {
     "data": {
      "text/plain": [
       "array([[0.98481697]], dtype=float32)"
      ]
     },
     "execution_count": 69,
     "metadata": {},
     "output_type": "execute_result"
    }
   ],
   "source": [
    "model.predict(x.reshape(1,6,6))"
   ]
  },
  {
   "cell_type": "markdown",
   "metadata": {},
   "source": [
    "## More Extreme"
   ]
  },
  {
   "cell_type": "code",
   "execution_count": 70,
   "metadata": {},
   "outputs": [
    {
     "data": {
      "text/plain": [
       "False"
      ]
     },
     "execution_count": 70,
     "metadata": {},
     "output_type": "execute_result"
    }
   ],
   "source": [
    "for i in range(1,5):\n",
    "    for j in range(1,5):\n",
    "        x[i,j] = 0\n",
    "is_harmonic(x, 5)"
   ]
  },
  {
   "cell_type": "code",
   "execution_count": 71,
   "metadata": {},
   "outputs": [
    {
     "data": {
      "image/png": "[encoded data removed]",
      "text/plain": [
       "<Figure size 432x432 with 1 Axes>"
      ]
     },
     "metadata": {
      "needs_background": "light"
     },
     "output_type": "display_data"
    }
   ],
   "source": [
    "visualize([x], n)"
   ]
  },
  {
   "cell_type": "code",
   "execution_count": 72,
   "metadata": {
    "scrolled": true
   },
   "outputs": [
    {
     "data": {
      "text/plain": [
       "array([[0.654376]], dtype=float32)"
      ]
     },
     "execution_count": 72,
     "metadata": {},
     "output_type": "execute_result"
    }
   ],
   "source": [
    "model.predict(x.reshape(1,6,6))"
   ]
  },
  {
   "cell_type": "markdown",
   "metadata": {},
   "source": [
    "## Using a Convolutional Net.\n",
    "\n",
    "Doesn't actually resolve the above problem."
   ]
  },
  {
   "cell_type": "code",
   "execution_count": 73,
   "metadata": {},
   "outputs": [],
   "source": [
    "n=5"
   ]
  },
  {
   "cell_type": "code",
   "execution_count": 74,
   "metadata": {},
   "outputs": [],
   "source": [
    "dataset = tf.data.Dataset.from_generator(harmonic_data_generator, \n",
    "                                         args=[n], \n",
    "                                         output_types=(tf.float32, tf.bool), \n",
    "                                         output_shapes = ((n+1,n+1), ()))"
   ]
  },
  {
   "cell_type": "code",
   "execution_count": 75,
   "metadata": {},
   "outputs": [],
   "source": [
    "model = tf.keras.Sequential([\n",
    "    tf.keras.layers.Reshape((n+1,n+1,1), input_shape=(n+1,n+1)),\n",
    "    tf.keras.layers.Conv2D(32, \n",
    "                           kernel_size=3,\n",
    "                           input_shape=(n+1, n+1, 1),\n",
    "                           activation='relu',\n",
    "                           kernel_regularizer=tf.keras.regularizers.l1(.001)),\n",
    "    tf.keras.layers.Dropout(.3),\n",
    "    tf.keras.layers.Dense(1, activation='relu'),\n",
    "    tf.keras.layers.Flatten(),\n",
    "    tf.keras.layers.Dense(1, activation='sigmoid')\n",
    "], name=\"Conv2D-1\")"
   ]
  },
  {
   "cell_type": "code",
   "execution_count": 76,
   "metadata": {},
   "outputs": [],
   "source": [
    "model.compile(optimizer='adam',\n",
    "              loss=tf.keras.losses.binary_crossentropy,\n",
    "              metrics=['accuracy'])"
   ]
  },
  {
   "cell_type": "code",
   "execution_count": 77,
   "metadata": {},
   "outputs": [
    {
     "name": "stdout",
     "output_type": "stream",
     "text": [
      "Model: \"Conv2D-1\"\n",
      "_________________________________________________________________\n",
      "Layer (type)                 Output Shape              Param #   \n",
      "=================================================================\n",
      "reshape (Reshape)            (None, 6, 6, 1)           0         \n",
      "_________________________________________________________________\n",
      "conv2d (Conv2D)              (None, 4, 4, 32)          320       \n",
      "_________________________________________________________________\n",
      "dropout (Dropout)            (None, 4, 4, 32)          0         \n",
      "_________________________________________________________________\n",
      "dense_8 (Dense)              (None, 4, 4, 1)           33        \n",
      "_________________________________________________________________\n",
      "flatten_4 (Flatten)          (None, 16)                0         \n",
      "_________________________________________________________________\n",
      "dense_9 (Dense)              (None, 1)                 17        \n",
      "=================================================================\n",
      "Total params: 370\n",
      "Trainable params: 370\n",
      "Non-trainable params: 0\n",
      "_________________________________________________________________\n",
      "None\n"
     ]
    }
   ],
   "source": [
    "print(model.summary())"
   ]
  },
  {
   "cell_type": "code",
   "execution_count": 78,
   "metadata": {
    "scrolled": true
   },
   "outputs": [
    {
     "name": "stdout",
     "output_type": "stream",
     "text": [
      "Train for 100 steps\n",
      "Epoch 1/10\n",
      "100/100 [==============================] - 2s 24ms/step - loss: 0.7134 - accuracy: 0.5536\n",
      "Epoch 2/10\n",
      "100/100 [==============================] - 2s 15ms/step - loss: 0.6597 - accuracy: 0.6419\n",
      "Epoch 3/10\n",
      "100/100 [==============================] - 2s 18ms/step - loss: 0.5565 - accuracy: 0.7394\n",
      "Epoch 4/10\n",
      "100/100 [==============================] - 2s 18ms/step - loss: 0.4584 - accuracy: 0.8239\n",
      "Epoch 5/10\n",
      "100/100 [==============================] - 2s 18ms/step - loss: 0.3737 - accuracy: 0.9114\n",
      "Epoch 6/10\n",
      "100/100 [==============================] - 2s 18ms/step - loss: 0.3187 - accuracy: 0.9497\n",
      "Epoch 7/10\n",
      "100/100 [==============================] - 2s 16ms/step - loss: 0.2854 - accuracy: 0.9706\n",
      "Epoch 8/10\n",
      "100/100 [==============================] - 2s 16ms/step - loss: 0.2562 - accuracy: 0.9833\n",
      "Epoch 9/10\n",
      "100/100 [==============================] - 2s 17ms/step - loss: 0.2323 - accuracy: 0.9880\n",
      "Epoch 10/10\n",
      "100/100 [==============================] - 2s 17ms/step - loss: 0.2152 - accuracy: 0.9933\n"
     ]
    }
   ],
   "source": [
    "h = model.fit(dataset.batch(64), epochs=10, steps_per_epoch=100)"
   ]
  },
  {
   "cell_type": "markdown",
   "metadata": {},
   "source": [
    "## The Same Problem, Partially Solved"
   ]
  },
  {
   "cell_type": "code",
   "execution_count": 94,
   "metadata": {},
   "outputs": [],
   "source": [
    "x = generate_nonharmonic(5)"
   ]
  },
  {
   "cell_type": "code",
   "execution_count": 95,
   "metadata": {},
   "outputs": [
    {
     "data": {
      "text/plain": [
       "array([[0.26326767]], dtype=float32)"
      ]
     },
     "execution_count": 95,
     "metadata": {},
     "output_type": "execute_result"
    }
   ],
   "source": [
    "model.predict(x.reshape(1,6,6))"
   ]
  },
  {
   "cell_type": "code",
   "execution_count": 96,
   "metadata": {},
   "outputs": [
    {
     "data": {
      "image/png": "[encoded data removed]",
      "text/plain": [
       "<Figure size 432x432 with 1 Axes>"
      ]
     },
     "metadata": {
      "needs_background": "light"
     },
     "output_type": "display_data"
    }
   ],
   "source": [
    "visualize([x], n)"
   ]
  },
  {
   "cell_type": "code",
   "execution_count": 98,
   "metadata": {},
   "outputs": [],
   "source": [
    "x = generate_harmonic(5, np.random.randn(36))"
   ]
  },
  {
   "cell_type": "code",
   "execution_count": 99,
   "metadata": {},
   "outputs": [
    {
     "data": {
      "image/png": "[encoded data removed]",
      "text/plain": [
       "<Figure size 432x432 with 1 Axes>"
      ]
     },
     "metadata": {
      "needs_background": "light"
     },
     "output_type": "display_data"
    }
   ],
   "source": [
    "visualize([x], n)"
   ]
  },
  {
   "cell_type": "code",
   "execution_count": 82,
   "metadata": {},
   "outputs": [
    {
     "data": {
      "text/plain": [
       "array([[0.9863624]], dtype=float32)"
      ]
     },
     "execution_count": 82,
     "metadata": {},
     "output_type": "execute_result"
    }
   ],
   "source": [
    "model.predict(x.reshape(1,6,6))"
   ]
  },
  {
   "cell_type": "code",
   "execution_count": 100,
   "metadata": {},
   "outputs": [
    {
     "data": {
      "text/plain": [
       "False"
      ]
     },
     "execution_count": 100,
     "metadata": {},
     "output_type": "execute_result"
    }
   ],
   "source": [
    "x[1,1] = 0\n",
    "is_harmonic(x, 5)"
   ]
  },
  {
   "cell_type": "code",
   "execution_count": 101,
   "metadata": {
    "scrolled": true
   },
   "outputs": [
    {
     "data": {
      "image/png": "[encoded data removed]",
      "text/plain": [
       "<Figure size 432x432 with 1 Axes>"
      ]
     },
     "metadata": {
      "needs_background": "light"
     },
     "output_type": "display_data"
    }
   ],
   "source": [
    "visualize([x], n)"
   ]
  },
  {
   "cell_type": "code",
   "execution_count": 102,
   "metadata": {},
   "outputs": [
    {
     "data": {
      "text/plain": [
       "array([[0.97733647]], dtype=float32)"
      ]
     },
     "execution_count": 102,
     "metadata": {},
     "output_type": "execute_result"
    }
   ],
   "source": [
    "model.predict(x.reshape(1,6,6))"
   ]
  },
  {
   "cell_type": "code",
   "execution_count": 103,
   "metadata": {},
   "outputs": [
    {
     "data": {
      "text/plain": [
       "False"
      ]
     },
     "execution_count": 103,
     "metadata": {},
     "output_type": "execute_result"
    }
   ],
   "source": [
    "for i in range(1,5):\n",
    "    for j in range(1,5):\n",
    "        x[i,j] = 0\n",
    "is_harmonic(x, 5)"
   ]
  },
  {
   "cell_type": "code",
   "execution_count": 104,
   "metadata": {},
   "outputs": [
    {
     "data": {
      "image/png": "[encoded data removed]",
      "text/plain": [
       "<Figure size 432x432 with 1 Axes>"
      ]
     },
     "metadata": {
      "needs_background": "light"
     },
     "output_type": "display_data"
    }
   ],
   "source": [
    "visualize([x], n)"
   ]
  },
  {
   "cell_type": "code",
   "execution_count": 105,
   "metadata": {},
   "outputs": [
    {
     "data": {
      "text/plain": [
       "array([[0.92701256]], dtype=float32)"
      ]
     },
     "execution_count": 105,
     "metadata": {},
     "output_type": "execute_result"
    }
   ],
   "source": [
    "model.predict(x.reshape(1,6,6))"
   ]
  },
  {
   "cell_type": "code",
   "execution_count": 89,
   "metadata": {},
   "outputs": [
    {
     "data": {
      "text/plain": [
       "False"
      ]
     },
     "execution_count": 89,
     "metadata": {},
     "output_type": "execute_result"
    }
   ],
   "source": [
    "for i in range(1,5):\n",
    "    for j in range(1,5):\n",
    "        x[i,j] = 0\n",
    "x[2,2] = 1.\n",
    "is_harmonic(x, 5)"
   ]
  },
  {
   "cell_type": "code",
   "execution_count": 90,
   "metadata": {},
   "outputs": [
    {
     "data": {
      "image/png": "[encoded data removed]",
      "text/plain": [
       "<Figure size 432x432 with 1 Axes>"
      ]
     },
     "metadata": {
      "needs_background": "light"
     },
     "output_type": "display_data"
    }
   ],
   "source": [
    "visualize([x], n)"
   ]
  },
  {
   "cell_type": "code",
   "execution_count": 91,
   "metadata": {
    "scrolled": true
   },
   "outputs": [
    {
     "data": {
      "text/plain": [
       "array([[0.86443824]], dtype=float32)"
      ]
     },
     "execution_count": 91,
     "metadata": {},
     "output_type": "execute_result"
    }
   ],
   "source": [
    "model.predict(x.reshape(1,6,6))"
   ]
  },
  {
   "cell_type": "markdown",
   "metadata": {},
   "source": [
    "## The Weights\n",
    "\n",
    "Sometimes we see the equation beginning to come out in some of the more important weights, but it is not insisted upon by the output layer.\n",
    "\n",
    "Other times we do not get the equation at all."
   ]
  },
  {
   "cell_type": "code",
   "execution_count": 92,
   "metadata": {},
   "outputs": [
    {
     "data": {
      "text/plain": [
       "[array([[-0.746314  ],\n",
       "        [ 0.2165318 ],\n",
       "        [ 0.27200243],\n",
       "        [-0.5717236 ],\n",
       "        [-0.88819605],\n",
       "        [-0.7569457 ],\n",
       "        [-0.8701737 ],\n",
       "        [-0.8280202 ],\n",
       "        [ 0.30984902],\n",
       "        [-0.62134653],\n",
       "        [ 0.2325628 ],\n",
       "        [ 0.34803176],\n",
       "        [-0.72084916],\n",
       "        [ 0.29815093],\n",
       "        [-0.7498163 ],\n",
       "        [ 0.23683754],\n",
       "        [ 0.23098241],\n",
       "        [ 0.35125038],\n",
       "        [ 0.29068446],\n",
       "        [ 0.22140238],\n",
       "        [ 0.20059063],\n",
       "        [-0.726321  ],\n",
       "        [ 0.24850032],\n",
       "        [-0.772085  ],\n",
       "        [ 0.18709631],\n",
       "        [-0.76698196],\n",
       "        [-0.74630433],\n",
       "        [-0.89588106],\n",
       "        [ 0.25272763],\n",
       "        [-0.87703025],\n",
       "        [ 0.23969646],\n",
       "        [ 0.22653413]], dtype=float32), array([0.27313077], dtype=float32)]"
      ]
     },
     "execution_count": 92,
     "metadata": {},
     "output_type": "execute_result"
    }
   ],
   "source": [
    "model.layers[3].get_weights()"
   ]
  },
  {
   "cell_type": "code",
   "execution_count": 93,
   "metadata": {},
   "outputs": [
    {
     "data": {
      "text/plain": [
       "array([[[ 1.9714033e-05],\n",
       "        [-6.7443177e-03],\n",
       "        [ 2.0723348e-03]],\n",
       "\n",
       "       [[-4.8634727e-03],\n",
       "        [ 2.8734305e-03],\n",
       "        [ 6.0827937e-04]],\n",
       "\n",
       "       [[ 6.9433701e-04],\n",
       "        [ 5.2538054e-04],\n",
       "        [ 1.7046751e-03]]], dtype=float32)"
      ]
     },
     "execution_count": 93,
     "metadata": {},
     "output_type": "execute_result"
    }
   ],
   "source": [
    "model.layers[1].get_weights()[0][:,:,:,15]"
   ]
  },
  {
   "cell_type": "code",
   "execution_count": null,
   "metadata": {},
   "outputs": [],
   "source": []
  }
 ],
 "metadata": {
  "kernelspec": {
   "display_name": "Python3 (oliver_tf2)",
   "language": "python",
   "name": "oliver_tf2"
  },
  "language_info": {
   "codemirror_mode": {
    "name": "ipython",
    "version": 3
   },
   "file_extension": ".py",
   "mimetype": "text/x-python",
   "name": "python",
   "nbconvert_exporter": "python",
   "pygments_lexer": "ipython3",
   "version": "3.7.5"
  },
  "name": "discrete_laplace",
  "notebookId": 1260334
 },
 "nbformat": 4,
 "nbformat_minor": 1
}
