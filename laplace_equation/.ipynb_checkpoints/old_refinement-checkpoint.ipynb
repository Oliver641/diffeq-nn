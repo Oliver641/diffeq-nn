{
 "cells": [
  {
   "cell_type": "code",
   "execution_count": 1,
   "metadata": {},
   "outputs": [],
   "source": [
    "from __future__ import absolute_import, division, print_function\n",
    "\n",
    "import functools\n",
    "import numpy as np\n",
    "import scipy as sp\n",
    "from scipy.stats import multivariate_normal\n",
    "import matplotlib.pyplot as plt\n",
    "import tensorflow as tf\n",
    "from pprint import pprint"
   ]
  },
  {
   "cell_type": "code",
   "execution_count": 2,
   "metadata": {},
   "outputs": [
    {
     "data": {
      "text/plain": [
       "'2.0.0'"
      ]
     },
     "execution_count": 2,
     "metadata": {},
     "output_type": "execute_result"
    }
   ],
   "source": [
    "tf.__version__"
   ]
  },
  {
   "cell_type": "code",
   "execution_count": 3,
   "metadata": {},
   "outputs": [
    {
     "data": {
      "text/plain": [
       "True"
      ]
     },
     "execution_count": 3,
     "metadata": {},
     "output_type": "execute_result"
    }
   ],
   "source": [
    "tf.executing_eagerly()"
   ]
  },
  {
   "cell_type": "code",
   "execution_count": 4,
   "metadata": {},
   "outputs": [
    {
     "data": {
      "text/plain": [
       "False"
      ]
     },
     "execution_count": 4,
     "metadata": {},
     "output_type": "execute_result"
    }
   ],
   "source": [
    "tf.test.is_gpu_available()"
   ]
  },
  {
   "cell_type": "markdown",
   "metadata": {},
   "source": [
    "## Generating Discrete Harmonic Functions on the Square\n",
    "\n",
    "The Harmonic functions on the square A of size N are those functions that satisfy:\n",
    "$$f(i, j) = \\frac{1}{4}\\bigg(f(i-1, j) + f(i+1, j) + f(i,j-1) + f(i,j+1)\\bigg)$$\n",
    "for all $i,j \\in \\{1, 2, ..., N-1\\}$.  These functions are uniquely determined by their values on the boundary of the square: $i\\in\\{0,N\\}\\text{ or }j\\in\\{0,N\\}$.  \n",
    "\n",
    "What follows is a summary of http://www.math.uchicago.edu/~lawler/reu.pdf, section 1.5.\n",
    "\n",
    "Let $e_k$ refer to the function defined on $\\partial A$ that is equal to 1 at the $k$th position at the bottom of the square and is equal 0 elsewhere.  Then the harmonic function on the interior of the square that is equal to $e_k$ on the boundary is given by:\n",
    "$$H_{(N, e_k)}(x_1, x_2) = \\frac{2}{N-1}\\sum_{j=1}^{N-1}\\frac{1}{\\sinh(\\beta_j)}\\sin\\left(\\frac{j\\pi k}{N}\\right)\\sinh\\left(\\frac{\\beta_jx_1}{N}\\right)\\sin\\left(\\frac{j\\pi x_2}{N}\\right)$$\n",
    "where $\\beta_j\\text{ for }j\\in\\{1, 2, ..., N-1\\}$ solves:\n",
    "$$ \\cosh\\left(\\frac{\\beta_j}{N}\\right) + \\cos\\left(\\frac{j\\pi}{N}\\right) = 2$$\n",
    "These functions, combined with similar functions for the other sides of the square, form a basis for the space of all harmonic functions on the interior of the square.  This is implemented below."
   ]
  },
  {
   "cell_type": "code",
   "execution_count": 5,
   "metadata": {},
   "outputs": [],
   "source": [
    "harmonic_basis_cache={}\n",
    "\n",
    "def generate_beta(n):\n",
    "    return [n*(np.arccosh(2-np.cos(j*np.pi/n))) for j in range(1,n)]\n",
    "  \n",
    "def poisson_kernel_square_raw(n, y, x_1, x_2):\n",
    "    beta = generate_beta(n)\n",
    "    h = [np.sinh(beta[j-1] * x_1 / n) \n",
    "        * np.sin(j * np.pi * x_2 / n) for j in range(1, n)]\n",
    "    c = [1/np.sinh(beta[j-1]) \n",
    "        * np.sin(j * np.pi * y / n) for j in range(1, n)]\n",
    "    return 2/(n) * sum([c[j-1] * h[j-1] for j in range(1, n)])\n",
    "  \n",
    "def poisson_kernel_square(n, y):\n",
    "    return lambda x_1, x_2: poisson_kernel_square_raw(n, y, x_1, x_2)\n",
    "  \n",
    "    \n",
    "def harmonic_basis(n, k):\n",
    "    if (n,k) in harmonic_basis_cache.keys():\n",
    "        return harmonic_basis_cache[n,k]\n",
    "    x = np.zeros(shape=[n+1, n+1])\n",
    "    x[n,k] = 1\n",
    "    H = poisson_kernel_square(n, k)\n",
    "    for i in range(1, n):\n",
    "        for j in range(1, n):\n",
    "            x[i, j] = H(i, j)\n",
    "    harmonic_basis_cache[n,k] = x\n",
    "    return x\n",
    "  \n",
    "# This is O(n^3) at the moment.\n",
    "# This is due to each of n basis functions taking O(n^2) steps to compute.\n",
    "# Can this be improved?  Do we care?\n",
    "def generate_harmonic_one_side(n, y, side='lower'):\n",
    "    lower = np.sum([y[j-1] * harmonic_basis(n,j) for j in range(1, n)], axis=0)\n",
    "    if side == 'upper':\n",
    "        return np.flip(lower, axis=0)\n",
    "    if side == 'left':\n",
    "        return np.rot90(lower, k=3)\n",
    "    if side == 'right':\n",
    "        return np.rot90(np.flip(lower, axis=0), k=3)\n",
    "    if side == 'lower':\n",
    "        return lower\n",
    "\n",
    "def generate_harmonic(n, y):\n",
    "    \"\"\"Here y specifies the entire boundary, going in order of upper, left, right, lower.\"\"\"\n",
    "    upper = generate_harmonic_one_side(n, y[:n-1], side='upper')\n",
    "    left = generate_harmonic_one_side(n, y[n-1:2*n-2], side='left')\n",
    "    right = generate_harmonic_one_side(n, y[2*n-2:3*n-3], side='right')\n",
    "    lower = generate_harmonic_one_side(n, y[3*n-3:], side='lower')\n",
    "    return upper + left + right + lower"
   ]
  },
  {
   "cell_type": "code",
   "execution_count": 6,
   "metadata": {},
   "outputs": [],
   "source": [
    "def is_harmonic_at_point(x, i, j, tol=.000001, verbose=False):\n",
    "    diff = np.abs(x[i, j] - np.mean([x[i-1,j], x[i+1,j], x[i,j-1], x[i,j+1]])) \n",
    "    if verbose:\n",
    "        print(\"|{} - {}| = {}\".format(x[i,j], \n",
    "                                      np.mean([x[i-1,j], x[i+1,j], x[i,j-1], x[i,j+1]]), \n",
    "                                      diff))\n",
    "    return diff <= tol\n",
    "  \n",
    "def is_harmonic(x, n, tol=.000001, verbose=False):\n",
    "    for i in range(1, n):\n",
    "        for j in range(1, n):\n",
    "            if not is_harmonic_at_point(x, i, j, tol=tol, verbose=verbose):\n",
    "                if verbose:\n",
    "                    print((i,j))\n",
    "                return False\n",
    "    return True"
   ]
  },
  {
   "cell_type": "markdown",
   "metadata": {},
   "source": [
    "## Generating Non-Harmonic Functions.\n",
    "\n",
    "The question of what to use as a negative for the model deserves a lot of thought.  At present I have two approaches: \n",
    "\n",
    "In the first approach, I use \\\\((N+1)^2\\\\) independent Gaussian random variables to generate non-harmonic functions.  The likelihood that these will be harmonic is negligible.  \n",
    "\n",
    "In the second approach I generate a harmonic function, and add a gaussian density to the result.  Since the gaussian is not harmonic (it in particular violates the maximum modulus principle), the resulting sum is not harmonic."
   ]
  },
  {
   "cell_type": "code",
   "execution_count": 7,
   "metadata": {},
   "outputs": [],
   "source": [
    "def generate_nonharmonic(n):\n",
    "    x = np.random.randn(n+1,n+1)\n",
    "    x[0,0] = 0.\n",
    "    x[0,n] = 0.\n",
    "    x[n,0] = 0.\n",
    "    x[n,n] = 0.\n",
    "    return x"
   ]
  },
  {
   "cell_type": "code",
   "execution_count": 8,
   "metadata": {},
   "outputs": [],
   "source": [
    "grv_cache={}\n",
    "\n",
    "# This is slow, need to make better use of numpy to \n",
    "# generate these, possibly with memoization as above.\n",
    "def generate_gaussian(n, strength):\n",
    "    mean = np.random.randint(1,n, size=2)\n",
    "    cov = (n/2 - .5) * np.random.random(size=2) + .5\n",
    "    amplitude = strength * np.random.choice([1,-1])\n",
    "    rv = multivariate_normal(mean=mean, cov=cov)\n",
    "    x = rv.pdf(np.array(np.meshgrid(np.arange(n+1), np.arange(n+1))).T)\n",
    "    return amplitude * x\n",
    "\n",
    "def generate_harmonic_plus_noise(n, y, strength=.1):\n",
    "    harmonic = generate_harmonic(n, y)\n",
    "    output = harmonic + generate_gaussian(n, strength=strength)\n",
    "    return output"
   ]
  },
  {
   "cell_type": "code",
   "execution_count": 9,
   "metadata": {},
   "outputs": [],
   "source": [
    "def visualize(examples, n, cmap='cividis'):\n",
    "    num_examples = len(examples)\n",
    "    fig, axes = plt.subplots(1, num_examples, figsize=(n+1,n+1))\n",
    "    if num_examples == 1:\n",
    "        axes.imshow(examples[0], cmap=cmap)\n",
    "        axes.axis('off')\n",
    "        plt.show()\n",
    "        return\n",
    "    axes = axes.flatten()\n",
    "    for x, ax in zip(examples, axes):\n",
    "        ax.imshow(x, cmap=cmap)\n",
    "        ax.axis('off')\n",
    "    plt.tight_layout()\n",
    "    plt.show()"
   ]
  },
  {
   "cell_type": "markdown",
   "metadata": {},
   "source": [
    "## Data Generators"
   ]
  },
  {
   "cell_type": "code",
   "execution_count": 10,
   "metadata": {},
   "outputs": [],
   "source": [
    "def harmonic_data_generator(n):\n",
    "    while True:\n",
    "        if np.random.rand() < .5:\n",
    "            y = np.random.randn(4*(n-1))\n",
    "            yield np.reshape(generate_harmonic(n,y), (n+1, n+1)).astype(np.float32), 1\n",
    "        else:\n",
    "            yield np.reshape(generate_nonharmonic(n), (n+1, n+1)).astype(np.float32), 0"
   ]
  },
  {
   "cell_type": "code",
   "execution_count": 11,
   "metadata": {},
   "outputs": [],
   "source": [
    "def mixed_harmonic_data_generator(n):\n",
    "    while True:\n",
    "        x = np.random.rand()\n",
    "        if x < .25:\n",
    "            y = np.random.randn(4*(n-1))\n",
    "            yield np.reshape(generate_harmonic(n,y), (n+1, n+1)).astype(np.float32), 1\n",
    "        if x < .5:\n",
    "            y = np.random.choice([-1, 0, 1, 2, 10], p=[.39, .3, .2, .1, .01], size=(4*(n-1),))\n",
    "            yield np.reshape(generate_harmonic(n,y), (n+1, n+1)).astype(np.float32), 1\n",
    "        elif x < .7:\n",
    "            y = np.random.randn(4*(n-1))\n",
    "            strength = np.random.rand()\n",
    "            yield np.reshape(generate_harmonic_plus_noise(n,y,strength=strength), (n+1, n+1)).astype(np.float32), 0\n",
    "        elif x < .9:\n",
    "            y = np.random.choice([-1, 0, 1, 2, 10], p=[.39, .3, .2, .1, .01], size=(36,))\n",
    "            strength = np.random.rand()\n",
    "            yield np.reshape(generate_harmonic_plus_noise(n,y,strength=strength), (n+1, n+1)).astype(np.float32), 0\n",
    "        elif x < 1.:\n",
    "            yield np.reshape(generate_nonharmonic(n), (n+1, n+1)).astype(np.float32), 0"
   ]
  },
  {
   "cell_type": "markdown",
   "metadata": {},
   "source": [
    "## Visualization"
   ]
  },
  {
   "cell_type": "code",
   "execution_count": 12,
   "metadata": {},
   "outputs": [],
   "source": [
    "def visualize_dataset(dataset, n, num_examples=5, cmap='cividis'):\n",
    "    examples = [item for item in dataset.take(num_examples)]\n",
    "    fig, axes = plt.subplots(1, num_examples, figsize=(n+1,n+1))\n",
    "    axes = axes.flatten()\n",
    "    for x, ax in zip(examples, axes):\n",
    "        ax.imshow(x[0], cmap=cmap, vmin=-3, vmax=3)\n",
    "        if x[1]:\n",
    "            ax.set_title(\"Harmonic\")\n",
    "        else:\n",
    "            ax.set_title(\"Nonharmonic\")\n",
    "        ax.axis('off')\n",
    "    plt.tight_layout()\n",
    "    plt.show()"
   ]
  },
  {
   "cell_type": "code",
   "execution_count": 13,
   "metadata": {},
   "outputs": [],
   "source": [
    "n=10\n",
    "dataset = tf.data.Dataset.from_generator(harmonic_data_generator, \n",
    "                                         args=[n], \n",
    "                                         output_types=(tf.float32, tf.bool), \n",
    "                                         output_shapes = ((n+1,n+1), ()))"
   ]
  },
  {
   "cell_type": "code",
   "execution_count": 14,
   "metadata": {},
   "outputs": [],
   "source": [
    "n=10\n",
    "mixed_dataset = tf.data.Dataset.from_generator(mixed_harmonic_data_generator, \n",
    "                                         args=[n], \n",
    "                                         output_types=(tf.float32, tf.bool), \n",
    "                                         output_shapes = ((n+1,n+1), ()))"
   ]
  },
  {
   "cell_type": "code",
   "execution_count": 15,
   "metadata": {},
   "outputs": [
    {
     "data": {
      "image/png": "[encoded data removed]",
      "text/plain": [
       "<Figure size 792x792 with 5 Axes>"
      ]
     },
     "metadata": {
      "needs_background": "light"
     },
     "output_type": "display_data"
    }
   ],
   "source": [
    "visualize_dataset(dataset, n, num_examples=5)"
   ]
  },
  {
   "cell_type": "code",
   "execution_count": 16,
   "metadata": {},
   "outputs": [
    {
     "data": {
      "image/png": "[encoded data removed]",
      "text/plain": [
       "<Figure size 792x792 with 5 Axes>"
      ]
     },
     "metadata": {
      "needs_background": "light"
     },
     "output_type": "display_data"
    }
   ],
   "source": [
    "visualize_dataset(mixed_dataset, n, num_examples=5)"
   ]
  },
  {
   "cell_type": "code",
   "execution_count": 17,
   "metadata": {},
   "outputs": [
    {
     "data": {
      "image/png": "[encoded data removed]",
      "text/plain": [
       "<Figure size 792x792 with 5 Axes>"
      ]
     },
     "metadata": {
      "needs_background": "light"
     },
     "output_type": "display_data"
    }
   ],
   "source": [
    "visualize_dataset(mixed_dataset, n, num_examples=5)"
   ]
  },
  {
   "cell_type": "code",
   "execution_count": 18,
   "metadata": {},
   "outputs": [
    {
     "data": {
      "image/png": "[encoded data removed]",
      "text/plain": [
       "<Figure size 792x792 with 5 Axes>"
      ]
     },
     "metadata": {
      "needs_background": "light"
     },
     "output_type": "display_data"
    }
   ],
   "source": [
    "visualize_dataset(mixed_dataset, n, num_examples=5)"
   ]
  },
  {
   "cell_type": "markdown",
   "metadata": {},
   "source": [
    "## Tests"
   ]
  },
  {
   "cell_type": "code",
   "execution_count": 19,
   "metadata": {},
   "outputs": [],
   "source": [
    "def test_and_visualize(n, x):\n",
    "    visualize([x], n)\n",
    "    harmonic = is_harmonic(x, n)\n",
    "    prediction = model.predict(x.reshape(1,n+1,n+1))[0,0]\n",
    "    print(\"Is harmonic: {}\\nPrediction: {}\".format(harmonic, prediction))"
   ]
  },
  {
   "cell_type": "code",
   "execution_count": 20,
   "metadata": {},
   "outputs": [],
   "source": [
    "def test_on_harmonic_pertubations(n, y):\n",
    "    x = generate_harmonic(n, y)\n",
    "    visualize([x], n)\n",
    "    perturbations = [1., .5, .1, .05, .01, .0025, .001]\n",
    "    harmonic_prediction = model.predict(x.reshape(1, n+1, n+1))[0,0]\n",
    "    print('Harmonic: {}'.format(harmonic_prediction))\n",
    "    for perturbation in perturbations:\n",
    "        y = x.copy()\n",
    "        i, j = np.random.randint(1, n, size=2)\n",
    "        y[i, j] = y[i, j] - perturbation\n",
    "        prediction = model.predict(y.reshape(1, n+1, n+1))[0,0]\n",
    "        print('Perturbation {} at {}: {}'.format(perturbation, (i,j), prediction))"
   ]
  },
  {
   "cell_type": "markdown",
   "metadata": {},
   "source": [
    "## Controllers\n",
    "\n",
    "In practice, the neural net model found below under models converges to the equation pretty quickly and precisely.  Strangely, the net maintains a very low magnitude output layer, leading to its predictions being imprecise.  The callbacks below are both clumsy attempts to rectify this problem."
   ]
  },
  {
   "cell_type": "code",
   "execution_count": 21,
   "metadata": {},
   "outputs": [],
   "source": [
    "class DiffEqController(tf.keras.callbacks.Callback):\n",
    "    \"Hacky!\"\n",
    "    \n",
    "    def __init__(self, rate=1.1, threshold=.01, verbose=False):\n",
    "        super(DiffEqController, self).__init__()\n",
    "        self.rate = rate\n",
    "        self.threshold = threshold\n",
    "        self.verbose = verbose\n",
    "        \n",
    "    def on_train_begin(self, logs=None):\n",
    "        self.losses = []\n",
    "    \n",
    "    def on_epoch_end(self, epoch, logs=None):\n",
    "        self.losses.append(logs['loss'])\n",
    "        if (len(self.losses) <= 2) \\\n",
    "            or (np.abs(self.losses[-1]-self.losses[-3])\n",
    "                > self.threshold):\n",
    "            return\n",
    "        if self.verbose:\n",
    "            print('')\n",
    "            print('Output layer being scaled by {}'.format(self.rate))\n",
    "        output_weights, output_biases = self.model.layers[-1].get_weights()\n",
    "        output_weights = self.rate * output_weights\n",
    "        output_biases = (self.rate ** (2/3)) * output_biases\n",
    "        self.model.layers[-1].set_weights((output_weights, output_biases))"
   ]
  },
  {
   "cell_type": "code",
   "execution_count": 22,
   "metadata": {},
   "outputs": [],
   "source": [
    "class ConfidentOutputs(tf.keras.callbacks.Callback):\n",
    "    \"Definitely not quite right!\"\n",
    "    \n",
    "    def __init__(self, lr=.001, epsilon=.01, verbose=False):\n",
    "        super(ConfidentOutputs, self).__init__()\n",
    "        self.lr = lr\n",
    "        self.epsilon = epsilon\n",
    "        self.verbose = verbose\n",
    "        \n",
    "    def on_train_begin(self, logs=None):\n",
    "        self.losses = []\n",
    "    \n",
    "    def on_batch_end(self, batch, logs=None):\n",
    "        actual_loss = logs['loss']\n",
    "        p = logs['accuracy'] - self.epsilon\n",
    "        accuracy_loss = -1 * (p*np.log(p) + (1-p)*np.log(1-p))\n",
    "        update = np.exp(self.lr * (1 - accuracy_loss/actual_loss))\n",
    "        output_weights, output_biases = self.model.layers[-1].get_weights()\n",
    "        output_weights = update * output_weights\n",
    "        output_biases = np.sqrt(update) * output_biases\n",
    "        self.model.layers[-1].set_weights((output_weights, output_biases))"
   ]
  },
  {
   "cell_type": "markdown",
   "metadata": {},
   "source": [
    "## Constraints"
   ]
  },
  {
   "cell_type": "code",
   "execution_count": 23,
   "metadata": {},
   "outputs": [],
   "source": [
    "import tensorflow.keras.backend as K"
   ]
  },
  {
   "cell_type": "code",
   "execution_count": 24,
   "metadata": {},
   "outputs": [],
   "source": [
    "class ProbMeasure(tf.keras.constraints.Constraint):\n",
    "    \"\"\"Constrains the weights incident to each hidden unit to be a probability measure.\n",
    "    \"\"\"\n",
    "\n",
    "    def __init__(self, axis=0):\n",
    "        self.axis = axis\n",
    "\n",
    "    def __call__(self, w):\n",
    "        w = w * K.cast(K.greater_equal(w, 0.), K.floatx())\n",
    "        return w / (K.epsilon() + K.sum(K.abs(w),\n",
    "                                        axis=self.axis,\n",
    "                                        keepdims=True))\n",
    "\n",
    "    def get_config(self):\n",
    "        return {'axis': self.axis}"
   ]
  },
  {
   "cell_type": "markdown",
   "metadata": {},
   "source": [
    "## Models"
   ]
  },
  {
   "cell_type": "code",
   "execution_count": 25,
   "metadata": {},
   "outputs": [],
   "source": [
    "class DiffeqModel(tf.keras.Model):\n",
    "    \n",
    "    def __init__(self, n, filter_size):\n",
    "        super(DiffeqModel, self).__init__(name='diffeq_model')\n",
    "        self.n = n\n",
    "        self.reshape = tf.keras.layers.Reshape((n+1,n+1,1), input_shape=(n+1,n+1))\n",
    "        self.conv2D = tf.keras.layers.Conv2D(filter_size, \n",
    "                                             kernel_size=3,\n",
    "                                             input_shape=(n+1, n+1, 1),\n",
    "                                             kernel_regularizer=tf.keras.regularizers.l2(.001),)\n",
    "        self.dense = tf.keras.layers.Dense(1, \n",
    "                                           activation='relu', \n",
    "                                           kernel_constraint=ProbMeasure(),\n",
    "                                           kernel_regularizer=tf.keras.regularizers.l1(.01))\n",
    "        self.max_pool = tf.keras.layers.MaxPool2D(pool_size=n-1)\n",
    "        self.flatten = tf.keras.layers.Flatten()\n",
    "        output_kernel_initializer = tf.keras.initializers.Constant([[-1., -1.]])\n",
    "        output_bias_initializer = tf.keras.initializers.Constant([.25])\n",
    "        self.output_layer = tf.keras.layers.Dense(1, \n",
    "                                                  activation='sigmoid', \n",
    "                                                  kernel_initializer = output_kernel_initializer,\n",
    "                                                  bias_initializer = output_bias_initializer,\n",
    "                                                  trainable = False)\n",
    "        \n",
    "    def call(self, input_tensor, training=False):\n",
    "        x = self.reshape(input_tensor)\n",
    "        x = self.conv2D(x)\n",
    "        x1 = tf.nn.relu(x)\n",
    "        x2 = tf.nn.relu(-1*x)\n",
    "        x1 = self.dense(x1)\n",
    "        x2 = self.dense(x2)\n",
    "        x = tf.concat([x1, x2], axis=-1)\n",
    "        x = self.max_pool(x)\n",
    "        x = self.flatten(x)\n",
    "        return self.output_layer(x)"
   ]
  },
  {
   "cell_type": "markdown",
   "metadata": {},
   "source": [
    "\n",
    "## Another Variant on Training"
   ]
  },
  {
   "cell_type": "code",
   "execution_count": 26,
   "metadata": {},
   "outputs": [],
   "source": [
    "n=5"
   ]
  },
  {
   "cell_type": "code",
   "execution_count": 27,
   "metadata": {},
   "outputs": [],
   "source": [
    "dataset = tf.data.Dataset.from_generator(harmonic_data_generator,\n",
    "                                         args=[n], \n",
    "                                         output_types=(tf.float32, tf.bool), \n",
    "                                         output_shapes = ((n+1,n+1), ()))"
   ]
  },
  {
   "cell_type": "code",
   "execution_count": 28,
   "metadata": {},
   "outputs": [],
   "source": [
    "mixed_dataset = tf.data.Dataset.from_generator(mixed_harmonic_data_generator, \n",
    "                                               args=[n], \n",
    "                                               output_types=(tf.float32, tf.bool), \n",
    "                                               output_shapes = ((n+1,n+1), ()))"
   ]
  },
  {
   "cell_type": "code",
   "execution_count": 29,
   "metadata": {},
   "outputs": [],
   "source": [
    "model = DiffeqModel(n, 32)"
   ]
  },
  {
   "cell_type": "code",
   "execution_count": 30,
   "metadata": {},
   "outputs": [],
   "source": [
    "model.compile(optimizer='adam',\n",
    "              loss=tf.keras.losses.binary_crossentropy,\n",
    "              metrics=['accuracy'])"
   ]
  },
  {
   "cell_type": "code",
   "execution_count": 31,
   "metadata": {},
   "outputs": [],
   "source": [
    "diffeq_controller = DiffEqController(rate=1.2, verbose=True)\n",
    "confident_outputs = ConfidentOutputs()"
   ]
  },
  {
   "cell_type": "code",
   "execution_count": 32,
   "metadata": {},
   "outputs": [
    {
     "ename": "NameError",
     "evalue": "name 'precisions' is not defined",
     "output_type": "error",
     "traceback": [
      "\u001b[0;31m---------------------------------------------------------------------------\u001b[0m",
      "\u001b[0;31mNameError\u001b[0m                                 Traceback (most recent call last)",
      "\u001b[0;32m<ipython-input-32-88ebeb7bcad3>\u001b[0m in \u001b[0;36m<module>\u001b[0;34m\u001b[0m\n\u001b[1;32m     13\u001b[0m     \u001b[0;32mreturn\u001b[0m \u001b[0;32mlambda\u001b[0m \u001b[0mepoch\u001b[0m\u001b[0;34m,\u001b[0m \u001b[0mlr\u001b[0m\u001b[0;34m:\u001b[0m \u001b[0mlr\u001b[0m\u001b[0;34m*\u001b[0m\u001b[0mrate\u001b[0m\u001b[0;34m\u001b[0m\u001b[0;34m\u001b[0m\u001b[0m\n\u001b[1;32m     14\u001b[0m \u001b[0;34m\u001b[0m\u001b[0m\n\u001b[0;32m---> 15\u001b[0;31m \u001b[0mlr_schedule\u001b[0m \u001b[0;34m=\u001b[0m \u001b[0mtf\u001b[0m\u001b[0;34m.\u001b[0m\u001b[0mkeras\u001b[0m\u001b[0;34m.\u001b[0m\u001b[0mcallbacks\u001b[0m\u001b[0;34m.\u001b[0m\u001b[0mLearningRateScheduler\u001b[0m\u001b[0;34m(\u001b[0m\u001b[0mget_diff_eq_schedule\u001b[0m\u001b[0;34m(\u001b[0m\u001b[0mprecisions\u001b[0m\u001b[0;34m)\u001b[0m\u001b[0;34m)\u001b[0m\u001b[0;34m\u001b[0m\u001b[0;34m\u001b[0m\u001b[0m\n\u001b[0m",
      "\u001b[0;31mNameError\u001b[0m: name 'precisions' is not defined"
     ]
    }
   ],
   "source": [
    "def diff_eq_schedule(epoch, lr, precisions):\n",
    "    if epoch == 0:\n",
    "        return lr\n",
    "    old_precision, new_precision = precisions[epoch-1], precisions[epoch]\n",
    "    if new_precision == old_precision:\n",
    "        return (4/5) * lr\n",
    "    return min(.001, 2*(new_precision ** 2))\n",
    "\n",
    "def get_diff_eq_schedule(precisions):\n",
    "    return lambda epoch, lr: diff_eq_schedule(epoch, lr, precisions)\n",
    "\n",
    "def geometric_schedule(rate=.9):\n",
    "    return lambda epoch, lr: lr*rate\n",
    "\n",
    "lr_schedule = tf.keras.callbacks.LearningRateScheduler(get_diff_eq_schedule(precisions))"
   ]
  },
  {
   "cell_type": "code",
   "execution_count": null,
   "metadata": {},
   "outputs": [],
   "source": [
    "h = model.fit(mixed_dataset.batch(64), epochs=60, steps_per_epoch=100, callbacks=[lr_schedule, diffeq_controller])"
   ]
  },
  {
   "cell_type": "code",
   "execution_count": null,
   "metadata": {},
   "outputs": [],
   "source": [
    "model.layers[2].get_weights()[0]"
   ]
  },
  {
   "cell_type": "code",
   "execution_count": null,
   "metadata": {},
   "outputs": [],
   "source": [
    "model.layers[-1].get_weights()"
   ]
  },
  {
   "cell_type": "code",
   "execution_count": null,
   "metadata": {},
   "outputs": [],
   "source": [
    "model.layers[1].get_weights()[0][:,:,:,1].T"
   ]
  },
  {
   "cell_type": "code",
   "execution_count": null,
   "metadata": {},
   "outputs": [],
   "source": [
    "model.summary()"
   ]
  },
  {
   "cell_type": "code",
   "execution_count": null,
   "metadata": {},
   "outputs": [],
   "source": [
    "ce = np.zeros((6,6))\n",
    "for i in range(6):\n",
    "    for j in range(6):\n",
    "        ce[i,j] = 2.5 - np.max([np.abs(2.5 - i), np.abs(2.5 - j)])"
   ]
  },
  {
   "cell_type": "code",
   "execution_count": null,
   "metadata": {},
   "outputs": [],
   "source": [
    "ce"
   ]
  },
  {
   "cell_type": "code",
   "execution_count": null,
   "metadata": {},
   "outputs": [],
   "source": [
    "test_and_visualize(n, ce)"
   ]
  },
  {
   "cell_type": "code",
   "execution_count": null,
   "metadata": {},
   "outputs": [],
   "source": [
    "test_on_harmonic_pertubations(5, np.identity(16)[1])"
   ]
  },
  {
   "cell_type": "code",
   "execution_count": null,
   "metadata": {},
   "outputs": [],
   "source": [
    "test_on_harmonic_pertubations(5, [1,1,0,0,1,1,1,1,0,0,0,0,1,1,0,0])"
   ]
  },
  {
   "cell_type": "code",
   "execution_count": null,
   "metadata": {},
   "outputs": [],
   "source": [
    "test_on_harmonic_pertubations(5, [1,0,1,0,0,1,0,1,1,0,1,0,0,1,0,1])"
   ]
  },
  {
   "cell_type": "markdown",
   "metadata": {},
   "source": [
    "\n",
    "## Another Variant on Training"
   ]
  },
  {
   "cell_type": "code",
   "execution_count": null,
   "metadata": {},
   "outputs": [],
   "source": [
    "n=10"
   ]
  },
  {
   "cell_type": "code",
   "execution_count": null,
   "metadata": {},
   "outputs": [],
   "source": [
    "dataset = tf.data.Dataset.from_generator(harmonic_data_generator,\n",
    "                                         args=[n], \n",
    "                                         output_types=(tf.float32, tf.bool), \n",
    "                                         output_shapes = ((n+1,n+1), ()))"
   ]
  },
  {
   "cell_type": "code",
   "execution_count": null,
   "metadata": {},
   "outputs": [],
   "source": [
    "mixed_dataset = tf.data.Dataset.from_generator(mixed_harmonic_data_generator, \n",
    "                                               args=[n], \n",
    "                                               output_types=(tf.float32, tf.bool), \n",
    "                                               output_shapes = ((n+1,n+1), ()))"
   ]
  },
  {
   "cell_type": "code",
   "execution_count": null,
   "metadata": {},
   "outputs": [],
   "source": [
    "model = DiffeqModel(n, 32)"
   ]
  },
  {
   "cell_type": "code",
   "execution_count": null,
   "metadata": {},
   "outputs": [],
   "source": [
    "model.compile(optimizer='adam',\n",
    "              loss=tf.keras.losses.binary_crossentropy,\n",
    "              metrics=['accuracy'])"
   ]
  },
  {
   "cell_type": "code",
   "execution_count": null,
   "metadata": {},
   "outputs": [],
   "source": [
    "epochs = 60\n",
    "\n",
    "diffeq_controller = DiffEqController()"
   ]
  },
  {
   "cell_type": "code",
   "execution_count": null,
   "metadata": {},
   "outputs": [],
   "source": [
    "def diff_eq_schedule(epoch, lr, precisions):\n",
    "    if epoch == 0:\n",
    "        return lr\n",
    "    old_precision, new_precision = precisions[epoch-1], precisions[epoch]\n",
    "    if new_precision == old_precision:\n",
    "        return (4/5) * lr\n",
    "    return min(.001, 2*(new_precision ** 2))\n",
    "\n",
    "def get_diff_eq_schedule(precisions):\n",
    "    return lambda epoch, lr: diff_eq_schedule(epoch, lr, precisions)\n",
    "\n",
    "def geometric_schedule(rate=.9):\n",
    "    return lambda epoch, lr: lr*rate\n",
    "\n",
    "lr_schedule = tf.keras.callbacks.LearningRateScheduler(get_diff_eq_schedule(precisions))"
   ]
  },
  {
   "cell_type": "code",
   "execution_count": null,
   "metadata": {},
   "outputs": [],
   "source": [
    "h = model.fit(mixed_dataset.batch(64), epochs=epochs, steps_per_epoch=100, callbacks=[lr_schedule, diffeq_controller])"
   ]
  },
  {
   "cell_type": "code",
   "execution_count": null,
   "metadata": {},
   "outputs": [],
   "source": [
    "model.layers[-1].get_weights()"
   ]
  },
  {
   "cell_type": "code",
   "execution_count": null,
   "metadata": {
    "scrolled": true
   },
   "outputs": [],
   "source": [
    "test_on_harmonic_pertubations(10, [1,1,1,1,.5,0,0,0,0,1,1,1,1,1,1,1,1,1,0,0,0,0,0,0,0,0,0,1,1,1,1,.5,0,0,0,0])"
   ]
  },
  {
   "cell_type": "code",
   "execution_count": null,
   "metadata": {},
   "outputs": [],
   "source": [
    "test_on_harmonic_pertubations(10, 10*[1,1,1,1,.5,.2,0,0,0,1,1,1,1,1,1,1,1,1,0,0,0,0,0,0,0,0,0,0,0,0,0,.2,.4,1,1,0])"
   ]
  },
  {
   "cell_type": "code",
   "execution_count": null,
   "metadata": {},
   "outputs": [],
   "source": [
    "test_on_harmonic_pertubations(10, np.identity(81)[0])"
   ]
  },
  {
   "cell_type": "code",
   "execution_count": null,
   "metadata": {},
   "outputs": [],
   "source": [
    "test_on_harmonic_pertubations(10, 20*np.identity(81)[4])"
   ]
  },
  {
   "cell_type": "code",
   "execution_count": null,
   "metadata": {},
   "outputs": [],
   "source": [
    "test_on_harmonic_pertubations(10, np.identity(36)[2]+np.identity(36)[3]+np.identity(36)[4]+np.identity(36)[30]+np.identity(36)[31]+np.identity(36)[32])"
   ]
  },
  {
   "cell_type": "code",
   "execution_count": null,
   "metadata": {
    "scrolled": true
   },
   "outputs": [],
   "source": [
    "test_on_harmonic_pertubations(10, np.identity(36)[2]+np.identity(36)[3]+np.identity(36)[4]+np.identity(36)[11]+np.identity(36)[12]+np.identity(36)[13])"
   ]
  },
  {
   "cell_type": "code",
   "execution_count": null,
   "metadata": {},
   "outputs": [],
   "source": [
    "ce = np.zeros((11,11))\n",
    "for i in range(11):\n",
    "    for j in range(11):\n",
    "        ce[i,j] = 5 - np.max([np.abs(5 - i), np.abs(5 - j)])"
   ]
  },
  {
   "cell_type": "code",
   "execution_count": null,
   "metadata": {},
   "outputs": [],
   "source": [
    "test_and_visualize(n, ce)"
   ]
  },
  {
   "cell_type": "code",
   "execution_count": null,
   "metadata": {},
   "outputs": [],
   "source": [
    "model.layers[2].get_weights()[0]"
   ]
  },
  {
   "cell_type": "code",
   "execution_count": null,
   "metadata": {},
   "outputs": [],
   "source": [
    "model.layers[1].get_weights()[0][:,:,:,-11]"
   ]
  },
  {
   "cell_type": "code",
   "execution_count": null,
   "metadata": {},
   "outputs": [],
   "source": [
    "model.layers[-1].get_weights()"
   ]
  },
  {
   "cell_type": "code",
   "execution_count": null,
   "metadata": {},
   "outputs": [],
   "source": []
  }
 ],
 "metadata": {
  "kernelspec": {
   "display_name": "Python3 (oliver_tf2)",
   "language": "python",
   "name": "oliver_tf2"
  },
  "language_info": {
   "codemirror_mode": {
    "name": "ipython",
    "version": 3
   },
   "file_extension": ".py",
   "mimetype": "text/x-python",
   "name": "python",
   "nbconvert_exporter": "python",
   "pygments_lexer": "ipython3",
   "version": "3.7.5"
  },
  "name": "discrete_laplace",
  "notebookId": 1260334
 },
 "nbformat": 4,
 "nbformat_minor": 1
}
