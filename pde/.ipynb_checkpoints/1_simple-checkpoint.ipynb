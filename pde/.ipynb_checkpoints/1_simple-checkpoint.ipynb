{
 "cells": [
  {
   "cell_type": "code",
   "execution_count": 1,
   "metadata": {},
   "outputs": [],
   "source": [
    "from __future__ import absolute_import, division, print_function\n",
    "\n",
    "import math\n",
    "import functools\n",
    "import numpy as np\n",
    "import scipy as sp\n",
    "from scipy.stats import multivariate_normal\n",
    "import matplotlib.pyplot as plt\n",
    "import tensorflow as tf\n",
    "import tensorflow.keras.backend as K\n",
    "from tensorflow.python.keras.utils import conv_utils\n",
    "from pprint import pprint"
   ]
  },
  {
   "cell_type": "code",
   "execution_count": 2,
   "metadata": {},
   "outputs": [
    {
     "name": "stdout",
     "output_type": "stream",
     "text": [
      "Tensorflow version: 2.0.0\n",
      "Executing eagerly: True\n",
      "GPU available True\n"
     ]
    }
   ],
   "source": [
    "version = tf.__version__\n",
    "executing_eagerly = tf.executing_eagerly()\n",
    "gpu_available = tf.test.is_gpu_available()\n",
    "print('Tensorflow version: {}\\n'\n",
    "      'Executing eagerly: {}\\n'\n",
    "      'GPU available {}'\n",
    "      .format(version, \n",
    "              executing_eagerly, \n",
    "              gpu_available))"
   ]
  },
  {
   "cell_type": "code",
   "execution_count": 3,
   "metadata": {},
   "outputs": [],
   "source": [
    "def visualize(examples, a=0, b=1):\n",
    "    num_examples = len(examples)\n",
    "    fig, axes = plt.subplots(1, num_examples)\n",
    "    if num_examples == 1:\n",
    "        axes.plot(np.linspace(a,b,len(examples[0])), examples[0])\n",
    "        plt.show()\n",
    "        return\n",
    "    axes = axes.flatten()\n",
    "    for x, ax in zip(examples, axes):\n",
    "        ax.plot(np.linspace(a,b,len(x)), x)\n",
    "    plt.tight_layout()\n",
    "    plt.show()"
   ]
  },
  {
   "cell_type": "markdown",
   "metadata": {},
   "source": [
    "## A Simple ODE\n",
    "\n",
    "Let $u$ solve:\n",
    "\\begin{equation}\n",
    "u'(x) = cu(x) + c_2x^2\n",
    "\\end{equation}\n",
    "We solve the equation through the multiplication trick and solving:\n",
    "\\begin{equation}\n",
    "e^{-cx} u'(x) = ce^{-cx} u(x) + c_2x^2e^{-cx}\n",
    "\\end{equation}\n",
    "which is equivalent to,\n",
    "\\begin{equation}\n",
    "\\frac{d}{dx}\\left(e^{-cx} u(x)\\right) =  c_2x^2 e^{-cx} \\\\\n",
    "e^{-cx} u(x) \\bigg \\vert_{0}^x = c_2\\int_{0}^x x^2e^{-cx} dx\n",
    "\\end{equation}\n",
    "which we evaluate through integration by parts resulting in,\n",
    "\\begin{equation}\n",
    "u(x) = u_0e^{cx} + c_2\\frac{2}{c^2}e^{cx} - c_2x^2 - c_2\\frac{2x}{c} - c_2\\frac{2}{c^2}\n",
    "\\end{equation}"
   ]
  },
  {
   "cell_type": "code",
   "execution_count": 4,
   "metadata": {},
   "outputs": [],
   "source": [
    "def generate_ode_solution(c, u_0, a, b, h=.1, c_2=1):\n",
    "    x = np.linspace(a, b, math.ceil((b-a)/h) + 1)\n",
    "    return u_0 * np.exp(c * x) + 2 * c_2 * np.exp(c * x)/c**2 - x**2 * c_2 - 2*x * c_2/c - 2 * c_2/c**2"
   ]
  },
  {
   "cell_type": "code",
   "execution_count": 5,
   "metadata": {},
   "outputs": [
    {
     "data": {
      "image/png": "[encoded data removed]",
      "text/plain": [
       "<Figure size 432x288 with 3 Axes>"
      ]
     },
     "metadata": {
      "needs_background": "light"
     },
     "output_type": "display_data"
    }
   ],
   "source": [
    "x1 = generate_ode_solution(c=2,u_0=0,a=-1,b=1,h=.01)\n",
    "\n",
    "x2 = generate_ode_solution(c=2,u_0=1,a=-1,b=1,h=.01)\n",
    "\n",
    "x3 = generate_ode_solution(c=2,u_0=-1,a=-1,b=1,h=.01, c_2=0)\n",
    "\n",
    "visualize([x1,x2,x3], a=-1, b=1)"
   ]
  },
  {
   "cell_type": "code",
   "execution_count": 6,
   "metadata": {},
   "outputs": [],
   "source": [
    "def generate_noise(c, u_0, a, b, h=.1, strength=1.):\n",
    "    f = np.random.randn(4)\n",
    "    x = np.linspace(a, b, math.ceil((b-a)/h) + 1)\n",
    "    return strength * sum(f[i] * np.sin(i * x) for i in range(len(f)))"
   ]
  },
  {
   "cell_type": "code",
   "execution_count": 7,
   "metadata": {},
   "outputs": [],
   "source": [
    "def generate_ode_plus_noise(c, u_0, a, b, h=.1, strength=1.):\n",
    "    f = np.random.randn(4)\n",
    "    x = np.linspace(a, b, math.ceil((b-a)/h)+1)\n",
    "    noise = sum(f[i] * np.sin(i * x) for i in range(len(f)))\n",
    "    return strength * generate_ode_solution(c, u_0, a, b, h=h) + noise"
   ]
  },
  {
   "cell_type": "code",
   "execution_count": 8,
   "metadata": {},
   "outputs": [],
   "source": [
    "def ode_data_generator(c, a, b, h):\n",
    "    while True:\n",
    "        if np.random.rand() < .5:\n",
    "            u_0 = np.random.random() * 10 - 5\n",
    "            yield generate_ode_solution(c,u_0,a,b,h=h), 1\n",
    "        else:\n",
    "            u_0 = np.random.random() * 10 - 5\n",
    "            yield generate_noise(c,u_0,a,b,h=h), 0"
   ]
  },
  {
   "cell_type": "code",
   "execution_count": 9,
   "metadata": {},
   "outputs": [],
   "source": [
    "def hard_ode_data_generator(c, a, b, h):\n",
    "    while True:\n",
    "        if np.random.rand() < .5:\n",
    "            u_0 = np.random.random() * 10 - 5\n",
    "            yield generate_ode_solution(c,u_0,a,b,h=h), 1\n",
    "        else:\n",
    "            u_0 = np.random.random() * 10 - 5\n",
    "            strength = 5*np.random.rand()\n",
    "            yield generate_ode_plus_noise(c,u_0,a,b,h=h,strength=strength), 0"
   ]
  },
  {
   "cell_type": "code",
   "execution_count": 10,
   "metadata": {},
   "outputs": [],
   "source": [
    "def visualize_dataset(dataset, num_examples=5):\n",
    "    examples = [item for item in dataset.take(num_examples)]\n",
    "    fig, axes = plt.subplots(1, num_examples)\n",
    "    axes = axes.flatten()\n",
    "    for x, ax in zip(examples, axes):\n",
    "        ax.plot(x[0])\n",
    "        if x[1]:\n",
    "            ax.set_title(\"Solution\")\n",
    "        else:\n",
    "            ax.set_title(\"Nonsolution\")\n",
    "    plt.tight_layout()\n",
    "    plt.show()"
   ]
  },
  {
   "cell_type": "code",
   "execution_count": 11,
   "metadata": {},
   "outputs": [],
   "source": [
    "class ProbMeasure(tf.keras.constraints.Constraint):\n",
    "    \"\"\"Constrains the weights incident to each hidden unit to be a probability measure.\n",
    "    \"\"\"\n",
    "\n",
    "    def __init__(self, axis=0):\n",
    "        self.axis = axis\n",
    "\n",
    "    def __call__(self, w):\n",
    "        w = w * K.cast(K.greater_equal(w, 0.), K.floatx())\n",
    "        return w / (K.epsilon() + K.sum(K.abs(w),\n",
    "                                        axis=self.axis,\n",
    "                                        keepdims=True))\n",
    "\n",
    "    def get_config(self):\n",
    "        return {'axis': self.axis}"
   ]
  },
  {
   "cell_type": "code",
   "execution_count": 12,
   "metadata": {},
   "outputs": [],
   "source": [
    "class NonPos(tf.keras.constraints.Constraint):\n",
    "    \"\"\"Constrains the weights incident to each hidden unit to Negative.\n",
    "    \"\"\"\n",
    "\n",
    "    def __init__(self):\n",
    "        pass\n",
    "\n",
    "    def __call__(self, w):\n",
    "        w = w * K.cast(K.less_equal(w, 0.), K.floatx())\n",
    "        return w"
   ]
  },
  {
   "cell_type": "code",
   "execution_count": 13,
   "metadata": {},
   "outputs": [],
   "source": [
    "class LocallyBiasedConv1D(tf.keras.layers.Conv1D):\n",
    "\n",
    "    def __init__(self, filters,\n",
    "                 kernel_size,\n",
    "                 strides=1,\n",
    "                 padding='valid',\n",
    "                 data_format='channels_last',\n",
    "                 dilation_rate=1,\n",
    "                 activation=None,\n",
    "                 use_bias=True,\n",
    "                 kernel_initializer='glorot_uniform',\n",
    "                 bias_initializer='zeros',\n",
    "                 kernel_regularizer=None,\n",
    "                 bias_regularizer=None,\n",
    "                 activity_regularizer=None,\n",
    "                 kernel_constraint=None,\n",
    "                 bias_constraint=None,\n",
    "                 **kwargs):\n",
    "        super(LocallyBiasedConv1D, self).__init__(\n",
    "            filters=filters,\n",
    "            kernel_size=kernel_size,\n",
    "            strides=strides,\n",
    "            padding=padding,\n",
    "            data_format=data_format,\n",
    "            dilation_rate=dilation_rate,\n",
    "            activation=activation,\n",
    "            use_bias=use_bias,\n",
    "            kernel_initializer=kernel_initializer,\n",
    "            bias_initializer=bias_initializer,\n",
    "            kernel_regularizer=kernel_regularizer,\n",
    "            bias_regularizer=bias_regularizer,\n",
    "            activity_regularizer=activity_regularizer,\n",
    "            kernel_constraint=kernel_constraint,\n",
    "            bias_constraint=bias_constraint,\n",
    "            **kwargs)\n",
    "        \n",
    "    def build(self, input_shape):\n",
    "        if self.data_format == 'channels_first':\n",
    "            channel_axis = 1\n",
    "        else:\n",
    "            channel_axis = -1\n",
    "        if input_shape[channel_axis] is None:\n",
    "            raise ValueError('The channel dimension of the inputs '\n",
    "                             'should be defined. Found `None`.')\n",
    "        input_dim = input_shape[channel_axis]\n",
    "        \n",
    "        \n",
    "        output_length = conv_utils.conv_output_length(input_shape[1],\n",
    "                                                      self.kernel_size[0],\n",
    "                                                      self.padding,\n",
    "                                                      self.strides[0])\n",
    "        \n",
    "        kernel_shape = self.kernel_size + (input_dim, self.filters)\n",
    "\n",
    "        self.kernel = self.add_weight(shape=kernel_shape,\n",
    "                                      initializer=self.kernel_initializer,\n",
    "                                      name='kernel',\n",
    "                                      regularizer=self.kernel_regularizer,\n",
    "                                      constraint=self.kernel_constraint)\n",
    "        if self.use_bias:\n",
    "            self.bias = self.add_weight(shape=(output_length, self.filters),\n",
    "                                        initializer=self.bias_initializer,\n",
    "                                        name='bias',\n",
    "                                        regularizer=self.bias_regularizer,\n",
    "                                        constraint=self.bias_constraint)\n",
    "        else:\n",
    "            self.bias = None\n",
    "        self.built = True\n",
    "        \n",
    "    def call(self, inputs):\n",
    "        outputs = K.conv1d(\n",
    "            inputs,\n",
    "            self.kernel,\n",
    "            strides=self.strides[0],\n",
    "            padding=self.padding,\n",
    "            data_format=self.data_format,\n",
    "            dilation_rate=self.dilation_rate[0]\n",
    "        )\n",
    "\n",
    "        if self.use_bias:\n",
    "            outputs = K.bias_add(\n",
    "                outputs,\n",
    "                self.bias,\n",
    "                data_format=self.data_format)\n",
    "\n",
    "        if self.activation is not None:\n",
    "            return self.activation(outputs)\n",
    "        \n",
    "        return outputs\n"
   ]
  },
  {
   "cell_type": "code",
   "execution_count": 14,
   "metadata": {},
   "outputs": [],
   "source": [
    "class DiffeqModel(tf.keras.Model):\n",
    "    \n",
    "    def __init__(self, a, b, h, filter_size):\n",
    "        self.n = math.ceil((b-a)/h)+1\n",
    "        super(DiffeqModel, self).__init__(name='diffeq_model')\n",
    "        self.reshape = tf.keras.layers.Reshape((self.n,1), input_shape=(self.n,))\n",
    "        self.conv1D = LocallyBiasedConv1D(filter_size,\n",
    "                                          kernel_size=2,\n",
    "                                          input_shape=(self.n,1),\n",
    "                                          kernel_regularizer=tf.keras.regularizers.l1(.001))\n",
    "        self.dense = tf.keras.layers.Dense(1, \n",
    "                                           activation='relu',\n",
    "                                           kernel_regularizer=tf.keras.regularizers.l1(.001))\n",
    "        #self.dense2 = tf.keras.layers.Dense(1,\n",
    "        #                                    activation='relu',\n",
    "        #                                    kernel_constraint=tf.keras.constraints.NonNeg())\n",
    "        self.max_pool = tf.keras.layers.MaxPool1D()\n",
    "        output_kernel_initializer = tf.keras.initializers.Constant([[-10., -10.]])\n",
    "        output_bias_initializer = tf.keras.initializers.Constant([2.5])\n",
    "        self.output_layer = tf.keras.layers.Dense(1, \n",
    "                                                  activation='sigmoid', \n",
    "                                                  kernel_initializer = output_kernel_initializer,\n",
    "                                                  bias_initializer = output_bias_initializer)\n",
    "        \n",
    "    def call(self, input_tensor, training=False):\n",
    "        x = self.reshape(input_tensor)\n",
    "        x = self.conv1D(x)\n",
    "        x1 = tf.nn.relu(x)\n",
    "        x2 = tf.nn.relu(-1*x)\n",
    "        x1 = self.dense(x1)\n",
    "        x2 = self.dense(x2)\n",
    "        #x1 = self.dense2(x1)\n",
    "        #x2 = self.dense2(x2)\n",
    "        x = tf.concat([x1, x2], axis=-1)\n",
    "        x = self.max_pool(x)\n",
    "        return self.output_layer(x)"
   ]
  },
  {
   "cell_type": "code",
   "execution_count": 15,
   "metadata": {},
   "outputs": [],
   "source": [
    "def get_model(a,b,h,filter_size):\n",
    "    n = math.ceil((b-a)/h)+1\n",
    "\n",
    "    sequential_model = tf.keras.Sequential([\n",
    "        tf.keras.layers.Reshape((n,1), input_shape=(n,)),\n",
    "        LocallyBiasedConv1D(filter_size,\n",
    "                            kernel_size=2,\n",
    "                            input_shape=(n,1),\n",
    "                            kernel_regularizer=tf.keras.regularizers.l1(.001)),\n",
    "        tf.keras.layers.Lambda(lambda x: K.abs(x)),\n",
    "        tf.keras.layers.GlobalMaxPool1D(),\n",
    "        #tf.keras.layers.Dense(1,\n",
    "        #                      kernel_constraint=tf.keras.constraints.NonNeg()),\n",
    "        tf.keras.layers.Dense(1, \n",
    "                              kernel_constraint=NonPos(),\n",
    "                              activation='sigmoid')\n",
    "    ])\n",
    "    \n",
    "    return sequential_model"
   ]
  },
  {
   "cell_type": "code",
   "execution_count": 16,
   "metadata": {},
   "outputs": [],
   "source": [
    "c=1\n",
    "a=-1\n",
    "b=1\n",
    "h=.05\n",
    "dataset = tf.data.Dataset.from_generator(ode_data_generator, \n",
    "                                         args=[c,a,b,h], \n",
    "                                         output_types=(tf.float32, tf.bool), \n",
    "                                         output_shapes = (math.ceil((b-a)/h)+1, ()))"
   ]
  },
  {
   "cell_type": "code",
   "execution_count": 17,
   "metadata": {},
   "outputs": [],
   "source": [
    "c=1\n",
    "a=-1\n",
    "b=1\n",
    "h=.05\n",
    "hard_dataset = tf.data.Dataset.from_generator(hard_ode_data_generator, \n",
    "                                              args=[c,a,b,h], \n",
    "                                              output_types=(tf.float32, tf.bool), \n",
    "                                              output_shapes = (math.ceil((b-a)/h)+1, ()))"
   ]
  },
  {
   "cell_type": "code",
   "execution_count": 18,
   "metadata": {
    "scrolled": false
   },
   "outputs": [
    {
     "data": {
      "image/png": "[encoded data removed]",
      "text/plain": [
       "<Figure size 432x288 with 5 Axes>"
      ]
     },
     "metadata": {
      "needs_background": "light"
     },
     "output_type": "display_data"
    }
   ],
   "source": [
    "visualize_dataset(dataset, num_examples=5)"
   ]
  },
  {
   "cell_type": "code",
   "execution_count": 19,
   "metadata": {
    "scrolled": false
   },
   "outputs": [
    {
     "data": {
      "image/png": "[encoded data removed]",
      "text/plain": [
       "<Figure size 432x288 with 5 Axes>"
      ]
     },
     "metadata": {
      "needs_background": "light"
     },
     "output_type": "display_data"
    }
   ],
   "source": [
    "visualize_dataset(hard_dataset, num_examples=5)"
   ]
  },
  {
   "cell_type": "code",
   "execution_count": 20,
   "metadata": {},
   "outputs": [],
   "source": [
    "model = get_model(a, b, h, 128)"
   ]
  },
  {
   "cell_type": "code",
   "execution_count": 21,
   "metadata": {},
   "outputs": [],
   "source": [
    "model.compile(optimizer='adam',\n",
    "              loss='binary_crossentropy',\n",
    "              metrics=['accuracy'])"
   ]
  },
  {
   "cell_type": "code",
   "execution_count": 22,
   "metadata": {},
   "outputs": [
    {
     "name": "stdout",
     "output_type": "stream",
     "text": [
      "Model: \"sequential\"\n",
      "_________________________________________________________________\n",
      "Layer (type)                 Output Shape              Param #   \n",
      "=================================================================\n",
      "reshape (Reshape)            (None, 41, 1)             0         \n",
      "_________________________________________________________________\n",
      "locally_biased_conv1d (Local (None, 40, 128)           5376      \n",
      "_________________________________________________________________\n",
      "lambda (Lambda)              (None, 40, 128)           0         \n",
      "_________________________________________________________________\n",
      "global_max_pooling1d (Global (None, 128)               0         \n",
      "_________________________________________________________________\n",
      "dense (Dense)                (None, 1)                 129       \n",
      "=================================================================\n",
      "Total params: 5,505\n",
      "Trainable params: 5,505\n",
      "Non-trainable params: 0\n",
      "_________________________________________________________________\n"
     ]
    }
   ],
   "source": [
    "model.summary()"
   ]
  },
  {
   "cell_type": "code",
   "execution_count": 23,
   "metadata": {},
   "outputs": [
    {
     "name": "stdout",
     "output_type": "stream",
     "text": [
      "Train for 100 steps\n",
      "Epoch 1/50\n",
      "100/100 [==============================] - 5s 48ms/step - loss: 1.1501 - accuracy: 0.5047\n",
      "Epoch 2/50\n",
      "100/100 [==============================] - 2s 17ms/step - loss: 0.7088 - accuracy: 0.4930\n",
      "Epoch 3/50\n",
      "100/100 [==============================] - 2s 18ms/step - loss: 0.6904 - accuracy: 0.5039\n",
      "Epoch 4/50\n",
      "100/100 [==============================] - 2s 18ms/step - loss: 0.6850 - accuracy: 0.5002\n",
      "Epoch 5/50\n",
      "100/100 [==============================] - 2s 17ms/step - loss: 0.6781 - accuracy: 0.6772\n",
      "Epoch 6/50\n",
      "100/100 [==============================] - 2s 17ms/step - loss: 0.6712 - accuracy: 0.8302\n",
      "Epoch 7/50\n",
      "100/100 [==============================] - 2s 17ms/step - loss: 0.6645 - accuracy: 0.9489\n",
      "Epoch 8/50\n",
      "100/100 [==============================] - 2s 17ms/step - loss: 0.6559 - accuracy: 0.9870\n",
      "Epoch 9/50\n",
      "100/100 [==============================] - 2s 17ms/step - loss: 0.6490 - accuracy: 0.9750\n",
      "Epoch 10/50\n",
      "100/100 [==============================] - 2s 17ms/step - loss: 0.6404 - accuracy: 0.9652\n",
      "Epoch 11/50\n",
      "100/100 [==============================] - 2s 17ms/step - loss: 0.6298 - accuracy: 0.9702\n",
      "Epoch 12/50\n",
      "100/100 [==============================] - 2s 17ms/step - loss: 0.6188 - accuracy: 0.9686\n",
      "Epoch 13/50\n",
      "100/100 [==============================] - 2s 17ms/step - loss: 0.6084 - accuracy: 0.9603\n",
      "Epoch 14/50\n",
      "100/100 [==============================] - 2s 17ms/step - loss: 0.5960 - accuracy: 0.9603\n",
      "Epoch 15/50\n",
      "100/100 [==============================] - 2s 17ms/step - loss: 0.5824 - accuracy: 0.9623\n",
      "Epoch 16/50\n",
      "100/100 [==============================] - 2s 17ms/step - loss: 0.5702 - accuracy: 0.9520\n",
      "Epoch 17/50\n",
      "100/100 [==============================] - 2s 16ms/step - loss: 0.5581 - accuracy: 0.9513\n",
      "Epoch 18/50\n",
      "100/100 [==============================] - 2s 17ms/step - loss: 0.5449 - accuracy: 0.9481\n",
      "Epoch 19/50\n",
      "100/100 [==============================] - 2s 18ms/step - loss: 0.5357 - accuracy: 0.9447\n",
      "Epoch 20/50\n",
      "100/100 [==============================] - 2s 17ms/step - loss: 0.5207 - accuracy: 0.9419\n",
      "Epoch 21/50\n",
      "100/100 [==============================] - 2s 17ms/step - loss: 0.5070 - accuracy: 0.9463\n",
      "Epoch 22/50\n",
      "100/100 [==============================] - 2s 17ms/step - loss: 0.4929 - accuracy: 0.9473\n",
      "Epoch 23/50\n",
      "100/100 [==============================] - 2s 17ms/step - loss: 0.4821 - accuracy: 0.9436\n",
      "Epoch 24/50\n",
      "100/100 [==============================] - 2s 17ms/step - loss: 0.4665 - accuracy: 0.9478\n",
      "Epoch 25/50\n",
      "100/100 [==============================] - 2s 17ms/step - loss: 0.4561 - accuracy: 0.9473\n",
      "Epoch 26/50\n",
      "100/100 [==============================] - 2s 17ms/step - loss: 0.4448 - accuracy: 0.9453\n",
      "Epoch 27/50\n",
      "100/100 [==============================] - 2s 17ms/step - loss: 0.4340 - accuracy: 0.9411\n",
      "Epoch 28/50\n",
      "100/100 [==============================] - 2s 18ms/step - loss: 0.4204 - accuracy: 0.9439\n",
      "Epoch 29/50\n",
      "100/100 [==============================] - 2s 17ms/step - loss: 0.4084 - accuracy: 0.9422\n",
      "Epoch 30/50\n",
      "100/100 [==============================] - 2s 17ms/step - loss: 0.3977 - accuracy: 0.9455\n",
      "Epoch 31/50\n",
      "100/100 [==============================] - 2s 17ms/step - loss: 0.3920 - accuracy: 0.9394\n",
      "Epoch 32/50\n",
      "100/100 [==============================] - 2s 17ms/step - loss: 0.3804 - accuracy: 0.9425\n",
      "Epoch 33/50\n",
      "100/100 [==============================] - 2s 17ms/step - loss: 0.3761 - accuracy: 0.9413\n",
      "Epoch 34/50\n",
      "100/100 [==============================] - 2s 18ms/step - loss: 0.3611 - accuracy: 0.9438\n",
      "Epoch 35/50\n",
      "100/100 [==============================] - 2s 17ms/step - loss: 0.3484 - accuracy: 0.9448\n",
      "Epoch 36/50\n",
      "100/100 [==============================] - 2s 17ms/step - loss: 0.3423 - accuracy: 0.9434\n",
      "Epoch 37/50\n",
      "100/100 [==============================] - 2s 17ms/step - loss: 0.3385 - accuracy: 0.9416\n",
      "Epoch 38/50\n",
      "100/100 [==============================] - 2s 17ms/step - loss: 0.3232 - accuracy: 0.9456\n",
      "Epoch 39/50\n",
      "100/100 [==============================] - 2s 17ms/step - loss: 0.3213 - accuracy: 0.9425\n",
      "Epoch 40/50\n",
      "100/100 [==============================] - 2s 17ms/step - loss: 0.3110 - accuracy: 0.9456\n",
      "Epoch 41/50\n",
      "100/100 [==============================] - 2s 17ms/step - loss: 0.3058 - accuracy: 0.9453\n",
      "Epoch 42/50\n",
      "100/100 [==============================] - 2s 17ms/step - loss: 0.2950 - accuracy: 0.9448\n",
      "Epoch 43/50\n",
      "100/100 [==============================] - 2s 17ms/step - loss: 0.2925 - accuracy: 0.9439\n",
      "Epoch 44/50\n",
      "100/100 [==============================] - 2s 16ms/step - loss: 0.2845 - accuracy: 0.9461\n",
      "Epoch 45/50\n",
      "100/100 [==============================] - 2s 16ms/step - loss: 0.2747 - accuracy: 0.9531\n",
      "Epoch 46/50\n",
      "100/100 [==============================] - 2s 17ms/step - loss: 0.2650 - accuracy: 0.9559\n",
      "Epoch 47/50\n",
      "100/100 [==============================] - 2s 17ms/step - loss: 0.2654 - accuracy: 0.9514\n",
      "Epoch 48/50\n",
      "100/100 [==============================] - 2s 17ms/step - loss: 0.2607 - accuracy: 0.9480\n",
      "Epoch 49/50\n",
      "100/100 [==============================] - 2s 16ms/step - loss: 0.2515 - accuracy: 0.9522\n",
      "Epoch 50/50\n",
      "100/100 [==============================] - 2s 17ms/step - loss: 0.2535 - accuracy: 0.9480\n"
     ]
    }
   ],
   "source": [
    "history = model.fit(dataset.batch(64), epochs=50, steps_per_epoch=100)"
   ]
  },
  {
   "cell_type": "code",
   "execution_count": 242,
   "metadata": {},
   "outputs": [
    {
     "data": {
      "text/plain": [
       "[(29, -5.1482177),\n",
       " (119, -4.8509674),\n",
       " (80, -4.757433),\n",
       " (22, -4.688226),\n",
       " (102, -4.6243887),\n",
       " (21, -4.615503),\n",
       " (58, -3.9956167),\n",
       " (83, -3.5812225),\n",
       " (5, -3.411233),\n",
       " (95, -2.8226204),\n",
       " (78, -2.7870936),\n",
       " (69, -2.4184706),\n",
       " (40, -2.2400029),\n",
       " (33, -2.171421),\n",
       " (31, -1.8407007),\n",
       " (92, -1.7541097),\n",
       " (19, -1.6927619),\n",
       " (41, -1.6595483),\n",
       " (89, -1.475482),\n",
       " (84, -1.4245802),\n",
       " (65, -1.3745927),\n",
       " (1, -1.3508841),\n",
       " (86, -1.2986672),\n",
       " (16, -1.2627586),\n",
       " (107, -1.1573952),\n",
       " (110, -1.0746496),\n",
       " (34, -1.0359304),\n",
       " (99, -1.0252068),\n",
       " (46, -0.9187972),\n",
       " (121, -0.8121578),\n",
       " (3, -0.77860194),\n",
       " (47, -0.5984653),\n",
       " (118, -0.531845),\n",
       " (93, -0.38789967),\n",
       " (48, -0.3772405),\n",
       " (51, -0.33734053),\n",
       " (7, -0.28520665),\n",
       " (116, -0.062024187),\n",
       " (61, -0.007859257),\n",
       " (35, -0.0047351294),\n",
       " (68, -0.00056310603),\n",
       " (88, -0.00031865152),\n",
       " (0, 0.0),\n",
       " (2, 0.0),\n",
       " (4, 0.0),\n",
       " (6, 0.0),\n",
       " (8, 0.0),\n",
       " (9, 0.0),\n",
       " (10, 0.0),\n",
       " (11, 0.0),\n",
       " (12, 0.0),\n",
       " (13, 0.0),\n",
       " (14, 0.0),\n",
       " (15, 0.0),\n",
       " (17, 0.0),\n",
       " (18, 0.0),\n",
       " (20, 0.0),\n",
       " (23, 0.0),\n",
       " (24, 0.0),\n",
       " (25, 0.0),\n",
       " (26, 0.0),\n",
       " (27, 0.0),\n",
       " (28, 0.0),\n",
       " (30, 0.0),\n",
       " (32, 0.0),\n",
       " (36, 0.0),\n",
       " (37, 0.0),\n",
       " (38, 0.0),\n",
       " (39, 0.0),\n",
       " (42, 0.0),\n",
       " (43, 0.0),\n",
       " (44, 0.0),\n",
       " (45, 0.0),\n",
       " (49, 0.0),\n",
       " (50, 0.0),\n",
       " (52, 0.0),\n",
       " (53, 0.0),\n",
       " (54, 0.0),\n",
       " (55, 0.0),\n",
       " (56, 0.0),\n",
       " (57, 0.0),\n",
       " (59, 0.0),\n",
       " (60, 0.0),\n",
       " (62, 0.0),\n",
       " (63, 0.0),\n",
       " (64, 0.0),\n",
       " (66, 0.0),\n",
       " (67, 0.0),\n",
       " (70, 0.0),\n",
       " (71, 0.0),\n",
       " (72, 0.0),\n",
       " (73, 0.0),\n",
       " (74, 0.0),\n",
       " (75, 0.0),\n",
       " (76, 0.0),\n",
       " (77, 0.0),\n",
       " (79, 0.0),\n",
       " (81, 0.0),\n",
       " (82, 0.0),\n",
       " (85, 0.0),\n",
       " (87, 0.0),\n",
       " (90, 0.0),\n",
       " (91, 0.0),\n",
       " (94, 0.0),\n",
       " (96, 0.0),\n",
       " (97, 0.0),\n",
       " (98, 0.0),\n",
       " (100, 0.0),\n",
       " (101, 0.0),\n",
       " (103, 0.0),\n",
       " (104, 0.0),\n",
       " (105, 0.0),\n",
       " (106, 0.0),\n",
       " (108, 0.0),\n",
       " (109, 0.0),\n",
       " (111, 0.0),\n",
       " (112, 0.0),\n",
       " (113, 0.0),\n",
       " (114, 0.0),\n",
       " (115, 0.0),\n",
       " (117, 0.0),\n",
       " (120, 0.0),\n",
       " (122, 0.0),\n",
       " (123, 0.0),\n",
       " (124, 0.0),\n",
       " (125, 0.0),\n",
       " (126, 0.0),\n",
       " (127, 0.0)]"
      ]
     },
     "execution_count": 242,
     "metadata": {},
     "output_type": "execute_result"
    }
   ],
   "source": [
    "l = sorted(list(enumerate(map(lambda x: x[0], model.layers[-1].get_weights()[0]))), key=lambda x: x[1])\n",
    "l"
   ]
  },
  {
   "cell_type": "code",
   "execution_count": 285,
   "metadata": {},
   "outputs": [
    {
     "data": {
      "text/plain": [
       "21"
      ]
     },
     "execution_count": 285,
     "metadata": {},
     "output_type": "execute_result"
    }
   ],
   "source": [
    "i=l[5][0]\n",
    "i"
   ]
  },
  {
   "cell_type": "code",
   "execution_count": 286,
   "metadata": {},
   "outputs": [
    {
     "data": {
      "text/plain": [
       "<__main__.LocallyBiasedConv1D at 0x13fcf9dd0>"
      ]
     },
     "execution_count": 286,
     "metadata": {},
     "output_type": "execute_result"
    }
   ],
   "source": [
    "model.layers[1]"
   ]
  },
  {
   "cell_type": "code",
   "execution_count": 287,
   "metadata": {},
   "outputs": [
    {
     "data": {
      "text/plain": [
       "array([[ 1.       ],\n",
       "       [-0.9517678]], dtype=float32)"
      ]
     },
     "execution_count": 287,
     "metadata": {},
     "output_type": "execute_result"
    }
   ],
   "source": [
    "model.layers[1].get_weights()[0][:,:,i] / model.layers[1].get_weights()[0][0,0,i]"
   ]
  },
  {
   "cell_type": "code",
   "execution_count": 288,
   "metadata": {},
   "outputs": [
    {
     "data": {
      "text/plain": [
       "array([ 1.0748671 ,  0.5437481 ,  0.7074224 ,  0.3452856 ,  0.5084216 ,\n",
       "        0.32545996,  0.33992797,  0.35960317,  0.10860057,  0.23810466,\n",
       "        0.20812407,  0.3392328 ,  0.12348535, -0.00767889,  0.06622123,\n",
       "        0.08862619, -0.07354685,  0.2992643 ,  0.08979917,  0.02468289,\n",
       "       -0.        , -0.04773296, -0.        , -0.        , -0.        ,\n",
       "        0.18748148,  0.1539405 ,  0.09051295,  0.23718973,  0.26559475,\n",
       "        0.22297329,  0.28334033,  0.36748272,  0.47770262,  0.51873064,\n",
       "        0.5600644 ,  0.7170737 ,  0.728183  ,  0.92777044,  1.        ],\n",
       "      dtype=float32)"
      ]
     },
     "execution_count": 288,
     "metadata": {},
     "output_type": "execute_result"
    }
   ],
   "source": [
    "model.layers[1].get_weights()[1][:,i] / model.layers[1].get_weights()[1][-1,i]"
   ]
  },
  {
   "cell_type": "code",
   "execution_count": 292,
   "metadata": {},
   "outputs": [
    {
     "data": {
      "text/plain": [
       "[<matplotlib.lines.Line2D at 0x14151bd90>]"
      ]
     },
     "execution_count": 292,
     "metadata": {},
     "output_type": "execute_result"
    },
    {
     "data": {
      "image/png": "[encoded data removed]",
      "text/plain": [
       "<Figure size 432x288 with 1 Axes>"
      ]
     },
     "metadata": {
      "needs_background": "light"
     },
     "output_type": "display_data"
    }
   ],
   "source": [
    "x=np.linspace(-1, 1, 40)\n",
    "plt.plot(x,model.layers[1].get_weights()[1][:,i] * 2 / \n",
    "         (model.layers[1].get_weights()[1][0,i] + model.layers[1].get_weights()[1][-1,i]))\n",
    "plt.plot(x,x**2)"
   ]
  },
  {
   "cell_type": "code",
   "execution_count": 274,
   "metadata": {},
   "outputs": [
    {
     "data": {
      "text/plain": [
       "[array([[ 0.0000000e+00],\n",
       "        [-1.3508841e+00],\n",
       "        [ 0.0000000e+00],\n",
       "        [-7.7860194e-01],\n",
       "        [ 0.0000000e+00],\n",
       "        [-3.4112329e+00],\n",
       "        [ 0.0000000e+00],\n",
       "        [-2.8520665e-01],\n",
       "        [ 0.0000000e+00],\n",
       "        [ 0.0000000e+00],\n",
       "        [ 0.0000000e+00],\n",
       "        [ 0.0000000e+00],\n",
       "        [ 0.0000000e+00],\n",
       "        [ 0.0000000e+00],\n",
       "        [ 0.0000000e+00],\n",
       "        [ 0.0000000e+00],\n",
       "        [-1.2627586e+00],\n",
       "        [ 0.0000000e+00],\n",
       "        [ 0.0000000e+00],\n",
       "        [-1.6927619e+00],\n",
       "        [ 0.0000000e+00],\n",
       "        [-4.6155028e+00],\n",
       "        [-4.6882262e+00],\n",
       "        [ 0.0000000e+00],\n",
       "        [ 0.0000000e+00],\n",
       "        [ 0.0000000e+00],\n",
       "        [ 0.0000000e+00],\n",
       "        [ 0.0000000e+00],\n",
       "        [ 0.0000000e+00],\n",
       "        [-5.1482177e+00],\n",
       "        [ 0.0000000e+00],\n",
       "        [-1.8407007e+00],\n",
       "        [ 0.0000000e+00],\n",
       "        [-2.1714211e+00],\n",
       "        [-1.0359304e+00],\n",
       "        [-4.7351294e-03],\n",
       "        [ 0.0000000e+00],\n",
       "        [ 0.0000000e+00],\n",
       "        [ 0.0000000e+00],\n",
       "        [ 0.0000000e+00],\n",
       "        [-2.2400029e+00],\n",
       "        [-1.6595483e+00],\n",
       "        [ 0.0000000e+00],\n",
       "        [ 0.0000000e+00],\n",
       "        [ 0.0000000e+00],\n",
       "        [ 0.0000000e+00],\n",
       "        [-9.1879719e-01],\n",
       "        [-5.9846532e-01],\n",
       "        [-3.7724051e-01],\n",
       "        [ 0.0000000e+00],\n",
       "        [ 0.0000000e+00],\n",
       "        [-3.3734053e-01],\n",
       "        [ 0.0000000e+00],\n",
       "        [ 0.0000000e+00],\n",
       "        [ 0.0000000e+00],\n",
       "        [ 0.0000000e+00],\n",
       "        [ 0.0000000e+00],\n",
       "        [ 0.0000000e+00],\n",
       "        [-3.9956167e+00],\n",
       "        [ 0.0000000e+00],\n",
       "        [ 0.0000000e+00],\n",
       "        [-7.8592570e-03],\n",
       "        [ 0.0000000e+00],\n",
       "        [ 0.0000000e+00],\n",
       "        [ 0.0000000e+00],\n",
       "        [-1.3745927e+00],\n",
       "        [ 0.0000000e+00],\n",
       "        [ 0.0000000e+00],\n",
       "        [-5.6310603e-04],\n",
       "        [-2.4184706e+00],\n",
       "        [ 0.0000000e+00],\n",
       "        [ 0.0000000e+00],\n",
       "        [ 0.0000000e+00],\n",
       "        [ 0.0000000e+00],\n",
       "        [ 0.0000000e+00],\n",
       "        [ 0.0000000e+00],\n",
       "        [ 0.0000000e+00],\n",
       "        [ 0.0000000e+00],\n",
       "        [-2.7870936e+00],\n",
       "        [ 0.0000000e+00],\n",
       "        [-4.7574329e+00],\n",
       "        [ 0.0000000e+00],\n",
       "        [ 0.0000000e+00],\n",
       "        [-3.5812225e+00],\n",
       "        [-1.4245802e+00],\n",
       "        [ 0.0000000e+00],\n",
       "        [-1.2986672e+00],\n",
       "        [ 0.0000000e+00],\n",
       "        [-3.1865152e-04],\n",
       "        [-1.4754820e+00],\n",
       "        [ 0.0000000e+00],\n",
       "        [ 0.0000000e+00],\n",
       "        [-1.7541097e+00],\n",
       "        [-3.8789967e-01],\n",
       "        [ 0.0000000e+00],\n",
       "        [-2.8226204e+00],\n",
       "        [ 0.0000000e+00],\n",
       "        [ 0.0000000e+00],\n",
       "        [ 0.0000000e+00],\n",
       "        [-1.0252068e+00],\n",
       "        [ 0.0000000e+00],\n",
       "        [ 0.0000000e+00],\n",
       "        [-4.6243887e+00],\n",
       "        [ 0.0000000e+00],\n",
       "        [ 0.0000000e+00],\n",
       "        [ 0.0000000e+00],\n",
       "        [ 0.0000000e+00],\n",
       "        [-1.1573952e+00],\n",
       "        [ 0.0000000e+00],\n",
       "        [ 0.0000000e+00],\n",
       "        [-1.0746496e+00],\n",
       "        [ 0.0000000e+00],\n",
       "        [ 0.0000000e+00],\n",
       "        [ 0.0000000e+00],\n",
       "        [ 0.0000000e+00],\n",
       "        [ 0.0000000e+00],\n",
       "        [-6.2024187e-02],\n",
       "        [ 0.0000000e+00],\n",
       "        [-5.3184497e-01],\n",
       "        [-4.8509674e+00],\n",
       "        [ 0.0000000e+00],\n",
       "        [-8.1215781e-01],\n",
       "        [ 0.0000000e+00],\n",
       "        [ 0.0000000e+00],\n",
       "        [ 0.0000000e+00],\n",
       "        [ 0.0000000e+00],\n",
       "        [ 0.0000000e+00],\n",
       "        [ 0.0000000e+00]], dtype=float32), array([1.4712449], dtype=float32)]"
      ]
     },
     "execution_count": 274,
     "metadata": {},
     "output_type": "execute_result"
    }
   ],
   "source": [
    "model.layers[-1].get_weights()"
   ]
  },
  {
   "cell_type": "code",
   "execution_count": null,
   "metadata": {},
   "outputs": [],
   "source": []
  }
 ],
 "metadata": {
  "kernelspec": {
   "display_name": "Python3 (oliver_tf2)",
   "language": "python",
   "name": "oliver_tf"
  },
  "language_info": {
   "codemirror_mode": {
    "name": "ipython",
    "version": 3
   },
   "file_extension": ".py",
   "mimetype": "text/x-python",
   "name": "python",
   "nbconvert_exporter": "python",
   "pygments_lexer": "ipython3",
   "version": "3.6.9"
  }
 },
 "nbformat": 4,
 "nbformat_minor": 2
}
