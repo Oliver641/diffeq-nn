{
 "cells": [
  {
   "cell_type": "code",
   "execution_count": 1,
   "metadata": {},
   "outputs": [],
   "source": [
    "from __future__ import absolute_import, division, print_function\n",
    "\n",
    "import functools\n",
    "import numpy as np\n",
    "import scipy as sp\n",
    "from scipy.stats import multivariate_normal\n",
    "import matplotlib.pyplot as plt\n",
    "import tensorflow as tf\n",
    "from pprint import pprint"
   ]
  },
  {
   "cell_type": "code",
   "execution_count": 2,
   "metadata": {},
   "outputs": [
    {
     "data": {
      "text/plain": [
       "'2.0.0'"
      ]
     },
     "execution_count": 2,
     "metadata": {},
     "output_type": "execute_result"
    }
   ],
   "source": [
    "tf.__version__"
   ]
  },
  {
   "cell_type": "code",
   "execution_count": 3,
   "metadata": {},
   "outputs": [
    {
     "data": {
      "text/plain": [
       "True"
      ]
     },
     "execution_count": 3,
     "metadata": {},
     "output_type": "execute_result"
    }
   ],
   "source": [
    "tf.executing_eagerly()"
   ]
  },
  {
   "cell_type": "code",
   "execution_count": 4,
   "metadata": {},
   "outputs": [
    {
     "data": {
      "text/plain": [
       "False"
      ]
     },
     "execution_count": 4,
     "metadata": {},
     "output_type": "execute_result"
    }
   ],
   "source": [
    "tf.test.is_gpu_available()"
   ]
  },
  {
   "cell_type": "markdown",
   "metadata": {},
   "source": [
    "## Generating Discrete Harmonic Functions on the Square\n",
    "\n",
    "The Harmonic functions on the square A of size N are those functions that satisfy:\n",
    "$$f(i, j) = \\frac{1}{4}\\bigg(f(i-1, j) + f(i+1, j) + f(i,j-1) + f(i,j+1)\\bigg)$$\n",
    "for all $i,j \\in \\{1, 2, ..., N-1\\}$.  These functions are uniquely determined by their values on the boundary of the square: $i\\in\\{0,N\\}\\text{ or }j\\in\\{0,N\\}$.  \n",
    "\n",
    "What follows is a summary of http://www.math.uchicago.edu/~lawler/reu.pdf, section 1.5.\n",
    "\n",
    "Let $e_k$ refer to the function defined on $\\partial A$ that is equal to 1 at the $k$th position at the bottom of the square and is equal 0 elsewhere.  Then the harmonic function on the interior of the square that is equal to $e_k$ on the boundary is given by:\n",
    "$$H_{(N, e_k)}(x_1, x_2) = \\frac{2}{N-1}\\sum_{j=1}^{N-1}\\frac{1}{\\sinh(\\beta_j)}\\sin\\left(\\frac{j\\pi k}{N}\\right)\\sinh\\left(\\frac{\\beta_jx_1}{N}\\right)\\sin\\left(\\frac{j\\pi x_2}{N}\\right)$$\n",
    "where $\\beta_j\\text{ for }j\\in\\{1, 2, ..., N-1\\}$ solves:\n",
    "$$ \\cosh\\left(\\frac{\\beta_j}{N}\\right) + \\cos\\left(\\frac{j\\pi}{N}\\right) = 2$$\n",
    "These functions, combined with similar functions for the other sides of the square, form a basis for the space of all harmonic functions on the interior of the square.  This is implemented below."
   ]
  },
  {
   "cell_type": "code",
   "execution_count": 5,
   "metadata": {},
   "outputs": [],
   "source": [
    "harmonic_basis_cache={}\n",
    "\n",
    "def generate_beta(n):\n",
    "    return [n*(np.arccosh(2-np.cos(j*np.pi/n))) for j in range(1,n)]\n",
    "  \n",
    "def poisson_kernel_square_raw(n, y, x_1, x_2):\n",
    "    beta = generate_beta(n)\n",
    "    h = [np.sinh(beta[j-1] * x_1 / n) \n",
    "        * np.sin(j * np.pi * x_2 / n) for j in range(1, n)]\n",
    "    c = [1/np.sinh(beta[j-1]) \n",
    "        * np.sin(j * np.pi * y / n) for j in range(1, n)]\n",
    "    return 2/(n) * sum([c[j-1] * h[j-1] for j in range(1, n)])\n",
    "  \n",
    "def poisson_kernel_square(n, y):\n",
    "    return lambda x_1, x_2: poisson_kernel_square_raw(n, y, x_1, x_2)\n",
    "  \n",
    "    \n",
    "def harmonic_basis(n, k):\n",
    "    if (n,k) in harmonic_basis_cache.keys():\n",
    "        return harmonic_basis_cache[n,k]\n",
    "    x = np.zeros(shape=[n+1, n+1])\n",
    "    x[n,k] = 1\n",
    "    H = poisson_kernel_square(n, k)\n",
    "    for i in range(1, n):\n",
    "        for j in range(1, n):\n",
    "            x[i, j] = H(i, j)\n",
    "    harmonic_basis_cache[n,k] = x\n",
    "    return x\n",
    "  \n",
    "# This is O(n^3) at the moment.\n",
    "# This is due to each of n basis functions taking O(n^2) steps to compute.\n",
    "# Can this be improved?  Do we care?\n",
    "def generate_harmonic_one_side(n, y, side='lower'):\n",
    "    lower = np.sum([y[j-1] * harmonic_basis(n,j) for j in range(1, n)], axis=0)\n",
    "    if side == 'upper':\n",
    "        return np.flip(lower, axis=0)\n",
    "    if side == 'left':\n",
    "        return np.rot90(lower, k=3)\n",
    "    if side == 'right':\n",
    "        return np.rot90(np.flip(lower, axis=0), k=3)\n",
    "    if side == 'lower':\n",
    "        return lower\n",
    "\n",
    "def generate_harmonic(n, y):\n",
    "    \"\"\"Here y specifies the entire boundary, going in order of upper, left, right, lower.\"\"\"\n",
    "    upper = generate_harmonic_one_side(n, y[:n-1], side='upper')\n",
    "    left = generate_harmonic_one_side(n, y[n-1:2*n-2], side='left')\n",
    "    right = generate_harmonic_one_side(n, y[2*n-2:3*n-3], side='right')\n",
    "    lower = generate_harmonic_one_side(n, y[3*n-3:], side='lower')\n",
    "    return upper + left + right + lower"
   ]
  },
  {
   "cell_type": "code",
   "execution_count": 6,
   "metadata": {},
   "outputs": [],
   "source": [
    "def is_harmonic_at_point(x, i, j, tol=.000001, verbose=False):\n",
    "    diff = np.abs(x[i, j] - np.mean([x[i-1,j], x[i+1,j], x[i,j-1], x[i,j+1]])) \n",
    "    if verbose:\n",
    "        print(\"|{} - {}| = {}\".format(x[i,j], \n",
    "                                      np.mean([x[i-1,j], x[i+1,j], x[i,j-1], x[i,j+1]]), \n",
    "                                      diff))\n",
    "    return diff <= tol\n",
    "  \n",
    "def is_harmonic(x, n, tol=.000001, verbose=False):\n",
    "    for i in range(1, n):\n",
    "        for j in range(1, n):\n",
    "            if not is_harmonic_at_point(x, i, j, tol=tol, verbose=verbose):\n",
    "                if verbose:\n",
    "                    print((i,j))\n",
    "                return False\n",
    "    return True"
   ]
  },
  {
   "cell_type": "markdown",
   "metadata": {},
   "source": [
    "## Generating Non-Harmonic Functions.\n",
    "\n",
    "The question of what to use as a negative for the model deserves a lot of thought.  At present I have two approaches: \n",
    "\n",
    "In the first approach, I use \\\\((N+1)^2\\\\) independent Gaussian random variables to generate non-harmonic functions.  The likelihood that these will be harmonic is negligible.  \n",
    "\n",
    "In the second approach I generate a harmonic function, and add a gaussian density to the result.  Since the gaussian is not harmonic (it in particular violates the maximum modulus principle), the resulting sum is not harmonic."
   ]
  },
  {
   "cell_type": "code",
   "execution_count": 7,
   "metadata": {},
   "outputs": [],
   "source": [
    "def generate_nonharmonic(n):\n",
    "    x = np.random.randn(n+1,n+1)\n",
    "    x[0,0] = 0.\n",
    "    x[0,n] = 0.\n",
    "    x[n,0] = 0.\n",
    "    x[n,n] = 0.\n",
    "    return x"
   ]
  },
  {
   "cell_type": "code",
   "execution_count": 8,
   "metadata": {},
   "outputs": [],
   "source": [
    "grv_cache={}\n",
    "\n",
    "# This is slow, need to make better use of numpy to \n",
    "# generate these, possibly with memoization as above.\n",
    "def generate_gaussian(n, strength):\n",
    "    mean = np.random.randint(1,n, size=2)\n",
    "    cov = (n/2 - .5) * np.random.random(size=2) + .5\n",
    "    amplitude = strength * np.random.choice([1,-1])\n",
    "    rv = multivariate_normal(mean=mean, cov=cov)\n",
    "    x = np.zeros((n+1,n+1))\n",
    "    for i in range(1,n):\n",
    "        for j in range(1,n):\n",
    "            x[i,j] = rv.pdf((i,j))/rv.pdf(mean)\n",
    "    return amplitude * x\n",
    "\n",
    "def generate_harmonic_plus_noise(n, y, strength=.1):\n",
    "    harmonic = generate_harmonic(n, y)\n",
    "    output = harmonic + generate_gaussian(n, strength=strength)\n",
    "    return output"
   ]
  },
  {
   "cell_type": "code",
   "execution_count": 9,
   "metadata": {},
   "outputs": [],
   "source": [
    "def visualize(examples, n, cmap='cividis'):\n",
    "    num_examples = len(examples)\n",
    "    fig, axes = plt.subplots(1, num_examples, figsize=(n+1,n+1))\n",
    "    if num_examples == 1:\n",
    "        axes.imshow(examples[0], cmap=cmap)\n",
    "        axes.axis('off')\n",
    "        plt.show()\n",
    "        return\n",
    "    axes = axes.flatten()\n",
    "    for x, ax in zip(examples, axes):\n",
    "        ax.imshow(x, cmap=cmap)\n",
    "        ax.axis('off')\n",
    "    plt.tight_layout()\n",
    "    plt.show()"
   ]
  },
  {
   "cell_type": "markdown",
   "metadata": {},
   "source": [
    "## Visualizing the Data\n",
    "\n",
    "Here we can note the triviality, for large $N$, of distinguishing harmonic functions from random functions, and see the motivation for the second approach for generating nonharmonic functions."
   ]
  },
  {
   "cell_type": "code",
   "execution_count": 10,
   "metadata": {},
   "outputs": [
    {
     "data": {
      "image/png": "[encoded data removed]",
      "text/plain": [
       "<Figure size 792x792 with 5 Axes>"
      ]
     },
     "metadata": {
      "needs_background": "light"
     },
     "output_type": "display_data"
    }
   ],
   "source": [
    "visualize([generate_harmonic(10, np.random.randn(36)) for i in range(5)], 10)"
   ]
  },
  {
   "cell_type": "code",
   "execution_count": 11,
   "metadata": {},
   "outputs": [
    {
     "data": {
      "image/png": "[encoded data removed]",
      "text/plain": [
       "<Figure size 792x792 with 5 Axes>"
      ]
     },
     "metadata": {
      "needs_background": "light"
     },
     "output_type": "display_data"
    }
   ],
   "source": [
    "visualize([generate_nonharmonic(10) for i in range(5)], 10)"
   ]
  },
  {
   "cell_type": "markdown",
   "metadata": {},
   "source": [
    "## Data Preparation"
   ]
  },
  {
   "cell_type": "code",
   "execution_count": 12,
   "metadata": {},
   "outputs": [],
   "source": [
    "def harmonic_data_generator(n):\n",
    "    while True:\n",
    "        if np.random.rand() < .5:\n",
    "            y = np.random.randn(4*(n-1))\n",
    "            yield np.reshape(generate_harmonic(n,y), (n+1, n+1)).astype(np.float32), 1\n",
    "        else:\n",
    "            yield np.reshape(generate_nonharmonic(n), (n+1, n+1)).astype(np.float32), 0"
   ]
  },
  {
   "cell_type": "code",
   "execution_count": 13,
   "metadata": {},
   "outputs": [],
   "source": [
    "def visualize_dataset(dataset, n, num_examples=5, cmap='cividis'):\n",
    "    examples = [item for item in dataset.take(num_examples)]\n",
    "    fig, axes = plt.subplots(1, num_examples, figsize=(n+1,n+1))\n",
    "    axes = axes.flatten()\n",
    "    for x, ax in zip(examples, axes):\n",
    "        ax.imshow(x[0], cmap=cmap, vmin=-3, vmax=3)\n",
    "        if x[1]:\n",
    "            ax.set_title(\"Harmonic\")\n",
    "        else:\n",
    "            ax.set_title(\"Nonharmonic\")\n",
    "        ax.axis('off')\n",
    "    plt.tight_layout()\n",
    "    plt.show()"
   ]
  },
  {
   "cell_type": "code",
   "execution_count": 14,
   "metadata": {},
   "outputs": [],
   "source": [
    "n=20\n",
    "dataset = tf.data.Dataset.from_generator(harmonic_data_generator, \n",
    "                                         args=[n], \n",
    "                                         output_types=(tf.float32, tf.bool), \n",
    "                                         output_shapes = ((n+1,n+1), ()))"
   ]
  },
  {
   "cell_type": "code",
   "execution_count": 15,
   "metadata": {},
   "outputs": [
    {
     "name": "stdout",
     "output_type": "stream",
     "text": [
      "(<tf.Tensor: id=36, shape=(21, 21), dtype=float32, numpy=\n",
      "array([[ 0.00000000e+00, -2.86463827e-01,  7.75416315e-01,\n",
      "         6.37476683e-01,  2.83720255e-01, -1.60521016e-01,\n",
      "        -8.68734777e-01,  2.22689107e-01, -5.51854432e-01,\n",
      "        -6.72148108e-01, -3.95371407e-01,  2.14161962e-01,\n",
      "        -3.38761300e-01, -1.85079477e-03, -1.84801245e+00,\n",
      "         1.10947881e-02, -1.00409853e+00,  6.59667432e-01,\n",
      "        -6.11156821e-01, -8.10502172e-02,  0.00000000e+00],\n",
      "       [ 3.02626461e-01,  4.47382659e-01, -8.15012276e-01,\n",
      "         1.38714147e+00,  1.40923679e+00,  1.01461470e+00,\n",
      "         1.60536277e+00, -1.55451208e-01,  1.48682922e-01,\n",
      "        -9.76577282e-01, -1.01316535e+00, -1.29806936e-01,\n",
      "         1.66839886e+00, -1.03193510e+00,  3.66081208e-01,\n",
      "        -9.20328975e-01,  1.37256786e-01, -7.22562850e-01,\n",
      "        -9.51167226e-01,  3.42466801e-01,  3.56796086e-01],\n",
      "       [ 2.22889876e+00, -3.13999861e-01,  5.18481195e-01,\n",
      "        -2.41302489e-03,  2.23499879e-01,  2.41438627e-01,\n",
      "        -8.81504476e-01, -1.51183808e+00,  1.33261478e+00,\n",
      "        -6.06284797e-01, -1.35752589e-01,  1.20133471e+00,\n",
      "        -5.26904762e-01,  4.82033677e-02, -1.75911403e+00,\n",
      "        -4.87270266e-01, -6.43692613e-01,  2.02741802e-01,\n",
      "         2.34223455e-01, -3.01271975e-01,  7.14870691e-01],\n",
      "       [-1.03679013e+00, -1.80117869e+00,  2.33503890e+00,\n",
      "        -1.92300633e-01,  2.37779289e-01, -1.06108725e+00,\n",
      "        -9.19620097e-01,  4.23648328e-01,  5.80470599e-02,\n",
      "        -3.01111460e-01,  7.79813677e-02,  8.37329686e-01,\n",
      "        -8.23139492e-03, -9.98005033e-01,  1.14096117e+00,\n",
      "         3.60075921e-01, -7.04818070e-01,  7.74487734e-01,\n",
      "        -8.21254253e-01, -1.16821736e-01, -8.44724894e-01],\n",
      "       [-7.08726764e-01, -7.63648450e-01, -2.11349383e-01,\n",
      "        -1.72188985e+00, -9.14685071e-01, -2.31835563e-02,\n",
      "        -1.30382931e+00,  9.86668408e-01,  3.79337609e-01,\n",
      "         9.83695567e-01,  1.35046017e+00, -1.33319116e+00,\n",
      "        -9.30772126e-02, -9.22928393e-01, -1.05844688e+00,\n",
      "        -1.16364753e+00,  9.75537837e-01,  3.12852740e-01,\n",
      "         4.68453377e-01, -7.99256802e-01, -5.96861780e-01],\n",
      "       [-4.48084474e-01,  9.46996808e-02, -4.38770652e-01,\n",
      "        -6.63203776e-01,  1.95429012e-01,  1.03467059e+00,\n",
      "         1.91597521e+00, -9.20356035e-01, -6.19777977e-01,\n",
      "        -1.64749241e+00, -1.52931488e+00, -8.42585504e-01,\n",
      "         3.48585874e-01, -6.62333965e-01, -8.05605292e-01,\n",
      "         7.65224993e-01,  1.51359236e+00, -7.47248173e-01,\n",
      "        -7.67191425e-02,  4.88566756e-01,  1.14541280e+00],\n",
      "       [ 3.80333394e-01,  1.22955441e+00, -1.73823166e+00,\n",
      "         7.78171897e-01, -7.97963202e-01, -6.14731610e-01,\n",
      "         3.12817127e-01, -1.49053252e+00,  7.51136899e-01,\n",
      "        -5.81652284e-01, -4.06318277e-01,  7.15413690e-01,\n",
      "        -4.72469091e-01,  2.48518541e-01,  8.83342624e-01,\n",
      "         2.21233573e-02,  1.03290498e+00,  2.18956381e-01,\n",
      "         4.32827398e-02,  4.76178527e-01, -1.19590020e+00],\n",
      "       [ 2.08333373e+00,  7.59771943e-01,  5.63160300e-01,\n",
      "        -2.16984287e-01, -7.25804508e-01,  1.18733235e-02,\n",
      "        -7.98703730e-01, -6.09998345e-01, -6.75111413e-02,\n",
      "         3.75135809e-01, -1.23631144e+00,  3.81684932e-03,\n",
      "         9.78230953e-01, -3.15706551e-01, -7.98296750e-01,\n",
      "         8.67448926e-01, -2.07143211e+00, -3.29966140e+00,\n",
      "        -3.95583093e-01, -4.92799878e-01, -1.21354854e+00],\n",
      "       [ 1.05230021e+00, -5.73032439e-01,  1.87276468e-01,\n",
      "        -7.37165391e-01,  3.14823151e-01,  4.06676710e-01,\n",
      "        -6.22540772e-01,  4.23212707e-01, -7.84216404e-01,\n",
      "        -1.46011972e+00, -2.41803122e+00, -1.05904019e+00,\n",
      "        -3.50670636e-01,  3.41133296e-01,  5.03318608e-01,\n",
      "        -1.48383617e+00, -1.43198311e+00,  1.30903733e+00,\n",
      "         2.74169128e-02, -8.90877992e-02,  6.25865102e-01],\n",
      "       [ 1.69793129e+00, -4.55835104e-01,  1.09516251e+00,\n",
      "        -1.25838864e+00,  1.45730531e+00,  3.69403183e-01,\n",
      "         3.46254587e-01, -8.85597587e-01, -7.76333869e-01,\n",
      "        -1.96109012e-01, -2.44628608e-01,  3.82790007e-02,\n",
      "         9.74174559e-01, -6.95305020e-02, -8.28668177e-02,\n",
      "        -9.32380795e-01, -4.77195717e-02, -9.42445993e-01,\n",
      "        -8.77087593e-01,  6.66232526e-01, -1.71830684e-01],\n",
      "       [ 1.30165443e-01,  4.87006158e-01, -1.70658684e+00,\n",
      "         1.27368855e+00, -3.24165821e-01, -1.05482554e+00,\n",
      "         2.68730116e+00,  1.56334770e+00, -8.06460008e-02,\n",
      "        -1.38846326e+00,  1.60025573e+00,  2.57310510e-01,\n",
      "         9.23367679e-01,  1.47915876e+00,  6.61782026e-01,\n",
      "         1.39981878e+00, -6.32564604e-01,  4.82499391e-01,\n",
      "        -2.17130959e-01,  8.64188492e-01, -9.17562723e-01],\n",
      "       [ 6.88984767e-02, -1.23867846e+00,  8.58002424e-01,\n",
      "        -3.82522613e-01, -3.13035041e-01, -1.04953289e+00,\n",
      "        -7.01163650e-01,  6.71861351e-01,  1.08196485e+00,\n",
      "         1.05592191e+00,  4.54640239e-01,  2.08736467e+00,\n",
      "         6.31566346e-01,  2.60490626e-01, -1.85383081e-01,\n",
      "        -8.37009251e-01, -1.40582359e+00,  1.35127246e+00,\n",
      "        -1.01026559e+00,  4.25817698e-01, -2.61699677e-01],\n",
      "       [-3.52877229e-01,  4.15470153e-01, -7.97240078e-01,\n",
      "         2.51896787e+00, -2.00020266e+00,  4.71924216e-01,\n",
      "         8.71353924e-01,  9.35067296e-01,  7.25178838e-01,\n",
      "        -7.82871902e-01,  1.45966959e+00, -3.40896584e-02,\n",
      "        -1.23846614e+00, -4.65978235e-01,  8.67966950e-01,\n",
      "         8.37730587e-01,  9.31872055e-02, -1.15915704e+00,\n",
      "         2.76504278e-01,  8.48937213e-01, -1.24086790e-01],\n",
      "       [ 8.70214820e-01,  9.09958839e-01, -4.91893232e-01,\n",
      "         2.78621614e-01, -6.45652175e-01, -1.01697075e+00,\n",
      "        -1.45511007e+00, -1.15739369e+00, -1.92944452e-01,\n",
      "         1.67684928e-02, -3.01145673e-01, -3.43561649e-01,\n",
      "        -5.69040895e-01, -5.02617121e-01,  7.97969222e-01,\n",
      "        -1.21612680e+00,  1.36852705e+00,  1.99427927e+00,\n",
      "        -7.63034225e-01, -5.44286132e-01, -1.72535825e+00],\n",
      "       [-1.38607252e+00, -6.80511117e-01,  1.12804942e-01,\n",
      "         7.13726044e-01,  1.26353788e+00,  4.06560481e-01,\n",
      "         8.10634792e-01,  1.04289949e+00, -1.09638143e+00,\n",
      "        -3.77469748e-01, -3.67805809e-02,  5.18493176e-01,\n",
      "        -1.66403219e-01, -1.63679028e+00, -5.65713286e-01,\n",
      "         1.02474093e+00, -4.01423901e-01,  2.47489899e-01,\n",
      "        -4.91190255e-01, -1.46906346e-01,  1.01716304e+00],\n",
      "       [ 3.96090150e-01,  1.30306229e-01, -1.73141789e+00,\n",
      "         1.54041231e+00,  2.58914322e-01,  1.82301924e-02,\n",
      "        -5.12143411e-03,  8.37109208e-01, -3.15013379e-02,\n",
      "        -3.45804483e-01,  1.08973205e-01,  7.11333752e-01,\n",
      "        -1.74846783e-01, -1.99709252e-01, -9.55106411e-03,\n",
      "        -7.28685558e-01,  8.21082145e-02,  1.69423342e-01,\n",
      "         1.62513983e+00,  4.42904048e-02,  3.81173581e-01],\n",
      "       [ 1.96901575e-01, -1.43090382e-01, -9.90528613e-02,\n",
      "        -6.28079712e-01, -2.93207560e-02, -1.41181302e+00,\n",
      "        -1.43078268e+00,  2.84574598e-01, -1.03656626e+00,\n",
      "        -1.38604867e+00,  1.14265347e+00, -7.15537816e-02,\n",
      "        -1.73207045e+00,  7.35691547e-01,  1.06024277e+00,\n",
      "        -5.67457139e-01, -6.67951584e-01, -5.77313080e-02,\n",
      "         7.71728456e-02, -1.23107292e-01, -1.97494197e+00],\n",
      "       [ 8.95858586e-01,  6.49685323e-01,  3.93662304e-01,\n",
      "         1.65485966e+00,  4.61380631e-01, -6.62557662e-01,\n",
      "        -3.79077762e-01, -5.47205091e-01, -1.22365153e+00,\n",
      "         2.46283978e-01, -7.67301679e-01,  2.78630710e+00,\n",
      "        -1.06689550e-01, -8.77791405e-01, -2.46964526e+00,\n",
      "         1.51531398e-01, -2.68480420e-01, -1.83233547e+00,\n",
      "        -1.49508393e+00,  5.59740007e-01,  6.65448666e-01],\n",
      "       [ 3.11262578e-01,  3.41718458e-02,  7.97040820e-01,\n",
      "        -6.72562957e-01, -6.55794263e-01,  1.09640646e+00,\n",
      "         1.58960223e-01, -1.42294407e-01,  6.93248093e-01,\n",
      "         8.70799124e-01, -6.50567710e-02, -1.03717971e+00,\n",
      "        -4.30249989e-01, -3.42034698e-01,  1.99112892e-01,\n",
      "        -6.26863658e-01, -5.99243701e-01, -7.39697576e-01,\n",
      "         5.24781466e-01, -2.36462474e-01,  8.99477154e-02],\n",
      "       [-1.87746537e+00, -1.11903155e+00, -1.10593486e+00,\n",
      "        -3.65621597e-01,  9.56477702e-01, -1.40455171e-01,\n",
      "        -1.58361745e+00,  5.62159300e-01,  1.52889454e+00,\n",
      "         6.91580415e-01, -5.00557542e-01, -3.15320790e-01,\n",
      "        -2.40660119e+00, -6.47913456e-01,  2.00303614e-01,\n",
      "        -7.15059340e-01, -1.44602978e+00,  1.53546095e+00,\n",
      "        -6.12115264e-01, -9.20781970e-01, -9.26479936e-01],\n",
      "       [ 0.00000000e+00,  1.30643129e+00,  6.81358755e-01,\n",
      "        -6.10033035e-01,  4.81530339e-01,  7.82470822e-01,\n",
      "         4.21996951e-01, -1.15014768e+00,  9.14795175e-02,\n",
      "        -9.84157801e-01, -1.32544446e+00,  9.51871216e-01,\n",
      "        -1.57702017e+00,  1.59346557e+00, -5.93345277e-02,\n",
      "         6.53236359e-02, -3.33291329e-02, -4.91505452e-02,\n",
      "         1.29017144e-01,  1.73854005e+00,  0.00000000e+00]], dtype=float32)>,\n",
      " <tf.Tensor: id=37, shape=(), dtype=bool, numpy=False>)\n",
      "(<tf.Tensor: id=38, shape=(21, 21), dtype=float32, numpy=\n",
      "array([[ 0.        , -1.8328111 , -0.9377952 , -1.3366361 ,  1.158195  ,\n",
      "        -1.2143002 ,  2.1192636 ,  0.64490974,  0.36036214,  0.7442587 ,\n",
      "         0.10672393,  0.02541544,  1.1295785 , -1.410168  ,  1.3962358 ,\n",
      "         0.9090848 , -0.01588914, -1.044517  ,  1.5070051 , -1.4177594 ,\n",
      "         0.        ],\n",
      "       [-0.45450726,  0.11229979, -0.74805087,  1.0262796 ,  0.97720486,\n",
      "        -1.5070456 , -1.0329227 , -0.896299  , -3.0440712 , -0.07827795,\n",
      "        -0.8392026 ,  0.79224247,  0.01638597, -0.9841446 ,  0.19677885,\n",
      "         1.1430651 , -1.127804  ,  1.0253999 ,  0.9697476 , -0.48520064,\n",
      "        -0.5200742 ],\n",
      "       [ 0.35042602, -0.98086077, -1.6079288 ,  1.4960915 , -0.00693142,\n",
      "        -1.1705208 , -0.5352437 ,  0.27918252, -1.8706183 ,  0.4674205 ,\n",
      "         0.5617416 ,  0.67322654,  0.41644508, -0.9836346 , -1.7106845 ,\n",
      "         0.9397155 ,  1.417759  ,  0.56342643,  0.87822974, -1.8131043 ,\n",
      "        -0.9667805 ],\n",
      "       [ 0.11909835,  1.4159485 ,  0.85579985, -0.84665865, -0.04976838,\n",
      "        -0.2296175 , -2.0930865 , -0.375832  ,  0.84894   ,  2.0477653 ,\n",
      "         0.95258963,  2.5096364 , -1.3656024 , -0.7425214 , -1.45644   ,\n",
      "        -0.68868846, -1.0360477 ,  0.08072366, -0.12120619, -0.22659796,\n",
      "        -0.00824588],\n",
      "       [ 0.4383103 ,  1.3341223 ,  0.48949662, -0.89771825, -1.6985061 ,\n",
      "        -3.0669322 , -1.4687703 , -0.26475245, -1.9267132 , -0.31082338,\n",
      "         0.16921712, -0.39712974,  1.5076216 , -0.04451711, -0.05877111,\n",
      "        -1.3957765 , -0.128331  ,  0.05362389, -0.09891495,  0.00873837,\n",
      "        -0.5176857 ],\n",
      "       [ 0.45594868, -0.13511518, -0.8129139 , -0.32802898,  0.7537285 ,\n",
      "         0.28939152,  1.2939794 ,  2.553815  ,  1.0702167 , -1.6245593 ,\n",
      "        -0.17109196, -0.29446083, -0.28681087,  0.00591831, -0.34112218,\n",
      "        -0.1861836 , -1.2793033 , -0.43265465, -1.0866739 ,  0.6393895 ,\n",
      "        -0.06879336],\n",
      "       [-0.16773346, -1.3954629 ,  0.11728019,  0.54710746, -1.3514631 ,\n",
      "        -1.1067485 ,  0.09834646, -0.20873466,  0.9006717 ,  1.3364073 ,\n",
      "         1.2291348 ,  0.7448272 ,  1.3289403 , -0.53708315, -0.09477028,\n",
      "         0.68019164, -0.22069907, -0.7358668 ,  0.76399964,  2.5172198 ,\n",
      "         0.9145471 ],\n",
      "       [ 0.915085  , -1.0146378 ,  0.01854763,  0.1550672 , -0.43254825,\n",
      "         0.08967809,  0.5046887 ,  0.314049  , -0.82910615, -1.5237892 ,\n",
      "         0.3183692 ,  0.0086474 ,  0.9338991 ,  0.26637775, -0.61371505,\n",
      "         0.6397899 ,  0.59033525,  1.6137943 ,  1.2049279 , -1.3134105 ,\n",
      "        -0.83130425],\n",
      "       [ 1.935228  ,  0.7912223 , -0.5624042 ,  0.21390265, -0.44782376,\n",
      "        -0.87163854, -0.67158395, -0.01235919,  1.0278434 ,  0.27891853,\n",
      "         0.9284791 , -0.5272588 ,  0.7109945 , -0.01438261, -0.5971784 ,\n",
      "         2.0086513 ,  1.8201032 , -0.34515342, -0.85856205,  0.1841769 ,\n",
      "         2.1346576 ],\n",
      "       [-1.1061156 ,  0.08629022, -0.598636  ,  2.3620667 , -0.7117725 ,\n",
      "         1.9946287 ,  0.48244995,  0.9640794 , -1.8179545 , -0.69741994,\n",
      "        -1.3652626 ,  0.24281241, -1.148113  , -0.6156101 ,  0.8937078 ,\n",
      "        -0.7684799 ,  0.34644127,  1.7340504 ,  0.75419325,  0.6359252 ,\n",
      "        -0.538001  ],\n",
      "       [-0.9682196 ,  0.03164057, -0.8246548 , -0.21318267,  1.0779433 ,\n",
      "         0.3652144 , -1.7458518 , -0.35737392,  1.2274477 ,  0.05098593,\n",
      "         0.12275603,  0.15638708, -1.2794989 ,  0.85254264, -0.62284964,\n",
      "         2.1229398 , -1.6470387 ,  0.26120004, -0.45394036, -1.3954216 ,\n",
      "         0.13192455],\n",
      "       [ 0.6804715 ,  0.82029694,  1.0239685 ,  0.0145021 , -0.10347641,\n",
      "        -0.21276242,  0.9607663 ,  1.7589118 , -0.08322912,  0.27495706,\n",
      "         1.8029573 , -1.6043764 ,  0.20428693, -1.7042847 , -1.9869641 ,\n",
      "        -0.4063247 ,  2.0018723 ,  0.03090403,  0.6678107 , -1.8125528 ,\n",
      "        -0.72813046],\n",
      "       [ 0.9405996 , -2.0887532 , -0.68236053,  0.9255301 , -0.5178147 ,\n",
      "        -0.98641294, -0.40263408, -1.7230506 ,  0.5928753 ,  0.64636624,\n",
      "        -1.2172434 ,  0.79479057,  1.8618569 , -0.44808292, -0.29074487,\n",
      "        -1.4214242 , -0.1307079 , -0.17451274,  0.02753985,  1.8997287 ,\n",
      "        -1.2906299 ],\n",
      "       [ 1.4970031 , -0.17516951,  3.102181  , -0.19996743, -1.4038267 ,\n",
      "        -0.68489176,  0.22025159,  0.80644155, -0.96408784,  1.3568937 ,\n",
      "        -1.8125267 , -0.61981314, -0.04094435,  0.04693038, -0.9477028 ,\n",
      "         0.23383643,  1.7979008 , -0.39136618,  0.10714769, -2.591334  ,\n",
      "        -0.5588997 ],\n",
      "       [-0.37358242,  0.7059083 , -1.3427483 , -0.1300787 , -0.661847  ,\n",
      "         1.0103415 ,  0.41963685,  1.3341053 ,  0.29316312, -1.2093989 ,\n",
      "         0.39623812,  1.3489233 ,  0.09781774,  0.10804143,  0.7431923 ,\n",
      "         0.02466212, -0.6481152 , -0.16559963, -0.80645335, -1.3020588 ,\n",
      "        -0.601679  ],\n",
      "       [ 0.25960344, -0.1019771 , -0.20256035,  0.6766155 , -0.46461445,\n",
      "         0.17326666,  1.0123693 ,  0.7227873 ,  1.2332056 , -1.0779396 ,\n",
      "        -1.4594833 , -0.56611186, -0.83138084,  0.7046583 , -0.04490442,\n",
      "         1.9447739 , -1.4038297 ,  0.771549  , -2.1654522 ,  1.5800697 ,\n",
      "        -0.9247137 ],\n",
      "       [-0.9809749 ,  0.30938256,  0.0290158 , -0.8201885 , -2.0105484 ,\n",
      "         1.094522  , -0.17782077, -0.4510108 , -1.9152112 , -1.1886603 ,\n",
      "         0.41141742, -0.3601617 ,  0.07368234, -1.7493289 ,  0.7298143 ,\n",
      "         0.03465259,  2.0129306 , -1.0758587 , -0.5152022 ,  1.1170275 ,\n",
      "        -0.50981194],\n",
      "       [ 0.07302511, -1.1860269 , -2.3468127 ,  1.0085614 ,  1.3785588 ,\n",
      "        -0.6024686 ,  1.1595533 ,  0.5587201 ,  0.2805379 ,  0.66339976,\n",
      "         0.3098166 ,  0.7971109 ,  1.9499972 ,  0.18539266, -1.6573982 ,\n",
      "        -0.21026772, -0.614803  ,  0.61376625,  0.1576499 ,  1.894166  ,\n",
      "         0.08678792],\n",
      "       [-0.37176824,  0.49254245, -0.6001421 , -1.1226168 ,  0.1510567 ,\n",
      "        -0.3581519 , -0.22512771,  0.610283  ,  0.5846502 , -0.41570005,\n",
      "         0.865709  ,  1.266262  , -0.8519046 , -1.0609562 ,  1.083003  ,\n",
      "        -0.5968277 ,  0.9391275 , -1.9172571 , -1.9084517 ,  0.3580548 ,\n",
      "        -1.4744549 ],\n",
      "       [ 1.5611508 , -1.4930031 ,  0.06215609, -0.61377263, -0.3025394 ,\n",
      "         0.08119303,  0.66219157,  0.18987267,  1.0404408 , -0.5742499 ,\n",
      "         2.0249739 , -0.15564546,  0.00623256,  0.08622792,  1.6754558 ,\n",
      "        -2.5985224 , -0.6764417 ,  1.0279002 , -0.8281827 , -2.2379181 ,\n",
      "         1.6800631 ],\n",
      "       [ 0.        ,  1.3102617 ,  0.15126291, -0.20380941,  0.78986776,\n",
      "         0.23472017,  1.8008516 , -1.0174583 ,  1.4307718 ,  0.1996175 ,\n",
      "        -0.16572592, -0.88174975, -0.4800984 , -1.0616136 ,  0.05333297,\n",
      "        -0.42256302,  0.21008281, -1.0163555 , -0.4876761 , -1.7182052 ,\n",
      "         0.        ]], dtype=float32)>,\n",
      " <tf.Tensor: id=39, shape=(), dtype=bool, numpy=False>)\n"
     ]
    }
   ],
   "source": [
    "for item in dataset.take(2):\n",
    "    pprint(item)"
   ]
  },
  {
   "cell_type": "code",
   "execution_count": 16,
   "metadata": {},
   "outputs": [
    {
     "data": {
      "image/png": "[encoded data removed]",
      "text/plain": [
       "<Figure size 1512x1512 with 5 Axes>"
      ]
     },
     "metadata": {
      "needs_background": "light"
     },
     "output_type": "display_data"
    }
   ],
   "source": [
    "visualize_dataset(dataset, n, num_examples=5)"
   ]
  },
  {
   "cell_type": "markdown",
   "metadata": {},
   "source": [
    "## Classifying Harmonic Functions. Expert Makes the Trained Net. $n=2$\n",
    "\n",
    "Cheating: Giving the net the answer.  We need two nodes in the hidden layer with relu activations so that we can enforce that the value at the middle points is the average of the values at the surrounding points.  Each node penalizes the middle point for being either above or below the average."
   ]
  },
  {
   "cell_type": "code",
   "execution_count": 17,
   "metadata": {},
   "outputs": [],
   "source": [
    "n=2\n",
    "dataset = tf.data.Dataset.from_generator(harmonic_data_generator, \n",
    "                                         args=[n], \n",
    "                                         output_types=(tf.float32, tf.bool), \n",
    "                                         output_shapes = ((n+1,n+1), ()))\n",
    "\n",
    "dense_weights = np.array([[0., 0.],\n",
    "                          [.25, -.25],\n",
    "                          [0., 0.],\n",
    "                          [.25, -.25],\n",
    "                          [-1.,  1.],\n",
    "                          [.25, -.25],\n",
    "                          [0., 0.],\n",
    "                          [.25, -.25],\n",
    "                          [0., 0.]])\n",
    "dense_bias = np.array([0., 0.])\n",
    "                         \n",
    "output_weights = np.array([-1000, -1000])\n",
    "output_bias = np.array([10.])"
   ]
  },
  {
   "cell_type": "code",
   "execution_count": 18,
   "metadata": {},
   "outputs": [],
   "source": [
    "dense_initializer = tf.keras.initializers.Constant(value=dense_weights)\n",
    "dense_bias_initializer = tf.keras.initializers.Constant(value=dense_bias)\n",
    "dense_layer = tf.keras.layers.Dense(2, \n",
    "                                    input_shape=(9,), \n",
    "                                    kernel_initializer=dense_initializer, \n",
    "                                    bias_initializer=dense_bias_initializer, \n",
    "                                    activation='relu')"
   ]
  },
  {
   "cell_type": "code",
   "execution_count": 19,
   "metadata": {},
   "outputs": [],
   "source": [
    "output_initializer = tf.keras.initializers.Constant(value=output_weights)\n",
    "output_bias_initializer = tf.keras.initializers.Constant(value=output_bias)\n",
    "output_layer = tf.keras.layers.Dense(1, \n",
    "                                     kernel_initializer=output_initializer, \n",
    "                                     bias_initializer=output_bias_initializer,\n",
    "                                     activation='sigmoid')"
   ]
  },
  {
   "cell_type": "code",
   "execution_count": 20,
   "metadata": {},
   "outputs": [],
   "source": [
    "model = tf.keras.Sequential([tf.keras.layers.Flatten(input_shape=(n+1,n+1)),\n",
    "                             dense_layer, output_layer],\n",
    "                             name=\"expert\")"
   ]
  },
  {
   "cell_type": "code",
   "execution_count": 21,
   "metadata": {},
   "outputs": [],
   "source": [
    "model.compile(optimizer='adam',\n",
    "              loss='binary_crossentropy',\n",
    "              metrics=['accuracy'])"
   ]
  },
  {
   "cell_type": "code",
   "execution_count": 22,
   "metadata": {},
   "outputs": [
    {
     "name": "stdout",
     "output_type": "stream",
     "text": [
      "Model: \"expert\"\n",
      "_________________________________________________________________\n",
      "Layer (type)                 Output Shape              Param #   \n",
      "=================================================================\n",
      "flatten (Flatten)            (None, 9)                 0         \n",
      "_________________________________________________________________\n",
      "dense (Dense)                (None, 2)                 20        \n",
      "_________________________________________________________________\n",
      "dense_1 (Dense)              (None, 1)                 3         \n",
      "=================================================================\n",
      "Total params: 23\n",
      "Trainable params: 23\n",
      "Non-trainable params: 0\n",
      "_________________________________________________________________\n"
     ]
    }
   ],
   "source": [
    "model.summary()"
   ]
  },
  {
   "cell_type": "code",
   "execution_count": 23,
   "metadata": {},
   "outputs": [
    {
     "name": "stdout",
     "output_type": "stream",
     "text": [
      "Train for 10 steps\n",
      "Epoch 1/2\n",
      "10/10 [==============================] - 1s 90ms/step - loss: 0.0331 - accuracy: 0.9953\n",
      "Epoch 2/2\n",
      "10/10 [==============================] - 0s 15ms/step - loss: 0.0421 - accuracy: 0.9937\n"
     ]
    }
   ],
   "source": [
    "h = model.fit(dataset.batch(64), epochs=2, steps_per_epoch=10)"
   ]
  },
  {
   "cell_type": "markdown",
   "metadata": {},
   "source": [
    "As we can see, the net performs well immediately and has been unchanged by the training"
   ]
  },
  {
   "cell_type": "code",
   "execution_count": 34,
   "metadata": {},
   "outputs": [
    {
     "data": {
      "text/plain": [
       "[<tf.Variable 'dense/kernel:0' shape=(9, 2) dtype=float32, numpy=\n",
       " array([[ 0.        ,  0.        ],\n",
       "        [ 0.2482706 , -0.25002673],\n",
       "        [ 0.        ,  0.        ],\n",
       "        [ 0.25034   , -0.24957444],\n",
       "        [-1.0006437 ,  1.0002809 ],\n",
       "        [ 0.25108224, -0.24949399],\n",
       "        [ 0.        ,  0.        ],\n",
       "        [ 0.2494172 , -0.25028685],\n",
       "        [ 0.        ,  0.        ]], dtype=float32)>,\n",
       " <tf.Variable 'dense/bias:0' shape=(2,) dtype=float32, numpy=array([-0.00355929,  0.00305841], dtype=float32)>]"
      ]
     },
     "execution_count": 34,
     "metadata": {},
     "output_type": "execute_result"
    }
   ],
   "source": [
    "model.layers[1].weights"
   ]
  },
  {
   "cell_type": "code",
   "execution_count": 35,
   "metadata": {},
   "outputs": [
    {
     "data": {
      "text/plain": [
       "[<tf.Variable 'dense_1/kernel:0' shape=(2, 1) dtype=float32, numpy=\n",
       " array([[-1000.0006],\n",
       "        [ -999.9977]], dtype=float32)>,\n",
       " <tf.Variable 'dense_1/bias:0' shape=(1,) dtype=float32, numpy=array([9.993296], dtype=float32)>]"
      ]
     },
     "execution_count": 35,
     "metadata": {},
     "output_type": "execute_result"
    }
   ],
   "source": [
    "model.layers[2].weights"
   ]
  },
  {
   "cell_type": "markdown",
   "metadata": {},
   "source": [
    "## Classifying Harmonic Functions. Net has Minimal Nodes, $n=2$\n",
    "\n",
    "Here we use the same structure of net as above, but with random initialization.  If run for enough time, it eventually solves the problem. If one of the hidden nodes figures out half of the mean value property, it results in a big, sudden jump in performance of the net. \n",
    "\n",
    "In this particular run, the jumps in performance are around Epochs 8 and 26.  After both jumps are made, I believe the improvement is the net gaining confidence in these nodes (the output weights increasing in magnitude)."
   ]
  },
  {
   "cell_type": "code",
   "execution_count": 24,
   "metadata": {},
   "outputs": [],
   "source": [
    "n=2"
   ]
  },
  {
   "cell_type": "code",
   "execution_count": 25,
   "metadata": {},
   "outputs": [],
   "source": [
    "dataset = tf.data.Dataset.from_generator(harmonic_data_generator, \n",
    "                                         args=[n], \n",
    "                                         output_types=(tf.float32, tf.bool), \n",
    "                                         output_shapes = ((n+1, n+1), ()))"
   ]
  },
  {
   "cell_type": "code",
   "execution_count": 26,
   "metadata": {},
   "outputs": [],
   "source": [
    "dense_layer = tf.keras.layers.Dense(2, \n",
    "                                    input_shape=((n+1)**2,),\n",
    "                                    activation='relu')"
   ]
  },
  {
   "cell_type": "code",
   "execution_count": 27,
   "metadata": {},
   "outputs": [],
   "source": [
    "output_layer = tf.keras.layers.Dense(1,\n",
    "                                     activation='sigmoid')"
   ]
  },
  {
   "cell_type": "code",
   "execution_count": 28,
   "metadata": {
    "scrolled": true
   },
   "outputs": [],
   "source": [
    "model = tf.keras.Sequential([tf.keras.layers.Flatten(input_shape=(n+1,n+1)),\n",
    "                             dense_layer, output_layer],\n",
    "                            name=\"minimal\")"
   ]
  },
  {
   "cell_type": "code",
   "execution_count": 29,
   "metadata": {},
   "outputs": [],
   "source": [
    "model.compile(optimizer='adam',\n",
    "              loss='binary_crossentropy',\n",
    "              metrics=['accuracy'])"
   ]
  },
  {
   "cell_type": "code",
   "execution_count": 30,
   "metadata": {},
   "outputs": [
    {
     "name": "stdout",
     "output_type": "stream",
     "text": [
      "Model: \"minimal\"\n",
      "_________________________________________________________________\n",
      "Layer (type)                 Output Shape              Param #   \n",
      "=================================================================\n",
      "flatten_1 (Flatten)          (None, 9)                 0         \n",
      "_________________________________________________________________\n",
      "dense_2 (Dense)              (None, 2)                 20        \n",
      "_________________________________________________________________\n",
      "dense_3 (Dense)              (None, 1)                 3         \n",
      "=================================================================\n",
      "Total params: 23\n",
      "Trainable params: 23\n",
      "Non-trainable params: 0\n",
      "_________________________________________________________________\n"
     ]
    }
   ],
   "source": [
    "model.summary()"
   ]
  },
  {
   "cell_type": "code",
   "execution_count": 31,
   "metadata": {},
   "outputs": [
    {
     "name": "stdout",
     "output_type": "stream",
     "text": [
      "Train for 100 steps\n",
      "Epoch 1/50\n",
      "100/100 [==============================] - 2s 18ms/step - loss: 0.7431 - accuracy: 0.4936\n",
      "Epoch 2/50\n",
      "100/100 [==============================] - 1s 13ms/step - loss: 0.7151 - accuracy: 0.5056\n",
      "Epoch 3/50\n",
      "100/100 [==============================] - 1s 13ms/step - loss: 0.7001 - accuracy: 0.5280\n",
      "Epoch 4/50\n",
      "100/100 [==============================] - 1s 14ms/step - loss: 0.6806 - accuracy: 0.5680\n",
      "Epoch 5/50\n",
      "100/100 [==============================] - 1s 13ms/step - loss: 0.6659 - accuracy: 0.6023\n",
      "Epoch 6/50\n",
      "100/100 [==============================] - 1s 13ms/step - loss: 0.6414 - accuracy: 0.6488\n",
      "Epoch 7/50\n",
      "100/100 [==============================] - 1s 13ms/step - loss: 0.6219 - accuracy: 0.6733\n",
      "Epoch 8/50\n",
      "100/100 [==============================] - 1s 14ms/step - loss: 0.6066 - accuracy: 0.6897\n",
      "Epoch 9/50\n",
      "100/100 [==============================] - 1s 14ms/step - loss: 0.5914 - accuracy: 0.7056\n",
      "Epoch 10/50\n",
      "100/100 [==============================] - 1s 14ms/step - loss: 0.5752 - accuracy: 0.7248\n",
      "Epoch 11/50\n",
      "100/100 [==============================] - 1s 14ms/step - loss: 0.5689 - accuracy: 0.7236\n",
      "Epoch 12/50\n",
      "100/100 [==============================] - 1s 14ms/step - loss: 0.5516 - accuracy: 0.7477\n",
      "Epoch 13/50\n",
      "100/100 [==============================] - 1s 13ms/step - loss: 0.5473 - accuracy: 0.7542\n",
      "Epoch 14/50\n",
      "100/100 [==============================] - 1s 14ms/step - loss: 0.5233 - accuracy: 0.7977\n",
      "Epoch 15/50\n",
      "100/100 [==============================] - 1s 13ms/step - loss: 0.5000 - accuracy: 0.8314\n",
      "Epoch 16/50\n",
      "100/100 [==============================] - 1s 14ms/step - loss: 0.4656 - accuracy: 0.8741\n",
      "Epoch 17/50\n",
      "100/100 [==============================] - 1s 14ms/step - loss: 0.4309 - accuracy: 0.8895\n",
      "Epoch 18/50\n",
      "100/100 [==============================] - 1s 14ms/step - loss: 0.4032 - accuracy: 0.8983\n",
      "Epoch 19/50\n",
      "100/100 [==============================] - 1s 13ms/step - loss: 0.3863 - accuracy: 0.8958\n",
      "Epoch 20/50\n",
      "100/100 [==============================] - 1s 14ms/step - loss: 0.3677 - accuracy: 0.9120\n",
      "Epoch 21/50\n",
      "100/100 [==============================] - 1s 14ms/step - loss: 0.3489 - accuracy: 0.9111\n",
      "Epoch 22/50\n",
      "100/100 [==============================] - 1s 14ms/step - loss: 0.3346 - accuracy: 0.9111\n",
      "Epoch 23/50\n",
      "100/100 [==============================] - 1s 14ms/step - loss: 0.3249 - accuracy: 0.9128\n",
      "Epoch 24/50\n",
      "100/100 [==============================] - 1s 14ms/step - loss: 0.3111 - accuracy: 0.9119\n",
      "Epoch 25/50\n",
      "100/100 [==============================] - 1s 15ms/step - loss: 0.2992 - accuracy: 0.9156\n",
      "Epoch 26/50\n",
      " 71/100 [====================>.........] - ETA: 0s - loss: 0.2938 - accuracy: 0.9157"
     ]
    },
    {
     "ename": "KeyboardInterrupt",
     "evalue": "",
     "output_type": "error",
     "traceback": [
      "\u001b[0;31m---------------------------------------------------------------------------\u001b[0m",
      "\u001b[0;31mKeyboardInterrupt\u001b[0m                         Traceback (most recent call last)",
      "\u001b[0;32m<ipython-input-31-fc9841402293>\u001b[0m in \u001b[0;36m<module>\u001b[0;34m\u001b[0m\n\u001b[0;32m----> 1\u001b[0;31m \u001b[0mh\u001b[0m \u001b[0;34m=\u001b[0m \u001b[0mmodel\u001b[0m\u001b[0;34m.\u001b[0m\u001b[0mfit\u001b[0m\u001b[0;34m(\u001b[0m\u001b[0mdataset\u001b[0m\u001b[0;34m.\u001b[0m\u001b[0mbatch\u001b[0m\u001b[0;34m(\u001b[0m\u001b[0;36m64\u001b[0m\u001b[0;34m)\u001b[0m\u001b[0;34m,\u001b[0m \u001b[0mepochs\u001b[0m\u001b[0;34m=\u001b[0m\u001b[0;36m50\u001b[0m\u001b[0;34m,\u001b[0m \u001b[0msteps_per_epoch\u001b[0m\u001b[0;34m=\u001b[0m\u001b[0;36m100\u001b[0m\u001b[0;34m)\u001b[0m\u001b[0;34m\u001b[0m\u001b[0;34m\u001b[0m\u001b[0m\n\u001b[0m",
      "\u001b[0;32m/opt/miniconda3/envs/oliver_tf2/lib/python3.7/site-packages/tensorflow_core/python/keras/engine/training.py\u001b[0m in \u001b[0;36mfit\u001b[0;34m(self, x, y, batch_size, epochs, verbose, callbacks, validation_split, validation_data, shuffle, class_weight, sample_weight, initial_epoch, steps_per_epoch, validation_steps, validation_freq, max_queue_size, workers, use_multiprocessing, **kwargs)\u001b[0m\n\u001b[1;32m    726\u001b[0m         \u001b[0mmax_queue_size\u001b[0m\u001b[0;34m=\u001b[0m\u001b[0mmax_queue_size\u001b[0m\u001b[0;34m,\u001b[0m\u001b[0;34m\u001b[0m\u001b[0;34m\u001b[0m\u001b[0m\n\u001b[1;32m    727\u001b[0m         \u001b[0mworkers\u001b[0m\u001b[0;34m=\u001b[0m\u001b[0mworkers\u001b[0m\u001b[0;34m,\u001b[0m\u001b[0;34m\u001b[0m\u001b[0;34m\u001b[0m\u001b[0m\n\u001b[0;32m--> 728\u001b[0;31m         use_multiprocessing=use_multiprocessing)\n\u001b[0m\u001b[1;32m    729\u001b[0m \u001b[0;34m\u001b[0m\u001b[0m\n\u001b[1;32m    730\u001b[0m   def evaluate(self,\n",
      "\u001b[0;32m/opt/miniconda3/envs/oliver_tf2/lib/python3.7/site-packages/tensorflow_core/python/keras/engine/training_v2.py\u001b[0m in \u001b[0;36mfit\u001b[0;34m(self, model, x, y, batch_size, epochs, verbose, callbacks, validation_split, validation_data, shuffle, class_weight, sample_weight, initial_epoch, steps_per_epoch, validation_steps, validation_freq, **kwargs)\u001b[0m\n\u001b[1;32m    322\u001b[0m                 \u001b[0mmode\u001b[0m\u001b[0;34m=\u001b[0m\u001b[0mModeKeys\u001b[0m\u001b[0;34m.\u001b[0m\u001b[0mTRAIN\u001b[0m\u001b[0;34m,\u001b[0m\u001b[0;34m\u001b[0m\u001b[0;34m\u001b[0m\u001b[0m\n\u001b[1;32m    323\u001b[0m                 \u001b[0mtraining_context\u001b[0m\u001b[0;34m=\u001b[0m\u001b[0mtraining_context\u001b[0m\u001b[0;34m,\u001b[0m\u001b[0;34m\u001b[0m\u001b[0;34m\u001b[0m\u001b[0m\n\u001b[0;32m--> 324\u001b[0;31m                 total_epochs=epochs)\n\u001b[0m\u001b[1;32m    325\u001b[0m             \u001b[0mcbks\u001b[0m\u001b[0;34m.\u001b[0m\u001b[0mmake_logs\u001b[0m\u001b[0;34m(\u001b[0m\u001b[0mmodel\u001b[0m\u001b[0;34m,\u001b[0m \u001b[0mepoch_logs\u001b[0m\u001b[0;34m,\u001b[0m \u001b[0mtraining_result\u001b[0m\u001b[0;34m,\u001b[0m \u001b[0mModeKeys\u001b[0m\u001b[0;34m.\u001b[0m\u001b[0mTRAIN\u001b[0m\u001b[0;34m)\u001b[0m\u001b[0;34m\u001b[0m\u001b[0;34m\u001b[0m\u001b[0m\n\u001b[1;32m    326\u001b[0m \u001b[0;34m\u001b[0m\u001b[0m\n",
      "\u001b[0;32m/opt/miniconda3/envs/oliver_tf2/lib/python3.7/site-packages/tensorflow_core/python/keras/engine/training_v2.py\u001b[0m in \u001b[0;36mrun_one_epoch\u001b[0;34m(model, iterator, execution_function, dataset_size, batch_size, strategy, steps_per_epoch, num_samples, mode, training_context, total_epochs)\u001b[0m\n\u001b[1;32m    121\u001b[0m         step=step, mode=mode, size=current_batch_size) as batch_logs:\n\u001b[1;32m    122\u001b[0m       \u001b[0;32mtry\u001b[0m\u001b[0;34m:\u001b[0m\u001b[0;34m\u001b[0m\u001b[0;34m\u001b[0m\u001b[0m\n\u001b[0;32m--> 123\u001b[0;31m         \u001b[0mbatch_outs\u001b[0m \u001b[0;34m=\u001b[0m \u001b[0mexecution_function\u001b[0m\u001b[0;34m(\u001b[0m\u001b[0miterator\u001b[0m\u001b[0;34m)\u001b[0m\u001b[0;34m\u001b[0m\u001b[0;34m\u001b[0m\u001b[0m\n\u001b[0m\u001b[1;32m    124\u001b[0m       \u001b[0;32mexcept\u001b[0m \u001b[0;34m(\u001b[0m\u001b[0mStopIteration\u001b[0m\u001b[0;34m,\u001b[0m \u001b[0merrors\u001b[0m\u001b[0;34m.\u001b[0m\u001b[0mOutOfRangeError\u001b[0m\u001b[0;34m)\u001b[0m\u001b[0;34m:\u001b[0m\u001b[0;34m\u001b[0m\u001b[0;34m\u001b[0m\u001b[0m\n\u001b[1;32m    125\u001b[0m         \u001b[0;31m# TODO(kaftan): File bug about tf function and errors.OutOfRangeError?\u001b[0m\u001b[0;34m\u001b[0m\u001b[0;34m\u001b[0m\u001b[0;34m\u001b[0m\u001b[0m\n",
      "\u001b[0;32m/opt/miniconda3/envs/oliver_tf2/lib/python3.7/site-packages/tensorflow_core/python/keras/engine/training_v2_utils.py\u001b[0m in \u001b[0;36mexecution_function\u001b[0;34m(input_fn)\u001b[0m\n\u001b[1;32m     84\u001b[0m     \u001b[0;31m# `numpy` translates Tensors to values in Eager mode.\u001b[0m\u001b[0;34m\u001b[0m\u001b[0;34m\u001b[0m\u001b[0;34m\u001b[0m\u001b[0m\n\u001b[1;32m     85\u001b[0m     return nest.map_structure(_non_none_constant_value,\n\u001b[0;32m---> 86\u001b[0;31m                               distributed_function(input_fn))\n\u001b[0m\u001b[1;32m     87\u001b[0m \u001b[0;34m\u001b[0m\u001b[0m\n\u001b[1;32m     88\u001b[0m   \u001b[0;32mreturn\u001b[0m \u001b[0mexecution_function\u001b[0m\u001b[0;34m\u001b[0m\u001b[0;34m\u001b[0m\u001b[0m\n",
      "\u001b[0;32m/opt/miniconda3/envs/oliver_tf2/lib/python3.7/site-packages/tensorflow_core/python/eager/def_function.py\u001b[0m in \u001b[0;36m__call__\u001b[0;34m(self, *args, **kwds)\u001b[0m\n\u001b[1;32m    455\u001b[0m \u001b[0;34m\u001b[0m\u001b[0m\n\u001b[1;32m    456\u001b[0m     \u001b[0mtracing_count\u001b[0m \u001b[0;34m=\u001b[0m \u001b[0mself\u001b[0m\u001b[0;34m.\u001b[0m\u001b[0m_get_tracing_count\u001b[0m\u001b[0;34m(\u001b[0m\u001b[0;34m)\u001b[0m\u001b[0;34m\u001b[0m\u001b[0;34m\u001b[0m\u001b[0m\n\u001b[0;32m--> 457\u001b[0;31m     \u001b[0mresult\u001b[0m \u001b[0;34m=\u001b[0m \u001b[0mself\u001b[0m\u001b[0;34m.\u001b[0m\u001b[0m_call\u001b[0m\u001b[0;34m(\u001b[0m\u001b[0;34m*\u001b[0m\u001b[0margs\u001b[0m\u001b[0;34m,\u001b[0m \u001b[0;34m**\u001b[0m\u001b[0mkwds\u001b[0m\u001b[0;34m)\u001b[0m\u001b[0;34m\u001b[0m\u001b[0;34m\u001b[0m\u001b[0m\n\u001b[0m\u001b[1;32m    458\u001b[0m     \u001b[0;32mif\u001b[0m \u001b[0mtracing_count\u001b[0m \u001b[0;34m==\u001b[0m \u001b[0mself\u001b[0m\u001b[0;34m.\u001b[0m\u001b[0m_get_tracing_count\u001b[0m\u001b[0;34m(\u001b[0m\u001b[0;34m)\u001b[0m\u001b[0;34m:\u001b[0m\u001b[0;34m\u001b[0m\u001b[0;34m\u001b[0m\u001b[0m\n\u001b[1;32m    459\u001b[0m       \u001b[0mself\u001b[0m\u001b[0;34m.\u001b[0m\u001b[0m_call_counter\u001b[0m\u001b[0;34m.\u001b[0m\u001b[0mcalled_without_tracing\u001b[0m\u001b[0;34m(\u001b[0m\u001b[0;34m)\u001b[0m\u001b[0;34m\u001b[0m\u001b[0;34m\u001b[0m\u001b[0m\n",
      "\u001b[0;32m/opt/miniconda3/envs/oliver_tf2/lib/python3.7/site-packages/tensorflow_core/python/eager/def_function.py\u001b[0m in \u001b[0;36m_call\u001b[0;34m(self, *args, **kwds)\u001b[0m\n\u001b[1;32m    485\u001b[0m       \u001b[0;31m# In this case we have created variables on the first call, so we run the\u001b[0m\u001b[0;34m\u001b[0m\u001b[0;34m\u001b[0m\u001b[0;34m\u001b[0m\u001b[0m\n\u001b[1;32m    486\u001b[0m       \u001b[0;31m# defunned version which is guaranteed to never create variables.\u001b[0m\u001b[0;34m\u001b[0m\u001b[0;34m\u001b[0m\u001b[0;34m\u001b[0m\u001b[0m\n\u001b[0;32m--> 487\u001b[0;31m       \u001b[0;32mreturn\u001b[0m \u001b[0mself\u001b[0m\u001b[0;34m.\u001b[0m\u001b[0m_stateless_fn\u001b[0m\u001b[0;34m(\u001b[0m\u001b[0;34m*\u001b[0m\u001b[0margs\u001b[0m\u001b[0;34m,\u001b[0m \u001b[0;34m**\u001b[0m\u001b[0mkwds\u001b[0m\u001b[0;34m)\u001b[0m  \u001b[0;31m# pylint: disable=not-callable\u001b[0m\u001b[0;34m\u001b[0m\u001b[0;34m\u001b[0m\u001b[0m\n\u001b[0m\u001b[1;32m    488\u001b[0m     \u001b[0;32melif\u001b[0m \u001b[0mself\u001b[0m\u001b[0;34m.\u001b[0m\u001b[0m_stateful_fn\u001b[0m \u001b[0;32mis\u001b[0m \u001b[0;32mnot\u001b[0m \u001b[0;32mNone\u001b[0m\u001b[0;34m:\u001b[0m\u001b[0;34m\u001b[0m\u001b[0;34m\u001b[0m\u001b[0m\n\u001b[1;32m    489\u001b[0m       \u001b[0;31m# Release the lock early so that multiple threads can perform the call\u001b[0m\u001b[0;34m\u001b[0m\u001b[0;34m\u001b[0m\u001b[0;34m\u001b[0m\u001b[0m\n",
      "\u001b[0;32m/opt/miniconda3/envs/oliver_tf2/lib/python3.7/site-packages/tensorflow_core/python/eager/function.py\u001b[0m in \u001b[0;36m__call__\u001b[0;34m(self, *args, **kwargs)\u001b[0m\n\u001b[1;32m   1821\u001b[0m     \u001b[0;34m\"\"\"Calls a graph function specialized to the inputs.\"\"\"\u001b[0m\u001b[0;34m\u001b[0m\u001b[0;34m\u001b[0m\u001b[0m\n\u001b[1;32m   1822\u001b[0m     \u001b[0mgraph_function\u001b[0m\u001b[0;34m,\u001b[0m \u001b[0margs\u001b[0m\u001b[0;34m,\u001b[0m \u001b[0mkwargs\u001b[0m \u001b[0;34m=\u001b[0m \u001b[0mself\u001b[0m\u001b[0;34m.\u001b[0m\u001b[0m_maybe_define_function\u001b[0m\u001b[0;34m(\u001b[0m\u001b[0margs\u001b[0m\u001b[0;34m,\u001b[0m \u001b[0mkwargs\u001b[0m\u001b[0;34m)\u001b[0m\u001b[0;34m\u001b[0m\u001b[0;34m\u001b[0m\u001b[0m\n\u001b[0;32m-> 1823\u001b[0;31m     \u001b[0;32mreturn\u001b[0m \u001b[0mgraph_function\u001b[0m\u001b[0;34m.\u001b[0m\u001b[0m_filtered_call\u001b[0m\u001b[0;34m(\u001b[0m\u001b[0margs\u001b[0m\u001b[0;34m,\u001b[0m \u001b[0mkwargs\u001b[0m\u001b[0;34m)\u001b[0m  \u001b[0;31m# pylint: disable=protected-access\u001b[0m\u001b[0;34m\u001b[0m\u001b[0;34m\u001b[0m\u001b[0m\n\u001b[0m\u001b[1;32m   1824\u001b[0m \u001b[0;34m\u001b[0m\u001b[0m\n\u001b[1;32m   1825\u001b[0m   \u001b[0;34m@\u001b[0m\u001b[0mproperty\u001b[0m\u001b[0;34m\u001b[0m\u001b[0;34m\u001b[0m\u001b[0m\n",
      "\u001b[0;32m/opt/miniconda3/envs/oliver_tf2/lib/python3.7/site-packages/tensorflow_core/python/eager/function.py\u001b[0m in \u001b[0;36m_filtered_call\u001b[0;34m(self, args, kwargs)\u001b[0m\n\u001b[1;32m   1139\u001b[0m          if isinstance(t, (ops.Tensor,\n\u001b[1;32m   1140\u001b[0m                            resource_variable_ops.BaseResourceVariable))),\n\u001b[0;32m-> 1141\u001b[0;31m         self.captured_inputs)\n\u001b[0m\u001b[1;32m   1142\u001b[0m \u001b[0;34m\u001b[0m\u001b[0m\n\u001b[1;32m   1143\u001b[0m   \u001b[0;32mdef\u001b[0m \u001b[0m_call_flat\u001b[0m\u001b[0;34m(\u001b[0m\u001b[0mself\u001b[0m\u001b[0;34m,\u001b[0m \u001b[0margs\u001b[0m\u001b[0;34m,\u001b[0m \u001b[0mcaptured_inputs\u001b[0m\u001b[0;34m,\u001b[0m \u001b[0mcancellation_manager\u001b[0m\u001b[0;34m=\u001b[0m\u001b[0;32mNone\u001b[0m\u001b[0;34m)\u001b[0m\u001b[0;34m:\u001b[0m\u001b[0;34m\u001b[0m\u001b[0;34m\u001b[0m\u001b[0m\n",
      "\u001b[0;32m/opt/miniconda3/envs/oliver_tf2/lib/python3.7/site-packages/tensorflow_core/python/eager/function.py\u001b[0m in \u001b[0;36m_call_flat\u001b[0;34m(self, args, captured_inputs, cancellation_manager)\u001b[0m\n\u001b[1;32m   1222\u001b[0m     \u001b[0;32mif\u001b[0m \u001b[0mexecuting_eagerly\u001b[0m\u001b[0;34m:\u001b[0m\u001b[0;34m\u001b[0m\u001b[0;34m\u001b[0m\u001b[0m\n\u001b[1;32m   1223\u001b[0m       flat_outputs = forward_function.call(\n\u001b[0;32m-> 1224\u001b[0;31m           ctx, args, cancellation_manager=cancellation_manager)\n\u001b[0m\u001b[1;32m   1225\u001b[0m     \u001b[0;32melse\u001b[0m\u001b[0;34m:\u001b[0m\u001b[0;34m\u001b[0m\u001b[0;34m\u001b[0m\u001b[0m\n\u001b[1;32m   1226\u001b[0m       \u001b[0mgradient_name\u001b[0m \u001b[0;34m=\u001b[0m \u001b[0mself\u001b[0m\u001b[0;34m.\u001b[0m\u001b[0m_delayed_rewrite_functions\u001b[0m\u001b[0;34m.\u001b[0m\u001b[0mregister\u001b[0m\u001b[0;34m(\u001b[0m\u001b[0;34m)\u001b[0m\u001b[0;34m\u001b[0m\u001b[0;34m\u001b[0m\u001b[0m\n",
      "\u001b[0;32m/opt/miniconda3/envs/oliver_tf2/lib/python3.7/site-packages/tensorflow_core/python/eager/function.py\u001b[0m in \u001b[0;36mcall\u001b[0;34m(self, ctx, args, cancellation_manager)\u001b[0m\n\u001b[1;32m    509\u001b[0m               \u001b[0minputs\u001b[0m\u001b[0;34m=\u001b[0m\u001b[0margs\u001b[0m\u001b[0;34m,\u001b[0m\u001b[0;34m\u001b[0m\u001b[0;34m\u001b[0m\u001b[0m\n\u001b[1;32m    510\u001b[0m               \u001b[0mattrs\u001b[0m\u001b[0;34m=\u001b[0m\u001b[0;34m(\u001b[0m\u001b[0;34m\"executor_type\"\u001b[0m\u001b[0;34m,\u001b[0m \u001b[0mexecutor_type\u001b[0m\u001b[0;34m,\u001b[0m \u001b[0;34m\"config_proto\"\u001b[0m\u001b[0;34m,\u001b[0m \u001b[0mconfig\u001b[0m\u001b[0;34m)\u001b[0m\u001b[0;34m,\u001b[0m\u001b[0;34m\u001b[0m\u001b[0;34m\u001b[0m\u001b[0m\n\u001b[0;32m--> 511\u001b[0;31m               ctx=ctx)\n\u001b[0m\u001b[1;32m    512\u001b[0m         \u001b[0;32melse\u001b[0m\u001b[0;34m:\u001b[0m\u001b[0;34m\u001b[0m\u001b[0;34m\u001b[0m\u001b[0m\n\u001b[1;32m    513\u001b[0m           outputs = execute.execute_with_cancellation(\n",
      "\u001b[0;32m/opt/miniconda3/envs/oliver_tf2/lib/python3.7/site-packages/tensorflow_core/python/eager/execute.py\u001b[0m in \u001b[0;36mquick_execute\u001b[0;34m(op_name, num_outputs, inputs, attrs, ctx, name)\u001b[0m\n\u001b[1;32m     59\u001b[0m     tensors = pywrap_tensorflow.TFE_Py_Execute(ctx._handle, device_name,\n\u001b[1;32m     60\u001b[0m                                                \u001b[0mop_name\u001b[0m\u001b[0;34m,\u001b[0m \u001b[0minputs\u001b[0m\u001b[0;34m,\u001b[0m \u001b[0mattrs\u001b[0m\u001b[0;34m,\u001b[0m\u001b[0;34m\u001b[0m\u001b[0;34m\u001b[0m\u001b[0m\n\u001b[0;32m---> 61\u001b[0;31m                                                num_outputs)\n\u001b[0m\u001b[1;32m     62\u001b[0m   \u001b[0;32mexcept\u001b[0m \u001b[0mcore\u001b[0m\u001b[0;34m.\u001b[0m\u001b[0m_NotOkStatusException\u001b[0m \u001b[0;32mas\u001b[0m \u001b[0me\u001b[0m\u001b[0;34m:\u001b[0m\u001b[0;34m\u001b[0m\u001b[0;34m\u001b[0m\u001b[0m\n\u001b[1;32m     63\u001b[0m     \u001b[0;32mif\u001b[0m \u001b[0mname\u001b[0m \u001b[0;32mis\u001b[0m \u001b[0;32mnot\u001b[0m \u001b[0;32mNone\u001b[0m\u001b[0;34m:\u001b[0m\u001b[0;34m\u001b[0m\u001b[0;34m\u001b[0m\u001b[0m\n",
      "\u001b[0;31mKeyboardInterrupt\u001b[0m: "
     ]
    }
   ],
   "source": [
    "h = model.fit(dataset.batch(64), epochs=50, steps_per_epoch=100)"
   ]
  },
  {
   "cell_type": "markdown",
   "metadata": {},
   "source": [
    "## Analysis of Net Weights\n",
    "\n",
    "Assuming convergence happens (I have seen it fail to converge in 100 epochs at least once), we can see that both sides of the mean value property have been learned.  See the weights of the hidden layer and output layer.\n",
    "\n",
    "Indices 1,3,5,7 of the hidden layer are equal and add up to the negative of the 4th index.  The two nodes are either pointing in opposite directions or are given opposite weights in the output layer."
   ]
  },
  {
   "cell_type": "code",
   "execution_count": 32,
   "metadata": {},
   "outputs": [
    {
     "data": {
      "text/plain": [
       "[<tf.Variable 'dense_2/kernel:0' shape=(9, 2) dtype=float32, numpy=\n",
       " array([[-0.19597948,  0.38713008],\n",
       "        [-0.4751342 ,  0.5995144 ],\n",
       "        [-0.44297752, -0.47761548],\n",
       "        [-0.47493705,  0.59817886],\n",
       "        [ 1.8965907 , -2.3992684 ],\n",
       "        [-0.4743856 ,  0.5994377 ],\n",
       "        [-0.37350753, -0.58541626],\n",
       "        [-0.4726985 ,  0.5995223 ],\n",
       "        [-0.73649824, -0.23219943]], dtype=float32)>,\n",
       " <tf.Variable 'dense_2/bias:0' shape=(2,) dtype=float32, numpy=array([-0.00101611, -0.00020503], dtype=float32)>]"
      ]
     },
     "execution_count": 32,
     "metadata": {},
     "output_type": "execute_result"
    }
   ],
   "source": [
    "model.layers[1].weights"
   ]
  },
  {
   "cell_type": "code",
   "execution_count": 33,
   "metadata": {
    "scrolled": true
   },
   "outputs": [
    {
     "data": {
      "text/plain": [
       "[<tf.Variable 'dense_3/kernel:0' shape=(2, 1) dtype=float32, numpy=\n",
       " array([[-2.0161135],\n",
       "        [-2.3323162]], dtype=float32)>,\n",
       " <tf.Variable 'dense_3/bias:0' shape=(1,) dtype=float32, numpy=array([1.0829649], dtype=float32)>]"
      ]
     },
     "execution_count": 33,
     "metadata": {},
     "output_type": "execute_result"
    }
   ],
   "source": [
    "model.layers[2].weights"
   ]
  },
  {
   "cell_type": "markdown",
   "metadata": {},
   "source": [
    "## Classifying Harmonic Functions. Net has Many Nodes, $n=2$\n",
    "\n",
    "This net has been given a substantially larger hidden layer.  This results in many more chances for the net to stumble across the mean value property leading to much faster convergence.  Here confidence in the property can be established by having many more nodes encode the same information, whereas above it could only be expressed with larger values in the output layer."
   ]
  },
  {
   "cell_type": "code",
   "execution_count": 34,
   "metadata": {},
   "outputs": [],
   "source": [
    "n=2"
   ]
  },
  {
   "cell_type": "code",
   "execution_count": 35,
   "metadata": {},
   "outputs": [],
   "source": [
    "dataset = tf.data.Dataset.from_generator(harmonic_data_generator, \n",
    "                                         args=[n], \n",
    "                                         output_types=(tf.float32, tf.bool), \n",
    "                                         output_shapes = ((n+1,n+1), ()))"
   ]
  },
  {
   "cell_type": "code",
   "execution_count": 36,
   "metadata": {},
   "outputs": [],
   "source": [
    "dense_layer = tf.keras.layers.Dense(32, \n",
    "                                    input_shape=(((n+1)**2,)),\n",
    "                                    activation='relu',\n",
    "                                    kernel_regularizer=tf.keras.regularizers.l1(.001))"
   ]
  },
  {
   "cell_type": "code",
   "execution_count": 37,
   "metadata": {},
   "outputs": [],
   "source": [
    "output_layer = tf.keras.layers.Dense(1,\n",
    "                                     activation='sigmoid')"
   ]
  },
  {
   "cell_type": "code",
   "execution_count": 38,
   "metadata": {
    "scrolled": true
   },
   "outputs": [],
   "source": [
    "model = tf.keras.Sequential([tf.keras.layers.Flatten(input_shape=(n+1,n+1)), \n",
    "                             dense_layer, output_layer],\n",
    "                            name='dense_n2')"
   ]
  },
  {
   "cell_type": "code",
   "execution_count": 39,
   "metadata": {
    "scrolled": false
   },
   "outputs": [],
   "source": [
    "model.compile(optimizer='adam',\n",
    "              loss=tf.keras.losses.binary_crossentropy,\n",
    "              metrics=['accuracy'])"
   ]
  },
  {
   "cell_type": "code",
   "execution_count": 40,
   "metadata": {},
   "outputs": [
    {
     "name": "stdout",
     "output_type": "stream",
     "text": [
      "Model: \"dense_n2\"\n",
      "_________________________________________________________________\n",
      "Layer (type)                 Output Shape              Param #   \n",
      "=================================================================\n",
      "flatten_2 (Flatten)          (None, 9)                 0         \n",
      "_________________________________________________________________\n",
      "dense_4 (Dense)              (None, 32)                320       \n",
      "_________________________________________________________________\n",
      "dense_5 (Dense)              (None, 1)                 33        \n",
      "=================================================================\n",
      "Total params: 353\n",
      "Trainable params: 353\n",
      "Non-trainable params: 0\n",
      "_________________________________________________________________\n",
      "None\n"
     ]
    }
   ],
   "source": [
    "print(model.summary())"
   ]
  },
  {
   "cell_type": "code",
   "execution_count": 41,
   "metadata": {
    "scrolled": true
   },
   "outputs": [
    {
     "name": "stdout",
     "output_type": "stream",
     "text": [
      "Train for 100 steps\n",
      "Epoch 1/20\n",
      "100/100 [==============================] - 2s 18ms/step - loss: 0.7312 - accuracy: 0.5469\n",
      "Epoch 2/20\n",
      "100/100 [==============================] - 1s 13ms/step - loss: 0.6738 - accuracy: 0.7042\n",
      "Epoch 3/20\n",
      "100/100 [==============================] - 1s 14ms/step - loss: 0.6021 - accuracy: 0.8202\n",
      "Epoch 4/20\n",
      "100/100 [==============================] - 1s 14ms/step - loss: 0.5238 - accuracy: 0.8569\n",
      "Epoch 5/20\n",
      "100/100 [==============================] - 1s 14ms/step - loss: 0.4493 - accuracy: 0.8813\n",
      "Epoch 6/20\n",
      "100/100 [==============================] - 1s 14ms/step - loss: 0.4025 - accuracy: 0.8884\n",
      "Epoch 7/20\n",
      "100/100 [==============================] - 1s 13ms/step - loss: 0.3597 - accuracy: 0.8973\n",
      "Epoch 8/20\n",
      "100/100 [==============================] - 1s 14ms/step - loss: 0.3349 - accuracy: 0.9036\n",
      "Epoch 9/20\n",
      "100/100 [==============================] - 1s 15ms/step - loss: 0.3131 - accuracy: 0.9081\n",
      "Epoch 10/20\n",
      " 81/100 [=======================>......] - ETA: 0s - loss: 0.2920 - accuracy: 0.9180"
     ]
    },
    {
     "ename": "KeyboardInterrupt",
     "evalue": "",
     "output_type": "error",
     "traceback": [
      "\u001b[0;31m---------------------------------------------------------------------------\u001b[0m",
      "\u001b[0;31mKeyboardInterrupt\u001b[0m                         Traceback (most recent call last)",
      "\u001b[0;32m<ipython-input-41-fced6c9ed5a4>\u001b[0m in \u001b[0;36m<module>\u001b[0;34m\u001b[0m\n\u001b[0;32m----> 1\u001b[0;31m \u001b[0mh\u001b[0m \u001b[0;34m=\u001b[0m \u001b[0mmodel\u001b[0m\u001b[0;34m.\u001b[0m\u001b[0mfit\u001b[0m\u001b[0;34m(\u001b[0m\u001b[0mdataset\u001b[0m\u001b[0;34m.\u001b[0m\u001b[0mbatch\u001b[0m\u001b[0;34m(\u001b[0m\u001b[0;36m64\u001b[0m\u001b[0;34m)\u001b[0m\u001b[0;34m,\u001b[0m \u001b[0mepochs\u001b[0m\u001b[0;34m=\u001b[0m\u001b[0;36m20\u001b[0m\u001b[0;34m,\u001b[0m \u001b[0msteps_per_epoch\u001b[0m\u001b[0;34m=\u001b[0m\u001b[0;36m100\u001b[0m\u001b[0;34m)\u001b[0m\u001b[0;34m\u001b[0m\u001b[0;34m\u001b[0m\u001b[0m\n\u001b[0m",
      "\u001b[0;32m/opt/miniconda3/envs/oliver_tf2/lib/python3.7/site-packages/tensorflow_core/python/keras/engine/training.py\u001b[0m in \u001b[0;36mfit\u001b[0;34m(self, x, y, batch_size, epochs, verbose, callbacks, validation_split, validation_data, shuffle, class_weight, sample_weight, initial_epoch, steps_per_epoch, validation_steps, validation_freq, max_queue_size, workers, use_multiprocessing, **kwargs)\u001b[0m\n\u001b[1;32m    726\u001b[0m         \u001b[0mmax_queue_size\u001b[0m\u001b[0;34m=\u001b[0m\u001b[0mmax_queue_size\u001b[0m\u001b[0;34m,\u001b[0m\u001b[0;34m\u001b[0m\u001b[0;34m\u001b[0m\u001b[0m\n\u001b[1;32m    727\u001b[0m         \u001b[0mworkers\u001b[0m\u001b[0;34m=\u001b[0m\u001b[0mworkers\u001b[0m\u001b[0;34m,\u001b[0m\u001b[0;34m\u001b[0m\u001b[0;34m\u001b[0m\u001b[0m\n\u001b[0;32m--> 728\u001b[0;31m         use_multiprocessing=use_multiprocessing)\n\u001b[0m\u001b[1;32m    729\u001b[0m \u001b[0;34m\u001b[0m\u001b[0m\n\u001b[1;32m    730\u001b[0m   def evaluate(self,\n",
      "\u001b[0;32m/opt/miniconda3/envs/oliver_tf2/lib/python3.7/site-packages/tensorflow_core/python/keras/engine/training_v2.py\u001b[0m in \u001b[0;36mfit\u001b[0;34m(self, model, x, y, batch_size, epochs, verbose, callbacks, validation_split, validation_data, shuffle, class_weight, sample_weight, initial_epoch, steps_per_epoch, validation_steps, validation_freq, **kwargs)\u001b[0m\n\u001b[1;32m    322\u001b[0m                 \u001b[0mmode\u001b[0m\u001b[0;34m=\u001b[0m\u001b[0mModeKeys\u001b[0m\u001b[0;34m.\u001b[0m\u001b[0mTRAIN\u001b[0m\u001b[0;34m,\u001b[0m\u001b[0;34m\u001b[0m\u001b[0;34m\u001b[0m\u001b[0m\n\u001b[1;32m    323\u001b[0m                 \u001b[0mtraining_context\u001b[0m\u001b[0;34m=\u001b[0m\u001b[0mtraining_context\u001b[0m\u001b[0;34m,\u001b[0m\u001b[0;34m\u001b[0m\u001b[0;34m\u001b[0m\u001b[0m\n\u001b[0;32m--> 324\u001b[0;31m                 total_epochs=epochs)\n\u001b[0m\u001b[1;32m    325\u001b[0m             \u001b[0mcbks\u001b[0m\u001b[0;34m.\u001b[0m\u001b[0mmake_logs\u001b[0m\u001b[0;34m(\u001b[0m\u001b[0mmodel\u001b[0m\u001b[0;34m,\u001b[0m \u001b[0mepoch_logs\u001b[0m\u001b[0;34m,\u001b[0m \u001b[0mtraining_result\u001b[0m\u001b[0;34m,\u001b[0m \u001b[0mModeKeys\u001b[0m\u001b[0;34m.\u001b[0m\u001b[0mTRAIN\u001b[0m\u001b[0;34m)\u001b[0m\u001b[0;34m\u001b[0m\u001b[0;34m\u001b[0m\u001b[0m\n\u001b[1;32m    326\u001b[0m \u001b[0;34m\u001b[0m\u001b[0m\n",
      "\u001b[0;32m/opt/miniconda3/envs/oliver_tf2/lib/python3.7/site-packages/tensorflow_core/python/keras/engine/training_v2.py\u001b[0m in \u001b[0;36mrun_one_epoch\u001b[0;34m(model, iterator, execution_function, dataset_size, batch_size, strategy, steps_per_epoch, num_samples, mode, training_context, total_epochs)\u001b[0m\n\u001b[1;32m    121\u001b[0m         step=step, mode=mode, size=current_batch_size) as batch_logs:\n\u001b[1;32m    122\u001b[0m       \u001b[0;32mtry\u001b[0m\u001b[0;34m:\u001b[0m\u001b[0;34m\u001b[0m\u001b[0;34m\u001b[0m\u001b[0m\n\u001b[0;32m--> 123\u001b[0;31m         \u001b[0mbatch_outs\u001b[0m \u001b[0;34m=\u001b[0m \u001b[0mexecution_function\u001b[0m\u001b[0;34m(\u001b[0m\u001b[0miterator\u001b[0m\u001b[0;34m)\u001b[0m\u001b[0;34m\u001b[0m\u001b[0;34m\u001b[0m\u001b[0m\n\u001b[0m\u001b[1;32m    124\u001b[0m       \u001b[0;32mexcept\u001b[0m \u001b[0;34m(\u001b[0m\u001b[0mStopIteration\u001b[0m\u001b[0;34m,\u001b[0m \u001b[0merrors\u001b[0m\u001b[0;34m.\u001b[0m\u001b[0mOutOfRangeError\u001b[0m\u001b[0;34m)\u001b[0m\u001b[0;34m:\u001b[0m\u001b[0;34m\u001b[0m\u001b[0;34m\u001b[0m\u001b[0m\n\u001b[1;32m    125\u001b[0m         \u001b[0;31m# TODO(kaftan): File bug about tf function and errors.OutOfRangeError?\u001b[0m\u001b[0;34m\u001b[0m\u001b[0;34m\u001b[0m\u001b[0;34m\u001b[0m\u001b[0m\n",
      "\u001b[0;32m/opt/miniconda3/envs/oliver_tf2/lib/python3.7/site-packages/tensorflow_core/python/keras/engine/training_v2_utils.py\u001b[0m in \u001b[0;36mexecution_function\u001b[0;34m(input_fn)\u001b[0m\n\u001b[1;32m     84\u001b[0m     \u001b[0;31m# `numpy` translates Tensors to values in Eager mode.\u001b[0m\u001b[0;34m\u001b[0m\u001b[0;34m\u001b[0m\u001b[0;34m\u001b[0m\u001b[0m\n\u001b[1;32m     85\u001b[0m     return nest.map_structure(_non_none_constant_value,\n\u001b[0;32m---> 86\u001b[0;31m                               distributed_function(input_fn))\n\u001b[0m\u001b[1;32m     87\u001b[0m \u001b[0;34m\u001b[0m\u001b[0m\n\u001b[1;32m     88\u001b[0m   \u001b[0;32mreturn\u001b[0m \u001b[0mexecution_function\u001b[0m\u001b[0;34m\u001b[0m\u001b[0;34m\u001b[0m\u001b[0m\n",
      "\u001b[0;32m/opt/miniconda3/envs/oliver_tf2/lib/python3.7/site-packages/tensorflow_core/python/eager/def_function.py\u001b[0m in \u001b[0;36m__call__\u001b[0;34m(self, *args, **kwds)\u001b[0m\n\u001b[1;32m    455\u001b[0m \u001b[0;34m\u001b[0m\u001b[0m\n\u001b[1;32m    456\u001b[0m     \u001b[0mtracing_count\u001b[0m \u001b[0;34m=\u001b[0m \u001b[0mself\u001b[0m\u001b[0;34m.\u001b[0m\u001b[0m_get_tracing_count\u001b[0m\u001b[0;34m(\u001b[0m\u001b[0;34m)\u001b[0m\u001b[0;34m\u001b[0m\u001b[0;34m\u001b[0m\u001b[0m\n\u001b[0;32m--> 457\u001b[0;31m     \u001b[0mresult\u001b[0m \u001b[0;34m=\u001b[0m \u001b[0mself\u001b[0m\u001b[0;34m.\u001b[0m\u001b[0m_call\u001b[0m\u001b[0;34m(\u001b[0m\u001b[0;34m*\u001b[0m\u001b[0margs\u001b[0m\u001b[0;34m,\u001b[0m \u001b[0;34m**\u001b[0m\u001b[0mkwds\u001b[0m\u001b[0;34m)\u001b[0m\u001b[0;34m\u001b[0m\u001b[0;34m\u001b[0m\u001b[0m\n\u001b[0m\u001b[1;32m    458\u001b[0m     \u001b[0;32mif\u001b[0m \u001b[0mtracing_count\u001b[0m \u001b[0;34m==\u001b[0m \u001b[0mself\u001b[0m\u001b[0;34m.\u001b[0m\u001b[0m_get_tracing_count\u001b[0m\u001b[0;34m(\u001b[0m\u001b[0;34m)\u001b[0m\u001b[0;34m:\u001b[0m\u001b[0;34m\u001b[0m\u001b[0;34m\u001b[0m\u001b[0m\n\u001b[1;32m    459\u001b[0m       \u001b[0mself\u001b[0m\u001b[0;34m.\u001b[0m\u001b[0m_call_counter\u001b[0m\u001b[0;34m.\u001b[0m\u001b[0mcalled_without_tracing\u001b[0m\u001b[0;34m(\u001b[0m\u001b[0;34m)\u001b[0m\u001b[0;34m\u001b[0m\u001b[0;34m\u001b[0m\u001b[0m\n",
      "\u001b[0;32m/opt/miniconda3/envs/oliver_tf2/lib/python3.7/site-packages/tensorflow_core/python/eager/def_function.py\u001b[0m in \u001b[0;36m_call\u001b[0;34m(self, *args, **kwds)\u001b[0m\n\u001b[1;32m    485\u001b[0m       \u001b[0;31m# In this case we have created variables on the first call, so we run the\u001b[0m\u001b[0;34m\u001b[0m\u001b[0;34m\u001b[0m\u001b[0;34m\u001b[0m\u001b[0m\n\u001b[1;32m    486\u001b[0m       \u001b[0;31m# defunned version which is guaranteed to never create variables.\u001b[0m\u001b[0;34m\u001b[0m\u001b[0;34m\u001b[0m\u001b[0;34m\u001b[0m\u001b[0m\n\u001b[0;32m--> 487\u001b[0;31m       \u001b[0;32mreturn\u001b[0m \u001b[0mself\u001b[0m\u001b[0;34m.\u001b[0m\u001b[0m_stateless_fn\u001b[0m\u001b[0;34m(\u001b[0m\u001b[0;34m*\u001b[0m\u001b[0margs\u001b[0m\u001b[0;34m,\u001b[0m \u001b[0;34m**\u001b[0m\u001b[0mkwds\u001b[0m\u001b[0;34m)\u001b[0m  \u001b[0;31m# pylint: disable=not-callable\u001b[0m\u001b[0;34m\u001b[0m\u001b[0;34m\u001b[0m\u001b[0m\n\u001b[0m\u001b[1;32m    488\u001b[0m     \u001b[0;32melif\u001b[0m \u001b[0mself\u001b[0m\u001b[0;34m.\u001b[0m\u001b[0m_stateful_fn\u001b[0m \u001b[0;32mis\u001b[0m \u001b[0;32mnot\u001b[0m \u001b[0;32mNone\u001b[0m\u001b[0;34m:\u001b[0m\u001b[0;34m\u001b[0m\u001b[0;34m\u001b[0m\u001b[0m\n\u001b[1;32m    489\u001b[0m       \u001b[0;31m# Release the lock early so that multiple threads can perform the call\u001b[0m\u001b[0;34m\u001b[0m\u001b[0;34m\u001b[0m\u001b[0;34m\u001b[0m\u001b[0m\n",
      "\u001b[0;32m/opt/miniconda3/envs/oliver_tf2/lib/python3.7/site-packages/tensorflow_core/python/eager/function.py\u001b[0m in \u001b[0;36m__call__\u001b[0;34m(self, *args, **kwargs)\u001b[0m\n\u001b[1;32m   1821\u001b[0m     \u001b[0;34m\"\"\"Calls a graph function specialized to the inputs.\"\"\"\u001b[0m\u001b[0;34m\u001b[0m\u001b[0;34m\u001b[0m\u001b[0m\n\u001b[1;32m   1822\u001b[0m     \u001b[0mgraph_function\u001b[0m\u001b[0;34m,\u001b[0m \u001b[0margs\u001b[0m\u001b[0;34m,\u001b[0m \u001b[0mkwargs\u001b[0m \u001b[0;34m=\u001b[0m \u001b[0mself\u001b[0m\u001b[0;34m.\u001b[0m\u001b[0m_maybe_define_function\u001b[0m\u001b[0;34m(\u001b[0m\u001b[0margs\u001b[0m\u001b[0;34m,\u001b[0m \u001b[0mkwargs\u001b[0m\u001b[0;34m)\u001b[0m\u001b[0;34m\u001b[0m\u001b[0;34m\u001b[0m\u001b[0m\n\u001b[0;32m-> 1823\u001b[0;31m     \u001b[0;32mreturn\u001b[0m \u001b[0mgraph_function\u001b[0m\u001b[0;34m.\u001b[0m\u001b[0m_filtered_call\u001b[0m\u001b[0;34m(\u001b[0m\u001b[0margs\u001b[0m\u001b[0;34m,\u001b[0m \u001b[0mkwargs\u001b[0m\u001b[0;34m)\u001b[0m  \u001b[0;31m# pylint: disable=protected-access\u001b[0m\u001b[0;34m\u001b[0m\u001b[0;34m\u001b[0m\u001b[0m\n\u001b[0m\u001b[1;32m   1824\u001b[0m \u001b[0;34m\u001b[0m\u001b[0m\n\u001b[1;32m   1825\u001b[0m   \u001b[0;34m@\u001b[0m\u001b[0mproperty\u001b[0m\u001b[0;34m\u001b[0m\u001b[0;34m\u001b[0m\u001b[0m\n",
      "\u001b[0;32m/opt/miniconda3/envs/oliver_tf2/lib/python3.7/site-packages/tensorflow_core/python/eager/function.py\u001b[0m in \u001b[0;36m_filtered_call\u001b[0;34m(self, args, kwargs)\u001b[0m\n\u001b[1;32m   1139\u001b[0m          if isinstance(t, (ops.Tensor,\n\u001b[1;32m   1140\u001b[0m                            resource_variable_ops.BaseResourceVariable))),\n\u001b[0;32m-> 1141\u001b[0;31m         self.captured_inputs)\n\u001b[0m\u001b[1;32m   1142\u001b[0m \u001b[0;34m\u001b[0m\u001b[0m\n\u001b[1;32m   1143\u001b[0m   \u001b[0;32mdef\u001b[0m \u001b[0m_call_flat\u001b[0m\u001b[0;34m(\u001b[0m\u001b[0mself\u001b[0m\u001b[0;34m,\u001b[0m \u001b[0margs\u001b[0m\u001b[0;34m,\u001b[0m \u001b[0mcaptured_inputs\u001b[0m\u001b[0;34m,\u001b[0m \u001b[0mcancellation_manager\u001b[0m\u001b[0;34m=\u001b[0m\u001b[0;32mNone\u001b[0m\u001b[0;34m)\u001b[0m\u001b[0;34m:\u001b[0m\u001b[0;34m\u001b[0m\u001b[0;34m\u001b[0m\u001b[0m\n",
      "\u001b[0;32m/opt/miniconda3/envs/oliver_tf2/lib/python3.7/site-packages/tensorflow_core/python/eager/function.py\u001b[0m in \u001b[0;36m_call_flat\u001b[0;34m(self, args, captured_inputs, cancellation_manager)\u001b[0m\n\u001b[1;32m   1222\u001b[0m     \u001b[0;32mif\u001b[0m \u001b[0mexecuting_eagerly\u001b[0m\u001b[0;34m:\u001b[0m\u001b[0;34m\u001b[0m\u001b[0;34m\u001b[0m\u001b[0m\n\u001b[1;32m   1223\u001b[0m       flat_outputs = forward_function.call(\n\u001b[0;32m-> 1224\u001b[0;31m           ctx, args, cancellation_manager=cancellation_manager)\n\u001b[0m\u001b[1;32m   1225\u001b[0m     \u001b[0;32melse\u001b[0m\u001b[0;34m:\u001b[0m\u001b[0;34m\u001b[0m\u001b[0;34m\u001b[0m\u001b[0m\n\u001b[1;32m   1226\u001b[0m       \u001b[0mgradient_name\u001b[0m \u001b[0;34m=\u001b[0m \u001b[0mself\u001b[0m\u001b[0;34m.\u001b[0m\u001b[0m_delayed_rewrite_functions\u001b[0m\u001b[0;34m.\u001b[0m\u001b[0mregister\u001b[0m\u001b[0;34m(\u001b[0m\u001b[0;34m)\u001b[0m\u001b[0;34m\u001b[0m\u001b[0;34m\u001b[0m\u001b[0m\n",
      "\u001b[0;32m/opt/miniconda3/envs/oliver_tf2/lib/python3.7/site-packages/tensorflow_core/python/eager/function.py\u001b[0m in \u001b[0;36mcall\u001b[0;34m(self, ctx, args, cancellation_manager)\u001b[0m\n\u001b[1;32m    509\u001b[0m               \u001b[0minputs\u001b[0m\u001b[0;34m=\u001b[0m\u001b[0margs\u001b[0m\u001b[0;34m,\u001b[0m\u001b[0;34m\u001b[0m\u001b[0;34m\u001b[0m\u001b[0m\n\u001b[1;32m    510\u001b[0m               \u001b[0mattrs\u001b[0m\u001b[0;34m=\u001b[0m\u001b[0;34m(\u001b[0m\u001b[0;34m\"executor_type\"\u001b[0m\u001b[0;34m,\u001b[0m \u001b[0mexecutor_type\u001b[0m\u001b[0;34m,\u001b[0m \u001b[0;34m\"config_proto\"\u001b[0m\u001b[0;34m,\u001b[0m \u001b[0mconfig\u001b[0m\u001b[0;34m)\u001b[0m\u001b[0;34m,\u001b[0m\u001b[0;34m\u001b[0m\u001b[0;34m\u001b[0m\u001b[0m\n\u001b[0;32m--> 511\u001b[0;31m               ctx=ctx)\n\u001b[0m\u001b[1;32m    512\u001b[0m         \u001b[0;32melse\u001b[0m\u001b[0;34m:\u001b[0m\u001b[0;34m\u001b[0m\u001b[0;34m\u001b[0m\u001b[0m\n\u001b[1;32m    513\u001b[0m           outputs = execute.execute_with_cancellation(\n",
      "\u001b[0;32m/opt/miniconda3/envs/oliver_tf2/lib/python3.7/site-packages/tensorflow_core/python/eager/execute.py\u001b[0m in \u001b[0;36mquick_execute\u001b[0;34m(op_name, num_outputs, inputs, attrs, ctx, name)\u001b[0m\n\u001b[1;32m     59\u001b[0m     tensors = pywrap_tensorflow.TFE_Py_Execute(ctx._handle, device_name,\n\u001b[1;32m     60\u001b[0m                                                \u001b[0mop_name\u001b[0m\u001b[0;34m,\u001b[0m \u001b[0minputs\u001b[0m\u001b[0;34m,\u001b[0m \u001b[0mattrs\u001b[0m\u001b[0;34m,\u001b[0m\u001b[0;34m\u001b[0m\u001b[0;34m\u001b[0m\u001b[0m\n\u001b[0;32m---> 61\u001b[0;31m                                                num_outputs)\n\u001b[0m\u001b[1;32m     62\u001b[0m   \u001b[0;32mexcept\u001b[0m \u001b[0mcore\u001b[0m\u001b[0;34m.\u001b[0m\u001b[0m_NotOkStatusException\u001b[0m \u001b[0;32mas\u001b[0m \u001b[0me\u001b[0m\u001b[0;34m:\u001b[0m\u001b[0;34m\u001b[0m\u001b[0;34m\u001b[0m\u001b[0m\n\u001b[1;32m     63\u001b[0m     \u001b[0;32mif\u001b[0m \u001b[0mname\u001b[0m \u001b[0;32mis\u001b[0m \u001b[0;32mnot\u001b[0m \u001b[0;32mNone\u001b[0m\u001b[0;34m:\u001b[0m\u001b[0;34m\u001b[0m\u001b[0;34m\u001b[0m\u001b[0m\n",
      "\u001b[0;31mKeyboardInterrupt\u001b[0m: "
     ]
    }
   ],
   "source": [
    "h = model.fit(dataset.batch(64), epochs=20, steps_per_epoch=100)"
   ]
  },
  {
   "cell_type": "markdown",
   "metadata": {},
   "source": [
    "## Analysis of Net Weights"
   ]
  },
  {
   "cell_type": "markdown",
   "metadata": {},
   "source": [
    "Examining the output layer, it is clear that some nodes in the hidden layer are treated as important (weights around -5) some are not (weights around 0).  \n",
    "\n",
    "Question: Why are all of the important weights here negative, whereas this didn't happen above?"
   ]
  },
  {
   "cell_type": "code",
   "execution_count": 42,
   "metadata": {},
   "outputs": [
    {
     "data": {
      "text/plain": [
       "[array([[ 0.4373489 ],\n",
       "        [ 0.4265884 ],\n",
       "        [ 0.19957417],\n",
       "        [-1.214467  ],\n",
       "        [-1.0523483 ],\n",
       "        [-0.01274417],\n",
       "        [ 0.4634423 ],\n",
       "        [ 0.3420575 ],\n",
       "        [ 0.20284633],\n",
       "        [-0.7723524 ],\n",
       "        [ 0.26793593],\n",
       "        [ 0.20076196],\n",
       "        [ 0.22526865],\n",
       "        [-1.0428467 ],\n",
       "        [-0.0787764 ],\n",
       "        [-1.1540365 ],\n",
       "        [ 0.40062064],\n",
       "        [-0.14682026],\n",
       "        [ 0.10149509],\n",
       "        [ 0.5222983 ],\n",
       "        [-0.8341928 ],\n",
       "        [-0.90779483],\n",
       "        [-0.96090275],\n",
       "        [-0.7765352 ],\n",
       "        [ 0.00534577],\n",
       "        [-0.7254577 ],\n",
       "        [-0.7939792 ],\n",
       "        [-0.7772236 ],\n",
       "        [-0.00251376],\n",
       "        [-0.52052414],\n",
       "        [ 0.33168232],\n",
       "        [-0.92372096]], dtype=float32), array([0.23660968], dtype=float32)]"
      ]
     },
     "execution_count": 42,
     "metadata": {},
     "output_type": "execute_result"
    }
   ],
   "source": [
    "model.layers[2].get_weights()"
   ]
  },
  {
   "cell_type": "markdown",
   "metadata": {},
   "source": [
    "If we pick an important node in the first layer, it will encode one side of the mean-value condition, as above.  Thanks the l1 regularization, we have 0's (approximately) in the degenerate indices 0, 2, 6, and 8."
   ]
  },
  {
   "cell_type": "code",
   "execution_count": 48,
   "metadata": {},
   "outputs": [
    {
     "data": {
      "text/plain": [
       "<BarContainer object of 9 artists>"
      ]
     },
     "execution_count": 48,
     "metadata": {},
     "output_type": "execute_result"
    },
    {
     "data": {
      "image/png": "[encoded data removed]",
      "text/plain": [
       "<Figure size 432x288 with 1 Axes>"
      ]
     },
     "metadata": {
      "needs_background": "light"
     },
     "output_type": "display_data"
    }
   ],
   "source": [
    "plt.bar(np.arange(9), model.layers[1].kernel.numpy()[:,3])"
   ]
  },
  {
   "cell_type": "markdown",
   "metadata": {},
   "source": [
    "## Classifying Harmonic Functions, $n>2$\n",
    "\n",
    "Naive.  The net can very quickly separate the harmonic functions from the random negatives with fantastic accuracy, however, constructed counterexamples that are nearly harmonic will still fool it."
   ]
  },
  {
   "cell_type": "code",
   "execution_count": 55,
   "metadata": {},
   "outputs": [],
   "source": [
    "n=5"
   ]
  },
  {
   "cell_type": "code",
   "execution_count": 56,
   "metadata": {},
   "outputs": [],
   "source": [
    "dataset = tf.data.Dataset.from_generator(harmonic_data_generator, \n",
    "                                         args=[n], \n",
    "                                         output_types=(tf.float32, tf.bool), \n",
    "                                         output_shapes = ((n+1,n+1), ()))"
   ]
  },
  {
   "cell_type": "code",
   "execution_count": 57,
   "metadata": {},
   "outputs": [],
   "source": [
    "dense_layer = tf.keras.layers.Dense(12 * (n-1)**2, \n",
    "                                    input_shape=((n+1)**2,),\n",
    "                                    activation='relu')"
   ]
  },
  {
   "cell_type": "code",
   "execution_count": 58,
   "metadata": {},
   "outputs": [],
   "source": [
    "output_layer = tf.keras.layers.Dense(1,\n",
    "                                     activation='sigmoid')"
   ]
  },
  {
   "cell_type": "code",
   "execution_count": 59,
   "metadata": {
    "scrolled": true
   },
   "outputs": [],
   "source": [
    "model = tf.keras.Sequential([tf.keras.layers.Flatten(input_shape=(n+1,n+1)), \n",
    "                             dense_layer, output_layer],\n",
    "                            name='dense_nlarge')"
   ]
  },
  {
   "cell_type": "code",
   "execution_count": 60,
   "metadata": {},
   "outputs": [],
   "source": [
    "model.compile(optimizer='adam',\n",
    "              loss='hinge',\n",
    "              metrics=['accuracy'])"
   ]
  },
  {
   "cell_type": "code",
   "execution_count": 61,
   "metadata": {},
   "outputs": [
    {
     "name": "stdout",
     "output_type": "stream",
     "text": [
      "Model: \"dense_nlarge\"\n",
      "_________________________________________________________________\n",
      "Layer (type)                 Output Shape              Param #   \n",
      "=================================================================\n",
      "flatten_3 (Flatten)          (None, 36)                0         \n",
      "_________________________________________________________________\n",
      "dense_6 (Dense)              (None, 192)               7104      \n",
      "_________________________________________________________________\n",
      "dense_7 (Dense)              (None, 1)                 193       \n",
      "=================================================================\n",
      "Total params: 7,297\n",
      "Trainable params: 7,297\n",
      "Non-trainable params: 0\n",
      "_________________________________________________________________\n",
      "None\n"
     ]
    }
   ],
   "source": [
    "print(model.summary())"
   ]
  },
  {
   "cell_type": "code",
   "execution_count": 62,
   "metadata": {
    "scrolled": false
   },
   "outputs": [
    {
     "name": "stdout",
     "output_type": "stream",
     "text": [
      "Train for 100 steps\n",
      "Epoch 1/10\n",
      "100/100 [==============================] - 2s 20ms/step - loss: 0.9076 - accuracy: 0.7248\n",
      "Epoch 2/10\n",
      "100/100 [==============================] - 1s 15ms/step - loss: 0.6600 - accuracy: 0.9956\n",
      "Epoch 3/10\n",
      "100/100 [==============================] - 2s 15ms/step - loss: 0.5464 - accuracy: 0.9995\n",
      "Epoch 4/10\n",
      "100/100 [==============================] - 1s 15ms/step - loss: 0.5166 - accuracy: 0.9997\n",
      "Epoch 5/10\n",
      "100/100 [==============================] - 1s 15ms/step - loss: 0.5231 - accuracy: 0.9995\n",
      "Epoch 6/10\n",
      "100/100 [==============================] - 1s 15ms/step - loss: 0.5089 - accuracy: 0.9998\n",
      "Epoch 7/10\n",
      "100/100 [==============================] - 2s 20ms/step - loss: 0.5103 - accuracy: 0.9998\n",
      "Epoch 8/10\n",
      "100/100 [==============================] - 2s 17ms/step - loss: 0.5005 - accuracy: 0.9998\n",
      "Epoch 9/10\n",
      "100/100 [==============================] - 1s 15ms/step - loss: 0.5074 - accuracy: 0.9998\n",
      "Epoch 10/10\n",
      "100/100 [==============================] - 1s 15ms/step - loss: 0.5066 - accuracy: 1.0000\n"
     ]
    }
   ],
   "source": [
    "h = model.fit(dataset.batch(64), epochs=10, steps_per_epoch=100)"
   ]
  },
  {
   "cell_type": "markdown",
   "metadata": {},
   "source": [
    "## Counterexample\n",
    "\n",
    "It actually does become a little less certain however!"
   ]
  },
  {
   "cell_type": "code",
   "execution_count": 63,
   "metadata": {},
   "outputs": [],
   "source": [
    "x = generate_nonharmonic(5)"
   ]
  },
  {
   "cell_type": "code",
   "execution_count": 64,
   "metadata": {},
   "outputs": [
    {
     "data": {
      "text/plain": [
       "array([[0.00035066]], dtype=float32)"
      ]
     },
     "execution_count": 64,
     "metadata": {},
     "output_type": "execute_result"
    }
   ],
   "source": [
    "model.predict(x.reshape(1,6,6))"
   ]
  },
  {
   "cell_type": "code",
   "execution_count": 65,
   "metadata": {},
   "outputs": [],
   "source": [
    "x = generate_harmonic(5, np.random.randn(36))"
   ]
  },
  {
   "cell_type": "code",
   "execution_count": 66,
   "metadata": {},
   "outputs": [
    {
     "data": {
      "text/plain": [
       "array([[0.99802506]], dtype=float32)"
      ]
     },
     "execution_count": 66,
     "metadata": {},
     "output_type": "execute_result"
    }
   ],
   "source": [
    "model.predict(x.reshape(1,6,6))"
   ]
  },
  {
   "cell_type": "code",
   "execution_count": 67,
   "metadata": {},
   "outputs": [
    {
     "data": {
      "text/plain": [
       "False"
      ]
     },
     "execution_count": 67,
     "metadata": {},
     "output_type": "execute_result"
    }
   ],
   "source": [
    "x[1,1] = 0\n",
    "is_harmonic(x, 5)"
   ]
  },
  {
   "cell_type": "code",
   "execution_count": 68,
   "metadata": {
    "scrolled": true
   },
   "outputs": [
    {
     "data": {
      "image/png": "[encoded data removed]",
      "text/plain": [
       "<Figure size 432x432 with 1 Axes>"
      ]
     },
     "metadata": {
      "needs_background": "light"
     },
     "output_type": "display_data"
    }
   ],
   "source": [
    "visualize([x], n)"
   ]
  },
  {
   "cell_type": "code",
   "execution_count": 69,
   "metadata": {},
   "outputs": [
    {
     "data": {
      "text/plain": [
       "array([[0.98481697]], dtype=float32)"
      ]
     },
     "execution_count": 69,
     "metadata": {},
     "output_type": "execute_result"
    }
   ],
   "source": [
    "model.predict(x.reshape(1,6,6))"
   ]
  },
  {
   "cell_type": "markdown",
   "metadata": {},
   "source": [
    "## More Extreme"
   ]
  },
  {
   "cell_type": "code",
   "execution_count": 70,
   "metadata": {},
   "outputs": [
    {
     "data": {
      "text/plain": [
       "False"
      ]
     },
     "execution_count": 70,
     "metadata": {},
     "output_type": "execute_result"
    }
   ],
   "source": [
    "for i in range(1,5):\n",
    "    for j in range(1,5):\n",
    "        x[i,j] = 0\n",
    "is_harmonic(x, 5)"
   ]
  },
  {
   "cell_type": "code",
   "execution_count": 71,
   "metadata": {},
   "outputs": [
    {
     "data": {
      "image/png": "[encoded data removed]",
      "text/plain": [
       "<Figure size 432x432 with 1 Axes>"
      ]
     },
     "metadata": {
      "needs_background": "light"
     },
     "output_type": "display_data"
    }
   ],
   "source": [
    "visualize([x], n)"
   ]
  },
  {
   "cell_type": "code",
   "execution_count": 72,
   "metadata": {
    "scrolled": true
   },
   "outputs": [
    {
     "data": {
      "text/plain": [
       "array([[0.654376]], dtype=float32)"
      ]
     },
     "execution_count": 72,
     "metadata": {},
     "output_type": "execute_result"
    }
   ],
   "source": [
    "model.predict(x.reshape(1,6,6))"
   ]
  },
  {
   "cell_type": "markdown",
   "metadata": {},
   "source": [
    "## Using a Convolutional Net.\n",
    "\n",
    "Doesn't actually resolve the above problem."
   ]
  },
  {
   "cell_type": "code",
   "execution_count": 73,
   "metadata": {},
   "outputs": [],
   "source": [
    "n=5"
   ]
  },
  {
   "cell_type": "code",
   "execution_count": 74,
   "metadata": {},
   "outputs": [],
   "source": [
    "dataset = tf.data.Dataset.from_generator(harmonic_data_generator, \n",
    "                                         args=[n], \n",
    "                                         output_types=(tf.float32, tf.bool), \n",
    "                                         output_shapes = ((n+1,n+1), ()))"
   ]
  },
  {
   "cell_type": "code",
   "execution_count": 75,
   "metadata": {},
   "outputs": [],
   "source": [
    "model = tf.keras.Sequential([\n",
    "    tf.keras.layers.Reshape((n+1,n+1,1), input_shape=(n+1,n+1)),\n",
    "    tf.keras.layers.Conv2D(32, \n",
    "                           kernel_size=3,\n",
    "                           input_shape=(n+1, n+1, 1),\n",
    "                           activation='relu',\n",
    "                           kernel_regularizer=tf.keras.regularizers.l1(.001)),\n",
    "    tf.keras.layers.Dropout(.3),\n",
    "    tf.keras.layers.Dense(1, activation='relu'),\n",
    "    tf.keras.layers.Flatten(),\n",
    "    tf.keras.layers.Dense(1, activation='sigmoid')\n",
    "], name=\"Conv2D-1\")"
   ]
  },
  {
   "cell_type": "code",
   "execution_count": 76,
   "metadata": {},
   "outputs": [],
   "source": [
    "model.compile(optimizer='adam',\n",
    "              loss=tf.keras.losses.binary_crossentropy,\n",
    "              metrics=['accuracy'])"
   ]
  },
  {
   "cell_type": "code",
   "execution_count": 77,
   "metadata": {},
   "outputs": [
    {
     "name": "stdout",
     "output_type": "stream",
     "text": [
      "Model: \"Conv2D-1\"\n",
      "_________________________________________________________________\n",
      "Layer (type)                 Output Shape              Param #   \n",
      "=================================================================\n",
      "reshape (Reshape)            (None, 6, 6, 1)           0         \n",
      "_________________________________________________________________\n",
      "conv2d (Conv2D)              (None, 4, 4, 32)          320       \n",
      "_________________________________________________________________\n",
      "dropout (Dropout)            (None, 4, 4, 32)          0         \n",
      "_________________________________________________________________\n",
      "dense_8 (Dense)              (None, 4, 4, 1)           33        \n",
      "_________________________________________________________________\n",
      "flatten_4 (Flatten)          (None, 16)                0         \n",
      "_________________________________________________________________\n",
      "dense_9 (Dense)              (None, 1)                 17        \n",
      "=================================================================\n",
      "Total params: 370\n",
      "Trainable params: 370\n",
      "Non-trainable params: 0\n",
      "_________________________________________________________________\n",
      "None\n"
     ]
    }
   ],
   "source": [
    "print(model.summary())"
   ]
  },
  {
   "cell_type": "code",
   "execution_count": 78,
   "metadata": {
    "scrolled": true
   },
   "outputs": [
    {
     "name": "stdout",
     "output_type": "stream",
     "text": [
      "Train for 100 steps\n",
      "Epoch 1/10\n",
      "100/100 [==============================] - 2s 24ms/step - loss: 0.7134 - accuracy: 0.5536\n",
      "Epoch 2/10\n",
      "100/100 [==============================] - 2s 15ms/step - loss: 0.6597 - accuracy: 0.6419\n",
      "Epoch 3/10\n",
      "100/100 [==============================] - 2s 18ms/step - loss: 0.5565 - accuracy: 0.7394\n",
      "Epoch 4/10\n",
      "100/100 [==============================] - 2s 18ms/step - loss: 0.4584 - accuracy: 0.8239\n",
      "Epoch 5/10\n",
      "100/100 [==============================] - 2s 18ms/step - loss: 0.3737 - accuracy: 0.9114\n",
      "Epoch 6/10\n",
      "100/100 [==============================] - 2s 18ms/step - loss: 0.3187 - accuracy: 0.9497\n",
      "Epoch 7/10\n",
      "100/100 [==============================] - 2s 16ms/step - loss: 0.2854 - accuracy: 0.9706\n",
      "Epoch 8/10\n",
      "100/100 [==============================] - 2s 16ms/step - loss: 0.2562 - accuracy: 0.9833\n",
      "Epoch 9/10\n",
      "100/100 [==============================] - 2s 17ms/step - loss: 0.2323 - accuracy: 0.9880\n",
      "Epoch 10/10\n",
      "100/100 [==============================] - 2s 17ms/step - loss: 0.2152 - accuracy: 0.9933\n"
     ]
    }
   ],
   "source": [
    "h = model.fit(dataset.batch(64), epochs=10, steps_per_epoch=100)"
   ]
  },
  {
   "cell_type": "markdown",
   "metadata": {},
   "source": [
    "## The Same Problem, Partially Solved"
   ]
  },
  {
   "cell_type": "code",
   "execution_count": 94,
   "metadata": {},
   "outputs": [],
   "source": [
    "x = generate_nonharmonic(5)"
   ]
  },
  {
   "cell_type": "code",
   "execution_count": 95,
   "metadata": {},
   "outputs": [
    {
     "data": {
      "text/plain": [
       "array([[0.26326767]], dtype=float32)"
      ]
     },
     "execution_count": 95,
     "metadata": {},
     "output_type": "execute_result"
    }
   ],
   "source": [
    "model.predict(x.reshape(1,6,6))"
   ]
  },
  {
   "cell_type": "code",
   "execution_count": 96,
   "metadata": {},
   "outputs": [
    {
     "data": {
      "image/png": "[encoded data removed]",
      "text/plain": [
       "<Figure size 432x432 with 1 Axes>"
      ]
     },
     "metadata": {
      "needs_background": "light"
     },
     "output_type": "display_data"
    }
   ],
   "source": [
    "visualize([x], n)"
   ]
  },
  {
   "cell_type": "code",
   "execution_count": 98,
   "metadata": {},
   "outputs": [],
   "source": [
    "x = generate_harmonic(5, np.random.randn(36))"
   ]
  },
  {
   "cell_type": "code",
   "execution_count": 99,
   "metadata": {},
   "outputs": [
    {
     "data": {
      "image/png": "[encoded data removed]",
      "text/plain": [
       "<Figure size 432x432 with 1 Axes>"
      ]
     },
     "metadata": {
      "needs_background": "light"
     },
     "output_type": "display_data"
    }
   ],
   "source": [
    "visualize([x], n)"
   ]
  },
  {
   "cell_type": "code",
   "execution_count": 82,
   "metadata": {},
   "outputs": [
    {
     "data": {
      "text/plain": [
       "array([[0.9863624]], dtype=float32)"
      ]
     },
     "execution_count": 82,
     "metadata": {},
     "output_type": "execute_result"
    }
   ],
   "source": [
    "model.predict(x.reshape(1,6,6))"
   ]
  },
  {
   "cell_type": "code",
   "execution_count": 100,
   "metadata": {},
   "outputs": [
    {
     "data": {
      "text/plain": [
       "False"
      ]
     },
     "execution_count": 100,
     "metadata": {},
     "output_type": "execute_result"
    }
   ],
   "source": [
    "x[1,1] = 0\n",
    "is_harmonic(x, 5)"
   ]
  },
  {
   "cell_type": "code",
   "execution_count": 101,
   "metadata": {
    "scrolled": true
   },
   "outputs": [
    {
     "data": {
      "image/png": "[encoded data removed]",
      "text/plain": [
       "<Figure size 432x432 with 1 Axes>"
      ]
     },
     "metadata": {
      "needs_background": "light"
     },
     "output_type": "display_data"
    }
   ],
   "source": [
    "visualize([x], n)"
   ]
  },
  {
   "cell_type": "code",
   "execution_count": 102,
   "metadata": {},
   "outputs": [
    {
     "data": {
      "text/plain": [
       "array([[0.97733647]], dtype=float32)"
      ]
     },
     "execution_count": 102,
     "metadata": {},
     "output_type": "execute_result"
    }
   ],
   "source": [
    "model.predict(x.reshape(1,6,6))"
   ]
  },
  {
   "cell_type": "code",
   "execution_count": 103,
   "metadata": {},
   "outputs": [
    {
     "data": {
      "text/plain": [
       "False"
      ]
     },
     "execution_count": 103,
     "metadata": {},
     "output_type": "execute_result"
    }
   ],
   "source": [
    "for i in range(1,5):\n",
    "    for j in range(1,5):\n",
    "        x[i,j] = 0\n",
    "is_harmonic(x, 5)"
   ]
  },
  {
   "cell_type": "code",
   "execution_count": 104,
   "metadata": {},
   "outputs": [
    {
     "data": {
      "image/png": "[encoded data removed]",
      "text/plain": [
       "<Figure size 432x432 with 1 Axes>"
      ]
     },
     "metadata": {
      "needs_background": "light"
     },
     "output_type": "display_data"
    }
   ],
   "source": [
    "visualize([x], n)"
   ]
  },
  {
   "cell_type": "code",
   "execution_count": 105,
   "metadata": {},
   "outputs": [
    {
     "data": {
      "text/plain": [
       "array([[0.92701256]], dtype=float32)"
      ]
     },
     "execution_count": 105,
     "metadata": {},
     "output_type": "execute_result"
    }
   ],
   "source": [
    "model.predict(x.reshape(1,6,6))"
   ]
  },
  {
   "cell_type": "code",
   "execution_count": 89,
   "metadata": {},
   "outputs": [
    {
     "data": {
      "text/plain": [
       "False"
      ]
     },
     "execution_count": 89,
     "metadata": {},
     "output_type": "execute_result"
    }
   ],
   "source": [
    "for i in range(1,5):\n",
    "    for j in range(1,5):\n",
    "        x[i,j] = 0\n",
    "x[2,2] = 1.\n",
    "is_harmonic(x, 5)"
   ]
  },
  {
   "cell_type": "code",
   "execution_count": 90,
   "metadata": {},
   "outputs": [
    {
     "data": {
      "image/png": "[encoded data removed]",
      "text/plain": [
       "<Figure size 432x432 with 1 Axes>"
      ]
     },
     "metadata": {
      "needs_background": "light"
     },
     "output_type": "display_data"
    }
   ],
   "source": [
    "visualize([x], n)"
   ]
  },
  {
   "cell_type": "code",
   "execution_count": 91,
   "metadata": {
    "scrolled": true
   },
   "outputs": [
    {
     "data": {
      "text/plain": [
       "array([[0.86443824]], dtype=float32)"
      ]
     },
     "execution_count": 91,
     "metadata": {},
     "output_type": "execute_result"
    }
   ],
   "source": [
    "model.predict(x.reshape(1,6,6))"
   ]
  },
  {
   "cell_type": "markdown",
   "metadata": {},
   "source": [
    "## The Weights\n",
    "\n",
    "Sometimes we see the equation beginning to come out in some of the more important weights, but it is not insisted upon by the output layer.\n",
    "\n",
    "Other times we do not get the equation at all."
   ]
  },
  {
   "cell_type": "code",
   "execution_count": 92,
   "metadata": {},
   "outputs": [
    {
     "data": {
      "text/plain": [
       "[array([[-0.746314  ],\n",
       "        [ 0.2165318 ],\n",
       "        [ 0.27200243],\n",
       "        [-0.5717236 ],\n",
       "        [-0.88819605],\n",
       "        [-0.7569457 ],\n",
       "        [-0.8701737 ],\n",
       "        [-0.8280202 ],\n",
       "        [ 0.30984902],\n",
       "        [-0.62134653],\n",
       "        [ 0.2325628 ],\n",
       "        [ 0.34803176],\n",
       "        [-0.72084916],\n",
       "        [ 0.29815093],\n",
       "        [-0.7498163 ],\n",
       "        [ 0.23683754],\n",
       "        [ 0.23098241],\n",
       "        [ 0.35125038],\n",
       "        [ 0.29068446],\n",
       "        [ 0.22140238],\n",
       "        [ 0.20059063],\n",
       "        [-0.726321  ],\n",
       "        [ 0.24850032],\n",
       "        [-0.772085  ],\n",
       "        [ 0.18709631],\n",
       "        [-0.76698196],\n",
       "        [-0.74630433],\n",
       "        [-0.89588106],\n",
       "        [ 0.25272763],\n",
       "        [-0.87703025],\n",
       "        [ 0.23969646],\n",
       "        [ 0.22653413]], dtype=float32), array([0.27313077], dtype=float32)]"
      ]
     },
     "execution_count": 92,
     "metadata": {},
     "output_type": "execute_result"
    }
   ],
   "source": [
    "model.layers[3].get_weights()"
   ]
  },
  {
   "cell_type": "code",
   "execution_count": 93,
   "metadata": {},
   "outputs": [
    {
     "data": {
      "text/plain": [
       "array([[[ 1.9714033e-05],\n",
       "        [-6.7443177e-03],\n",
       "        [ 2.0723348e-03]],\n",
       "\n",
       "       [[-4.8634727e-03],\n",
       "        [ 2.8734305e-03],\n",
       "        [ 6.0827937e-04]],\n",
       "\n",
       "       [[ 6.9433701e-04],\n",
       "        [ 5.2538054e-04],\n",
       "        [ 1.7046751e-03]]], dtype=float32)"
      ]
     },
     "execution_count": 93,
     "metadata": {},
     "output_type": "execute_result"
    }
   ],
   "source": [
    "model.layers[1].get_weights()[0][:,:,:,15]"
   ]
  },
  {
   "cell_type": "code",
   "execution_count": null,
   "metadata": {},
   "outputs": [],
   "source": []
  }
 ],
 "metadata": {
  "kernelspec": {
   "display_name": "Python3 (oliver_tf2)",
   "language": "python",
   "name": "oliver_tf2"
  },
  "language_info": {
   "codemirror_mode": {
    "name": "ipython",
    "version": 3
   },
   "file_extension": ".py",
   "mimetype": "text/x-python",
   "name": "python",
   "nbconvert_exporter": "python",
   "pygments_lexer": "ipython3",
   "version": "3.7.5"
  },
  "name": "discrete_laplace",
  "notebookId": 1260334
 },
 "nbformat": 4,
 "nbformat_minor": 1
}
